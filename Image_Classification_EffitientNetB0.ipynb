{
  "cells": [
    {
      "cell_type": "code",
      "execution_count": null,
      "metadata": {
        "id": "f91bff49"
      },
      "outputs": [],
      "source": [
        "import numpy as np \n",
        "import pandas as pd \n",
        "import os\n",
        "os.environ['TF_CPP_MIN_LOG_LEVEL'] = '3' ## hide tf warnings\n",
        "import tensorflow as tf\n",
        "import matplotlib.pyplot as plt\n",
        "from tqdm import tqdm\n",
        "import cv2"
      ],
      "id": "f91bff49"
    },
    {
      "cell_type": "markdown",
      "source": [
        "##Load"
      ],
      "metadata": {
        "id": "ecxa0qEda0bq"
      },
      "id": "ecxa0qEda0bq"
    },
    {
      "cell_type": "code",
      "execution_count": null,
      "metadata": {
        "id": "2dfd1c28",
        "colab": {
          "base_uri": "https://localhost:8080/"
        },
        "outputId": "3be47449-68ed-4713-ef26-8326472d5f3d"
      },
      "outputs": [
        {
          "output_type": "stream",
          "name": "stdout",
          "text": [
            "Drive already mounted at /content/drive; to attempt to forcibly remount, call drive.mount(\"/content/drive\", force_remount=True).\n"
          ]
        }
      ],
      "source": [
        "from google.colab import drive\n",
        "drive.mount('/content/drive')\n",
        "BATCH_SIZE = 32\n",
        "IMAGE_SIZE = (150, 150)\n",
        "from keras.preprocessing.image import ImageDataGenerator\n",
        "# Define train and test data path\n",
        "train_dir = '/content/drive/MyDrive/seg_train'\n",
        "val_dir = '/content/drive/MyDrive/val/val'\n",
        "test_dir='/content/drive/MyDrive/test'\n"
      ],
      "id": "2dfd1c28"
    },
    {
      "cell_type": "code",
      "source": [
        "print('Training images:')\n",
        "train_data = tf.keras.preprocessing.image_dataset_from_directory(train_dir,\n",
        "                                              image_size=IMAGE_SIZE,\n",
        "                                              batch_size=BATCH_SIZE,\n",
        "                                              label_mode=\"categorical\")\n",
        "\n",
        "print('Testing images:')\n",
        "val_data = tf.keras.preprocessing.image_dataset_from_directory(val_dir,\n",
        "                                              image_size=IMAGE_SIZE,\n",
        "                                              batch_size=BATCH_SIZE,\n",
        "                                              label_mode=\"categorical\")"
      ],
      "metadata": {
        "colab": {
          "base_uri": "https://localhost:8080/"
        },
        "id": "GPtJZJ_s72td",
        "outputId": "c2879cbd-172c-417b-935d-953eeb5877ac"
      },
      "id": "GPtJZJ_s72td",
      "execution_count": null,
      "outputs": [
        {
          "output_type": "stream",
          "name": "stdout",
          "text": [
            "Training images:\n",
            "Found 14034 files belonging to 6 classes.\n",
            "Testing images:\n",
            "Found 3000 files belonging to 6 classes.\n"
          ]
        }
      ]
    },
    {
      "cell_type": "code",
      "execution_count": null,
      "metadata": {
        "colab": {
          "base_uri": "https://localhost:8080/"
        },
        "id": "09722bac",
        "outputId": "acfe518e-bbb8-489e-d203-5acf0c4292d2"
      },
      "outputs": [
        {
          "output_type": "stream",
          "name": "stderr",
          "text": [
            "WARNING:tensorflow:`period` argument is deprecated. Please use `save_freq` to specify the frequency in number of batches seen.\n"
          ]
        }
      ],
      "source": [
        "# Checkpoint path\n",
        "CheckpointPath=\"EfficientNetB0.h5\"\n",
        "\n",
        "CheckpointCallback= tf.keras.callbacks.ModelCheckpoint(\n",
        "                            filepath=CheckpointPath,\n",
        "                            verbose=1,\n",
        "                            save_best_only=True,\n",
        "                            save_weights_only=False,\n",
        "                            monitor='val_accuracy',\n",
        "                            period=1\n",
        ")"
      ],
      "id": "09722bac"
    },
    {
      "cell_type": "markdown",
      "metadata": {
        "id": "1a178334"
      },
      "source": [
        "### Learning rate reduction callback\n",
        "Reduce learning rate when a metric has stopped improving"
      ],
      "id": "1a178334"
    },
    {
      "cell_type": "code",
      "execution_count": null,
      "metadata": {
        "id": "320ad9b8"
      },
      "outputs": [],
      "source": [
        "Learning_rate_reduction = tf.keras.callbacks.ReduceLROnPlateau(monitor='val_accuracy', \n",
        "                                            patience=5, \n",
        "                                            verbose=1, \n",
        "                                            factor=0.5, \n",
        "                                             mode='auto',\n",
        "                                            cooldown=1 )"
      ],
      "id": "320ad9b8"
    },
    {
      "cell_type": "markdown",
      "metadata": {
        "id": "0d08bdd1"
      },
      "source": [
        " ### Early stopping callback\n",
        " \n",
        " Stop training when a monitored metric has stopped improving."
      ],
      "id": "0d08bdd1"
    },
    {
      "cell_type": "code",
      "execution_count": null,
      "metadata": {
        "id": "1f6414c5"
      },
      "outputs": [],
      "source": [
        "Early_stopping = tf.keras.callbacks.EarlyStopping(monitor='val_accuracy', \n",
        "                                                  min_delta=0.001,\n",
        "                                                  patience = 5,\n",
        "                                                  verbose = 1,\n",
        "                                                  restore_best_weights=True)"
      ],
      "id": "1f6414c5"
    },
    {
      "cell_type": "code",
      "execution_count": null,
      "metadata": {
        "colab": {
          "base_uri": "https://localhost:8080/"
        },
        "id": "fe62fbce",
        "outputId": "206005f1-55b2-4b73-888a-81ef9551799a"
      },
      "outputs": [
        {
          "output_type": "stream",
          "name": "stdout",
          "text": [
            "Epoch 1/5\n",
            "439/439 [==============================] - ETA: 0s - loss: 1.0483 - accuracy: 0.6722\n",
            "Epoch 1: val_accuracy improved from -inf to 0.85967, saving model to EfficientNetB0.h5\n",
            "439/439 [==============================] - 489s 1s/step - loss: 1.0483 - accuracy: 0.6722 - val_loss: 0.5614 - val_accuracy: 0.8597 - lr: 1.0000e-04\n",
            "Epoch 2/5\n",
            "439/439 [==============================] - ETA: 0s - loss: 0.4512 - accuracy: 0.8791\n",
            "Epoch 2: val_accuracy improved from 0.85967 to 0.88900, saving model to EfficientNetB0.h5\n",
            "439/439 [==============================] - 442s 1s/step - loss: 0.4512 - accuracy: 0.8791 - val_loss: 0.3782 - val_accuracy: 0.8890 - lr: 1.0000e-04\n",
            "Epoch 3/5\n",
            "439/439 [==============================] - ETA: 0s - loss: 0.3411 - accuracy: 0.8967\n",
            "Epoch 3: val_accuracy improved from 0.88900 to 0.89633, saving model to EfficientNetB0.h5\n",
            "439/439 [==============================] - 433s 986ms/step - loss: 0.3411 - accuracy: 0.8967 - val_loss: 0.3198 - val_accuracy: 0.8963 - lr: 1.0000e-04\n",
            "Epoch 4/5\n",
            "439/439 [==============================] - ETA: 0s - loss: 0.2979 - accuracy: 0.9039\n",
            "Epoch 4: val_accuracy improved from 0.89633 to 0.90233, saving model to EfficientNetB0.h5\n",
            "439/439 [==============================] - 436s 992ms/step - loss: 0.2979 - accuracy: 0.9039 - val_loss: 0.2903 - val_accuracy: 0.9023 - lr: 1.0000e-04\n",
            "Epoch 5/5\n",
            "439/439 [==============================] - ETA: 0s - loss: 0.2726 - accuracy: 0.9094\n",
            "Epoch 5: val_accuracy improved from 0.90233 to 0.90533, saving model to EfficientNetB0.h5\n",
            "439/439 [==============================] - 434s 989ms/step - loss: 0.2726 - accuracy: 0.9094 - val_loss: 0.2731 - val_accuracy: 0.9053 - lr: 1.0000e-04\n"
          ]
        }
      ],
      "source": [
        "# Create base model (load the pre-trained model)\n",
        "base_model_EfficientNetB0 = tf.keras.applications.EfficientNetB0(include_top=False)\n",
        "\n",
        "# Freeze the base model (pre-trained patterns aren't update during training)\n",
        "base_model_EfficientNetB0.trainable = False\n",
        "\n",
        "# Create inputs \n",
        "inputs = tf.keras.layers.Input(shape=(150,150,3), name=\"input_layer\")\n",
        "\n",
        "# Pass the inputs to the base model\n",
        "x = base_model_EfficientNetB0(inputs)\n",
        "\n",
        "# Average pooling the outputs of the base model\n",
        "x = tf.keras.layers.GlobalAveragePooling2D(name=\"global_average_pooling_layer\")(x)\n",
        "\n",
        "# Create output activation layer\n",
        "outputs = tf.keras.layers.Dense(6,activation=\"softmax\", name=\"output_layer\")(x)\n",
        "\n",
        "# Combine the inputs with the outputs into a model\n",
        "model_1 = tf.keras.Model(inputs, outputs)\n",
        "\n",
        "# Compile the model\n",
        "model_1.compile(loss=\"categorical_crossentropy\",\n",
        "               optimizer=tf.keras.optimizers.Adam(learning_rate=0.0001),\n",
        "               metrics=[\"accuracy\"])\n",
        "\n",
        "# Fit the model and save its history\n",
        "history_1 = model_1.fit(train_data,\n",
        "                       epochs=5,\n",
        "                       steps_per_epoch=len(train_data),\n",
        "                       validation_data=val_data,\n",
        "                       validation_steps=len(val_data),\n",
        "                       callbacks=[\n",
        "                                  CheckpointCallback,\n",
        "                                  Early_stopping,\n",
        "                                  Learning_rate_reduction]) "
      ],
      "id": "fe62fbce"
    },
    {
      "cell_type": "markdown",
      "metadata": {
        "id": "37e17d56"
      },
      "source": [
        "### Loss curves"
      ],
      "id": "37e17d56"
    },
    {
      "cell_type": "code",
      "execution_count": null,
      "metadata": {
        "id": "2fef0e18"
      },
      "outputs": [],
      "source": [
        "#Create a function to plot loss curves\n",
        "import matplotlib.pyplot as plt\n",
        "def plot_loss_curves(history):\n",
        "    plt.plot(history.history[\"loss\"], label=\"training_loss\")\n",
        "    plt.plot(history.history[\"val_loss\"], label=\"val_loss\")\n",
        "    plt.title(\"Loss\")\n",
        "    plt.xlabel(\"Epochs\")\n",
        "    plt.legend()\n",
        "\n",
        "    plt.figure()\n",
        "    plt.plot(history.history[\"accuracy\"], label=\"training_accuracy\")\n",
        "    plt.plot(history.history[\"val_accuracy\"], label=\"val_accuracy\")\n",
        "    plt.title(\"Accuracy\")\n",
        "    plt.xlabel(\"Epochs\")\n",
        "    plt.legend()"
      ],
      "id": "2fef0e18"
    },
    {
      "cell_type": "code",
      "execution_count": null,
      "metadata": {
        "id": "137d2409",
        "colab": {
          "base_uri": "https://localhost:8080/",
          "height": 573
        },
        "outputId": "18243a1f-f0c6-4c4e-bf56-6fa5077e71a3"
      },
      "outputs": [
        {
          "output_type": "display_data",
          "data": {
            "text/plain": [
              "<Figure size 432x288 with 1 Axes>"
            ],
            "image/png": "[encoded data removed]"
          },
          "metadata": {
            "needs_background": "light"
          }
        },
        {
          "output_type": "display_data",
          "data": {
            "text/plain": [
              "<Figure size 432x288 with 1 Axes>"
            ],
            "image/png": "[encoded data removed]"
          },
          "metadata": {
            "needs_background": "light"
          }
        }
      ],
      "source": [
        "plot_loss_curves(history_1)"
      ],
      "id": "137d2409"
    },
    {
      "cell_type": "markdown",
      "metadata": {
        "id": "4dca7bff"
      },
      "source": [
        "<h1 id=\"ergffseqs\" style=\"color:white;background:#0087B6;padding:8px;border-radius:8px\"> Fine tuning </h1>\n",
        "\n",
        "I will unfreeze the last 15 layers of the base model and continue training for 5 more epochs, you can also unfreeze less or more layers and let me know if you achieved better score."
      ],
      "id": "4dca7bff"
    },
    {
      "cell_type": "markdown",
      "metadata": {
        "id": "53dc5992"
      },
      "source": [
        "## EfficientNetB0 Fine tuning"
      ],
      "id": "53dc5992"
    },
    {
      "cell_type": "code",
      "execution_count": null,
      "metadata": {
        "id": "1be15783"
      },
      "outputs": [],
      "source": [
        "# Unfreeze all layers of the base model\n",
        "base_model_EfficientNetB0.trainable= True\n",
        "\n",
        "# Freeze all layers except the last 15 layer\n",
        "for layer in base_model_EfficientNetB0.layers[:-15]:\n",
        "    layer.trainable=False\n",
        "\n",
        "# Recompile\n",
        "model_1.compile(loss=\"categorical_crossentropy\",\n",
        "               optimizer=tf.keras.optimizers.Adam(learning_rate=0.0001),\n",
        "               metrics=[\"accuracy\"])\n"
      ],
      "id": "1be15783"
    },
    {
      "cell_type": "markdown",
      "metadata": {
        "id": "b113231e"
      },
      "source": [
        "### Fit the model "
      ],
      "id": "b113231e"
    },
    {
      "cell_type": "code",
      "execution_count": null,
      "metadata": {
        "id": "33e63e83",
        "colab": {
          "base_uri": "https://localhost:8080/"
        },
        "outputId": "4ec0a437-f11f-4591-d8e4-3c33589e3421"
      },
      "outputs": [
        {
          "output_type": "stream",
          "name": "stdout",
          "text": [
            "Epoch 5/10\n",
            "439/439 [==============================] - ETA: 0s - loss: 0.2936 - accuracy: 0.9005\n",
            "Epoch 5: val_accuracy improved from 0.90533 to 0.91633, saving model to EfficientNetB0.h5\n",
            "439/439 [==============================] - 498s 1s/step - loss: 0.2936 - accuracy: 0.9005 - val_loss: 0.2180 - val_accuracy: 0.9163 - lr: 1.0000e-04\n",
            "Epoch 6/10\n",
            "439/439 [==============================] - ETA: 0s - loss: 0.2087 - accuracy: 0.9254\n",
            "Epoch 6: val_accuracy improved from 0.91633 to 0.91867, saving model to EfficientNetB0.h5\n",
            "439/439 [==============================] - 488s 1s/step - loss: 0.2087 - accuracy: 0.9254 - val_loss: 0.2050 - val_accuracy: 0.9187 - lr: 1.0000e-04\n",
            "Epoch 7/10\n",
            "439/439 [==============================] - ETA: 0s - loss: 0.1799 - accuracy: 0.9364\n",
            "Epoch 7: val_accuracy improved from 0.91867 to 0.92467, saving model to EfficientNetB0.h5\n",
            "439/439 [==============================] - 479s 1s/step - loss: 0.1799 - accuracy: 0.9364 - val_loss: 0.1975 - val_accuracy: 0.9247 - lr: 1.0000e-04\n",
            "Epoch 8/10\n",
            "439/439 [==============================] - ETA: 0s - loss: 0.1568 - accuracy: 0.9456\n",
            "Epoch 8: val_accuracy improved from 0.92467 to 0.92733, saving model to EfficientNetB0.h5\n",
            "439/439 [==============================] - 487s 1s/step - loss: 0.1568 - accuracy: 0.9456 - val_loss: 0.1942 - val_accuracy: 0.9273 - lr: 1.0000e-04\n",
            "Epoch 9/10\n",
            "439/439 [==============================] - ETA: 0s - loss: 0.1348 - accuracy: 0.9517\n",
            "Epoch 9: val_accuracy improved from 0.92733 to 0.92867, saving model to EfficientNetB0.h5\n",
            "439/439 [==============================] - 487s 1s/step - loss: 0.1348 - accuracy: 0.9517 - val_loss: 0.1911 - val_accuracy: 0.9287 - lr: 1.0000e-04\n",
            "Epoch 10/10\n",
            "439/439 [==============================] - ETA: 0s - loss: 0.1223 - accuracy: 0.9580\n",
            "Epoch 10: val_accuracy did not improve from 0.92867\n",
            "439/439 [==============================] - 485s 1s/step - loss: 0.1223 - accuracy: 0.9580 - val_loss: 0.1972 - val_accuracy: 0.9257 - lr: 1.0000e-04\n"
          ]
        }
      ],
      "source": [
        "#Fine tune for another 5 epochs\n",
        "initial_epochs= 5\n",
        "fine_tune_epochs=initial_epochs + 5\n",
        "\n",
        "history_2 = model_1.fit(train_data,\n",
        "                                       epochs=fine_tune_epochs,\n",
        "                                       validation_data=val_data,\n",
        "                                       validation_steps=len(val_data),\n",
        "                                       initial_epoch=history_1.epoch[-1],\n",
        "                                       callbacks=[\n",
        "                                  CheckpointCallback,\n",
        "                                  Early_stopping, \n",
        "                                  Learning_rate_reduction])"
      ],
      "id": "33e63e83"
    },
    {
      "cell_type": "markdown",
      "metadata": {
        "id": "f26302ca"
      },
      "source": [
        "#### The model achieved 93% accuracy after fine tuning"
      ],
      "id": "f26302ca"
    },
    {
      "cell_type": "markdown",
      "metadata": {
        "id": "f0768de9"
      },
      "source": [
        "### Fine tuning results"
      ],
      "id": "f0768de9"
    },
    {
      "cell_type": "code",
      "execution_count": null,
      "metadata": {
        "id": "e8553e40"
      },
      "outputs": [],
      "source": [
        "#compare histories\n",
        "def compare_histories(history,new_history,initial_epochs):\n",
        "    loss=history.history[\"loss\"]\n",
        "    val_loss=history.history[\"val_loss\"]\n",
        "    \n",
        "    accuracy = history.history[\"accuracy\"]\n",
        "    val_accuracy = history.history[\"val_accuracy\"]\n",
        "    epochs=range(len(history.history[\"loss\"])+len(new_history.history[\"loss\"]))\n",
        "    \n",
        "    total_acc= accuracy+ new_history.history[\"accuracy\"]\n",
        "    total_loss=loss+ new_history.history[\"loss\"]\n",
        "    \n",
        "    total_val_acc= val_accuracy + new_history.history[\"val_accuracy\"]\n",
        "    total_val_loss=val_loss+ new_history.history[\"val_loss\"]\n",
        "\n",
        "    plt.figure(figsize=(8,8))\n",
        "    plt.subplot(2, 1, 1)\n",
        "    plt.plot(total_acc ,label=\"Training Accuracy\")\n",
        "    plt.plot(total_val_acc, label=\"Val Accuracy\")\n",
        "    plt.plot([initial_epochs-1,initial_epochs-1],plt.ylim(), label=\"Start Fine Tuning\")\n",
        "    plt.title(\"Training and Validation accuracy\")\n",
        "    plt.legend()\n",
        "\n",
        "    plt.subplot(2, 1, 2)\n",
        "    plt.plot(total_loss, label=\"Training_loss\")\n",
        "    plt.plot(total_val_loss, label=\"Val_loss\")\n",
        "    plt.plot([initial_epochs-1,initial_epochs-1],plt.ylim(), label=\"Start Fine Tuning\")\n",
        "    plt.title(\"Training and Validation Loss\")\n",
        "    plt.legend()\n",
        "    "
      ],
      "id": "e8553e40"
    },
    {
      "cell_type": "code",
      "execution_count": null,
      "metadata": {
        "id": "64d96dc2",
        "colab": {
          "base_uri": "https://localhost:8080/",
          "height": 499
        },
        "outputId": "80167a00-04aa-4ab5-fa1e-82385a840444"
      },
      "outputs": [
        {
          "output_type": "display_data",
          "data": {
            "text/plain": [
              "<Figure size 576x576 with 2 Axes>"
            ],
            "image/png": "[encoded data removed]"
          },
          "metadata": {
            "needs_background": "light"
          }
        }
      ],
      "source": [
        "compare_histories(history_1,history_2,5)"
      ],
      "id": "64d96dc2"
    },
    {
      "cell_type": "code",
      "source": [],
      "metadata": {
        "id": "7J3NLzfyqRNu"
      },
      "id": "7J3NLzfyqRNu",
      "execution_count": null,
      "outputs": []
    },
    {
      "cell_type": "code",
      "source": [
        "def getImagePaths(path):\n",
        "    image_names = []\n",
        "    for dirname, _, filenames in os.walk(path):\n",
        "        for filename in filenames:\n",
        "            fullpath = os.path.join(dirname, filename)\n",
        "            image_names.append(fullpath)\n",
        "    return image_names\n",
        "\n",
        "images_paths = getImagePaths(test_dir)\n",
        "len(images_paths)\n",
        "file_array = []\n",
        "\n",
        "for file in images_paths:\n",
        "    files = cv2.imread(file)/255.0 \n",
        "    file_array.append(files)\n",
        "file_array = np.array(file_array,dtype=object)"
      ],
      "metadata": {
        "id": "jCwCOOftXdaf",
        "colab": {
          "base_uri": "https://localhost:8080/"
        },
        "outputId": "78137534-8c77-4cc2-a7ab-6813d1181f30"
      },
      "id": "jCwCOOftXdaf",
      "execution_count": null,
      "outputs": [
        {
          "output_type": "stream",
          "name": "stderr",
          "text": [
            "/usr/local/lib/python3.7/dist-packages/ipykernel_launcher.py:16: VisibleDeprecationWarning: Creating an ndarray from ragged nested sequences (which is a list-or-tuple of lists-or-tuples-or ndarrays with different lengths or shapes) is deprecated. If you meant to do this, you must specify 'dtype=object' when creating the ndarray.\n",
            "  app.launch_new_instance()\n"
          ]
        }
      ]
    },
    {
      "cell_type": "code",
      "source": [
        "from tensorflow.keras.utils import load_img\n",
        "\n",
        "X = []\n",
        "for i in range(0, 3000):\n",
        "  image = load_img(f'/content/drive/MyDrive/test/test/test/{i}.jpg')\n",
        "  X.append(image) \n",
        "for j in range(len(X)):\n",
        "  X[j] = np.array(X[j])\n",
        "  X[j] = cv2.resize(X[j] , (150,150))\n",
        "X = np.array(X)\n",
        "X.shape"
      ],
      "metadata": {
        "colab": {
          "base_uri": "https://localhost:8080/"
        },
        "id": "nFOlRmlfFjFc",
        "outputId": "8de60d94-aca0-4060-8d49-43c317d3833e"
      },
      "id": "nFOlRmlfFjFc",
      "execution_count": null,
      "outputs": [
        {
          "output_type": "execute_result",
          "data": {
            "text/plain": [
              "(3000, 150, 150, 3)"
            ]
          },
          "metadata": {},
          "execution_count": 37
        }
      ]
    },
    {
      "cell_type": "code",
      "source": [
        "predictions = model_1.predict(X)"
      ],
      "metadata": {
        "id": "KB2PxXHysSXR"
      },
      "id": "KB2PxXHysSXR",
      "execution_count": null,
      "outputs": []
    },
    {
      "cell_type": "code",
      "source": [
        "label = np.argmax(predictions, axis=1)"
      ],
      "metadata": {
        "id": "AsZmPkppDNVs"
      },
      "id": "AsZmPkppDNVs",
      "execution_count": null,
      "outputs": []
    },
    {
      "cell_type": "code",
      "source": [
        "id=np.arange(0,3000)\n",
        "data={\"id\":id, \"label\":label}\n",
        "result=pd.DataFrame(data)\n",
        "print(result)\n",
        "np.savetxt(\n",
        "    'submission.csv',\n",
        "    np.rec.fromarrays([id, label]),\n",
        "    fmt=['%s', '%d'],\n",
        "    delimiter=',',\n",
        "    header='id,label',\n",
        "    comments='',\n",
        ")\n"
      ],
      "metadata": {
        "id": "069Z9Y8d4-9m",
        "colab": {
          "base_uri": "https://localhost:8080/"
        },
        "outputId": "848aa967-9d7f-4e39-c54b-a5ed82a53b22"
      },
      "id": "069Z9Y8d4-9m",
      "execution_count": null,
      "outputs": [
        {
          "output_type": "stream",
          "name": "stdout",
          "text": [
            "        id  label\n",
            "0        0      5\n",
            "1        1      4\n",
            "2        2      0\n",
            "3        3      2\n",
            "4        4      4\n",
            "...    ...    ...\n",
            "2995  2995      4\n",
            "2996  2996      4\n",
            "2997  2997      0\n",
            "2998  2998      1\n",
            "2999  2999      1\n",
            "\n",
            "[3000 rows x 2 columns]\n"
          ]
        }
      ]
    },
    {
      "cell_type": "code",
      "source": [
        "np.savetxt(\n",
        "    'submission.csv',\n",
        "    np.rec.fromarrays([id, label]),\n",
        "    fmt=['%s', '%d'],\n",
        "    delimiter=',',\n",
        "    header='id,label',\n",
        "    comments='',\n",
        ")\n"
      ],
      "metadata": {
        "id": "o_giyUOp56lt"
      },
      "id": "o_giyUOp56lt",
      "execution_count": null,
      "outputs": []
    },
    {
      "cell_type": "code",
      "source": [],
      "metadata": {
        "id": "jZ5MgHNaUQ02"
      },
      "id": "jZ5MgHNaUQ02",
      "execution_count": null,
      "outputs": []
    }
  ],
  "metadata": {
    "colab": {
      "collapsed_sections": [
        "0d08bdd1",
        "37e17d56",
        "f26302ca"
      ],
      "provenance": []
    },
    "kernelspec": {
      "display_name": "Python 3",
      "language": "python",
      "name": "python3"
    },
    "language_info": {
      "codemirror_mode": {
        "name": "ipython",
        "version": 3
      },
      "file_extension": ".py",
      "mimetype": "text/x-python",
      "name": "python",
      "nbconvert_exporter": "python",
      "pygments_lexer": "ipython3",
      "version": "3.7.12"
    },
    "papermill": {
      "default_parameters": {},
      "duration": 307.667053,
      "end_time": "2022-06-09T09:27:32.568436",
      "environment_variables": {},
      "exception": null,
      "input_path": "__notebook__.ipynb",
      "output_path": "__notebook__.ipynb",
      "parameters": {},
      "start_time": "2022-06-09T09:22:24.901383",
      "version": "2.3.3"
    }
  },
  "nbformat": 4,
  "nbformat_minor": 5
}