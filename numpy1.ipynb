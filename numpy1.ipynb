{
 "cells": [
  {
   "cell_type": "code",
   "execution_count": null,
   "source": [
    "from __future__ import print_function\r\n",
    "import numpy as np\r\n",
    "import matplotlib.pyplot as plt\r\n",
    "from scipy.spatial.distance import cdist\r\n",
    "means = [[2, 2], [8, 3], [3, 6]]\r\n",
    "cov = [[1, 0], [0, 1]]\r\n",
    "N = 500\r\n",
    "X0 = np.random.multivariate_normal(means[0], cov, N)\r\n",
    "X1 = np.random.multivariate_normal(means[1], cov, N)\r\n",
    "X2 = np.random.multivariate_normal(means[2], cov, N)\r\n",
    "\r\n",
    "X = np.concatenate((X0, X1, X2), axis=0)\r\n",
    "K = 3\r\n",
    "\r\n",
    "original_label = np.asarray([0]*N + [1]*N + [2]*N).T\r\n"
   ],
   "outputs": [],
   "metadata": {}
  },
  {
   "cell_type": "code",
   "execution_count": null,
   "source": [],
   "outputs": [],
   "metadata": {}
  },
  {
   "cell_type": "markdown",
   "source": [
    "Tuần này mình sẽ dùng numpy để xây dựng thuật toán k-means (không dùng thư viện ML như sklearn) \r\n",
    "https://www.youtube.com/watch?v=4b5d3muPQmA.\r\n",
    "\r\n",
    "\r\n",
    "Ý tưởng là phân dữ liệu thành k cụm. Thuật toán:\r\n",
    "Chọn k centroids bất kì\r\n",
    "Tính khoảng cách của mỗi điểm tới k điểm centroids, gán điểm đó vào lớp có centroids gần nhất.\r\n",
    "Update centroids là trung bình các điểm dữ liệu trong class đấy\r\n",
    "Quay lại bước 2 cho tới khi các điểm centroids ở lần lặp tới không đổi.\r\n",
    "\r\n",
    "Viết thuật toán bằng numpy, và vẽ đường phân chia giữa các cluster. Sau đó chạy thuật toán với k=2, 3, 4 với dữ liệu này \r\n",
    "https://colab.research.google.com/drive/1LYM4RPGxygdmpJIdjadIu88qq4ppYtoR?usp=sharing và cho nhận xét."
   ],
   "metadata": {}
  },
  {
   "cell_type": "code",
   "execution_count": null,
   "source": [
    "def kmeans_display(X, label):\r\n",
    "    K = np.amax(label) + 1\r\n",
    "    X0 = X[label == 0, :]\r\n",
    "    X1 = X[label == 1, :]\r\n",
    "    X2 = X[label == 2, :]\r\n",
    "\r\n",
    "    plt.plot(X0[:, 0], X0[:, 1], 'b^', markersize=4, alpha=.8)\r\n",
    "    plt.plot(X1[:, 0], X1[:, 1], 'go', markersize=4, alpha=.8)\r\n",
    "    plt.plot(X2[:, 0], X2[:, 1], 'rs', markersize=4, alpha=.8)\r\n",
    "\r\n",
    "    plt.axis('equal')\r\n",
    "    plt.plot()\r\n",
    "    plt.show()\r\n",
    "\r\n",
    "\r\n",
    "kmeans_display(X, original_label)\r\n"
   ],
   "outputs": [],
   "metadata": {}
  },
  {
   "cell_type": "code",
   "execution_count": null,
   "source": [
    "from matplotlib.pyplot import figure\r\n",
    "plt.style.use('bmh')\r\n",
    "figure(figsize=(18, 16), dpi=80)\r\n",
    "kmeans_display(X, original_label)\r\n"
   ],
   "outputs": [],
   "metadata": {}
  },
  {
   "cell_type": "code",
   "execution_count": null,
   "source": [
    "def k_cen(X, cluster_nums):\r\n",
    "    return X[np.random.choice(X.shape[0], cluster_nums, replace=False)]\r\n",
    "\r\n",
    "\r\n",
    "k_cen1 = k_cen(X, 3)\r\n",
    "k_cen1\r\n"
   ],
   "outputs": [],
   "metadata": {}
  },
  {
   "cell_type": "code",
   "execution_count": null,
   "source": [
    "# Tính toán và xác định phần tử thuộc cụm\r\n",
    "def cen_cal(X, centers):\r\n",
    "    distance11 = cdist(X, centers)\r\n",
    "    return np.argmin(distance11, axis=1)\r\n",
    "\r\n",
    "\r\n",
    "cen_cal(X, k_cen1)\r\n"
   ],
   "outputs": [],
   "metadata": {}
  },
  {
   "cell_type": "code",
   "execution_count": null,
   "source": [
    "# Cập nhật lại label\r\n",
    "def update_kmeans(X, labels, cluster_nums):\r\n",
    "    centers = np.zeros((cluster_nums, X.shape[1]))\r\n",
    "    for k in range(cluster_nums):\r\n",
    "        new_k = X[labels == k, :]\r\n",
    "        centers[k, :] = np.mean(new_k, axis=0)\r\n",
    "    return centers\r\n",
    "\r\n",
    "\r\n",
    "k_cen2 = update_kmeans(X, original_label, 3)\r\n",
    "k_cen2\r\n"
   ],
   "outputs": [],
   "metadata": {}
  },
  {
   "cell_type": "code",
   "execution_count": null,
   "source": [
    "# Kiểm tra điều kiện dừng\r\n",
    "def kmeans_check(cen_1, cen_2):\r\n",
    "    return np.array_equal(cen_1, cen_2)\r\n",
    "\r\n",
    "\r\n",
    "kmeans_check(k_cen1, k_cen2)\r\n"
   ],
   "outputs": [],
   "metadata": {}
  },
  {
   "cell_type": "code",
   "execution_count": null,
   "source": [
    "# Visualization\r\n",
    "def kmeans_vis(X, centers, labels, cluster_nums):\r\n",
    "    fig = plt.gcf()\r\n",
    "    fig.set_size_inches(12.5, 8.5, forward=True)\r\n",
    "\r\n",
    "    plt.xlabel('x')\r\n",
    "    plt.ylabel('y')\r\n",
    "    plt_colors = ['#ff3838', '#ffac26', '#ccff26', '#26ff4a',\r\n",
    "                  '#26ffb7', '#26acff', '#0400ff', '#ff00dd', '#ff003c', '#59594c']\r\n",
    "\r\n",
    "    for i in range(cluster_nums):\r\n",
    "        data = X[labels == i]\r\n",
    "        plt.scatter(data[:, 0], data[:, 1], color=plt_colors[i])\r\n",
    "    plt.show()\r\n",
    "\r\n",
    "\r\n",
    "kmeans_vis(X, k_cen1, original_label, 3)\r\n"
   ],
   "outputs": [],
   "metadata": {}
  },
  {
   "cell_type": "code",
   "execution_count": null,
   "source": [
    "# K-means algo\r\n",
    "def kmeans(init_centes, X, cluster_nums):\r\n",
    "    centers = init_centes\r\n",
    "    init_labels = np.zeros(X.shape[0])\r\n",
    "    kmeans_vis(X, centers, init_labels, cluster_nums)\r\n",
    "    while True:\r\n",
    "        labels = cen_cal(X, centers)\r\n",
    "        #kmeans_vis(X, centers, labels, cluster_nums)\r\n",
    "        new_centers = update_kmeans(X, labels, cluster_nums)\r\n",
    "        if kmeans_check(centers, new_centers):\r\n",
    "            break\r\n",
    "        centers = new_centers\r\n",
    "    kmeans_vis(X, centers, labels, cluster_nums)\r\n",
    "    return (centers, labels)\r\n",
    "\r\n",
    "\r\n",
    "kmeans(k_cen1, X, 3)\r\n",
    "k_cen2 = k_cen(X, 10)\r\n",
    "\r\n"
   ],
   "outputs": [],
   "metadata": {}
  },
  {
   "cell_type": "code",
   "execution_count": null,
   "source": [
    "kmeans(k_cen2, X, 10)\r\n"
   ],
   "outputs": [],
   "metadata": {}
  }
 ],
 "metadata": {
  "orig_nbformat": 4,
  "language_info": {
   "name": "python",
   "version": "3.8.8"
  },
  "kernelspec": {
   "name": "python3",
   "display_name": "Python 3.8.8 64-bit ('base': conda)"
  },
  "interpreter": {
   "hash": "aad7fa43305c5ed1fb127d263f3083b3588cd5af60f171b45496a79879bf8414"
  }
 },
 "nbformat": 4,
 "nbformat_minor": 2
}