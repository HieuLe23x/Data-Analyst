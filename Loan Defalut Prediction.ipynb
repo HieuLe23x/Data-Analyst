{
  "cells": [
    {
      "cell_type": "markdown",
      "id": "03cda562",
      "metadata": {
        "papermill": {
          "duration": 0.022007,
          "end_time": "2021-09-29T02:17:37.579686",
          "exception": false,
          "start_time": "2021-09-29T02:17:37.557679",
          "status": "completed"
        },
        "tags": [],
        "id": "03cda562"
      },
      "source": [
        "# Overview\n",
        "We will use lending data from 2007-2010 and be trying to classify and predict whether or not the borrower paid back their loan in full.\n",
        "In the lending industry, investors provide loans to borrowers in exchange for the promise of repayment with interest. If the borrower repays the loan, then the lender would make profit from the interest. However, if the borrower fails to repay the loan, then the lender loses money. Therefore, lenders face the problem of predicting the risk of a borrower being unable to repay a loan.Our objects isfind relevant factors that influence whether a borrower will pay or not.Build a model that predicts wheter the borrower will pay or not.Create a consumer profile of borrowers that pay or not.Make conclusions and reccomendations to improve bussiness operations."
      ]
    },
    {
      "cell_type": "code",
      "execution_count": null,
      "id": "545c1d30",
      "metadata": {
        "execution": {
          "iopub.execute_input": "2021-09-29T02:17:37.631806Z",
          "iopub.status.busy": "2021-09-29T02:17:37.631068Z",
          "iopub.status.idle": "2021-09-29T02:17:39.025013Z",
          "shell.execute_reply": "2021-09-29T02:17:39.024438Z",
          "shell.execute_reply.started": "2021-09-29T02:09:24.598971Z"
        },
        "papermill": {
          "duration": 1.421283,
          "end_time": "2021-09-29T02:17:39.025176",
          "exception": false,
          "start_time": "2021-09-29T02:17:37.603893",
          "status": "completed"
        },
        "tags": [],
        "id": "545c1d30"
      },
      "outputs": [],
      "source": [
        "import numpy as np\n",
        "import pandas as pd\n",
        "import matplotlib.pyplot as plt\n",
        "import seaborn as sns\n",
        "from sklearn.model_selection import train_test_split\n",
        "from sklearn.tree import DecisionTreeClassifier\n",
        "from sklearn.ensemble import RandomForestClassifier\n",
        "from sklearn.metrics import classification_report,confusion_matrix,plot_confusion_matrix,accuracy_score,f1_score, roc_auc_score, roc_curve,plot_roc_curve\n",
        "from sklearn.model_selection import RandomizedSearchCV\n",
        "from sklearn.pipeline import Pipeline\n",
        "from sklearn.decomposition import PCA\n",
        "from sklearn.metrics import accuracy_score\n",
        "from sklearn.linear_model import LogisticRegression\n",
        "from sklearn.preprocessing import MinMaxScaler\n"
      ]
    },
    {
      "cell_type": "markdown",
      "id": "22f7ba48",
      "metadata": {
        "papermill": {
          "duration": 0.021412,
          "end_time": "2021-09-29T02:17:39.068533",
          "exception": false,
          "start_time": "2021-09-29T02:17:39.047121",
          "status": "completed"
        },
        "tags": [],
        "id": "22f7ba48"
      },
      "source": [
        "# Data Loading"
      ]
    },
    {
      "cell_type": "code",
      "execution_count": null,
      "id": "9b411ebb",
      "metadata": {
        "execution": {
          "iopub.execute_input": "2021-09-29T02:17:39.123596Z",
          "iopub.status.busy": "2021-09-29T02:17:39.122511Z",
          "iopub.status.idle": "2021-09-29T02:17:39.205495Z",
          "shell.execute_reply": "2021-09-29T02:17:39.206040Z",
          "shell.execute_reply.started": "2021-09-29T02:08:27.006977Z"
        },
        "papermill": {
          "duration": 0.115969,
          "end_time": "2021-09-29T02:17:39.206210",
          "exception": false,
          "start_time": "2021-09-29T02:17:39.090241",
          "status": "completed"
        },
        "tags": [],
        "colab": {
          "base_uri": "https://localhost:8080/",
          "height": 287
        },
        "id": "9b411ebb",
        "outputId": "f7f47341-3a0f-4e30-b55e-da2c4ec2afa6"
      },
      "outputs": [
        {
          "output_type": "stream",
          "name": "stdout",
          "text": [
            "Drive already mounted at /content/drive; to attempt to forcibly remount, call drive.mount(\"/content/drive\", force_remount=True).\n"
          ]
        },
        {
          "output_type": "execute_result",
          "data": {
            "text/plain": [
              "   credit.policy             purpose  int.rate  installment  log.annual.inc  \\\n",
              "0              1  debt_consolidation    0.1189       829.10       11.350407   \n",
              "1              1         credit_card    0.1071       228.22       11.082143   \n",
              "2              1  debt_consolidation    0.1357       366.86       10.373491   \n",
              "3              1  debt_consolidation    0.1008       162.34       11.350407   \n",
              "4              1         credit_card    0.1426       102.92       11.299732   \n",
              "\n",
              "     dti  fico  days.with.cr.line  revol.bal  revol.util  inq.last.6mths  \\\n",
              "0  19.48   737        5639.958333      28854        52.1               0   \n",
              "1  14.29   707        2760.000000      33623        76.7               0   \n",
              "2  11.63   682        4710.000000       3511        25.6               1   \n",
              "3   8.10   712        2699.958333      33667        73.2               1   \n",
              "4  14.97   667        4066.000000       4740        39.5               0   \n",
              "\n",
              "   delinq.2yrs  pub.rec  not.fully.paid  \n",
              "0            0        0               0  \n",
              "1            0        0               0  \n",
              "2            0        0               0  \n",
              "3            0        0               0  \n",
              "4            1        0               0  "
            ],
            "text/html": [
              "\n",
              "  <div id=\"df-26a8b852-a5de-4394-97d1-e379a170f8a1\">\n",
              "    <div class=\"colab-df-container\">\n",
              "      <div>\n",
              "<style scoped>\n",
              "    .dataframe tbody tr th:only-of-type {\n",
              "        vertical-align: middle;\n",
              "    }\n",
              "\n",
              "    .dataframe tbody tr th {\n",
              "        vertical-align: top;\n",
              "    }\n",
              "\n",
              "    .dataframe thead th {\n",
              "        text-align: right;\n",
              "    }\n",
              "</style>\n",
              "<table border=\"1\" class=\"dataframe\">\n",
              "  <thead>\n",
              "    <tr style=\"text-align: right;\">\n",
              "      <th></th>\n",
              "      <th>credit.policy</th>\n",
              "      <th>purpose</th>\n",
              "      <th>int.rate</th>\n",
              "      <th>installment</th>\n",
              "      <th>log.annual.inc</th>\n",
              "      <th>dti</th>\n",
              "      <th>fico</th>\n",
              "      <th>days.with.cr.line</th>\n",
              "      <th>revol.bal</th>\n",
              "      <th>revol.util</th>\n",
              "      <th>inq.last.6mths</th>\n",
              "      <th>delinq.2yrs</th>\n",
              "      <th>pub.rec</th>\n",
              "      <th>not.fully.paid</th>\n",
              "    </tr>\n",
              "  </thead>\n",
              "  <tbody>\n",
              "    <tr>\n",
              "      <th>0</th>\n",
              "      <td>1</td>\n",
              "      <td>debt_consolidation</td>\n",
              "      <td>0.1189</td>\n",
              "      <td>829.10</td>\n",
              "      <td>11.350407</td>\n",
              "      <td>19.48</td>\n",
              "      <td>737</td>\n",
              "      <td>5639.958333</td>\n",
              "      <td>28854</td>\n",
              "      <td>52.1</td>\n",
              "      <td>0</td>\n",
              "      <td>0</td>\n",
              "      <td>0</td>\n",
              "      <td>0</td>\n",
              "    </tr>\n",
              "    <tr>\n",
              "      <th>1</th>\n",
              "      <td>1</td>\n",
              "      <td>credit_card</td>\n",
              "      <td>0.1071</td>\n",
              "      <td>228.22</td>\n",
              "      <td>11.082143</td>\n",
              "      <td>14.29</td>\n",
              "      <td>707</td>\n",
              "      <td>2760.000000</td>\n",
              "      <td>33623</td>\n",
              "      <td>76.7</td>\n",
              "      <td>0</td>\n",
              "      <td>0</td>\n",
              "      <td>0</td>\n",
              "      <td>0</td>\n",
              "    </tr>\n",
              "    <tr>\n",
              "      <th>2</th>\n",
              "      <td>1</td>\n",
              "      <td>debt_consolidation</td>\n",
              "      <td>0.1357</td>\n",
              "      <td>366.86</td>\n",
              "      <td>10.373491</td>\n",
              "      <td>11.63</td>\n",
              "      <td>682</td>\n",
              "      <td>4710.000000</td>\n",
              "      <td>3511</td>\n",
              "      <td>25.6</td>\n",
              "      <td>1</td>\n",
              "      <td>0</td>\n",
              "      <td>0</td>\n",
              "      <td>0</td>\n",
              "    </tr>\n",
              "    <tr>\n",
              "      <th>3</th>\n",
              "      <td>1</td>\n",
              "      <td>debt_consolidation</td>\n",
              "      <td>0.1008</td>\n",
              "      <td>162.34</td>\n",
              "      <td>11.350407</td>\n",
              "      <td>8.10</td>\n",
              "      <td>712</td>\n",
              "      <td>2699.958333</td>\n",
              "      <td>33667</td>\n",
              "      <td>73.2</td>\n",
              "      <td>1</td>\n",
              "      <td>0</td>\n",
              "      <td>0</td>\n",
              "      <td>0</td>\n",
              "    </tr>\n",
              "    <tr>\n",
              "      <th>4</th>\n",
              "      <td>1</td>\n",
              "      <td>credit_card</td>\n",
              "      <td>0.1426</td>\n",
              "      <td>102.92</td>\n",
              "      <td>11.299732</td>\n",
              "      <td>14.97</td>\n",
              "      <td>667</td>\n",
              "      <td>4066.000000</td>\n",
              "      <td>4740</td>\n",
              "      <td>39.5</td>\n",
              "      <td>0</td>\n",
              "      <td>1</td>\n",
              "      <td>0</td>\n",
              "      <td>0</td>\n",
              "    </tr>\n",
              "  </tbody>\n",
              "</table>\n",
              "</div>\n",
              "      <button class=\"colab-df-convert\" onclick=\"convertToInteractive('df-26a8b852-a5de-4394-97d1-e379a170f8a1')\"\n",
              "              title=\"Convert this dataframe to an interactive table.\"\n",
              "              style=\"display:none;\">\n",
              "        \n",
              "  <svg xmlns=\"http://www.w3.org/2000/svg\" height=\"24px\"viewBox=\"0 0 24 24\"\n",
              "       width=\"24px\">\n",
              "    <path d=\"M0 0h24v24H0V0z\" fill=\"none\"/>\n",
              "    <path d=\"M18.56 5.44l.94 2.06.94-2.06 2.06-.94-2.06-.94-.94-2.06-.94 2.06-2.06.94zm-11 1L8.5 8.5l.94-2.06 2.06-.94-2.06-.94L8.5 2.5l-.94 2.06-2.06.94zm10 10l.94 2.06.94-2.06 2.06-.94-2.06-.94-.94-2.06-.94 2.06-2.06.94z\"/><path d=\"M17.41 7.96l-1.37-1.37c-.4-.4-.92-.59-1.43-.59-.52 0-1.04.2-1.43.59L10.3 9.45l-7.72 7.72c-.78.78-.78 2.05 0 2.83L4 21.41c.39.39.9.59 1.41.59.51 0 1.02-.2 1.41-.59l7.78-7.78 2.81-2.81c.8-.78.8-2.07 0-2.86zM5.41 20L4 18.59l7.72-7.72 1.47 1.35L5.41 20z\"/>\n",
              "  </svg>\n",
              "      </button>\n",
              "      \n",
              "  <style>\n",
              "    .colab-df-container {\n",
              "      display:flex;\n",
              "      flex-wrap:wrap;\n",
              "      gap: 12px;\n",
              "    }\n",
              "\n",
              "    .colab-df-convert {\n",
              "      background-color: #E8F0FE;\n",
              "      border: none;\n",
              "      border-radius: 50%;\n",
              "      cursor: pointer;\n",
              "      display: none;\n",
              "      fill: #1967D2;\n",
              "      height: 32px;\n",
              "      padding: 0 0 0 0;\n",
              "      width: 32px;\n",
              "    }\n",
              "\n",
              "    .colab-df-convert:hover {\n",
              "      background-color: #E2EBFA;\n",
              "      box-shadow: 0px 1px 2px rgba(60, 64, 67, 0.3), 0px 1px 3px 1px rgba(60, 64, 67, 0.15);\n",
              "      fill: #174EA6;\n",
              "    }\n",
              "\n",
              "    [theme=dark] .colab-df-convert {\n",
              "      background-color: #3B4455;\n",
              "      fill: #D2E3FC;\n",
              "    }\n",
              "\n",
              "    [theme=dark] .colab-df-convert:hover {\n",
              "      background-color: #434B5C;\n",
              "      box-shadow: 0px 1px 3px 1px rgba(0, 0, 0, 0.15);\n",
              "      filter: drop-shadow(0px 1px 2px rgba(0, 0, 0, 0.3));\n",
              "      fill: #FFFFFF;\n",
              "    }\n",
              "  </style>\n",
              "\n",
              "      <script>\n",
              "        const buttonEl =\n",
              "          document.querySelector('#df-26a8b852-a5de-4394-97d1-e379a170f8a1 button.colab-df-convert');\n",
              "        buttonEl.style.display =\n",
              "          google.colab.kernel.accessAllowed ? 'block' : 'none';\n",
              "\n",
              "        async function convertToInteractive(key) {\n",
              "          const element = document.querySelector('#df-26a8b852-a5de-4394-97d1-e379a170f8a1');\n",
              "          const dataTable =\n",
              "            await google.colab.kernel.invokeFunction('convertToInteractive',\n",
              "                                                     [key], {});\n",
              "          if (!dataTable) return;\n",
              "\n",
              "          const docLinkHtml = 'Like what you see? Visit the ' +\n",
              "            '<a target=\"_blank\" href=https://colab.research.google.com/notebooks/data_table.ipynb>data table notebook</a>'\n",
              "            + ' to learn more about interactive tables.';\n",
              "          element.innerHTML = '';\n",
              "          dataTable['output_type'] = 'display_data';\n",
              "          await google.colab.output.renderOutput(dataTable, element);\n",
              "          const docLink = document.createElement('div');\n",
              "          docLink.innerHTML = docLinkHtml;\n",
              "          element.appendChild(docLink);\n",
              "        }\n",
              "      </script>\n",
              "    </div>\n",
              "  </div>\n",
              "  "
            ]
          },
          "metadata": {},
          "execution_count": 103
        }
      ],
      "source": [
        "from google.colab import drive\n",
        "drive.mount('/content/drive')\n",
        "df = pd.read_csv('/content/drive/MyDrive/Colab Notebooks/archive (2).zip')\n",
        "df.head()"
      ]
    },
    {
      "cell_type": "code",
      "execution_count": null,
      "id": "0321821d",
      "metadata": {
        "execution": {
          "iopub.execute_input": "2021-09-29T02:17:39.258743Z",
          "iopub.status.busy": "2021-09-29T02:17:39.258067Z",
          "iopub.status.idle": "2021-09-29T02:17:39.281401Z",
          "shell.execute_reply": "2021-09-29T02:17:39.280659Z",
          "shell.execute_reply.started": "2021-09-29T02:08:29.527555Z"
        },
        "papermill": {
          "duration": 0.048115,
          "end_time": "2021-09-29T02:17:39.281599",
          "exception": false,
          "start_time": "2021-09-29T02:17:39.233484",
          "status": "completed"
        },
        "tags": [],
        "colab": {
          "base_uri": "https://localhost:8080/"
        },
        "id": "0321821d",
        "outputId": "af9c6fea-1dcc-4429-e99a-511f672fd95e"
      },
      "outputs": [
        {
          "output_type": "stream",
          "name": "stdout",
          "text": [
            "<class 'pandas.core.frame.DataFrame'>\n",
            "RangeIndex: 9578 entries, 0 to 9577\n",
            "Data columns (total 14 columns):\n",
            " #   Column             Non-Null Count  Dtype  \n",
            "---  ------             --------------  -----  \n",
            " 0   credit.policy      9578 non-null   int64  \n",
            " 1   purpose            9578 non-null   object \n",
            " 2   int.rate           9578 non-null   float64\n",
            " 3   installment        9578 non-null   float64\n",
            " 4   log.annual.inc     9578 non-null   float64\n",
            " 5   dti                9578 non-null   float64\n",
            " 6   fico               9578 non-null   int64  \n",
            " 7   days.with.cr.line  9578 non-null   float64\n",
            " 8   revol.bal          9578 non-null   int64  \n",
            " 9   revol.util         9578 non-null   float64\n",
            " 10  inq.last.6mths     9578 non-null   int64  \n",
            " 11  delinq.2yrs        9578 non-null   int64  \n",
            " 12  pub.rec            9578 non-null   int64  \n",
            " 13  not.fully.paid     9578 non-null   int64  \n",
            "dtypes: float64(6), int64(7), object(1)\n",
            "memory usage: 1.0+ MB\n"
          ]
        }
      ],
      "source": [
        "df.info()"
      ]
    },
    {
      "cell_type": "markdown",
      "source": [
        "We have no missing values. It might be possible that the cleaning process extend itself until the descriptive analysis, where is possible that suspicious data comes up.\n",
        "\n",
        "We are also going to take a look at the data types and modify them if they are inconsistent."
      ],
      "metadata": {
        "id": "YiIoSTDZzjBA"
      },
      "id": "YiIoSTDZzjBA"
    },
    {
      "cell_type": "code",
      "source": [
        "df[\"credit.policy\"] = df[\"credit.policy\"].astype(\"bool\")\n",
        "df[\"not.fully.paid\"] = df[\"not.fully.paid\"].astype(\"bool\")"
      ],
      "metadata": {
        "id": "r8dJ1Qp0cxua"
      },
      "id": "r8dJ1Qp0cxua",
      "execution_count": null,
      "outputs": []
    },
    {
      "cell_type": "code",
      "execution_count": null,
      "id": "5dcca473",
      "metadata": {
        "execution": {
          "iopub.execute_input": "2021-09-29T02:17:39.336239Z",
          "iopub.status.busy": "2021-09-29T02:17:39.332184Z",
          "iopub.status.idle": "2021-09-29T02:17:39.388630Z",
          "shell.execute_reply": "2021-09-29T02:17:39.388067Z",
          "shell.execute_reply.started": "2021-08-20T01:44:30.203337Z"
        },
        "papermill": {
          "duration": 0.083198,
          "end_time": "2021-09-29T02:17:39.388784",
          "exception": false,
          "start_time": "2021-09-29T02:17:39.305586",
          "status": "completed"
        },
        "tags": [],
        "colab": {
          "base_uri": "https://localhost:8080/",
          "height": 364
        },
        "id": "5dcca473",
        "outputId": "888b624f-af6c-429f-9663-757cd9ec12f0"
      },
      "outputs": [
        {
          "output_type": "execute_result",
          "data": {
            "text/plain": [
              "          int.rate  installment  log.annual.inc          dti         fico  \\\n",
              "count  9578.000000  9578.000000     9578.000000  9578.000000  9578.000000   \n",
              "mean      0.122640   319.089413       10.932117    12.606679   710.846314   \n",
              "std       0.026847   207.071301        0.614813     6.883970    37.970537   \n",
              "min       0.060000    15.670000        7.547502     0.000000   612.000000   \n",
              "25%       0.103900   163.770000       10.558414     7.212500   682.000000   \n",
              "50%       0.122100   268.950000       10.928884    12.665000   707.000000   \n",
              "75%       0.140700   432.762500       11.291293    17.950000   737.000000   \n",
              "max       0.216400   940.140000       14.528354    29.960000   827.000000   \n",
              "\n",
              "       days.with.cr.line     revol.bal   revol.util  inq.last.6mths  \\\n",
              "count        9578.000000  9.578000e+03  9578.000000     9578.000000   \n",
              "mean         4560.767197  1.691396e+04    46.799236        1.577469   \n",
              "std          2496.930377  3.375619e+04    29.014417        2.200245   \n",
              "min           178.958333  0.000000e+00     0.000000        0.000000   \n",
              "25%          2820.000000  3.187000e+03    22.600000        0.000000   \n",
              "50%          4139.958333  8.596000e+03    46.300000        1.000000   \n",
              "75%          5730.000000  1.824950e+04    70.900000        2.000000   \n",
              "max         17639.958330  1.207359e+06   119.000000       33.000000   \n",
              "\n",
              "       delinq.2yrs      pub.rec  \n",
              "count  9578.000000  9578.000000  \n",
              "mean      0.163708     0.062122  \n",
              "std       0.546215     0.262126  \n",
              "min       0.000000     0.000000  \n",
              "25%       0.000000     0.000000  \n",
              "50%       0.000000     0.000000  \n",
              "75%       0.000000     0.000000  \n",
              "max      13.000000     5.000000  "
            ],
            "text/html": [
              "\n",
              "  <div id=\"df-feed4043-2114-461c-abe5-75c086af68aa\">\n",
              "    <div class=\"colab-df-container\">\n",
              "      <div>\n",
              "<style scoped>\n",
              "    .dataframe tbody tr th:only-of-type {\n",
              "        vertical-align: middle;\n",
              "    }\n",
              "\n",
              "    .dataframe tbody tr th {\n",
              "        vertical-align: top;\n",
              "    }\n",
              "\n",
              "    .dataframe thead th {\n",
              "        text-align: right;\n",
              "    }\n",
              "</style>\n",
              "<table border=\"1\" class=\"dataframe\">\n",
              "  <thead>\n",
              "    <tr style=\"text-align: right;\">\n",
              "      <th></th>\n",
              "      <th>int.rate</th>\n",
              "      <th>installment</th>\n",
              "      <th>log.annual.inc</th>\n",
              "      <th>dti</th>\n",
              "      <th>fico</th>\n",
              "      <th>days.with.cr.line</th>\n",
              "      <th>revol.bal</th>\n",
              "      <th>revol.util</th>\n",
              "      <th>inq.last.6mths</th>\n",
              "      <th>delinq.2yrs</th>\n",
              "      <th>pub.rec</th>\n",
              "    </tr>\n",
              "  </thead>\n",
              "  <tbody>\n",
              "    <tr>\n",
              "      <th>count</th>\n",
              "      <td>9578.000000</td>\n",
              "      <td>9578.000000</td>\n",
              "      <td>9578.000000</td>\n",
              "      <td>9578.000000</td>\n",
              "      <td>9578.000000</td>\n",
              "      <td>9578.000000</td>\n",
              "      <td>9.578000e+03</td>\n",
              "      <td>9578.000000</td>\n",
              "      <td>9578.000000</td>\n",
              "      <td>9578.000000</td>\n",
              "      <td>9578.000000</td>\n",
              "    </tr>\n",
              "    <tr>\n",
              "      <th>mean</th>\n",
              "      <td>0.122640</td>\n",
              "      <td>319.089413</td>\n",
              "      <td>10.932117</td>\n",
              "      <td>12.606679</td>\n",
              "      <td>710.846314</td>\n",
              "      <td>4560.767197</td>\n",
              "      <td>1.691396e+04</td>\n",
              "      <td>46.799236</td>\n",
              "      <td>1.577469</td>\n",
              "      <td>0.163708</td>\n",
              "      <td>0.062122</td>\n",
              "    </tr>\n",
              "    <tr>\n",
              "      <th>std</th>\n",
              "      <td>0.026847</td>\n",
              "      <td>207.071301</td>\n",
              "      <td>0.614813</td>\n",
              "      <td>6.883970</td>\n",
              "      <td>37.970537</td>\n",
              "      <td>2496.930377</td>\n",
              "      <td>3.375619e+04</td>\n",
              "      <td>29.014417</td>\n",
              "      <td>2.200245</td>\n",
              "      <td>0.546215</td>\n",
              "      <td>0.262126</td>\n",
              "    </tr>\n",
              "    <tr>\n",
              "      <th>min</th>\n",
              "      <td>0.060000</td>\n",
              "      <td>15.670000</td>\n",
              "      <td>7.547502</td>\n",
              "      <td>0.000000</td>\n",
              "      <td>612.000000</td>\n",
              "      <td>178.958333</td>\n",
              "      <td>0.000000e+00</td>\n",
              "      <td>0.000000</td>\n",
              "      <td>0.000000</td>\n",
              "      <td>0.000000</td>\n",
              "      <td>0.000000</td>\n",
              "    </tr>\n",
              "    <tr>\n",
              "      <th>25%</th>\n",
              "      <td>0.103900</td>\n",
              "      <td>163.770000</td>\n",
              "      <td>10.558414</td>\n",
              "      <td>7.212500</td>\n",
              "      <td>682.000000</td>\n",
              "      <td>2820.000000</td>\n",
              "      <td>3.187000e+03</td>\n",
              "      <td>22.600000</td>\n",
              "      <td>0.000000</td>\n",
              "      <td>0.000000</td>\n",
              "      <td>0.000000</td>\n",
              "    </tr>\n",
              "    <tr>\n",
              "      <th>50%</th>\n",
              "      <td>0.122100</td>\n",
              "      <td>268.950000</td>\n",
              "      <td>10.928884</td>\n",
              "      <td>12.665000</td>\n",
              "      <td>707.000000</td>\n",
              "      <td>4139.958333</td>\n",
              "      <td>8.596000e+03</td>\n",
              "      <td>46.300000</td>\n",
              "      <td>1.000000</td>\n",
              "      <td>0.000000</td>\n",
              "      <td>0.000000</td>\n",
              "    </tr>\n",
              "    <tr>\n",
              "      <th>75%</th>\n",
              "      <td>0.140700</td>\n",
              "      <td>432.762500</td>\n",
              "      <td>11.291293</td>\n",
              "      <td>17.950000</td>\n",
              "      <td>737.000000</td>\n",
              "      <td>5730.000000</td>\n",
              "      <td>1.824950e+04</td>\n",
              "      <td>70.900000</td>\n",
              "      <td>2.000000</td>\n",
              "      <td>0.000000</td>\n",
              "      <td>0.000000</td>\n",
              "    </tr>\n",
              "    <tr>\n",
              "      <th>max</th>\n",
              "      <td>0.216400</td>\n",
              "      <td>940.140000</td>\n",
              "      <td>14.528354</td>\n",
              "      <td>29.960000</td>\n",
              "      <td>827.000000</td>\n",
              "      <td>17639.958330</td>\n",
              "      <td>1.207359e+06</td>\n",
              "      <td>119.000000</td>\n",
              "      <td>33.000000</td>\n",
              "      <td>13.000000</td>\n",
              "      <td>5.000000</td>\n",
              "    </tr>\n",
              "  </tbody>\n",
              "</table>\n",
              "</div>\n",
              "      <button class=\"colab-df-convert\" onclick=\"convertToInteractive('df-feed4043-2114-461c-abe5-75c086af68aa')\"\n",
              "              title=\"Convert this dataframe to an interactive table.\"\n",
              "              style=\"display:none;\">\n",
              "        \n",
              "  <svg xmlns=\"http://www.w3.org/2000/svg\" height=\"24px\"viewBox=\"0 0 24 24\"\n",
              "       width=\"24px\">\n",
              "    <path d=\"M0 0h24v24H0V0z\" fill=\"none\"/>\n",
              "    <path d=\"M18.56 5.44l.94 2.06.94-2.06 2.06-.94-2.06-.94-.94-2.06-.94 2.06-2.06.94zm-11 1L8.5 8.5l.94-2.06 2.06-.94-2.06-.94L8.5 2.5l-.94 2.06-2.06.94zm10 10l.94 2.06.94-2.06 2.06-.94-2.06-.94-.94-2.06-.94 2.06-2.06.94z\"/><path d=\"M17.41 7.96l-1.37-1.37c-.4-.4-.92-.59-1.43-.59-.52 0-1.04.2-1.43.59L10.3 9.45l-7.72 7.72c-.78.78-.78 2.05 0 2.83L4 21.41c.39.39.9.59 1.41.59.51 0 1.02-.2 1.41-.59l7.78-7.78 2.81-2.81c.8-.78.8-2.07 0-2.86zM5.41 20L4 18.59l7.72-7.72 1.47 1.35L5.41 20z\"/>\n",
              "  </svg>\n",
              "      </button>\n",
              "      \n",
              "  <style>\n",
              "    .colab-df-container {\n",
              "      display:flex;\n",
              "      flex-wrap:wrap;\n",
              "      gap: 12px;\n",
              "    }\n",
              "\n",
              "    .colab-df-convert {\n",
              "      background-color: #E8F0FE;\n",
              "      border: none;\n",
              "      border-radius: 50%;\n",
              "      cursor: pointer;\n",
              "      display: none;\n",
              "      fill: #1967D2;\n",
              "      height: 32px;\n",
              "      padding: 0 0 0 0;\n",
              "      width: 32px;\n",
              "    }\n",
              "\n",
              "    .colab-df-convert:hover {\n",
              "      background-color: #E2EBFA;\n",
              "      box-shadow: 0px 1px 2px rgba(60, 64, 67, 0.3), 0px 1px 3px 1px rgba(60, 64, 67, 0.15);\n",
              "      fill: #174EA6;\n",
              "    }\n",
              "\n",
              "    [theme=dark] .colab-df-convert {\n",
              "      background-color: #3B4455;\n",
              "      fill: #D2E3FC;\n",
              "    }\n",
              "\n",
              "    [theme=dark] .colab-df-convert:hover {\n",
              "      background-color: #434B5C;\n",
              "      box-shadow: 0px 1px 3px 1px rgba(0, 0, 0, 0.15);\n",
              "      filter: drop-shadow(0px 1px 2px rgba(0, 0, 0, 0.3));\n",
              "      fill: #FFFFFF;\n",
              "    }\n",
              "  </style>\n",
              "\n",
              "      <script>\n",
              "        const buttonEl =\n",
              "          document.querySelector('#df-feed4043-2114-461c-abe5-75c086af68aa button.colab-df-convert');\n",
              "        buttonEl.style.display =\n",
              "          google.colab.kernel.accessAllowed ? 'block' : 'none';\n",
              "\n",
              "        async function convertToInteractive(key) {\n",
              "          const element = document.querySelector('#df-feed4043-2114-461c-abe5-75c086af68aa');\n",
              "          const dataTable =\n",
              "            await google.colab.kernel.invokeFunction('convertToInteractive',\n",
              "                                                     [key], {});\n",
              "          if (!dataTable) return;\n",
              "\n",
              "          const docLinkHtml = 'Like what you see? Visit the ' +\n",
              "            '<a target=\"_blank\" href=https://colab.research.google.com/notebooks/data_table.ipynb>data table notebook</a>'\n",
              "            + ' to learn more about interactive tables.';\n",
              "          element.innerHTML = '';\n",
              "          dataTable['output_type'] = 'display_data';\n",
              "          await google.colab.output.renderOutput(dataTable, element);\n",
              "          const docLink = document.createElement('div');\n",
              "          docLink.innerHTML = docLinkHtml;\n",
              "          element.appendChild(docLink);\n",
              "        }\n",
              "      </script>\n",
              "    </div>\n",
              "  </div>\n",
              "  "
            ]
          },
          "metadata": {},
          "execution_count": 106
        }
      ],
      "source": [
        "df.describe()"
      ]
    },
    {
      "cell_type": "markdown",
      "source": [
        "# Data Analysis and EDA\n",
        "We know that most of the features are numeric, having only one categorical and two booleans, one of which being our target variable which is our target variable. This makes our descriptive analysis quite easy since we only have to graph histograms corresponding to the numeric values, a bar plot for the categorical feature an another barplot for the boolean.\n",
        "\n",
        "Since our target variable is a boolean, we are going to plot the 6 scatter plots with the highest correlations and hue them with the target variable, this will be more as a visual analysis. If we don't find any pattern, I'm going to apply a model-based feature selection to reduce the number of features and analyze the most relevants for the model.\n",
        "\n",
        "'Purpose' is a categorical variable, so a barplot will do.\n",
        "\n",
        "'inq.last.6mths', 'delinq.2yrs' and 'pub.rec'describbe the number of times something happened, a barplot will also work on these cases."
      ],
      "metadata": {
        "id": "2kbJqcBad2Nt"
      },
      "id": "2kbJqcBad2Nt"
    },
    {
      "cell_type": "code",
      "source": [
        "total = len(df)\n",
        "\n",
        "plt.figure(figsize = (14,6))\n",
        "\n",
        "g = sns.countplot(x=\"not.fully.paid\", data=df, \n",
        "                  color='#00afb9')\n",
        "g.set_xticklabels(g.get_xticklabels(),rotation=45)\n",
        "g.set_xlabel(\"Loan Status Categories\", fontsize=12)\n",
        "g.set_ylabel(\"Count\", fontsize=15)\n",
        "g.set_title(\"Loan Status Types Distribution\", fontsize=20)\n",
        "sizes=[]\n",
        "for p in g.patches:\n",
        "    height = p.get_height()\n",
        "    sizes.append(height)\n",
        "    g.text(p.get_x()+p.get_width()/2.,\n",
        "            height + 3,\n",
        "            '{:1.2f}%'.format(height/total*100),\n",
        "            ha=\"center\", fontsize=12) \n",
        "g.set_ylim(0, max(sizes) * 1.10)\n",
        "\n",
        "plt.show()"
      ],
      "metadata": {
        "colab": {
          "base_uri": "https://localhost:8080/",
          "height": 427
        },
        "id": "nEgxs8mdP4bk",
        "outputId": "6fe30560-1913-4e26-bd19-471d3dc769b8"
      },
      "id": "nEgxs8mdP4bk",
      "execution_count": null,
      "outputs": [
        {
          "output_type": "display_data",
          "data": {
            "text/plain": [
              "<Figure size 1008x432 with 1 Axes>"
            ],
            "image/png": "[encoded data removed]"
          },
          "metadata": {
            "needs_background": "light"
          }
        }
      ]
    },
    {
      "cell_type": "markdown",
      "source": [
        "83.99% is fully paid and 16.01% is charged off\n",
        "we have a case of inbalanced data that could be a problem for the ML model since most of are false. When building the model, we are going to apply sampling technique to deal with the imbalanced data."
      ],
      "metadata": {
        "id": "VQZmvggASD6B"
      },
      "id": "VQZmvggASD6B"
    },
    {
      "cell_type": "code",
      "source": [
        "plt.figure(figsize=(14,6))\n",
        "\n",
        "g = sns.countplot(x='purpose', data=df, \n",
        "                  color='#00afb9')\n",
        "g.set_title(\"Client Purposes for Loan Credit\", fontsize=22)\n",
        "g.set_xlabel(\"Purpose Titles\", fontsize=18)\n",
        "g.set_ylabel('Count', fontsize=18)\n",
        "\n",
        "sizes=[]\n",
        "\n",
        "for p in g.patches:\n",
        "    height = p.get_height()\n",
        "    sizes.append(height)\n",
        "    g.text(p.get_x()+p.get_width()/2.,\n",
        "            height + 3,\n",
        "            '{:1.2f}%'.format(height/total*100),\n",
        "            ha=\"center\", fontsize=14) \n",
        "    \n",
        "g.set_ylim(0, max(sizes) * 1.10)\n",
        "g.set_xticklabels(g.get_xticklabels(),\n",
        "                  rotation=45)\n",
        "\n",
        "plt.show()"
      ],
      "metadata": {
        "colab": {
          "base_uri": "https://localhost:8080/",
          "height": 486
        },
        "id": "Tbo-gu7NQvfM",
        "outputId": "c210a9dc-03c7-49a4-9dd2-2ea9eec00b73"
      },
      "id": "Tbo-gu7NQvfM",
      "execution_count": null,
      "outputs": [
        {
          "output_type": "display_data",
          "data": {
            "text/plain": [
              "<Figure size 1008x432 with 1 Axes>"
            ],
            "image/png": "[encoded data removed]"
          },
          "metadata": {
            "needs_background": "light"
          }
        }
      ]
    },
    {
      "cell_type": "markdown",
      "source": [
        "Cool! The top 3 purposes are:\n",
        "\n",
        "41.31% of the Loans are to Debt Consolidation\n",
        "\n",
        "13.18% are to pay Credit Card\n",
        "\n",
        "6.57% to Home Improvement\n",
        "\n",
        "\n",
        "From the descriptive analysis we can see that most of the borrowers are for debt consolidation . The least category is educational. It is too soon to start concluding, but my intuition tells me that the categories with the most borrowers are also the ones with a bigger proportion of paid debt, as educational sits at the bottom having students with the least amount of money. We will wait though until the analysis part where we are going to analyse further."
      ],
      "metadata": {
        "id": "3Swhp05eRUrG"
      },
      "id": "3Swhp05eRUrG"
    },
    {
      "cell_type": "code",
      "source": [
        "numbers = df.select_dtypes(['int64', 'float64']).columns\n",
        "df[numbers].hist(figsize=(20,10), edgecolor='white', color='#00afb9')\n",
        "plt.show()\n",
        "\n",
        "df[numbers].describe()"
      ],
      "metadata": {
        "colab": {
          "base_uri": "https://localhost:8080/",
          "height": 929
        },
        "id": "46oVtilIa57R",
        "outputId": "a436f50e-5093-4436-d16b-4264abe41a2b"
      },
      "id": "46oVtilIa57R",
      "execution_count": null,
      "outputs": [
        {
          "output_type": "display_data",
          "data": {
            "text/plain": [
              "<Figure size 1440x720 with 12 Axes>"
            ],
            "image/png": "[encoded data removed]"
          },
          "metadata": {
            "needs_background": "light"
          }
        },
        {
          "output_type": "execute_result",
          "data": {
            "text/plain": [
              "          int.rate  installment  log.annual.inc          dti         fico  \\\n",
              "count  9578.000000  9578.000000     9578.000000  9578.000000  9578.000000   \n",
              "mean      0.122640   319.089413       10.932117    12.606679   710.846314   \n",
              "std       0.026847   207.071301        0.614813     6.883970    37.970537   \n",
              "min       0.060000    15.670000        7.547502     0.000000   612.000000   \n",
              "25%       0.103900   163.770000       10.558414     7.212500   682.000000   \n",
              "50%       0.122100   268.950000       10.928884    12.665000   707.000000   \n",
              "75%       0.140700   432.762500       11.291293    17.950000   737.000000   \n",
              "max       0.216400   940.140000       14.528354    29.960000   827.000000   \n",
              "\n",
              "       days.with.cr.line     revol.bal   revol.util  inq.last.6mths  \\\n",
              "count        9578.000000  9.578000e+03  9578.000000     9578.000000   \n",
              "mean         4560.767197  1.691396e+04    46.799236        1.577469   \n",
              "std          2496.930377  3.375619e+04    29.014417        2.200245   \n",
              "min           178.958333  0.000000e+00     0.000000        0.000000   \n",
              "25%          2820.000000  3.187000e+03    22.600000        0.000000   \n",
              "50%          4139.958333  8.596000e+03    46.300000        1.000000   \n",
              "75%          5730.000000  1.824950e+04    70.900000        2.000000   \n",
              "max         17639.958330  1.207359e+06   119.000000       33.000000   \n",
              "\n",
              "       delinq.2yrs      pub.rec  \n",
              "count  9578.000000  9578.000000  \n",
              "mean      0.163708     0.062122  \n",
              "std       0.546215     0.262126  \n",
              "min       0.000000     0.000000  \n",
              "25%       0.000000     0.000000  \n",
              "50%       0.000000     0.000000  \n",
              "75%       0.000000     0.000000  \n",
              "max      13.000000     5.000000  "
            ],
            "text/html": [
              "\n",
              "  <div id=\"df-8fef1689-f67d-4f98-8a9f-231a595973c5\">\n",
              "    <div class=\"colab-df-container\">\n",
              "      <div>\n",
              "<style scoped>\n",
              "    .dataframe tbody tr th:only-of-type {\n",
              "        vertical-align: middle;\n",
              "    }\n",
              "\n",
              "    .dataframe tbody tr th {\n",
              "        vertical-align: top;\n",
              "    }\n",
              "\n",
              "    .dataframe thead th {\n",
              "        text-align: right;\n",
              "    }\n",
              "</style>\n",
              "<table border=\"1\" class=\"dataframe\">\n",
              "  <thead>\n",
              "    <tr style=\"text-align: right;\">\n",
              "      <th></th>\n",
              "      <th>int.rate</th>\n",
              "      <th>installment</th>\n",
              "      <th>log.annual.inc</th>\n",
              "      <th>dti</th>\n",
              "      <th>fico</th>\n",
              "      <th>days.with.cr.line</th>\n",
              "      <th>revol.bal</th>\n",
              "      <th>revol.util</th>\n",
              "      <th>inq.last.6mths</th>\n",
              "      <th>delinq.2yrs</th>\n",
              "      <th>pub.rec</th>\n",
              "    </tr>\n",
              "  </thead>\n",
              "  <tbody>\n",
              "    <tr>\n",
              "      <th>count</th>\n",
              "      <td>9578.000000</td>\n",
              "      <td>9578.000000</td>\n",
              "      <td>9578.000000</td>\n",
              "      <td>9578.000000</td>\n",
              "      <td>9578.000000</td>\n",
              "      <td>9578.000000</td>\n",
              "      <td>9.578000e+03</td>\n",
              "      <td>9578.000000</td>\n",
              "      <td>9578.000000</td>\n",
              "      <td>9578.000000</td>\n",
              "      <td>9578.000000</td>\n",
              "    </tr>\n",
              "    <tr>\n",
              "      <th>mean</th>\n",
              "      <td>0.122640</td>\n",
              "      <td>319.089413</td>\n",
              "      <td>10.932117</td>\n",
              "      <td>12.606679</td>\n",
              "      <td>710.846314</td>\n",
              "      <td>4560.767197</td>\n",
              "      <td>1.691396e+04</td>\n",
              "      <td>46.799236</td>\n",
              "      <td>1.577469</td>\n",
              "      <td>0.163708</td>\n",
              "      <td>0.062122</td>\n",
              "    </tr>\n",
              "    <tr>\n",
              "      <th>std</th>\n",
              "      <td>0.026847</td>\n",
              "      <td>207.071301</td>\n",
              "      <td>0.614813</td>\n",
              "      <td>6.883970</td>\n",
              "      <td>37.970537</td>\n",
              "      <td>2496.930377</td>\n",
              "      <td>3.375619e+04</td>\n",
              "      <td>29.014417</td>\n",
              "      <td>2.200245</td>\n",
              "      <td>0.546215</td>\n",
              "      <td>0.262126</td>\n",
              "    </tr>\n",
              "    <tr>\n",
              "      <th>min</th>\n",
              "      <td>0.060000</td>\n",
              "      <td>15.670000</td>\n",
              "      <td>7.547502</td>\n",
              "      <td>0.000000</td>\n",
              "      <td>612.000000</td>\n",
              "      <td>178.958333</td>\n",
              "      <td>0.000000e+00</td>\n",
              "      <td>0.000000</td>\n",
              "      <td>0.000000</td>\n",
              "      <td>0.000000</td>\n",
              "      <td>0.000000</td>\n",
              "    </tr>\n",
              "    <tr>\n",
              "      <th>25%</th>\n",
              "      <td>0.103900</td>\n",
              "      <td>163.770000</td>\n",
              "      <td>10.558414</td>\n",
              "      <td>7.212500</td>\n",
              "      <td>682.000000</td>\n",
              "      <td>2820.000000</td>\n",
              "      <td>3.187000e+03</td>\n",
              "      <td>22.600000</td>\n",
              "      <td>0.000000</td>\n",
              "      <td>0.000000</td>\n",
              "      <td>0.000000</td>\n",
              "    </tr>\n",
              "    <tr>\n",
              "      <th>50%</th>\n",
              "      <td>0.122100</td>\n",
              "      <td>268.950000</td>\n",
              "      <td>10.928884</td>\n",
              "      <td>12.665000</td>\n",
              "      <td>707.000000</td>\n",
              "      <td>4139.958333</td>\n",
              "      <td>8.596000e+03</td>\n",
              "      <td>46.300000</td>\n",
              "      <td>1.000000</td>\n",
              "      <td>0.000000</td>\n",
              "      <td>0.000000</td>\n",
              "    </tr>\n",
              "    <tr>\n",
              "      <th>75%</th>\n",
              "      <td>0.140700</td>\n",
              "      <td>432.762500</td>\n",
              "      <td>11.291293</td>\n",
              "      <td>17.950000</td>\n",
              "      <td>737.000000</td>\n",
              "      <td>5730.000000</td>\n",
              "      <td>1.824950e+04</td>\n",
              "      <td>70.900000</td>\n",
              "      <td>2.000000</td>\n",
              "      <td>0.000000</td>\n",
              "      <td>0.000000</td>\n",
              "    </tr>\n",
              "    <tr>\n",
              "      <th>max</th>\n",
              "      <td>0.216400</td>\n",
              "      <td>940.140000</td>\n",
              "      <td>14.528354</td>\n",
              "      <td>29.960000</td>\n",
              "      <td>827.000000</td>\n",
              "      <td>17639.958330</td>\n",
              "      <td>1.207359e+06</td>\n",
              "      <td>119.000000</td>\n",
              "      <td>33.000000</td>\n",
              "      <td>13.000000</td>\n",
              "      <td>5.000000</td>\n",
              "    </tr>\n",
              "  </tbody>\n",
              "</table>\n",
              "</div>\n",
              "      <button class=\"colab-df-convert\" onclick=\"convertToInteractive('df-8fef1689-f67d-4f98-8a9f-231a595973c5')\"\n",
              "              title=\"Convert this dataframe to an interactive table.\"\n",
              "              style=\"display:none;\">\n",
              "        \n",
              "  <svg xmlns=\"http://www.w3.org/2000/svg\" height=\"24px\"viewBox=\"0 0 24 24\"\n",
              "       width=\"24px\">\n",
              "    <path d=\"M0 0h24v24H0V0z\" fill=\"none\"/>\n",
              "    <path d=\"M18.56 5.44l.94 2.06.94-2.06 2.06-.94-2.06-.94-.94-2.06-.94 2.06-2.06.94zm-11 1L8.5 8.5l.94-2.06 2.06-.94-2.06-.94L8.5 2.5l-.94 2.06-2.06.94zm10 10l.94 2.06.94-2.06 2.06-.94-2.06-.94-.94-2.06-.94 2.06-2.06.94z\"/><path d=\"M17.41 7.96l-1.37-1.37c-.4-.4-.92-.59-1.43-.59-.52 0-1.04.2-1.43.59L10.3 9.45l-7.72 7.72c-.78.78-.78 2.05 0 2.83L4 21.41c.39.39.9.59 1.41.59.51 0 1.02-.2 1.41-.59l7.78-7.78 2.81-2.81c.8-.78.8-2.07 0-2.86zM5.41 20L4 18.59l7.72-7.72 1.47 1.35L5.41 20z\"/>\n",
              "  </svg>\n",
              "      </button>\n",
              "      \n",
              "  <style>\n",
              "    .colab-df-container {\n",
              "      display:flex;\n",
              "      flex-wrap:wrap;\n",
              "      gap: 12px;\n",
              "    }\n",
              "\n",
              "    .colab-df-convert {\n",
              "      background-color: #E8F0FE;\n",
              "      border: none;\n",
              "      border-radius: 50%;\n",
              "      cursor: pointer;\n",
              "      display: none;\n",
              "      fill: #1967D2;\n",
              "      height: 32px;\n",
              "      padding: 0 0 0 0;\n",
              "      width: 32px;\n",
              "    }\n",
              "\n",
              "    .colab-df-convert:hover {\n",
              "      background-color: #E2EBFA;\n",
              "      box-shadow: 0px 1px 2px rgba(60, 64, 67, 0.3), 0px 1px 3px 1px rgba(60, 64, 67, 0.15);\n",
              "      fill: #174EA6;\n",
              "    }\n",
              "\n",
              "    [theme=dark] .colab-df-convert {\n",
              "      background-color: #3B4455;\n",
              "      fill: #D2E3FC;\n",
              "    }\n",
              "\n",
              "    [theme=dark] .colab-df-convert:hover {\n",
              "      background-color: #434B5C;\n",
              "      box-shadow: 0px 1px 3px 1px rgba(0, 0, 0, 0.15);\n",
              "      filter: drop-shadow(0px 1px 2px rgba(0, 0, 0, 0.3));\n",
              "      fill: #FFFFFF;\n",
              "    }\n",
              "  </style>\n",
              "\n",
              "      <script>\n",
              "        const buttonEl =\n",
              "          document.querySelector('#df-8fef1689-f67d-4f98-8a9f-231a595973c5 button.colab-df-convert');\n",
              "        buttonEl.style.display =\n",
              "          google.colab.kernel.accessAllowed ? 'block' : 'none';\n",
              "\n",
              "        async function convertToInteractive(key) {\n",
              "          const element = document.querySelector('#df-8fef1689-f67d-4f98-8a9f-231a595973c5');\n",
              "          const dataTable =\n",
              "            await google.colab.kernel.invokeFunction('convertToInteractive',\n",
              "                                                     [key], {});\n",
              "          if (!dataTable) return;\n",
              "\n",
              "          const docLinkHtml = 'Like what you see? Visit the ' +\n",
              "            '<a target=\"_blank\" href=https://colab.research.google.com/notebooks/data_table.ipynb>data table notebook</a>'\n",
              "            + ' to learn more about interactive tables.';\n",
              "          element.innerHTML = '';\n",
              "          dataTable['output_type'] = 'display_data';\n",
              "          await google.colab.output.renderOutput(dataTable, element);\n",
              "          const docLink = document.createElement('div');\n",
              "          docLink.innerHTML = docLinkHtml;\n",
              "          element.appendChild(docLink);\n",
              "        }\n",
              "      </script>\n",
              "    </div>\n",
              "  </div>\n",
              "  "
            ]
          },
          "metadata": {},
          "execution_count": 109
        }
      ]
    },
    {
      "cell_type": "markdown",
      "source": [
        "We can see that most of the histograms follow a normal distribution, except for revol.bal, which, from the descriptive stats, know that have some very extreme values, this could be fixed by removing the outiler or applyieng a log formula ."
      ],
      "metadata": {
        "id": "e0yV0dSObG_h"
      },
      "id": "e0yV0dSObG_h"
    },
    {
      "cell_type": "code",
      "source": [
        "TotalLog = np.log(df['revol.bal'] + 1)\n",
        "TotalLog.hist(color='#00afb9')\n",
        "\n",
        "plt.show()"
      ],
      "metadata": {
        "colab": {
          "base_uri": "https://localhost:8080/",
          "height": 265
        },
        "id": "hTVkb67jbPQ6",
        "outputId": "c028cf4d-23d2-460d-c012-5a5c23a55873"
      },
      "id": "hTVkb67jbPQ6",
      "execution_count": null,
      "outputs": [
        {
          "output_type": "display_data",
          "data": {
            "text/plain": [
              "<Figure size 432x288 with 1 Axes>"
            ],
            "image/png": "[encoded data removed]"
          },
          "metadata": {
            "needs_background": "light"
          }
        }
      ]
    },
    {
      "cell_type": "markdown",
      "source": [
        "With the log formula, the graph looks more 'normal'. We are going to take into account both method when building the ML model.\n",
        "\n",
        "Regarding 'delinq.2yrs' and 'pub.rec', these are distributions that have their values distributed through 4-5 values. They behave like a cateforical value but they are not. A count plot could give us a better representation of these distributions"
      ],
      "metadata": {
        "id": "nutdrZY0btvx"
      },
      "id": "nutdrZY0btvx"
    },
    {
      "cell_type": "code",
      "source": [
        "from matplotlib import colors\n",
        "fig, ax = plt.subplots(1,2, figsize=(15,5))\n",
        "\n",
        "inte = ['delinq.2yrs', 'pub.rec']\n",
        "\n",
        "sns.countplot(inte[0], data=df, ax=ax[0], palette=\"vlag\")\n",
        "sns.countplot(inte[1], data=df, ax=ax[1], palette=\"vlag\")\n",
        "\n",
        "plt.show()\n",
        "\n",
        "print(df[inte[0]].value_counts())\n",
        "print('\\n', df[inte[1]].value_counts())"
      ],
      "metadata": {
        "colab": {
          "base_uri": "https://localhost:8080/",
          "height": 770
        },
        "id": "PGrzBjxCb0K8",
        "outputId": "04ecee22-2d39-4290-dad2-8dec6e614113"
      },
      "id": "PGrzBjxCb0K8",
      "execution_count": null,
      "outputs": [
        {
          "output_type": "stream",
          "name": "stderr",
          "text": [
            "/usr/local/lib/python3.7/dist-packages/seaborn/_decorators.py:43: FutureWarning: Pass the following variable as a keyword arg: x. From version 0.12, the only valid positional argument will be `data`, and passing other arguments without an explicit keyword will result in an error or misinterpretation.\n",
            "  FutureWarning\n",
            "/usr/local/lib/python3.7/dist-packages/seaborn/_decorators.py:43: FutureWarning: Pass the following variable as a keyword arg: x. From version 0.12, the only valid positional argument will be `data`, and passing other arguments without an explicit keyword will result in an error or misinterpretation.\n",
            "  FutureWarning\n"
          ]
        },
        {
          "output_type": "display_data",
          "data": {
            "text/plain": [
              "<Figure size 1080x360 with 2 Axes>"
            ],
            "image/png": "[encoded data removed]"
          },
          "metadata": {
            "needs_background": "light"
          }
        },
        {
          "output_type": "stream",
          "name": "stdout",
          "text": [
            "0     8458\n",
            "1      832\n",
            "2      192\n",
            "3       65\n",
            "4       19\n",
            "5        6\n",
            "6        2\n",
            "13       1\n",
            "7        1\n",
            "8        1\n",
            "11       1\n",
            "Name: delinq.2yrs, dtype: int64\n",
            "\n",
            " 0    9019\n",
            "1     533\n",
            "2      19\n",
            "3       5\n",
            "4       1\n",
            "5       1\n",
            "Name: pub.rec, dtype: int64\n"
          ]
        }
      ]
    },
    {
      "cell_type": "markdown",
      "source": [
        "We can see that both distributions have some extreme values, after the data analysis, when building the ML model, we are to consider getting rid of them.\n",
        "\n",
        "Conclusion:\n",
        "'revol.bal' is rich in outliers. for the ML model, we might take the outliers out or apply a log formula.\n",
        "'delinq.2yrs' and 'pub.rec' are also rich in outliers. Since they are integers, i don't think a log formula would be wise, It's better to take out the outliers for the ML model.\n",
        "'not.fully.paid', the target variable'is highly imbalanced. After the data analysis and before the ML model, I'm going to use a sampling technique to deal with this case."
      ],
      "metadata": {
        "id": "vuROR8-DcibS"
      },
      "id": "vuROR8-DcibS"
    },
    {
      "cell_type": "code",
      "source": [
        "numbers = df.select_dtypes(['int64', 'float64']).columns\n",
        "numbers = numbers[:-3]\n",
        "\n",
        "sns.histplot(data=df, x=numbers[0], hue='not.fully.paid')\n",
        "print(df[df[\"credit.policy\"]==0][\"int.rate\"].mean())\n",
        "print(df[df[\"credit.policy\"]==1][\"int.rate\"].mean())"
      ],
      "metadata": {
        "colab": {
          "base_uri": "https://localhost:8080/",
          "height": 314
        },
        "id": "5QRoNKgI_g28",
        "outputId": "d8d0027b-92f8-4ba6-9355-ac4d1c4d21fb"
      },
      "id": "5QRoNKgI_g28",
      "execution_count": null,
      "outputs": [
        {
          "output_type": "stream",
          "name": "stdout",
          "text": [
            "0.13867955032119952\n",
            "0.11875396887159342\n"
          ]
        },
        {
          "output_type": "display_data",
          "data": {
            "text/plain": [
              "<Figure size 432x288 with 1 Axes>"
            ],
            "image/png": "[encoded data removed]"
          },
          "metadata": {
            "needs_background": "light"
          }
        }
      ]
    },
    {
      "cell_type": "markdown",
      "source": [
        "The average interest rate of people who can't fully paid were about 13.8%; while average interest rate of people who fully paid were about 11.8%, a litte bit lower than people who can't fully paid."
      ],
      "metadata": {
        "id": "2jJRt8Fhqw-S"
      },
      "id": "2jJRt8Fhqw-S"
    },
    {
      "cell_type": "code",
      "source": [
        "fig, ax = plt.subplots(2,4, figsize=(22,10))\n",
        "ax=ax.ravel()\n",
        "\n",
        "count=0\n",
        "for i in numbers:\n",
        "    sns.histplot(data=df, x=i, hue='not.fully.paid', ax=ax[count])\n",
        "    count+=1"
      ],
      "metadata": {
        "colab": {
          "base_uri": "https://localhost:8080/",
          "height": 532
        },
        "id": "4-boF2ageNYP",
        "outputId": "d71146d9-6005-484b-df5b-bfa1e56c1712"
      },
      "id": "4-boF2ageNYP",
      "execution_count": null,
      "outputs": [
        {
          "output_type": "display_data",
          "data": {
            "text/plain": [
              "<Figure size 1584x720 with 8 Axes>"
            ],
            "image/png": "[encoded data removed]"
          },
          "metadata": {
            "needs_background": "light"
          }
        }
      ]
    },
    {
      "cell_type": "markdown",
      "source": [
        "Unfortunately, both distributions have the same shape but in a different proportion, looking for a pattern here will be difficult. Let's group our target variable by these variables and see how the mean and standard deviation differ."
      ],
      "metadata": {
        "id": "ognGYhizerJA"
      },
      "id": "ognGYhizerJA"
    },
    {
      "cell_type": "code",
      "source": [
        "df.groupby('not.fully.paid')[numbers].agg(['mean', 'std'])"
      ],
      "metadata": {
        "colab": {
          "base_uri": "https://localhost:8080/",
          "height": 239
        },
        "id": "3sg-urukevqh",
        "outputId": "49f2918f-f14e-4167-dd96-b1b45a6c7352"
      },
      "id": "3sg-urukevqh",
      "execution_count": null,
      "outputs": [
        {
          "output_type": "execute_result",
          "data": {
            "text/plain": [
              "                int.rate           installment             log.annual.inc  \\\n",
              "                    mean       std        mean         std           mean   \n",
              "not.fully.paid                                                              \n",
              "False           0.120770  0.026692  314.574123  203.398688      10.941091   \n",
              "True            0.132452  0.025495  342.785114  223.948527      10.885023   \n",
              "\n",
              "                                dti                  fico             \\\n",
              "                     std       mean       std        mean        std   \n",
              "not.fully.paid                                                         \n",
              "False           0.604045  12.494413  6.855020  713.326911  38.223723   \n",
              "True            0.666718  13.195838  7.006769  697.828441  33.756808   \n",
              "\n",
              "               days.with.cr.line                  revol.bal                \\\n",
              "                            mean          std          mean           std   \n",
              "not.fully.paid                                                              \n",
              "False                4592.632624  2508.035500  16122.724425  29637.645740   \n",
              "True                 4393.541259  2431.785491  21066.293542  49905.689359   \n",
              "\n",
              "               revol.util             \n",
              "                     mean        std  \n",
              "not.fully.paid                        \n",
              "False           45.759608  28.891285  \n",
              "True            52.255075  29.057906  "
            ],
            "text/html": [
              "\n",
              "  <div id=\"df-655af358-4b27-47f1-9571-ee587f8e1fa0\">\n",
              "    <div class=\"colab-df-container\">\n",
              "      <div>\n",
              "<style scoped>\n",
              "    .dataframe tbody tr th:only-of-type {\n",
              "        vertical-align: middle;\n",
              "    }\n",
              "\n",
              "    .dataframe tbody tr th {\n",
              "        vertical-align: top;\n",
              "    }\n",
              "\n",
              "    .dataframe thead tr th {\n",
              "        text-align: left;\n",
              "    }\n",
              "\n",
              "    .dataframe thead tr:last-of-type th {\n",
              "        text-align: right;\n",
              "    }\n",
              "</style>\n",
              "<table border=\"1\" class=\"dataframe\">\n",
              "  <thead>\n",
              "    <tr>\n",
              "      <th></th>\n",
              "      <th colspan=\"2\" halign=\"left\">int.rate</th>\n",
              "      <th colspan=\"2\" halign=\"left\">installment</th>\n",
              "      <th colspan=\"2\" halign=\"left\">log.annual.inc</th>\n",
              "      <th colspan=\"2\" halign=\"left\">dti</th>\n",
              "      <th colspan=\"2\" halign=\"left\">fico</th>\n",
              "      <th colspan=\"2\" halign=\"left\">days.with.cr.line</th>\n",
              "      <th colspan=\"2\" halign=\"left\">revol.bal</th>\n",
              "      <th colspan=\"2\" halign=\"left\">revol.util</th>\n",
              "    </tr>\n",
              "    <tr>\n",
              "      <th></th>\n",
              "      <th>mean</th>\n",
              "      <th>std</th>\n",
              "      <th>mean</th>\n",
              "      <th>std</th>\n",
              "      <th>mean</th>\n",
              "      <th>std</th>\n",
              "      <th>mean</th>\n",
              "      <th>std</th>\n",
              "      <th>mean</th>\n",
              "      <th>std</th>\n",
              "      <th>mean</th>\n",
              "      <th>std</th>\n",
              "      <th>mean</th>\n",
              "      <th>std</th>\n",
              "      <th>mean</th>\n",
              "      <th>std</th>\n",
              "    </tr>\n",
              "    <tr>\n",
              "      <th>not.fully.paid</th>\n",
              "      <th></th>\n",
              "      <th></th>\n",
              "      <th></th>\n",
              "      <th></th>\n",
              "      <th></th>\n",
              "      <th></th>\n",
              "      <th></th>\n",
              "      <th></th>\n",
              "      <th></th>\n",
              "      <th></th>\n",
              "      <th></th>\n",
              "      <th></th>\n",
              "      <th></th>\n",
              "      <th></th>\n",
              "      <th></th>\n",
              "      <th></th>\n",
              "    </tr>\n",
              "  </thead>\n",
              "  <tbody>\n",
              "    <tr>\n",
              "      <th>False</th>\n",
              "      <td>0.120770</td>\n",
              "      <td>0.026692</td>\n",
              "      <td>314.574123</td>\n",
              "      <td>203.398688</td>\n",
              "      <td>10.941091</td>\n",
              "      <td>0.604045</td>\n",
              "      <td>12.494413</td>\n",
              "      <td>6.855020</td>\n",
              "      <td>713.326911</td>\n",
              "      <td>38.223723</td>\n",
              "      <td>4592.632624</td>\n",
              "      <td>2508.035500</td>\n",
              "      <td>16122.724425</td>\n",
              "      <td>29637.645740</td>\n",
              "      <td>45.759608</td>\n",
              "      <td>28.891285</td>\n",
              "    </tr>\n",
              "    <tr>\n",
              "      <th>True</th>\n",
              "      <td>0.132452</td>\n",
              "      <td>0.025495</td>\n",
              "      <td>342.785114</td>\n",
              "      <td>223.948527</td>\n",
              "      <td>10.885023</td>\n",
              "      <td>0.666718</td>\n",
              "      <td>13.195838</td>\n",
              "      <td>7.006769</td>\n",
              "      <td>697.828441</td>\n",
              "      <td>33.756808</td>\n",
              "      <td>4393.541259</td>\n",
              "      <td>2431.785491</td>\n",
              "      <td>21066.293542</td>\n",
              "      <td>49905.689359</td>\n",
              "      <td>52.255075</td>\n",
              "      <td>29.057906</td>\n",
              "    </tr>\n",
              "  </tbody>\n",
              "</table>\n",
              "</div>\n",
              "      <button class=\"colab-df-convert\" onclick=\"convertToInteractive('df-655af358-4b27-47f1-9571-ee587f8e1fa0')\"\n",
              "              title=\"Convert this dataframe to an interactive table.\"\n",
              "              style=\"display:none;\">\n",
              "        \n",
              "  <svg xmlns=\"http://www.w3.org/2000/svg\" height=\"24px\"viewBox=\"0 0 24 24\"\n",
              "       width=\"24px\">\n",
              "    <path d=\"M0 0h24v24H0V0z\" fill=\"none\"/>\n",
              "    <path d=\"M18.56 5.44l.94 2.06.94-2.06 2.06-.94-2.06-.94-.94-2.06-.94 2.06-2.06.94zm-11 1L8.5 8.5l.94-2.06 2.06-.94-2.06-.94L8.5 2.5l-.94 2.06-2.06.94zm10 10l.94 2.06.94-2.06 2.06-.94-2.06-.94-.94-2.06-.94 2.06-2.06.94z\"/><path d=\"M17.41 7.96l-1.37-1.37c-.4-.4-.92-.59-1.43-.59-.52 0-1.04.2-1.43.59L10.3 9.45l-7.72 7.72c-.78.78-.78 2.05 0 2.83L4 21.41c.39.39.9.59 1.41.59.51 0 1.02-.2 1.41-.59l7.78-7.78 2.81-2.81c.8-.78.8-2.07 0-2.86zM5.41 20L4 18.59l7.72-7.72 1.47 1.35L5.41 20z\"/>\n",
              "  </svg>\n",
              "      </button>\n",
              "      \n",
              "  <style>\n",
              "    .colab-df-container {\n",
              "      display:flex;\n",
              "      flex-wrap:wrap;\n",
              "      gap: 12px;\n",
              "    }\n",
              "\n",
              "    .colab-df-convert {\n",
              "      background-color: #E8F0FE;\n",
              "      border: none;\n",
              "      border-radius: 50%;\n",
              "      cursor: pointer;\n",
              "      display: none;\n",
              "      fill: #1967D2;\n",
              "      height: 32px;\n",
              "      padding: 0 0 0 0;\n",
              "      width: 32px;\n",
              "    }\n",
              "\n",
              "    .colab-df-convert:hover {\n",
              "      background-color: #E2EBFA;\n",
              "      box-shadow: 0px 1px 2px rgba(60, 64, 67, 0.3), 0px 1px 3px 1px rgba(60, 64, 67, 0.15);\n",
              "      fill: #174EA6;\n",
              "    }\n",
              "\n",
              "    [theme=dark] .colab-df-convert {\n",
              "      background-color: #3B4455;\n",
              "      fill: #D2E3FC;\n",
              "    }\n",
              "\n",
              "    [theme=dark] .colab-df-convert:hover {\n",
              "      background-color: #434B5C;\n",
              "      box-shadow: 0px 1px 3px 1px rgba(0, 0, 0, 0.15);\n",
              "      filter: drop-shadow(0px 1px 2px rgba(0, 0, 0, 0.3));\n",
              "      fill: #FFFFFF;\n",
              "    }\n",
              "  </style>\n",
              "\n",
              "      <script>\n",
              "        const buttonEl =\n",
              "          document.querySelector('#df-655af358-4b27-47f1-9571-ee587f8e1fa0 button.colab-df-convert');\n",
              "        buttonEl.style.display =\n",
              "          google.colab.kernel.accessAllowed ? 'block' : 'none';\n",
              "\n",
              "        async function convertToInteractive(key) {\n",
              "          const element = document.querySelector('#df-655af358-4b27-47f1-9571-ee587f8e1fa0');\n",
              "          const dataTable =\n",
              "            await google.colab.kernel.invokeFunction('convertToInteractive',\n",
              "                                                     [key], {});\n",
              "          if (!dataTable) return;\n",
              "\n",
              "          const docLinkHtml = 'Like what you see? Visit the ' +\n",
              "            '<a target=\"_blank\" href=https://colab.research.google.com/notebooks/data_table.ipynb>data table notebook</a>'\n",
              "            + ' to learn more about interactive tables.';\n",
              "          element.innerHTML = '';\n",
              "          dataTable['output_type'] = 'display_data';\n",
              "          await google.colab.output.renderOutput(dataTable, element);\n",
              "          const docLink = document.createElement('div');\n",
              "          docLink.innerHTML = docLinkHtml;\n",
              "          element.appendChild(docLink);\n",
              "        }\n",
              "      </script>\n",
              "    </div>\n",
              "  </div>\n",
              "  "
            ]
          },
          "metadata": {},
          "execution_count": 114
        }
      ]
    },
    {
      "cell_type": "markdown",
      "source": [
        "As expected, they do not differ a lot. The only concluson we can get here is that our target variable is almost equally distributed in each feature. Therefore, there's no relevant pattern for our model."
      ],
      "metadata": {
        "id": "u1hQt7N9e6gC"
      },
      "id": "u1hQt7N9e6gC"
    },
    {
      "cell_type": "code",
      "source": [
        "plt.figure(figsize=(12,5))\n",
        "\n",
        "sns.distplot(df['installment'])\n",
        "plt.title(\"Installment Distribution\", fontsize=20)\n",
        "plt.xlabel(\"Installment Range\", fontsize=17)\n",
        "plt.ylabel(\"Density\", fontsize=17)\n",
        "\n",
        "plt.show()"
      ],
      "metadata": {
        "colab": {
          "base_uri": "https://localhost:8080/",
          "height": 418
        },
        "id": "k_mFKZ7kUHkf",
        "outputId": "ac8a0b65-097a-419f-ca97-184003c56cc3"
      },
      "id": "k_mFKZ7kUHkf",
      "execution_count": null,
      "outputs": [
        {
          "output_type": "stream",
          "name": "stderr",
          "text": [
            "/usr/local/lib/python3.7/dist-packages/seaborn/distributions.py:2619: FutureWarning: `distplot` is a deprecated function and will be removed in a future version. Please adapt your code to use either `displot` (a figure-level function with similar flexibility) or `histplot` (an axes-level function for histograms).\n",
            "  warnings.warn(msg, FutureWarning)\n"
          ]
        },
        {
          "output_type": "display_data",
          "data": {
            "text/plain": [
              "<Figure size 864x360 with 1 Axes>"
            ],
            "image/png": "[encoded data removed]"
          },
          "metadata": {
            "needs_background": "light"
          }
        }
      ]
    },
    {
      "cell_type": "markdown",
      "source": [
        "The monthly payment owed by the borrower if the loan originates.\n",
        "Nice. We can see that the peak of our distribution is ~200 USD monthly.\n",
        "\n",
        "With this information, we can investigate the difference between , to find some interesting patterns of values"
      ],
      "metadata": {
        "id": "3ORbnZqdUPvK"
      },
      "id": "3ORbnZqdUPvK"
    },
    {
      "cell_type": "code",
      "source": [
        "plt.figure(figsize = (14,12))\n",
        "\n",
        "plt.subplot(211)\n",
        "g = sns.violinplot(x='not.fully.paid', y=\"installment\",\n",
        "                   data=df, color='lightblue')\n",
        "g.set_xticklabels(g.get_xticklabels(),rotation=45)\n",
        "g.set_xlabel(\"Loan Status\", fontsize=17)\n",
        "g.set_ylabel(\"Installment\", fontsize=17)\n",
        "g.set_title(\"Installment Distribution by Loan Status\", fontsize=20)\n",
        "\n",
        "plt.subplots_adjust(hspace = 0.5,top = 0.9)\n",
        "\n",
        "plt.show()"
      ],
      "metadata": {
        "colab": {
          "base_uri": "https://localhost:8080/",
          "height": 374
        },
        "id": "M9spupW9UhYo",
        "outputId": "af830d23-2395-4575-9942-0ef05b1196e8"
      },
      "id": "M9spupW9UhYo",
      "execution_count": null,
      "outputs": [
        {
          "output_type": "display_data",
          "data": {
            "text/plain": [
              "<Figure size 1008x864 with 1 Axes>"
            ],
            "image/png": "[encoded data removed]"
          },
          "metadata": {
            "needs_background": "light"
          }
        }
      ]
    },
    {
      "cell_type": "code",
      "execution_count": null,
      "id": "ecb7c591",
      "metadata": {
        "execution": {
          "iopub.execute_input": "2021-09-29T02:17:43.441560Z",
          "iopub.status.busy": "2021-09-29T02:17:43.440935Z",
          "iopub.status.idle": "2021-09-29T02:17:43.856938Z",
          "shell.execute_reply": "2021-09-29T02:17:43.857390Z",
          "shell.execute_reply.started": "2021-08-20T01:53:19.770795Z"
        },
        "papermill": {
          "duration": 0.452632,
          "end_time": "2021-09-29T02:17:43.857568",
          "exception": false,
          "start_time": "2021-09-29T02:17:43.404936",
          "status": "completed"
        },
        "tags": [],
        "colab": {
          "base_uri": "https://localhost:8080/",
          "height": 358
        },
        "id": "ecb7c591",
        "outputId": "495e0b3d-6609-4aa7-c715-aaf5719fb6ee"
      },
      "outputs": [
        {
          "output_type": "execute_result",
          "data": {
            "text/plain": [
              "<matplotlib.axes._subplots.AxesSubplot at 0x7f61cfe565d0>"
            ]
          },
          "metadata": {},
          "execution_count": 117
        },
        {
          "output_type": "display_data",
          "data": {
            "text/plain": [
              "<Figure size 432x288 with 2 Axes>"
            ],
            "image/png": "[encoded data removed]"
          },
          "metadata": {
            "needs_background": "light"
          }
        }
      ],
      "source": [
        "sns.heatmap(df.corr())\n",
        "#fico and int.rate have high correlation"
      ]
    },
    {
      "cell_type": "code",
      "execution_count": null,
      "id": "18114226",
      "metadata": {
        "execution": {
          "iopub.execute_input": "2021-09-29T02:17:40.843415Z",
          "iopub.status.busy": "2021-09-29T02:17:40.842717Z",
          "iopub.status.idle": "2021-09-29T02:17:41.548358Z",
          "shell.execute_reply": "2021-09-29T02:17:41.548851Z",
          "shell.execute_reply.started": "2021-08-20T01:47:05.126567Z"
        },
        "papermill": {
          "duration": 0.73603,
          "end_time": "2021-09-29T02:17:41.549030",
          "exception": false,
          "start_time": "2021-09-29T02:17:40.813000",
          "status": "completed"
        },
        "tags": [],
        "colab": {
          "base_uri": "https://localhost:8080/",
          "height": 513
        },
        "id": "18114226",
        "outputId": "b8b2e8ec-78c7-4519-d6c9-2ee678097b6b"
      },
      "outputs": [
        {
          "output_type": "stream",
          "name": "stderr",
          "text": [
            "/usr/local/lib/python3.7/dist-packages/seaborn/_decorators.py:43: FutureWarning: Pass the following variables as keyword args: x, y. From version 0.12, the only valid positional argument will be `data`, and passing other arguments without an explicit keyword will result in an error or misinterpretation.\n",
            "  FutureWarning\n"
          ]
        },
        {
          "output_type": "execute_result",
          "data": {
            "text/plain": [
              "<seaborn.axisgrid.JointGrid at 0x7f61d0dc6790>"
            ]
          },
          "metadata": {},
          "execution_count": 118
        },
        {
          "output_type": "display_data",
          "data": {
            "text/plain": [
              "<Figure size 432x432 with 3 Axes>"
            ],
            "image/png": "[encoded data removed]"
          },
          "metadata": {
            "needs_background": "light"
          }
        }
      ],
      "source": [
        "sns.jointplot('fico','int.rate',data=df)\n",
        "#Negative correlation"
      ]
    },
    {
      "cell_type": "markdown",
      "source": [
        "#Resample and feartures important"
      ],
      "metadata": {
        "id": "YH6QWS18vac8"
      },
      "id": "YH6QWS18vac8"
    },
    {
      "cell_type": "markdown",
      "source": [
        "Our data is highly imbalanced, let's apply a resampling algorithm before normalizing the dataset. For this case, I'm going to apply a random oversampling algorithm, this will create synthethic data in the minority class."
      ],
      "metadata": {
        "id": "Bfq4MVtqcYgX"
      },
      "id": "Bfq4MVtqcYgX"
    },
    {
      "cell_type": "code",
      "source": [
        "numbers = df.select_dtypes(['int64', 'float64', 'bool']).columns\n",
        "\n",
        "X = df[numbers].iloc[:,:-1].values\n",
        "y = df.iloc[:,-1].values.reshape(-1,1)\n",
        "\n",
        "X_train, X_test, y_train, y_test = train_test_split(X, y,test_size=0.3, random_state=42)"
      ],
      "metadata": {
        "id": "oMZ0Pou_fo56"
      },
      "id": "oMZ0Pou_fo56",
      "execution_count": null,
      "outputs": []
    },
    {
      "cell_type": "code",
      "source": [
        "from sklearn.feature_selection import RFE"
      ],
      "metadata": {
        "id": "uhDLsvc-gj7c"
      },
      "id": "uhDLsvc-gj7c",
      "execution_count": null,
      "outputs": []
    },
    {
      "cell_type": "code",
      "source": [
        "#We choose 5 features after test score (not show because all score are quite same)\n",
        "select = RFE(RandomForestClassifier(n_estimators=100, random_state=42), n_features_to_select=5)\n",
        "\n",
        "select.fit(X_train, y_train)\n",
        "\n",
        "mask = select.get_support()\n",
        "\n",
        "X_train_rfe = select.transform(X_train)\n",
        "X_test_rfe = select.transform(X_test)\n",
        "\n",
        "score = RandomForestClassifier().fit(X_train_rfe, y_train).score(X_test_rfe, y_test)\n",
        "\n",
        "print(\"Test score: {:.3f}\".format(score), \" number of features: {}\".format(5))\n",
        "\n",
        "features = pd.DataFrame({'features':list(df[numbers].iloc[:,:-1].columns), 'select':list(mask)})\n",
        "display(features.T)\n",
        "features = list(features[features['select']==True]['features'])\n",
        "print(\"The selected features are: \" \"\\n\")\n",
        "display(features)"
      ],
      "metadata": {
        "colab": {
          "base_uri": "https://localhost:8080/",
          "height": 514
        },
        "id": "SgNDz8Yof-m2",
        "outputId": "088de6da-d930-4be1-84a2-87d4d29aec99"
      },
      "id": "SgNDz8Yof-m2",
      "execution_count": null,
      "outputs": [
        {
          "output_type": "stream",
          "name": "stderr",
          "text": [
            "/usr/local/lib/python3.7/dist-packages/sklearn/feature_selection/_rfe.py:283: DataConversionWarning: A column-vector y was passed when a 1d array was expected. Please change the shape of y to (n_samples,), for example using ravel().\n",
            "  estimator.fit(X[:, features], y, **fit_params)\n",
            "/usr/local/lib/python3.7/dist-packages/sklearn/feature_selection/_rfe.py:283: DataConversionWarning: A column-vector y was passed when a 1d array was expected. Please change the shape of y to (n_samples,), for example using ravel().\n",
            "  estimator.fit(X[:, features], y, **fit_params)\n",
            "/usr/local/lib/python3.7/dist-packages/sklearn/feature_selection/_rfe.py:283: DataConversionWarning: A column-vector y was passed when a 1d array was expected. Please change the shape of y to (n_samples,), for example using ravel().\n",
            "  estimator.fit(X[:, features], y, **fit_params)\n",
            "/usr/local/lib/python3.7/dist-packages/sklearn/feature_selection/_rfe.py:283: DataConversionWarning: A column-vector y was passed when a 1d array was expected. Please change the shape of y to (n_samples,), for example using ravel().\n",
            "  estimator.fit(X[:, features], y, **fit_params)\n",
            "/usr/local/lib/python3.7/dist-packages/sklearn/feature_selection/_rfe.py:283: DataConversionWarning: A column-vector y was passed when a 1d array was expected. Please change the shape of y to (n_samples,), for example using ravel().\n",
            "  estimator.fit(X[:, features], y, **fit_params)\n",
            "/usr/local/lib/python3.7/dist-packages/sklearn/feature_selection/_rfe.py:283: DataConversionWarning: A column-vector y was passed when a 1d array was expected. Please change the shape of y to (n_samples,), for example using ravel().\n",
            "  estimator.fit(X[:, features], y, **fit_params)\n",
            "/usr/local/lib/python3.7/dist-packages/sklearn/feature_selection/_rfe.py:283: DataConversionWarning: A column-vector y was passed when a 1d array was expected. Please change the shape of y to (n_samples,), for example using ravel().\n",
            "  estimator.fit(X[:, features], y, **fit_params)\n",
            "/usr/local/lib/python3.7/dist-packages/sklearn/feature_selection/_rfe.py:310: DataConversionWarning: A column-vector y was passed when a 1d array was expected. Please change the shape of y to (n_samples,), for example using ravel().\n",
            "  self.estimator_.fit(X[:, features], y, **fit_params)\n",
            "/usr/local/lib/python3.7/dist-packages/ipykernel_launcher.py:11: DataConversionWarning: A column-vector y was passed when a 1d array was expected. Please change the shape of y to (n_samples,), for example using ravel().\n",
            "  # This is added back by InteractiveShellApp.init_path()\n"
          ]
        },
        {
          "output_type": "stream",
          "name": "stdout",
          "text": [
            "Test score: 0.835  number of features: 5\n"
          ]
        },
        {
          "output_type": "display_data",
          "data": {
            "text/plain": [
              "                     0         1            2               3     4      5   \\\n",
              "features  credit.policy  int.rate  installment  log.annual.inc   dti   fico   \n",
              "select            False     False         True           False  True  False   \n",
              "\n",
              "                         6          7           8               9   \\\n",
              "features  days.with.cr.line  revol.bal  revol.util  inq.last.6mths   \n",
              "select                 True       True        True           False   \n",
              "\n",
              "                   10       11  \n",
              "features  delinq.2yrs  pub.rec  \n",
              "select          False    False  "
            ],
            "text/html": [
              "\n",
              "  <div id=\"df-cb68fadc-fec3-41cc-81b0-1de995023108\">\n",
              "    <div class=\"colab-df-container\">\n",
              "      <div>\n",
              "<style scoped>\n",
              "    .dataframe tbody tr th:only-of-type {\n",
              "        vertical-align: middle;\n",
              "    }\n",
              "\n",
              "    .dataframe tbody tr th {\n",
              "        vertical-align: top;\n",
              "    }\n",
              "\n",
              "    .dataframe thead th {\n",
              "        text-align: right;\n",
              "    }\n",
              "</style>\n",
              "<table border=\"1\" class=\"dataframe\">\n",
              "  <thead>\n",
              "    <tr style=\"text-align: right;\">\n",
              "      <th></th>\n",
              "      <th>0</th>\n",
              "      <th>1</th>\n",
              "      <th>2</th>\n",
              "      <th>3</th>\n",
              "      <th>4</th>\n",
              "      <th>5</th>\n",
              "      <th>6</th>\n",
              "      <th>7</th>\n",
              "      <th>8</th>\n",
              "      <th>9</th>\n",
              "      <th>10</th>\n",
              "      <th>11</th>\n",
              "    </tr>\n",
              "  </thead>\n",
              "  <tbody>\n",
              "    <tr>\n",
              "      <th>features</th>\n",
              "      <td>credit.policy</td>\n",
              "      <td>int.rate</td>\n",
              "      <td>installment</td>\n",
              "      <td>log.annual.inc</td>\n",
              "      <td>dti</td>\n",
              "      <td>fico</td>\n",
              "      <td>days.with.cr.line</td>\n",
              "      <td>revol.bal</td>\n",
              "      <td>revol.util</td>\n",
              "      <td>inq.last.6mths</td>\n",
              "      <td>delinq.2yrs</td>\n",
              "      <td>pub.rec</td>\n",
              "    </tr>\n",
              "    <tr>\n",
              "      <th>select</th>\n",
              "      <td>False</td>\n",
              "      <td>False</td>\n",
              "      <td>True</td>\n",
              "      <td>False</td>\n",
              "      <td>True</td>\n",
              "      <td>False</td>\n",
              "      <td>True</td>\n",
              "      <td>True</td>\n",
              "      <td>True</td>\n",
              "      <td>False</td>\n",
              "      <td>False</td>\n",
              "      <td>False</td>\n",
              "    </tr>\n",
              "  </tbody>\n",
              "</table>\n",
              "</div>\n",
              "      <button class=\"colab-df-convert\" onclick=\"convertToInteractive('df-cb68fadc-fec3-41cc-81b0-1de995023108')\"\n",
              "              title=\"Convert this dataframe to an interactive table.\"\n",
              "              style=\"display:none;\">\n",
              "        \n",
              "  <svg xmlns=\"http://www.w3.org/2000/svg\" height=\"24px\"viewBox=\"0 0 24 24\"\n",
              "       width=\"24px\">\n",
              "    <path d=\"M0 0h24v24H0V0z\" fill=\"none\"/>\n",
              "    <path d=\"M18.56 5.44l.94 2.06.94-2.06 2.06-.94-2.06-.94-.94-2.06-.94 2.06-2.06.94zm-11 1L8.5 8.5l.94-2.06 2.06-.94-2.06-.94L8.5 2.5l-.94 2.06-2.06.94zm10 10l.94 2.06.94-2.06 2.06-.94-2.06-.94-.94-2.06-.94 2.06-2.06.94z\"/><path d=\"M17.41 7.96l-1.37-1.37c-.4-.4-.92-.59-1.43-.59-.52 0-1.04.2-1.43.59L10.3 9.45l-7.72 7.72c-.78.78-.78 2.05 0 2.83L4 21.41c.39.39.9.59 1.41.59.51 0 1.02-.2 1.41-.59l7.78-7.78 2.81-2.81c.8-.78.8-2.07 0-2.86zM5.41 20L4 18.59l7.72-7.72 1.47 1.35L5.41 20z\"/>\n",
              "  </svg>\n",
              "      </button>\n",
              "      \n",
              "  <style>\n",
              "    .colab-df-container {\n",
              "      display:flex;\n",
              "      flex-wrap:wrap;\n",
              "      gap: 12px;\n",
              "    }\n",
              "\n",
              "    .colab-df-convert {\n",
              "      background-color: #E8F0FE;\n",
              "      border: none;\n",
              "      border-radius: 50%;\n",
              "      cursor: pointer;\n",
              "      display: none;\n",
              "      fill: #1967D2;\n",
              "      height: 32px;\n",
              "      padding: 0 0 0 0;\n",
              "      width: 32px;\n",
              "    }\n",
              "\n",
              "    .colab-df-convert:hover {\n",
              "      background-color: #E2EBFA;\n",
              "      box-shadow: 0px 1px 2px rgba(60, 64, 67, 0.3), 0px 1px 3px 1px rgba(60, 64, 67, 0.15);\n",
              "      fill: #174EA6;\n",
              "    }\n",
              "\n",
              "    [theme=dark] .colab-df-convert {\n",
              "      background-color: #3B4455;\n",
              "      fill: #D2E3FC;\n",
              "    }\n",
              "\n",
              "    [theme=dark] .colab-df-convert:hover {\n",
              "      background-color: #434B5C;\n",
              "      box-shadow: 0px 1px 3px 1px rgba(0, 0, 0, 0.15);\n",
              "      filter: drop-shadow(0px 1px 2px rgba(0, 0, 0, 0.3));\n",
              "      fill: #FFFFFF;\n",
              "    }\n",
              "  </style>\n",
              "\n",
              "      <script>\n",
              "        const buttonEl =\n",
              "          document.querySelector('#df-cb68fadc-fec3-41cc-81b0-1de995023108 button.colab-df-convert');\n",
              "        buttonEl.style.display =\n",
              "          google.colab.kernel.accessAllowed ? 'block' : 'none';\n",
              "\n",
              "        async function convertToInteractive(key) {\n",
              "          const element = document.querySelector('#df-cb68fadc-fec3-41cc-81b0-1de995023108');\n",
              "          const dataTable =\n",
              "            await google.colab.kernel.invokeFunction('convertToInteractive',\n",
              "                                                     [key], {});\n",
              "          if (!dataTable) return;\n",
              "\n",
              "          const docLinkHtml = 'Like what you see? Visit the ' +\n",
              "            '<a target=\"_blank\" href=https://colab.research.google.com/notebooks/data_table.ipynb>data table notebook</a>'\n",
              "            + ' to learn more about interactive tables.';\n",
              "          element.innerHTML = '';\n",
              "          dataTable['output_type'] = 'display_data';\n",
              "          await google.colab.output.renderOutput(dataTable, element);\n",
              "          const docLink = document.createElement('div');\n",
              "          docLink.innerHTML = docLinkHtml;\n",
              "          element.appendChild(docLink);\n",
              "        }\n",
              "      </script>\n",
              "    </div>\n",
              "  </div>\n",
              "  "
            ]
          },
          "metadata": {}
        },
        {
          "output_type": "stream",
          "name": "stdout",
          "text": [
            "The selected features are: \n",
            "\n"
          ]
        },
        {
          "output_type": "display_data",
          "data": {
            "text/plain": [
              "['installment', 'dti', 'days.with.cr.line', 'revol.bal', 'revol.util']"
            ]
          },
          "metadata": {}
        }
      ]
    },
    {
      "cell_type": "code",
      "source": [
        "features.append('not.fully.paid')\n",
        "\n",
        "print(\"Working dataset\", \"\\n\")\n",
        "df[features]"
      ],
      "metadata": {
        "colab": {
          "base_uri": "https://localhost:8080/",
          "height": 458
        },
        "id": "6XAPufjSkYFT",
        "outputId": "df73a343-6179-4228-cbe5-ab928af9ef5e"
      },
      "id": "6XAPufjSkYFT",
      "execution_count": null,
      "outputs": [
        {
          "output_type": "stream",
          "name": "stdout",
          "text": [
            "Working dataset \n",
            "\n"
          ]
        },
        {
          "output_type": "execute_result",
          "data": {
            "text/plain": [
              "      installment    dti  days.with.cr.line  revol.bal  revol.util  \\\n",
              "0          829.10  19.48        5639.958333      28854        52.1   \n",
              "1          228.22  14.29        2760.000000      33623        76.7   \n",
              "2          366.86  11.63        4710.000000       3511        25.6   \n",
              "3          162.34   8.10        2699.958333      33667        73.2   \n",
              "4          102.92  14.97        4066.000000       4740        39.5   \n",
              "...           ...    ...                ...        ...         ...   \n",
              "9573       344.76  10.39       10474.000000     215372        82.1   \n",
              "9574       257.70   0.21        4380.000000        184         1.1   \n",
              "9575        97.81  13.09        3450.041667      10036        82.9   \n",
              "9576       351.58  19.18        1800.000000          0         3.2   \n",
              "9577       853.43  16.28        4740.000000      37879        57.0   \n",
              "\n",
              "      not.fully.paid  \n",
              "0              False  \n",
              "1              False  \n",
              "2              False  \n",
              "3              False  \n",
              "4              False  \n",
              "...              ...  \n",
              "9573            True  \n",
              "9574            True  \n",
              "9575            True  \n",
              "9576            True  \n",
              "9577            True  \n",
              "\n",
              "[9578 rows x 6 columns]"
            ],
            "text/html": [
              "\n",
              "  <div id=\"df-99514180-1886-4525-84f0-a12a0a445b79\">\n",
              "    <div class=\"colab-df-container\">\n",
              "      <div>\n",
              "<style scoped>\n",
              "    .dataframe tbody tr th:only-of-type {\n",
              "        vertical-align: middle;\n",
              "    }\n",
              "\n",
              "    .dataframe tbody tr th {\n",
              "        vertical-align: top;\n",
              "    }\n",
              "\n",
              "    .dataframe thead th {\n",
              "        text-align: right;\n",
              "    }\n",
              "</style>\n",
              "<table border=\"1\" class=\"dataframe\">\n",
              "  <thead>\n",
              "    <tr style=\"text-align: right;\">\n",
              "      <th></th>\n",
              "      <th>installment</th>\n",
              "      <th>dti</th>\n",
              "      <th>days.with.cr.line</th>\n",
              "      <th>revol.bal</th>\n",
              "      <th>revol.util</th>\n",
              "      <th>not.fully.paid</th>\n",
              "    </tr>\n",
              "  </thead>\n",
              "  <tbody>\n",
              "    <tr>\n",
              "      <th>0</th>\n",
              "      <td>829.10</td>\n",
              "      <td>19.48</td>\n",
              "      <td>5639.958333</td>\n",
              "      <td>28854</td>\n",
              "      <td>52.1</td>\n",
              "      <td>False</td>\n",
              "    </tr>\n",
              "    <tr>\n",
              "      <th>1</th>\n",
              "      <td>228.22</td>\n",
              "      <td>14.29</td>\n",
              "      <td>2760.000000</td>\n",
              "      <td>33623</td>\n",
              "      <td>76.7</td>\n",
              "      <td>False</td>\n",
              "    </tr>\n",
              "    <tr>\n",
              "      <th>2</th>\n",
              "      <td>366.86</td>\n",
              "      <td>11.63</td>\n",
              "      <td>4710.000000</td>\n",
              "      <td>3511</td>\n",
              "      <td>25.6</td>\n",
              "      <td>False</td>\n",
              "    </tr>\n",
              "    <tr>\n",
              "      <th>3</th>\n",
              "      <td>162.34</td>\n",
              "      <td>8.10</td>\n",
              "      <td>2699.958333</td>\n",
              "      <td>33667</td>\n",
              "      <td>73.2</td>\n",
              "      <td>False</td>\n",
              "    </tr>\n",
              "    <tr>\n",
              "      <th>4</th>\n",
              "      <td>102.92</td>\n",
              "      <td>14.97</td>\n",
              "      <td>4066.000000</td>\n",
              "      <td>4740</td>\n",
              "      <td>39.5</td>\n",
              "      <td>False</td>\n",
              "    </tr>\n",
              "    <tr>\n",
              "      <th>...</th>\n",
              "      <td>...</td>\n",
              "      <td>...</td>\n",
              "      <td>...</td>\n",
              "      <td>...</td>\n",
              "      <td>...</td>\n",
              "      <td>...</td>\n",
              "    </tr>\n",
              "    <tr>\n",
              "      <th>9573</th>\n",
              "      <td>344.76</td>\n",
              "      <td>10.39</td>\n",
              "      <td>10474.000000</td>\n",
              "      <td>215372</td>\n",
              "      <td>82.1</td>\n",
              "      <td>True</td>\n",
              "    </tr>\n",
              "    <tr>\n",
              "      <th>9574</th>\n",
              "      <td>257.70</td>\n",
              "      <td>0.21</td>\n",
              "      <td>4380.000000</td>\n",
              "      <td>184</td>\n",
              "      <td>1.1</td>\n",
              "      <td>True</td>\n",
              "    </tr>\n",
              "    <tr>\n",
              "      <th>9575</th>\n",
              "      <td>97.81</td>\n",
              "      <td>13.09</td>\n",
              "      <td>3450.041667</td>\n",
              "      <td>10036</td>\n",
              "      <td>82.9</td>\n",
              "      <td>True</td>\n",
              "    </tr>\n",
              "    <tr>\n",
              "      <th>9576</th>\n",
              "      <td>351.58</td>\n",
              "      <td>19.18</td>\n",
              "      <td>1800.000000</td>\n",
              "      <td>0</td>\n",
              "      <td>3.2</td>\n",
              "      <td>True</td>\n",
              "    </tr>\n",
              "    <tr>\n",
              "      <th>9577</th>\n",
              "      <td>853.43</td>\n",
              "      <td>16.28</td>\n",
              "      <td>4740.000000</td>\n",
              "      <td>37879</td>\n",
              "      <td>57.0</td>\n",
              "      <td>True</td>\n",
              "    </tr>\n",
              "  </tbody>\n",
              "</table>\n",
              "<p>9578 rows × 6 columns</p>\n",
              "</div>\n",
              "      <button class=\"colab-df-convert\" onclick=\"convertToInteractive('df-99514180-1886-4525-84f0-a12a0a445b79')\"\n",
              "              title=\"Convert this dataframe to an interactive table.\"\n",
              "              style=\"display:none;\">\n",
              "        \n",
              "  <svg xmlns=\"http://www.w3.org/2000/svg\" height=\"24px\"viewBox=\"0 0 24 24\"\n",
              "       width=\"24px\">\n",
              "    <path d=\"M0 0h24v24H0V0z\" fill=\"none\"/>\n",
              "    <path d=\"M18.56 5.44l.94 2.06.94-2.06 2.06-.94-2.06-.94-.94-2.06-.94 2.06-2.06.94zm-11 1L8.5 8.5l.94-2.06 2.06-.94-2.06-.94L8.5 2.5l-.94 2.06-2.06.94zm10 10l.94 2.06.94-2.06 2.06-.94-2.06-.94-.94-2.06-.94 2.06-2.06.94z\"/><path d=\"M17.41 7.96l-1.37-1.37c-.4-.4-.92-.59-1.43-.59-.52 0-1.04.2-1.43.59L10.3 9.45l-7.72 7.72c-.78.78-.78 2.05 0 2.83L4 21.41c.39.39.9.59 1.41.59.51 0 1.02-.2 1.41-.59l7.78-7.78 2.81-2.81c.8-.78.8-2.07 0-2.86zM5.41 20L4 18.59l7.72-7.72 1.47 1.35L5.41 20z\"/>\n",
              "  </svg>\n",
              "      </button>\n",
              "      \n",
              "  <style>\n",
              "    .colab-df-container {\n",
              "      display:flex;\n",
              "      flex-wrap:wrap;\n",
              "      gap: 12px;\n",
              "    }\n",
              "\n",
              "    .colab-df-convert {\n",
              "      background-color: #E8F0FE;\n",
              "      border: none;\n",
              "      border-radius: 50%;\n",
              "      cursor: pointer;\n",
              "      display: none;\n",
              "      fill: #1967D2;\n",
              "      height: 32px;\n",
              "      padding: 0 0 0 0;\n",
              "      width: 32px;\n",
              "    }\n",
              "\n",
              "    .colab-df-convert:hover {\n",
              "      background-color: #E2EBFA;\n",
              "      box-shadow: 0px 1px 2px rgba(60, 64, 67, 0.3), 0px 1px 3px 1px rgba(60, 64, 67, 0.15);\n",
              "      fill: #174EA6;\n",
              "    }\n",
              "\n",
              "    [theme=dark] .colab-df-convert {\n",
              "      background-color: #3B4455;\n",
              "      fill: #D2E3FC;\n",
              "    }\n",
              "\n",
              "    [theme=dark] .colab-df-convert:hover {\n",
              "      background-color: #434B5C;\n",
              "      box-shadow: 0px 1px 3px 1px rgba(0, 0, 0, 0.15);\n",
              "      filter: drop-shadow(0px 1px 2px rgba(0, 0, 0, 0.3));\n",
              "      fill: #FFFFFF;\n",
              "    }\n",
              "  </style>\n",
              "\n",
              "      <script>\n",
              "        const buttonEl =\n",
              "          document.querySelector('#df-99514180-1886-4525-84f0-a12a0a445b79 button.colab-df-convert');\n",
              "        buttonEl.style.display =\n",
              "          google.colab.kernel.accessAllowed ? 'block' : 'none';\n",
              "\n",
              "        async function convertToInteractive(key) {\n",
              "          const element = document.querySelector('#df-99514180-1886-4525-84f0-a12a0a445b79');\n",
              "          const dataTable =\n",
              "            await google.colab.kernel.invokeFunction('convertToInteractive',\n",
              "                                                     [key], {});\n",
              "          if (!dataTable) return;\n",
              "\n",
              "          const docLinkHtml = 'Like what you see? Visit the ' +\n",
              "            '<a target=\"_blank\" href=https://colab.research.google.com/notebooks/data_table.ipynb>data table notebook</a>'\n",
              "            + ' to learn more about interactive tables.';\n",
              "          element.innerHTML = '';\n",
              "          dataTable['output_type'] = 'display_data';\n",
              "          await google.colab.output.renderOutput(dataTable, element);\n",
              "          const docLink = document.createElement('div');\n",
              "          docLink.innerHTML = docLinkHtml;\n",
              "          element.appendChild(docLink);\n",
              "        }\n",
              "      </script>\n",
              "    </div>\n",
              "  </div>\n",
              "  "
            ]
          },
          "metadata": {},
          "execution_count": 122
        }
      ]
    },
    {
      "cell_type": "code",
      "source": [
        "#As we see at first our data is imbalance so we will resampling\n",
        "from imblearn.over_sampling import RandomOverSampler\n",
        "# over-sampling\n",
        "df_ros = df[features]\n",
        "X = df_ros.iloc[:,:-1]\n",
        "y = df_ros.iloc[:,-1]\n",
        "\n",
        "ros = RandomOverSampler(random_state=42)\n",
        "x_ros, y_ros = ros.fit_resample(X, y)\n",
        "\n",
        "df_ros = x_ros\n",
        "df_ros['not.fully.paid'] = y_ros\n",
        "\n",
        "\n",
        "#visualazing samples\n",
        "fig, ax = plt.subplots(1,2, figsize=(15,5))\n",
        "\n",
        "sns.countplot('not.fully.paid', data=df, ax=ax[0], palette=\"vlag\")\n",
        "ax[0].tick_params(labelrotation=90)\n",
        "ax[0].set_title(\"Data before over-sampling\")\n",
        "\n",
        "sns.countplot('not.fully.paid', data=df_ros, ax=ax[1], palette=\"vlag\")\n",
        "ax[1].tick_params(labelrotation=90)\n",
        "ax[1].set_title(\"Data after over-sampling\")\n",
        "\n",
        "plt.show()\n",
        "\n",
        "print(\"Data before over-sampling\")\n",
        "print(df['not.fully.paid'].value_counts(), \"\\n\")\n",
        "\n",
        "print(\"Data after over-sampling\")\n",
        "print(df_ros['not.fully.paid'].value_counts())"
      ],
      "metadata": {
        "colab": {
          "base_uri": "https://localhost:8080/",
          "height": 611
        },
        "id": "LTODRt8Ch9kv",
        "outputId": "4d86cc82-42a4-4fed-e53e-a6e5586b59c1"
      },
      "id": "LTODRt8Ch9kv",
      "execution_count": null,
      "outputs": [
        {
          "output_type": "stream",
          "name": "stderr",
          "text": [
            "/usr/local/lib/python3.7/dist-packages/seaborn/_decorators.py:43: FutureWarning: Pass the following variable as a keyword arg: x. From version 0.12, the only valid positional argument will be `data`, and passing other arguments without an explicit keyword will result in an error or misinterpretation.\n",
            "  FutureWarning\n",
            "/usr/local/lib/python3.7/dist-packages/seaborn/_decorators.py:43: FutureWarning: Pass the following variable as a keyword arg: x. From version 0.12, the only valid positional argument will be `data`, and passing other arguments without an explicit keyword will result in an error or misinterpretation.\n",
            "  FutureWarning\n"
          ]
        },
        {
          "output_type": "display_data",
          "data": {
            "text/plain": [
              "<Figure size 1080x360 with 2 Axes>"
            ],
            "image/png": "[encoded data removed]"
          },
          "metadata": {
            "needs_background": "light"
          }
        },
        {
          "output_type": "stream",
          "name": "stdout",
          "text": [
            "Data before over-sampling\n",
            "False    8045\n",
            "True     1533\n",
            "Name: not.fully.paid, dtype: int64 \n",
            "\n",
            "Data after over-sampling\n",
            "False    8045\n",
            "True     8045\n",
            "Name: not.fully.paid, dtype: int64\n"
          ]
        }
      ]
    },
    {
      "cell_type": "markdown",
      "source": [
        "Now our data is balance after that we will train and predict model "
      ],
      "metadata": {
        "id": "LrTngn4_2XQl"
      },
      "id": "LrTngn4_2XQl"
    },
    {
      "cell_type": "markdown",
      "source": [
        "#Train_Test_Split"
      ],
      "metadata": {
        "id": "HuUp_UjPvJsN"
      },
      "id": "HuUp_UjPvJsN"
    },
    {
      "cell_type": "code",
      "source": [
        "df_model = df_ros\n",
        "X = df_model.iloc[:,:-1].values\n",
        "y = df_model.iloc[:,-1].values\n",
        "#split data test 30% test \n",
        "X_train, X_test, y_train, y_test = train_test_split(X, y, test_size=0.3,random_state=42)"
      ],
      "metadata": {
        "id": "H5VoUF18ksFo"
      },
      "id": "H5VoUF18ksFo",
      "execution_count": null,
      "outputs": []
    },
    {
      "cell_type": "markdown",
      "id": "c6d103bc",
      "metadata": {
        "papermill": {
          "duration": 0.036419,
          "end_time": "2021-09-29T02:17:44.533548",
          "exception": false,
          "start_time": "2021-09-29T02:17:44.497129",
          "status": "completed"
        },
        "tags": [],
        "id": "c6d103bc"
      },
      "source": [
        "# Random Forest"
      ]
    },
    {
      "cell_type": "code",
      "execution_count": null,
      "id": "cf4de7e7",
      "metadata": {
        "execution": {
          "iopub.execute_input": "2021-09-29T02:17:44.613461Z",
          "iopub.status.busy": "2021-09-29T02:17:44.612757Z",
          "iopub.status.idle": "2021-09-29T02:17:46.121205Z",
          "shell.execute_reply": "2021-09-29T02:17:46.121723Z",
          "shell.execute_reply.started": "2021-09-29T02:16:24.191200Z"
        },
        "papermill": {
          "duration": 1.552047,
          "end_time": "2021-09-29T02:17:46.121924",
          "exception": false,
          "start_time": "2021-09-29T02:17:44.569877",
          "status": "completed"
        },
        "tags": [],
        "id": "cf4de7e7"
      },
      "outputs": [],
      "source": [
        "#Build RandomForest\n",
        "rf=RandomForestClassifier()\n",
        "rf.fit(X_train,y_train)\n",
        "preds2=rf.predict(X_test)"
      ]
    },
    {
      "cell_type": "code",
      "source": [
        "#Evaluate model accuracy\n",
        "accuracy = round(rf.score(X_test,y_test) * 100,2)\n",
        "print(\"Accuracy: {}\".format(accuracy))"
      ],
      "metadata": {
        "colab": {
          "base_uri": "https://localhost:8080/"
        },
        "id": "UDeC0v_O-foQ",
        "outputId": "af743f49-f5f2-4413-810e-ad1763f35666"
      },
      "id": "UDeC0v_O-foQ",
      "execution_count": null,
      "outputs": [
        {
          "output_type": "stream",
          "name": "stdout",
          "text": [
            "Accuracy: 96.31\n"
          ]
        }
      ]
    },
    {
      "cell_type": "code",
      "execution_count": null,
      "id": "8e745de6",
      "metadata": {
        "execution": {
          "iopub.execute_input": "2021-09-29T02:17:46.199868Z",
          "iopub.status.busy": "2021-09-29T02:17:46.199155Z",
          "iopub.status.idle": "2021-09-29T02:17:46.218032Z",
          "shell.execute_reply": "2021-09-29T02:17:46.218782Z",
          "shell.execute_reply.started": "2021-09-29T02:16:26.698638Z"
        },
        "papermill": {
          "duration": 0.059705,
          "end_time": "2021-09-29T02:17:46.219019",
          "exception": false,
          "start_time": "2021-09-29T02:17:46.159314",
          "status": "completed"
        },
        "tags": [],
        "colab": {
          "base_uri": "https://localhost:8080/"
        },
        "id": "8e745de6",
        "outputId": "d048415d-de4a-412d-b141-a290ec31e4b8"
      },
      "outputs": [
        {
          "output_type": "stream",
          "name": "stdout",
          "text": [
            "              precision    recall  f1-score   support\n",
            "\n",
            "       False       0.98      0.94      0.96      2444\n",
            "        True       0.94      0.98      0.96      2383\n",
            "\n",
            "    accuracy                           0.96      4827\n",
            "   macro avg       0.96      0.96      0.96      4827\n",
            "weighted avg       0.96      0.96      0.96      4827\n",
            "\n",
            "[[2307  137]\n",
            " [  41 2342]]\n"
          ]
        }
      ],
      "source": [
        "print(classification_report(y_test,preds2))\n",
        "print(confusion_matrix(y_test,preds2))"
      ]
    },
    {
      "cell_type": "code",
      "source": [
        "plot_confusion_matrix(rf, X_test, y_test,cmap=plt.cm.Blues)  \n",
        "plt.show()"
      ],
      "metadata": {
        "colab": {
          "base_uri": "https://localhost:8080/",
          "height": 334
        },
        "id": "1Vm7zC0DF0oD",
        "outputId": "f52a36d6-2eb4-4eb1-88a9-d664494301a5"
      },
      "id": "1Vm7zC0DF0oD",
      "execution_count": null,
      "outputs": [
        {
          "output_type": "stream",
          "name": "stderr",
          "text": [
            "/usr/local/lib/python3.7/dist-packages/sklearn/utils/deprecation.py:87: FutureWarning: Function plot_confusion_matrix is deprecated; Function `plot_confusion_matrix` is deprecated in 1.0 and will be removed in 1.2. Use one of the class methods: ConfusionMatrixDisplay.from_predictions or ConfusionMatrixDisplay.from_estimator.\n",
            "  warnings.warn(msg, category=FutureWarning)\n"
          ]
        },
        {
          "output_type": "display_data",
          "data": {
            "text/plain": [
              "<Figure size 432x288 with 2 Axes>"
            ],
            "image/png": "[encoded data removed]"
          },
          "metadata": {
            "needs_background": "light"
          }
        }
      ]
    },
    {
      "cell_type": "code",
      "source": [
        "plot_roc_curve(rf, X_test, y_test)"
      ],
      "metadata": {
        "colab": {
          "base_uri": "https://localhost:8080/",
          "height": 351
        },
        "id": "soIqJqkYnRgG",
        "outputId": "b379f721-1f66-4c95-df47-fb4d06d3e832"
      },
      "id": "soIqJqkYnRgG",
      "execution_count": null,
      "outputs": [
        {
          "output_type": "stream",
          "name": "stderr",
          "text": [
            "/usr/local/lib/python3.7/dist-packages/sklearn/utils/deprecation.py:87: FutureWarning: Function plot_roc_curve is deprecated; Function :func:`plot_roc_curve` is deprecated in 1.0 and will be removed in 1.2. Use one of the class methods: :meth:`sklearn.metric.RocCurveDisplay.from_predictions` or :meth:`sklearn.metric.RocCurveDisplay.from_estimator`.\n",
            "  warnings.warn(msg, category=FutureWarning)\n"
          ]
        },
        {
          "output_type": "execute_result",
          "data": {
            "text/plain": [
              "<sklearn.metrics._plot.roc_curve.RocCurveDisplay at 0x7f61cfe85390>"
            ]
          },
          "metadata": {},
          "execution_count": 129
        },
        {
          "output_type": "display_data",
          "data": {
            "text/plain": [
              "<Figure size 432x288 with 1 Axes>"
            ],
            "image/png": "[encoded data removed]"
          },
          "metadata": {
            "needs_background": "light"
          }
        }
      ]
    },
    {
      "cell_type": "markdown",
      "source": [
        "# Logistic Regression Model"
      ],
      "metadata": {
        "id": "nSZwiwCInKbQ"
      },
      "id": "nSZwiwCInKbQ"
    },
    {
      "cell_type": "code",
      "source": [
        "\n",
        "lr=LogisticRegression()\n",
        "lr.fit(X_train,y_train)\n",
        "preds4=lr.predict(X_test)\n",
        "score = round(accuracy_score(y_test,preds4),2)*100\n",
        "print(\"Accuracy: {}\".format(score))"
      ],
      "metadata": {
        "colab": {
          "base_uri": "https://localhost:8080/"
        },
        "id": "MGPybgb6-DGO",
        "outputId": "28face7d-1831-4cc0-b788-2b56983e12f7"
      },
      "id": "MGPybgb6-DGO",
      "execution_count": null,
      "outputs": [
        {
          "output_type": "stream",
          "name": "stdout",
          "text": [
            "Accuracy: 54.0\n"
          ]
        }
      ]
    },
    {
      "cell_type": "code",
      "source": [
        "print(classification_report(y_test,preds4))\n",
        "print(confusion_matrix(y_test,preds4))"
      ],
      "metadata": {
        "colab": {
          "base_uri": "https://localhost:8080/"
        },
        "id": "dWmIy7cGGYW8",
        "outputId": "53f33ea7-557e-4242-fd42-444738c4bff8"
      },
      "id": "dWmIy7cGGYW8",
      "execution_count": null,
      "outputs": [
        {
          "output_type": "stream",
          "name": "stdout",
          "text": [
            "              precision    recall  f1-score   support\n",
            "\n",
            "       False       0.56      0.46      0.50      2444\n",
            "        True       0.53      0.63      0.58      2383\n",
            "\n",
            "    accuracy                           0.54      4827\n",
            "   macro avg       0.55      0.55      0.54      4827\n",
            "weighted avg       0.55      0.54      0.54      4827\n",
            "\n",
            "[[1116 1328]\n",
            " [ 871 1512]]\n"
          ]
        }
      ]
    },
    {
      "cell_type": "code",
      "source": [
        "plot_confusion_matrix(lr, X_test, y_test,cmap=plt.cm.Blues)  \n",
        "plt.show()"
      ],
      "metadata": {
        "colab": {
          "base_uri": "https://localhost:8080/",
          "height": 334
        },
        "id": "QZhpACbwGhLc",
        "outputId": "d36e2c83-5b5a-4ef2-c50c-8b7d1eb278c8"
      },
      "id": "QZhpACbwGhLc",
      "execution_count": null,
      "outputs": [
        {
          "output_type": "stream",
          "name": "stderr",
          "text": [
            "/usr/local/lib/python3.7/dist-packages/sklearn/utils/deprecation.py:87: FutureWarning: Function plot_confusion_matrix is deprecated; Function `plot_confusion_matrix` is deprecated in 1.0 and will be removed in 1.2. Use one of the class methods: ConfusionMatrixDisplay.from_predictions or ConfusionMatrixDisplay.from_estimator.\n",
            "  warnings.warn(msg, category=FutureWarning)\n"
          ]
        },
        {
          "output_type": "display_data",
          "data": {
            "text/plain": [
              "<Figure size 432x288 with 2 Axes>"
            ],
            "image/png": "[encoded data removed]"
          },
          "metadata": {
            "needs_background": "light"
          }
        }
      ]
    },
    {
      "cell_type": "code",
      "source": [
        "plot_roc_curve(lr,X_test,y_test)"
      ],
      "metadata": {
        "id": "5b4J4zYJGkB2",
        "colab": {
          "base_uri": "https://localhost:8080/",
          "height": 351
        },
        "outputId": "612d4bd4-58be-44fa-96d9-95785d1004d1"
      },
      "id": "5b4J4zYJGkB2",
      "execution_count": null,
      "outputs": [
        {
          "output_type": "stream",
          "name": "stderr",
          "text": [
            "/usr/local/lib/python3.7/dist-packages/sklearn/utils/deprecation.py:87: FutureWarning: Function plot_roc_curve is deprecated; Function :func:`plot_roc_curve` is deprecated in 1.0 and will be removed in 1.2. Use one of the class methods: :meth:`sklearn.metric.RocCurveDisplay.from_predictions` or :meth:`sklearn.metric.RocCurveDisplay.from_estimator`.\n",
            "  warnings.warn(msg, category=FutureWarning)\n"
          ]
        },
        {
          "output_type": "execute_result",
          "data": {
            "text/plain": [
              "<sklearn.metrics._plot.roc_curve.RocCurveDisplay at 0x7f61d245a610>"
            ]
          },
          "metadata": {},
          "execution_count": 133
        },
        {
          "output_type": "display_data",
          "data": {
            "text/plain": [
              "<Figure size 432x288 with 1 Axes>"
            ],
            "image/png": "[encoded data removed]"
          },
          "metadata": {
            "needs_background": "light"
          }
        }
      ]
    },
    {
      "cell_type": "code",
      "source": [
        "ml_models = {\n",
        "    'Random Forest': rf, \n",
        "    'Logistic Regrssion':lr\n",
        "}\n",
        "\n",
        "for model in ml_models:\n",
        "    print(f\"{model.upper():{30}} roc_auc_score: {roc_auc_score(y_test, ml_models[model].predict(X_test)):.3f}\")"
      ],
      "metadata": {
        "colab": {
          "base_uri": "https://localhost:8080/"
        },
        "id": "XoQAk8ZJo6_x",
        "outputId": "11021344-7b4c-46f3-b12c-74f0946159ff"
      },
      "id": "XoQAk8ZJo6_x",
      "execution_count": null,
      "outputs": [
        {
          "output_type": "stream",
          "name": "stdout",
          "text": [
            "RANDOM FOREST                  roc_auc_score: 0.963\n",
            "LOGISTIC REGRSSION             roc_auc_score: 0.546\n"
          ]
        }
      ]
    },
    {
      "cell_type": "code",
      "source": [
        "print(rf.feature_importances_)"
      ],
      "metadata": {
        "colab": {
          "base_uri": "https://localhost:8080/"
        },
        "id": "Y4i8LV2q17QU",
        "outputId": "5fbf474d-a1b9-4543-b75e-35a34ccd7ab0"
      },
      "id": "Y4i8LV2q17QU",
      "execution_count": null,
      "outputs": [
        {
          "output_type": "stream",
          "name": "stdout",
          "text": [
            "[0.20158574 0.19379654 0.20904067 0.19768717 0.19788987]\n"
          ]
        }
      ]
    },
    {
      "cell_type": "markdown",
      "source": [
        "We have achieved an acceptable score and confussion matrix. The feature importances shows why is so difficult to find a pattern in the data, all of the features have similar importance, which means that the model is a combination of fine tunnings from all of the features. Is hard to create a client profile given these features. But the algorithm can be useful when the bank operator enters the data in the system, the algorithm will tell the agents how probable it is for the client to fully pay or not."
      ],
      "metadata": {
        "id": "OyapF6m412Ij"
      },
      "id": "OyapF6m412Ij"
    },
    {
      "cell_type": "markdown",
      "source": [
        "#Conclusion\n",
        "We applied machine learning methods to predict the probability that a requested loan on LendingClub will charge off. After training and evaluating three different models (logistic regression, random forest).We selected random forest because it have highest accuracy score, and this model obtained an AUROC score of 0.963 on a test set. \n",
        "We couldn't find any obervable pattern of data. The data the target variable is equally distributed in all the variables. It almost looks as if the dataset in synthetic.\n",
        "Nevertheless, The the algorithm was able to reach a decent and more real test score (working with the imbalanced data would have yield a better but not real result), and was able to classify both outcomes of the target variable in the confusion matrix.\n",
        "We couldn't meet the objective of creating a cliente profile, but the algorith could be use by agents to see how probable it is a client will pay or not, easing the decision process."
      ],
      "metadata": {
        "id": "B6f8clilxYYP"
      },
      "id": "B6f8clilxYYP"
    },
    {
      "cell_type": "code",
      "source": [
        ""
      ],
      "metadata": {
        "id": "1qdP58Y75B-A"
      },
      "id": "1qdP58Y75B-A",
      "execution_count": null,
      "outputs": []
    }
  ],
  "metadata": {
    "kernelspec": {
      "display_name": "Python 3",
      "language": "python",
      "name": "python3"
    },
    "language_info": {
      "codemirror_mode": {
        "name": "ipython",
        "version": 3
      },
      "file_extension": ".py",
      "mimetype": "text/x-python",
      "name": "python",
      "nbconvert_exporter": "python",
      "pygments_lexer": "ipython3",
      "version": "3.7.10"
    },
    "papermill": {
      "default_parameters": {},
      "duration": 121.640375,
      "end_time": "2021-09-29T02:19:30.814157",
      "environment_variables": {},
      "exception": null,
      "input_path": "__notebook__.ipynb",
      "output_path": "__notebook__.ipynb",
      "parameters": {},
      "start_time": "2021-09-29T02:17:29.173782",
      "version": "2.3.3"
    },
    "colab": {
      "name": "11191940_letrunghieu (4).ipynb",
      "provenance": [],
      "collapsed_sections": []
    }
  },
  "nbformat": 4,
  "nbformat_minor": 5
}