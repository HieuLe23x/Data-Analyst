{
  "nbformat": 4,
  "nbformat_minor": 0,
  "metadata": {
    "colab": {
      "name": "Stock Prediction",
      "provenance": []
    },
    "kernelspec": {
      "name": "python3",
      "display_name": "Python 3"
    }
  },
  "cells": [
    {
      "cell_type": "markdown",
      "metadata": {
        "id": "_qTK4Ajv3qRz"
      },
      "source": [
        "In this Colab, we will use a keras Long Short-Term Memory (LSTM) model to predict the stock price of Tata Global Beverages\n"
      ]
    },
    {
      "cell_type": "markdown",
      "metadata": {
        "id": "rs-XEsB86weU"
      },
      "source": [
        "Here are some imports we need to make: numpy for scientific computation, matplotlib for graphing, and pandas for manipulating data."
      ]
    },
    {
      "cell_type": "code",
      "metadata": {
        "id": "2SoQJk5BYOas"
      },
      "source": [
        "import numpy as np\n",
        "import matplotlib.pyplot as plt\n",
        "import pandas as pd "
      ],
      "execution_count": 1,
      "outputs": []
    },
    {
      "cell_type": "markdown",
      "metadata": {
        "id": "BD3hdApP7gNi"
      },
      "source": [
        "Load training data set with the \"Open\" and \"High\" columns to use in our modeling."
      ]
    },
    {
      "cell_type": "code",
      "metadata": {
        "id": "VU6ve06iDV5Q"
      },
      "source": [
        "url = 'https://raw.githubusercontent.com/mwitiderrick/stockprice/master/NSE-TATAGLOBAL.csv'\n",
        "dataset_train = pd.read_csv(url)\n",
        "training_set = dataset_train.iloc[:, 1:2].values"
      ],
      "execution_count": 2,
      "outputs": []
    },
    {
      "cell_type": "markdown",
      "metadata": {
        "id": "RsLbMJ1072EY"
      },
      "source": [
        "Let's take a look at the first five rows of our dataset"
      ]
    },
    {
      "cell_type": "code",
      "metadata": {
        "id": "AqiQMcfCLh6K",
        "outputId": "34738a8c-74d9-49fe-de2b-c74fd2072d7c",
        "colab": {
          "base_uri": "https://localhost:8080/",
          "height": 206
        }
      },
      "source": [
        "dataset_train.head()"
      ],
      "execution_count": 3,
      "outputs": [
        {
          "output_type": "execute_result",
          "data": {
            "text/plain": [
              "         Date    Open    High     Low    Last   Close  Total Trade Quantity  \\\n",
              "0  2018-09-28  234.05  235.95  230.20  233.50  233.75               3069914   \n",
              "1  2018-09-27  234.55  236.80  231.10  233.80  233.25               5082859   \n",
              "2  2018-09-26  240.00  240.00  232.50  235.00  234.25               2240909   \n",
              "3  2018-09-25  233.30  236.75  232.00  236.25  236.10               2349368   \n",
              "4  2018-09-24  233.55  239.20  230.75  234.00  233.30               3423509   \n",
              "\n",
              "   Turnover (Lacs)  \n",
              "0          7162.35  \n",
              "1         11859.95  \n",
              "2          5248.60  \n",
              "3          5503.90  \n",
              "4          7999.55  "
            ],
            "text/html": [
              "\n",
              "  <div id=\"df-9a80e9ac-445f-49f7-b654-2120c69186be\">\n",
              "    <div class=\"colab-df-container\">\n",
              "      <div>\n",
              "<style scoped>\n",
              "    .dataframe tbody tr th:only-of-type {\n",
              "        vertical-align: middle;\n",
              "    }\n",
              "\n",
              "    .dataframe tbody tr th {\n",
              "        vertical-align: top;\n",
              "    }\n",
              "\n",
              "    .dataframe thead th {\n",
              "        text-align: right;\n",
              "    }\n",
              "</style>\n",
              "<table border=\"1\" class=\"dataframe\">\n",
              "  <thead>\n",
              "    <tr style=\"text-align: right;\">\n",
              "      <th></th>\n",
              "      <th>Date</th>\n",
              "      <th>Open</th>\n",
              "      <th>High</th>\n",
              "      <th>Low</th>\n",
              "      <th>Last</th>\n",
              "      <th>Close</th>\n",
              "      <th>Total Trade Quantity</th>\n",
              "      <th>Turnover (Lacs)</th>\n",
              "    </tr>\n",
              "  </thead>\n",
              "  <tbody>\n",
              "    <tr>\n",
              "      <th>0</th>\n",
              "      <td>2018-09-28</td>\n",
              "      <td>234.05</td>\n",
              "      <td>235.95</td>\n",
              "      <td>230.20</td>\n",
              "      <td>233.50</td>\n",
              "      <td>233.75</td>\n",
              "      <td>3069914</td>\n",
              "      <td>7162.35</td>\n",
              "    </tr>\n",
              "    <tr>\n",
              "      <th>1</th>\n",
              "      <td>2018-09-27</td>\n",
              "      <td>234.55</td>\n",
              "      <td>236.80</td>\n",
              "      <td>231.10</td>\n",
              "      <td>233.80</td>\n",
              "      <td>233.25</td>\n",
              "      <td>5082859</td>\n",
              "      <td>11859.95</td>\n",
              "    </tr>\n",
              "    <tr>\n",
              "      <th>2</th>\n",
              "      <td>2018-09-26</td>\n",
              "      <td>240.00</td>\n",
              "      <td>240.00</td>\n",
              "      <td>232.50</td>\n",
              "      <td>235.00</td>\n",
              "      <td>234.25</td>\n",
              "      <td>2240909</td>\n",
              "      <td>5248.60</td>\n",
              "    </tr>\n",
              "    <tr>\n",
              "      <th>3</th>\n",
              "      <td>2018-09-25</td>\n",
              "      <td>233.30</td>\n",
              "      <td>236.75</td>\n",
              "      <td>232.00</td>\n",
              "      <td>236.25</td>\n",
              "      <td>236.10</td>\n",
              "      <td>2349368</td>\n",
              "      <td>5503.90</td>\n",
              "    </tr>\n",
              "    <tr>\n",
              "      <th>4</th>\n",
              "      <td>2018-09-24</td>\n",
              "      <td>233.55</td>\n",
              "      <td>239.20</td>\n",
              "      <td>230.75</td>\n",
              "      <td>234.00</td>\n",
              "      <td>233.30</td>\n",
              "      <td>3423509</td>\n",
              "      <td>7999.55</td>\n",
              "    </tr>\n",
              "  </tbody>\n",
              "</table>\n",
              "</div>\n",
              "      <button class=\"colab-df-convert\" onclick=\"convertToInteractive('df-9a80e9ac-445f-49f7-b654-2120c69186be')\"\n",
              "              title=\"Convert this dataframe to an interactive table.\"\n",
              "              style=\"display:none;\">\n",
              "        \n",
              "  <svg xmlns=\"http://www.w3.org/2000/svg\" height=\"24px\"viewBox=\"0 0 24 24\"\n",
              "       width=\"24px\">\n",
              "    <path d=\"M0 0h24v24H0V0z\" fill=\"none\"/>\n",
              "    <path d=\"M18.56 5.44l.94 2.06.94-2.06 2.06-.94-2.06-.94-.94-2.06-.94 2.06-2.06.94zm-11 1L8.5 8.5l.94-2.06 2.06-.94-2.06-.94L8.5 2.5l-.94 2.06-2.06.94zm10 10l.94 2.06.94-2.06 2.06-.94-2.06-.94-.94-2.06-.94 2.06-2.06.94z\"/><path d=\"M17.41 7.96l-1.37-1.37c-.4-.4-.92-.59-1.43-.59-.52 0-1.04.2-1.43.59L10.3 9.45l-7.72 7.72c-.78.78-.78 2.05 0 2.83L4 21.41c.39.39.9.59 1.41.59.51 0 1.02-.2 1.41-.59l7.78-7.78 2.81-2.81c.8-.78.8-2.07 0-2.86zM5.41 20L4 18.59l7.72-7.72 1.47 1.35L5.41 20z\"/>\n",
              "  </svg>\n",
              "      </button>\n",
              "      \n",
              "  <style>\n",
              "    .colab-df-container {\n",
              "      display:flex;\n",
              "      flex-wrap:wrap;\n",
              "      gap: 12px;\n",
              "    }\n",
              "\n",
              "    .colab-df-convert {\n",
              "      background-color: #E8F0FE;\n",
              "      border: none;\n",
              "      border-radius: 50%;\n",
              "      cursor: pointer;\n",
              "      display: none;\n",
              "      fill: #1967D2;\n",
              "      height: 32px;\n",
              "      padding: 0 0 0 0;\n",
              "      width: 32px;\n",
              "    }\n",
              "\n",
              "    .colab-df-convert:hover {\n",
              "      background-color: #E2EBFA;\n",
              "      box-shadow: 0px 1px 2px rgba(60, 64, 67, 0.3), 0px 1px 3px 1px rgba(60, 64, 67, 0.15);\n",
              "      fill: #174EA6;\n",
              "    }\n",
              "\n",
              "    [theme=dark] .colab-df-convert {\n",
              "      background-color: #3B4455;\n",
              "      fill: #D2E3FC;\n",
              "    }\n",
              "\n",
              "    [theme=dark] .colab-df-convert:hover {\n",
              "      background-color: #434B5C;\n",
              "      box-shadow: 0px 1px 3px 1px rgba(0, 0, 0, 0.15);\n",
              "      filter: drop-shadow(0px 1px 2px rgba(0, 0, 0, 0.3));\n",
              "      fill: #FFFFFF;\n",
              "    }\n",
              "  </style>\n",
              "\n",
              "      <script>\n",
              "        const buttonEl =\n",
              "          document.querySelector('#df-9a80e9ac-445f-49f7-b654-2120c69186be button.colab-df-convert');\n",
              "        buttonEl.style.display =\n",
              "          google.colab.kernel.accessAllowed ? 'block' : 'none';\n",
              "\n",
              "        async function convertToInteractive(key) {\n",
              "          const element = document.querySelector('#df-9a80e9ac-445f-49f7-b654-2120c69186be');\n",
              "          const dataTable =\n",
              "            await google.colab.kernel.invokeFunction('convertToInteractive',\n",
              "                                                     [key], {});\n",
              "          if (!dataTable) return;\n",
              "\n",
              "          const docLinkHtml = 'Like what you see? Visit the ' +\n",
              "            '<a target=\"_blank\" href=https://colab.research.google.com/notebooks/data_table.ipynb>data table notebook</a>'\n",
              "            + ' to learn more about interactive tables.';\n",
              "          element.innerHTML = '';\n",
              "          dataTable['output_type'] = 'display_data';\n",
              "          await google.colab.output.renderOutput(dataTable, element);\n",
              "          const docLink = document.createElement('div');\n",
              "          docLink.innerHTML = docLinkHtml;\n",
              "          element.appendChild(docLink);\n",
              "        }\n",
              "      </script>\n",
              "    </div>\n",
              "  </div>\n",
              "  "
            ]
          },
          "metadata": {},
          "execution_count": 3
        }
      ]
    },
    {
      "cell_type": "markdown",
      "metadata": {
        "id": "ii6nZaDI7-20"
      },
      "source": [
        "Import MinMaxScaler from scikit-learn to scale our dataset into numbers between 0 and 1 "
      ]
    },
    {
      "cell_type": "code",
      "metadata": {
        "id": "Ub32hsA4MIXz"
      },
      "source": [
        "from sklearn.preprocessing import MinMaxScaler\n",
        "sc = MinMaxScaler(feature_range=(0,1))\n",
        "training_set_scaled = sc.fit_transform(training_set)"
      ],
      "execution_count": 4,
      "outputs": []
    },
    {
      "cell_type": "markdown",
      "metadata": {
        "id": "aqze-4Is8Rb_"
      },
      "source": [
        "We want our data to be in the form of a 3D array for our LSTM model. First, we create data in 60 timesteps and convert it into an array using NumPy. Then, we convert the data into a 3D array with X_train samples, 60 timestamps, and one feature at each step."
      ]
    },
    {
      "cell_type": "code",
      "metadata": {
        "id": "qo7K06T2Mi_e"
      },
      "source": [
        "X_train = []\n",
        "y_train = []\n",
        "for i in range(60, 2035):\n",
        "    X_train.append(training_set_scaled[i-60:i, 0])\n",
        "    y_train.append(training_set_scaled[i, 0])\n",
        "X_train, y_train = np.array(X_train), np.array(y_train)\n",
        "\n",
        "X_train = np.reshape(X_train, (X_train.shape[0], X_train.shape[1], 1))"
      ],
      "execution_count": 5,
      "outputs": []
    },
    {
      "cell_type": "markdown",
      "metadata": {
        "id": "anIlTzKO-r74"
      },
      "source": [
        "Make the necessary imports from keras"
      ]
    },
    {
      "cell_type": "code",
      "metadata": {
        "id": "TP9GVtb9Q-C9"
      },
      "source": [
        "from keras.models import Sequential\n",
        "from keras.layers import LSTM\n",
        "from keras.layers import Dropout\n",
        "from keras.layers import Dense "
      ],
      "execution_count": 6,
      "outputs": []
    },
    {
      "cell_type": "markdown",
      "metadata": {
        "id": "hJrFWnOd-x2t"
      },
      "source": [
        "Add LSTM layer along with dropout layers to prevent overfitting. After that, we add a Dense layer that specifies a one unit output. Next, we compile the model using the adam optimizer and set the loss as the mean_squarred_error"
      ]
    },
    {
      "cell_type": "code",
      "metadata": {
        "id": "CMKVOwBnRcOc",
        "outputId": "6cfcc6f9-9c0c-41a7-804d-ea53fecad7b7",
        "colab": {
          "base_uri": "https://localhost:8080/"
        }
      },
      "source": [
        "model = Sequential()\n",
        "\n",
        "model.add(LSTM(units=50,return_sequences=True,input_shape=(X_train.shape[1], 1)))\n",
        "model.add(Dropout(0.2))\n",
        "\n",
        "model.add(LSTM(units=50,return_sequences=True))\n",
        "model.add(Dropout(0.2))\n",
        "\n",
        "model.add(LSTM(units=50,return_sequences=True))\n",
        "model.add(Dropout(0.2))\n",
        "\n",
        "model.add(LSTM(units=50))\n",
        "model.add(Dropout(0.2))\n",
        "\n",
        "model.add(Dense(units=1))\n",
        "\n",
        "model.compile(optimizer='adam',loss='mean_squared_error')\n",
        "\n",
        "model.fit(X_train,y_train,epochs=100,batch_size=32)"
      ],
      "execution_count": 7,
      "outputs": [
        {
          "output_type": "stream",
          "name": "stdout",
          "text": [
            "Epoch 1/100\n",
            "62/62 [==============================] - 26s 246ms/step - loss: 0.0084\n",
            "Epoch 2/100\n",
            "62/62 [==============================] - 9s 151ms/step - loss: 0.0028\n",
            "Epoch 3/100\n",
            "62/62 [==============================] - 7s 118ms/step - loss: 0.0026\n",
            "Epoch 4/100\n",
            "62/62 [==============================] - 7s 119ms/step - loss: 0.0023\n",
            "Epoch 5/100\n",
            "62/62 [==============================] - 8s 121ms/step - loss: 0.0027\n",
            "Epoch 6/100\n",
            "62/62 [==============================] - 7s 118ms/step - loss: 0.0023\n",
            "Epoch 7/100\n",
            "62/62 [==============================] - 7s 120ms/step - loss: 0.0024\n",
            "Epoch 8/100\n",
            "62/62 [==============================] - 8s 121ms/step - loss: 0.0019\n",
            "Epoch 9/100\n",
            "62/62 [==============================] - 8s 122ms/step - loss: 0.0019\n",
            "Epoch 10/100\n",
            "62/62 [==============================] - 7s 120ms/step - loss: 0.0018\n",
            "Epoch 11/100\n",
            "62/62 [==============================] - 7s 121ms/step - loss: 0.0017\n",
            "Epoch 12/100\n",
            "62/62 [==============================] - 8s 122ms/step - loss: 0.0016\n",
            "Epoch 13/100\n",
            "62/62 [==============================] - 9s 150ms/step - loss: 0.0016\n",
            "Epoch 14/100\n",
            "62/62 [==============================] - 7s 121ms/step - loss: 0.0018\n",
            "Epoch 15/100\n",
            "62/62 [==============================] - 10s 157ms/step - loss: 0.0017\n",
            "Epoch 16/100\n",
            "62/62 [==============================] - 8s 133ms/step - loss: 0.0017\n",
            "Epoch 17/100\n",
            "62/62 [==============================] - 7s 120ms/step - loss: 0.0015\n",
            "Epoch 18/100\n",
            "62/62 [==============================] - 7s 121ms/step - loss: 0.0017\n",
            "Epoch 19/100\n",
            "62/62 [==============================] - 8s 121ms/step - loss: 0.0014\n",
            "Epoch 20/100\n",
            "62/62 [==============================] - 8s 122ms/step - loss: 0.0013\n",
            "Epoch 21/100\n",
            "62/62 [==============================] - 8s 122ms/step - loss: 0.0014\n",
            "Epoch 22/100\n",
            "62/62 [==============================] - 8s 123ms/step - loss: 0.0012\n",
            "Epoch 23/100\n",
            "62/62 [==============================] - 8s 123ms/step - loss: 0.0016\n",
            "Epoch 24/100\n",
            "62/62 [==============================] - 8s 123ms/step - loss: 0.0013\n",
            "Epoch 25/100\n",
            "62/62 [==============================] - 8s 123ms/step - loss: 0.0013\n",
            "Epoch 26/100\n",
            "62/62 [==============================] - 8s 130ms/step - loss: 0.0012\n",
            "Epoch 27/100\n",
            "62/62 [==============================] - 8s 128ms/step - loss: 0.0013\n",
            "Epoch 28/100\n",
            "62/62 [==============================] - 8s 123ms/step - loss: 0.0014\n",
            "Epoch 29/100\n",
            "62/62 [==============================] - 8s 123ms/step - loss: 0.0011\n",
            "Epoch 30/100\n",
            "62/62 [==============================] - 8s 124ms/step - loss: 0.0013\n",
            "Epoch 31/100\n",
            "62/62 [==============================] - 8s 124ms/step - loss: 0.0010\n",
            "Epoch 32/100\n",
            "62/62 [==============================] - 8s 124ms/step - loss: 0.0011\n",
            "Epoch 33/100\n",
            "62/62 [==============================] - 8s 124ms/step - loss: 9.6574e-04\n",
            "Epoch 34/100\n",
            "62/62 [==============================] - 8s 124ms/step - loss: 0.0011\n",
            "Epoch 35/100\n",
            "62/62 [==============================] - 8s 123ms/step - loss: 0.0010\n",
            "Epoch 36/100\n",
            "62/62 [==============================] - 8s 124ms/step - loss: 9.2948e-04\n",
            "Epoch 37/100\n",
            "62/62 [==============================] - 8s 123ms/step - loss: 9.5340e-04\n",
            "Epoch 38/100\n",
            "62/62 [==============================] - 8s 122ms/step - loss: 9.8128e-04\n",
            "Epoch 39/100\n",
            "62/62 [==============================] - 8s 122ms/step - loss: 9.5981e-04\n",
            "Epoch 40/100\n",
            "62/62 [==============================] - 8s 125ms/step - loss: 9.2736e-04\n",
            "Epoch 41/100\n",
            "62/62 [==============================] - 8s 124ms/step - loss: 0.0010\n",
            "Epoch 42/100\n",
            "62/62 [==============================] - 8s 124ms/step - loss: 0.0010\n",
            "Epoch 43/100\n",
            "62/62 [==============================] - 8s 126ms/step - loss: 8.3044e-04\n",
            "Epoch 44/100\n",
            "62/62 [==============================] - 8s 123ms/step - loss: 8.2012e-04\n",
            "Epoch 45/100\n",
            "62/62 [==============================] - 8s 123ms/step - loss: 8.7909e-04\n",
            "Epoch 46/100\n",
            "62/62 [==============================] - 8s 126ms/step - loss: 9.3372e-04\n",
            "Epoch 47/100\n",
            "62/62 [==============================] - 8s 124ms/step - loss: 8.3547e-04\n",
            "Epoch 48/100\n",
            "62/62 [==============================] - 8s 123ms/step - loss: 9.4845e-04\n",
            "Epoch 49/100\n",
            "62/62 [==============================] - 8s 123ms/step - loss: 8.5808e-04\n",
            "Epoch 50/100\n",
            "62/62 [==============================] - 8s 124ms/step - loss: 8.4874e-04\n",
            "Epoch 51/100\n",
            "62/62 [==============================] - 8s 124ms/step - loss: 9.7659e-04\n",
            "Epoch 52/100\n",
            "62/62 [==============================] - 8s 127ms/step - loss: 7.7050e-04\n",
            "Epoch 53/100\n",
            "62/62 [==============================] - 8s 124ms/step - loss: 7.5753e-04\n",
            "Epoch 54/100\n",
            "62/62 [==============================] - 8s 125ms/step - loss: 7.8271e-04\n",
            "Epoch 55/100\n",
            "62/62 [==============================] - 8s 125ms/step - loss: 7.3000e-04\n",
            "Epoch 56/100\n",
            "62/62 [==============================] - 8s 124ms/step - loss: 8.4591e-04\n",
            "Epoch 57/100\n",
            "62/62 [==============================] - 8s 125ms/step - loss: 7.4165e-04\n",
            "Epoch 58/100\n",
            "62/62 [==============================] - 8s 124ms/step - loss: 8.0745e-04\n",
            "Epoch 59/100\n",
            "62/62 [==============================] - 8s 124ms/step - loss: 7.9238e-04\n",
            "Epoch 60/100\n",
            "62/62 [==============================] - 8s 127ms/step - loss: 7.5453e-04\n",
            "Epoch 61/100\n",
            "62/62 [==============================] - 8s 125ms/step - loss: 7.3512e-04\n",
            "Epoch 62/100\n",
            "62/62 [==============================] - 8s 124ms/step - loss: 7.0720e-04\n",
            "Epoch 63/100\n",
            "62/62 [==============================] - 8s 124ms/step - loss: 7.1253e-04\n",
            "Epoch 64/100\n",
            "62/62 [==============================] - 8s 124ms/step - loss: 8.7073e-04\n",
            "Epoch 65/100\n",
            "62/62 [==============================] - 8s 124ms/step - loss: 7.9098e-04\n",
            "Epoch 66/100\n",
            "62/62 [==============================] - 8s 126ms/step - loss: 6.9419e-04\n",
            "Epoch 67/100\n",
            "62/62 [==============================] - 8s 124ms/step - loss: 8.2230e-04\n",
            "Epoch 68/100\n",
            "62/62 [==============================] - 8s 125ms/step - loss: 7.3958e-04\n",
            "Epoch 69/100\n",
            "62/62 [==============================] - 8s 125ms/step - loss: 7.8941e-04\n",
            "Epoch 70/100\n",
            "62/62 [==============================] - 8s 125ms/step - loss: 7.3936e-04\n",
            "Epoch 71/100\n",
            "62/62 [==============================] - 8s 124ms/step - loss: 6.2209e-04\n",
            "Epoch 72/100\n",
            "62/62 [==============================] - 8s 125ms/step - loss: 6.4314e-04\n",
            "Epoch 73/100\n",
            "62/62 [==============================] - 8s 124ms/step - loss: 8.6651e-04\n",
            "Epoch 74/100\n",
            "62/62 [==============================] - 8s 124ms/step - loss: 8.7083e-04\n",
            "Epoch 75/100\n",
            "62/62 [==============================] - 8s 125ms/step - loss: 7.4294e-04\n",
            "Epoch 76/100\n",
            "62/62 [==============================] - 8s 124ms/step - loss: 6.5218e-04\n",
            "Epoch 77/100\n",
            "62/62 [==============================] - 8s 125ms/step - loss: 7.7317e-04\n",
            "Epoch 78/100\n",
            "62/62 [==============================] - 8s 123ms/step - loss: 8.7316e-04\n",
            "Epoch 79/100\n",
            "62/62 [==============================] - 8s 128ms/step - loss: 7.8373e-04\n",
            "Epoch 80/100\n",
            "62/62 [==============================] - 8s 132ms/step - loss: 7.3066e-04\n",
            "Epoch 81/100\n",
            "62/62 [==============================] - 8s 129ms/step - loss: 6.3521e-04\n",
            "Epoch 82/100\n",
            "62/62 [==============================] - 8s 129ms/step - loss: 7.2620e-04\n",
            "Epoch 83/100\n",
            "62/62 [==============================] - 8s 130ms/step - loss: 6.6964e-04\n",
            "Epoch 84/100\n",
            "62/62 [==============================] - 8s 126ms/step - loss: 7.4767e-04\n",
            "Epoch 85/100\n",
            "62/62 [==============================] - 8s 127ms/step - loss: 7.3291e-04\n",
            "Epoch 86/100\n",
            "62/62 [==============================] - 8s 126ms/step - loss: 6.6235e-04\n",
            "Epoch 87/100\n",
            "62/62 [==============================] - 8s 129ms/step - loss: 7.3165e-04\n",
            "Epoch 88/100\n",
            "62/62 [==============================] - 8s 127ms/step - loss: 7.1335e-04\n",
            "Epoch 89/100\n",
            "62/62 [==============================] - 8s 125ms/step - loss: 6.8792e-04\n",
            "Epoch 90/100\n",
            "62/62 [==============================] - 8s 126ms/step - loss: 7.3982e-04\n",
            "Epoch 91/100\n",
            "62/62 [==============================] - 8s 125ms/step - loss: 6.0606e-04\n",
            "Epoch 92/100\n",
            "62/62 [==============================] - 8s 126ms/step - loss: 6.5547e-04\n",
            "Epoch 93/100\n",
            "62/62 [==============================] - 8s 126ms/step - loss: 7.6760e-04\n",
            "Epoch 94/100\n",
            "62/62 [==============================] - 8s 125ms/step - loss: 8.0592e-04\n",
            "Epoch 95/100\n",
            "62/62 [==============================] - 8s 125ms/step - loss: 5.9874e-04\n",
            "Epoch 96/100\n",
            "62/62 [==============================] - 8s 125ms/step - loss: 7.0703e-04\n",
            "Epoch 97/100\n",
            "62/62 [==============================] - 8s 127ms/step - loss: 6.9258e-04\n",
            "Epoch 98/100\n",
            "62/62 [==============================] - 8s 125ms/step - loss: 6.4020e-04\n",
            "Epoch 99/100\n",
            "62/62 [==============================] - 8s 125ms/step - loss: 6.6456e-04\n",
            "Epoch 100/100\n",
            "62/62 [==============================] - 8s 124ms/step - loss: 6.1837e-04\n"
          ]
        },
        {
          "output_type": "execute_result",
          "data": {
            "text/plain": [
              "<keras.callbacks.History at 0x7f42cfa15c10>"
            ]
          },
          "metadata": {},
          "execution_count": 7
        }
      ]
    },
    {
      "cell_type": "markdown",
      "metadata": {
        "id": "N7_w_7x-A44v"
      },
      "source": [
        "Import the test set for the model to make predictions on "
      ]
    },
    {
      "cell_type": "code",
      "metadata": {
        "id": "ns2TngWrUaz5"
      },
      "source": [
        "url = 'https://raw.githubusercontent.com/mwitiderrick/stockprice/master/tatatest.csv'\n",
        "dataset_test = pd.read_csv(url)\n",
        "real_stock_price = dataset_test.iloc[:, 1:2].values"
      ],
      "execution_count": 8,
      "outputs": []
    },
    {
      "cell_type": "markdown",
      "metadata": {
        "id": "WXGKvoo6BAyd"
      },
      "source": [
        "Before predicting future stock prices, we have to manipulate the training set; we merge the training set and the test set on the 0 axis, set the time step to 60, use minmaxscaler, and reshape the dataset as done previously. After making predictions, we use inverse_transform to get back the stock prices in normal readable format.\n"
      ]
    },
    {
      "cell_type": "code",
      "metadata": {
        "id": "pBbdst_BV_PB"
      },
      "source": [
        "dataset_total = pd.concat((dataset_train['Open'], dataset_test['Open']), axis = 0)\n",
        "inputs = dataset_total[len(dataset_total) - len(dataset_test) - 60:].values\n",
        "inputs = inputs.reshape(-1,1)\n",
        "inputs = sc.transform(inputs)\n",
        "X_test = []\n",
        "for i in range(60, 76):\n",
        "    X_test.append(inputs[i-60:i, 0])\n",
        "X_test = np.array(X_test)\n",
        "X_test = np.reshape(X_test, (X_test.shape[0], X_test.shape[1], 1))\n",
        "predicted_stock_price = model.predict(X_test)\n",
        "predicted_stock_price = sc.inverse_transform(predicted_stock_price)"
      ],
      "execution_count": 9,
      "outputs": []
    },
    {
      "cell_type": "markdown",
      "metadata": {
        "id": "BAj_a3n0B3nz"
      },
      "source": [
        "Plot our predicted stock prices and the actual stock price"
      ]
    },
    {
      "cell_type": "code",
      "metadata": {
        "id": "czWvnIANYSqI",
        "outputId": "1495f31a-3137-450e-894b-77eefdd00783",
        "colab": {
          "base_uri": "https://localhost:8080/",
          "height": 295
        }
      },
      "source": [
        "plt.plot(real_stock_price, color = 'black', label = 'TATA Stock Price')\n",
        "plt.plot(predicted_stock_price, color = 'green', label = 'Predicted TATA Stock Price')\n",
        "plt.title('TATA Stock Price Prediction')\n",
        "plt.xlabel('Time')\n",
        "plt.ylabel('TATA Stock Price')\n",
        "plt.legend()\n",
        "plt.show()"
      ],
      "execution_count": 10,
      "outputs": [
        {
          "output_type": "display_data",
          "data": {
            "text/plain": [
              "<Figure size 432x288 with 1 Axes>"
            ],
            "image/png": "[encoded data removed]"
          },
          "metadata": {
            "needs_background": "light"
          }
        }
      ]
    }
  ]
}