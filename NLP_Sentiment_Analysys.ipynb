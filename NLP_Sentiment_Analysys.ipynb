{
  "cells": [
    {
      "cell_type": "code",
      "execution_count": null,
      "metadata": {
        "id": "pIWVt8Bvj1TO"
      },
      "outputs": [],
      "source": [
        "import pandas as pd\n",
        "import torch\n",
        "import numpy as np\n",
        "import sqlite3\n",
        "import matplotlib.pyplot as plt\n",
        "import seaborn as sns\n",
        "import re\n",
        "import nltk\n",
        "from nltk.corpus import stopwords\n",
        "from nltk.stem import WordNetLemmatizer\n",
        "from nltk.stem.porter import PorterStemmer\n",
        "from sklearn.feature_extraction.text import CountVectorizer\n",
        "\n",
        "pd.set_option('display.max_columns', None)\n",
        "pd.set_option('display.max_rows', None)\n",
        "import warnings"
      ]
    },
    {
      "cell_type": "code",
      "execution_count": null,
      "metadata": {
        "colab": {
          "base_uri": "https://localhost:8080/"
        },
        "id": "LNG_QcEt8gxF",
        "outputId": "120cb1ad-860d-42de-9cb1-f4cf87d2649e"
      },
      "outputs": [
        {
          "name": "stdout",
          "output_type": "stream",
          "text": [
            "Mounted at /content/drive\n"
          ]
        }
      ],
      "source": [
        "from google.colab import drive\n",
        "drive.mount('/content/drive')"
      ]
    },
    {
      "cell_type": "code",
      "execution_count": null,
      "metadata": {
        "colab": {
          "base_uri": "https://localhost:8080/",
          "height": 704
        },
        "id": "JKDyvSoYj1Vd",
        "outputId": "a6432549-ec5c-4f1b-bf01-63ddd86bac85"
      },
      "outputs": [
        {
          "data": {
            "text/html": [
              "\n",
              "  <div id=\"df-e5a2ba60-7637-436b-9910-e2abdbda4cca\">\n",
              "    <div class=\"colab-df-container\">\n",
              "      <div>\n",
              "<style scoped>\n",
              "    .dataframe tbody tr th:only-of-type {\n",
              "        vertical-align: middle;\n",
              "    }\n",
              "\n",
              "    .dataframe tbody tr th {\n",
              "        vertical-align: top;\n",
              "    }\n",
              "\n",
              "    .dataframe thead th {\n",
              "        text-align: right;\n",
              "    }\n",
              "</style>\n",
              "<table border=\"1\" class=\"dataframe\">\n",
              "  <thead>\n",
              "    <tr style=\"text-align: right;\">\n",
              "      <th></th>\n",
              "      <th>product_id</th>\n",
              "      <th>review_id</th>\n",
              "      <th>title</th>\n",
              "      <th>review</th>\n",
              "      <th>likes</th>\n",
              "      <th>dislikes</th>\n",
              "      <th>ratings</th>\n",
              "      <th>reviewer</th>\n",
              "    </tr>\n",
              "  </thead>\n",
              "  <tbody>\n",
              "    <tr>\n",
              "      <th>0</th>\n",
              "      <td>ECMB000001</td>\n",
              "      <td>ECMB0000010000001</td>\n",
              "      <td>Excellent</td>\n",
              "      <td>Wow superb I love it❤️ð battery backup so nice</td>\n",
              "      <td>740.0</td>\n",
              "      <td>160.0</td>\n",
              "      <td>5.0</td>\n",
              "      <td>Abhishek Saini</td>\n",
              "    </tr>\n",
              "    <tr>\n",
              "      <th>1</th>\n",
              "      <td>ECMB000001</td>\n",
              "      <td>ECMB0000010000002</td>\n",
              "      <td>Worth the money</td>\n",
              "      <td>Mobile So Good In Range Redmi 9a Has Miui 12 L...</td>\n",
              "      <td>355.0</td>\n",
              "      <td>104.0</td>\n",
              "      <td>4.0</td>\n",
              "      <td>Dinesh Kumar Sahni</td>\n",
              "    </tr>\n",
              "    <tr>\n",
              "      <th>2</th>\n",
              "      <td>ECMB000001</td>\n",
              "      <td>ECMB0000010000003</td>\n",
              "      <td>Just wow!</td>\n",
              "      <td>Wonderful device and smart phone best camera b...</td>\n",
              "      <td>125.0</td>\n",
              "      <td>47.0</td>\n",
              "      <td>5.0</td>\n",
              "      <td>Flipkart Customer</td>\n",
              "    </tr>\n",
              "    <tr>\n",
              "      <th>3</th>\n",
              "      <td>ECMB000001</td>\n",
              "      <td>ECMB0000010000004</td>\n",
              "      <td>Simply awesome</td>\n",
              "      <td>Very good mobile. Value for money. Battery bac...</td>\n",
              "      <td>0.0</td>\n",
              "      <td>0.0</td>\n",
              "      <td>5.0</td>\n",
              "      <td>Amit Sen</td>\n",
              "    </tr>\n",
              "    <tr>\n",
              "      <th>4</th>\n",
              "      <td>ECMB000001</td>\n",
              "      <td>ECMB0000010000005</td>\n",
              "      <td>Highly recommended</td>\n",
              "      <td>Really great.... value for money...</td>\n",
              "      <td>90.0</td>\n",
              "      <td>15.0</td>\n",
              "      <td>5.0</td>\n",
              "      <td>Sudeshna pakira</td>\n",
              "    </tr>\n",
              "  </tbody>\n",
              "</table>\n",
              "</div>\n",
              "      <button class=\"colab-df-convert\" onclick=\"convertToInteractive('df-e5a2ba60-7637-436b-9910-e2abdbda4cca')\"\n",
              "              title=\"Convert this dataframe to an interactive table.\"\n",
              "              style=\"display:none;\">\n",
              "        \n",
              "  <svg xmlns=\"http://www.w3.org/2000/svg\" height=\"24px\"viewBox=\"0 0 24 24\"\n",
              "       width=\"24px\">\n",
              "    <path d=\"M0 0h24v24H0V0z\" fill=\"none\"/>\n",
              "    <path d=\"M18.56 5.44l.94 2.06.94-2.06 2.06-.94-2.06-.94-.94-2.06-.94 2.06-2.06.94zm-11 1L8.5 8.5l.94-2.06 2.06-.94-2.06-.94L8.5 2.5l-.94 2.06-2.06.94zm10 10l.94 2.06.94-2.06 2.06-.94-2.06-.94-.94-2.06-.94 2.06-2.06.94z\"/><path d=\"M17.41 7.96l-1.37-1.37c-.4-.4-.92-.59-1.43-.59-.52 0-1.04.2-1.43.59L10.3 9.45l-7.72 7.72c-.78.78-.78 2.05 0 2.83L4 21.41c.39.39.9.59 1.41.59.51 0 1.02-.2 1.41-.59l7.78-7.78 2.81-2.81c.8-.78.8-2.07 0-2.86zM5.41 20L4 18.59l7.72-7.72 1.47 1.35L5.41 20z\"/>\n",
              "  </svg>\n",
              "      </button>\n",
              "      \n",
              "  <style>\n",
              "    .colab-df-container {\n",
              "      display:flex;\n",
              "      flex-wrap:wrap;\n",
              "      gap: 12px;\n",
              "    }\n",
              "\n",
              "    .colab-df-convert {\n",
              "      background-color: #E8F0FE;\n",
              "      border: none;\n",
              "      border-radius: 50%;\n",
              "      cursor: pointer;\n",
              "      display: none;\n",
              "      fill: #1967D2;\n",
              "      height: 32px;\n",
              "      padding: 0 0 0 0;\n",
              "      width: 32px;\n",
              "    }\n",
              "\n",
              "    .colab-df-convert:hover {\n",
              "      background-color: #E2EBFA;\n",
              "      box-shadow: 0px 1px 2px rgba(60, 64, 67, 0.3), 0px 1px 3px 1px rgba(60, 64, 67, 0.15);\n",
              "      fill: #174EA6;\n",
              "    }\n",
              "\n",
              "    [theme=dark] .colab-df-convert {\n",
              "      background-color: #3B4455;\n",
              "      fill: #D2E3FC;\n",
              "    }\n",
              "\n",
              "    [theme=dark] .colab-df-convert:hover {\n",
              "      background-color: #434B5C;\n",
              "      box-shadow: 0px 1px 3px 1px rgba(0, 0, 0, 0.15);\n",
              "      filter: drop-shadow(0px 1px 2px rgba(0, 0, 0, 0.3));\n",
              "      fill: #FFFFFF;\n",
              "    }\n",
              "  </style>\n",
              "\n",
              "      <script>\n",
              "        const buttonEl =\n",
              "          document.querySelector('#df-e5a2ba60-7637-436b-9910-e2abdbda4cca button.colab-df-convert');\n",
              "        buttonEl.style.display =\n",
              "          google.colab.kernel.accessAllowed ? 'block' : 'none';\n",
              "\n",
              "        async function convertToInteractive(key) {\n",
              "          const element = document.querySelector('#df-e5a2ba60-7637-436b-9910-e2abdbda4cca');\n",
              "          const dataTable =\n",
              "            await google.colab.kernel.invokeFunction('convertToInteractive',\n",
              "                                                     [key], {});\n",
              "          if (!dataTable) return;\n",
              "\n",
              "          const docLinkHtml = 'Like what you see? Visit the ' +\n",
              "            '<a target=\"_blank\" href=https://colab.research.google.com/notebooks/data_table.ipynb>data table notebook</a>'\n",
              "            + ' to learn more about interactive tables.';\n",
              "          element.innerHTML = '';\n",
              "          dataTable['output_type'] = 'display_data';\n",
              "          await google.colab.output.renderOutput(dataTable, element);\n",
              "          const docLink = document.createElement('div');\n",
              "          docLink.innerHTML = docLinkHtml;\n",
              "          element.appendChild(docLink);\n",
              "        }\n",
              "      </script>\n",
              "    </div>\n",
              "  </div>\n",
              "  "
            ],
            "text/plain": [
              "   product_id          review_id               title  \\\n",
              "0  ECMB000001  ECMB0000010000001           Excellent   \n",
              "1  ECMB000001  ECMB0000010000002     Worth the money   \n",
              "2  ECMB000001  ECMB0000010000003           Just wow!   \n",
              "3  ECMB000001  ECMB0000010000004      Simply awesome   \n",
              "4  ECMB000001  ECMB0000010000005  Highly recommended   \n",
              "\n",
              "                                              review  likes  dislikes  \\\n",
              "0  Wow superb I love it❤️ð battery backup so nice  740.0     160.0   \n",
              "1  Mobile So Good In Range Redmi 9a Has Miui 12 L...  355.0     104.0   \n",
              "2  Wonderful device and smart phone best camera b...  125.0      47.0   \n",
              "3  Very good mobile. Value for money. Battery bac...    0.0       0.0   \n",
              "4                Really great.... value for money...   90.0      15.0   \n",
              "\n",
              "   ratings            reviewer  \n",
              "0      5.0      Abhishek Saini  \n",
              "1      4.0  Dinesh Kumar Sahni  \n",
              "2      5.0   Flipkart Customer  \n",
              "3      5.0            Amit Sen  \n",
              "4      5.0     Sudeshna pakira  "
            ]
          },
          "execution_count": 5,
          "metadata": {},
          "output_type": "execute_result"
        }
      ],
      "source": [
        "df = pd.read_csv('/content/drive/MyDrive/flipcart/flipcart82.csv')\n",
        "df.head()"
      ]
    },
    {
      "cell_type": "code",
      "execution_count": null,
      "metadata": {
        "colab": {
          "base_uri": "https://localhost:8080/",
          "height": 530
        },
        "id": "daCBIWLspmj1",
        "outputId": "002c35cb-e0b8-4930-93a7-f1a06c53fde7"
      },
      "outputs": [
        {
          "data": {
            "text/html": [
              "\n",
              "  <div id=\"df-fcd54525-8911-4ef7-9674-2961c6c1e940\">\n",
              "    <div class=\"colab-df-container\">\n",
              "      <div>\n",
              "<style scoped>\n",
              "    .dataframe tbody tr th:only-of-type {\n",
              "        vertical-align: middle;\n",
              "    }\n",
              "\n",
              "    .dataframe tbody tr th {\n",
              "        vertical-align: top;\n",
              "    }\n",
              "\n",
              "    .dataframe thead th {\n",
              "        text-align: right;\n",
              "    }\n",
              "</style>\n",
              "<table border=\"1\" class=\"dataframe\">\n",
              "  <thead>\n",
              "    <tr style=\"text-align: right;\">\n",
              "      <th></th>\n",
              "      <th>product_id</th>\n",
              "      <th>review_id</th>\n",
              "      <th>title</th>\n",
              "      <th>review</th>\n",
              "      <th>likes</th>\n",
              "      <th>dislikes</th>\n",
              "      <th>ratings</th>\n",
              "      <th>reviewer</th>\n",
              "    </tr>\n",
              "  </thead>\n",
              "  <tbody>\n",
              "    <tr>\n",
              "      <th>53492</th>\n",
              "      <td>ECMB000082</td>\n",
              "      <td>ECMB0000820000286</td>\n",
              "      <td>Excellent</td>\n",
              "      <td>Very nice phone</td>\n",
              "      <td>0.0</td>\n",
              "      <td>0.0</td>\n",
              "      <td>5.0</td>\n",
              "      <td>Flipkart Customer</td>\n",
              "    </tr>\n",
              "    <tr>\n",
              "      <th>53493</th>\n",
              "      <td>ECMB000082</td>\n",
              "      <td>ECMB0000820000287</td>\n",
              "      <td>Wonderful</td>\n",
              "      <td>Amazing phone with great Performance..</td>\n",
              "      <td>0.0</td>\n",
              "      <td>0.0</td>\n",
              "      <td>5.0</td>\n",
              "      <td>Yusufi  Master</td>\n",
              "    </tr>\n",
              "    <tr>\n",
              "      <th>53494</th>\n",
              "      <td>ECMB000082</td>\n",
              "      <td>ECMB0000820000288</td>\n",
              "      <td>Terrific</td>\n",
              "      <td>There is some problems , sometimes keep restar...</td>\n",
              "      <td>0.0</td>\n",
              "      <td>0.0</td>\n",
              "      <td>5.0</td>\n",
              "      <td>Thajudheen E c</td>\n",
              "    </tr>\n",
              "    <tr>\n",
              "      <th>53495</th>\n",
              "      <td>ECMB000082</td>\n",
              "      <td>ECMB0000820000289</td>\n",
              "      <td>Expected a better product</td>\n",
              "      <td>Worthless photo not work properly.Don't buy th...</td>\n",
              "      <td>0.0</td>\n",
              "      <td>0.0</td>\n",
              "      <td>NaN</td>\n",
              "      <td>Jayhind Kumar  Yadav</td>\n",
              "    </tr>\n",
              "    <tr>\n",
              "      <th>53496</th>\n",
              "      <td>ECMB000082</td>\n",
              "      <td>ECMB0000820000290</td>\n",
              "      <td>Waste of money!</td>\n",
              "      <td>I gifted this phone to my mother but there are...</td>\n",
              "      <td>0.0</td>\n",
              "      <td>0.0</td>\n",
              "      <td>NaN</td>\n",
              "      <td>Bhavya  Gupta</td>\n",
              "    </tr>\n",
              "  </tbody>\n",
              "</table>\n",
              "</div>\n",
              "      <button class=\"colab-df-convert\" onclick=\"convertToInteractive('df-fcd54525-8911-4ef7-9674-2961c6c1e940')\"\n",
              "              title=\"Convert this dataframe to an interactive table.\"\n",
              "              style=\"display:none;\">\n",
              "        \n",
              "  <svg xmlns=\"http://www.w3.org/2000/svg\" height=\"24px\"viewBox=\"0 0 24 24\"\n",
              "       width=\"24px\">\n",
              "    <path d=\"M0 0h24v24H0V0z\" fill=\"none\"/>\n",
              "    <path d=\"M18.56 5.44l.94 2.06.94-2.06 2.06-.94-2.06-.94-.94-2.06-.94 2.06-2.06.94zm-11 1L8.5 8.5l.94-2.06 2.06-.94-2.06-.94L8.5 2.5l-.94 2.06-2.06.94zm10 10l.94 2.06.94-2.06 2.06-.94-2.06-.94-.94-2.06-.94 2.06-2.06.94z\"/><path d=\"M17.41 7.96l-1.37-1.37c-.4-.4-.92-.59-1.43-.59-.52 0-1.04.2-1.43.59L10.3 9.45l-7.72 7.72c-.78.78-.78 2.05 0 2.83L4 21.41c.39.39.9.59 1.41.59.51 0 1.02-.2 1.41-.59l7.78-7.78 2.81-2.81c.8-.78.8-2.07 0-2.86zM5.41 20L4 18.59l7.72-7.72 1.47 1.35L5.41 20z\"/>\n",
              "  </svg>\n",
              "      </button>\n",
              "      \n",
              "  <style>\n",
              "    .colab-df-container {\n",
              "      display:flex;\n",
              "      flex-wrap:wrap;\n",
              "      gap: 12px;\n",
              "    }\n",
              "\n",
              "    .colab-df-convert {\n",
              "      background-color: #E8F0FE;\n",
              "      border: none;\n",
              "      border-radius: 50%;\n",
              "      cursor: pointer;\n",
              "      display: none;\n",
              "      fill: #1967D2;\n",
              "      height: 32px;\n",
              "      padding: 0 0 0 0;\n",
              "      width: 32px;\n",
              "    }\n",
              "\n",
              "    .colab-df-convert:hover {\n",
              "      background-color: #E2EBFA;\n",
              "      box-shadow: 0px 1px 2px rgba(60, 64, 67, 0.3), 0px 1px 3px 1px rgba(60, 64, 67, 0.15);\n",
              "      fill: #174EA6;\n",
              "    }\n",
              "\n",
              "    [theme=dark] .colab-df-convert {\n",
              "      background-color: #3B4455;\n",
              "      fill: #D2E3FC;\n",
              "    }\n",
              "\n",
              "    [theme=dark] .colab-df-convert:hover {\n",
              "      background-color: #434B5C;\n",
              "      box-shadow: 0px 1px 3px 1px rgba(0, 0, 0, 0.15);\n",
              "      filter: drop-shadow(0px 1px 2px rgba(0, 0, 0, 0.3));\n",
              "      fill: #FFFFFF;\n",
              "    }\n",
              "  </style>\n",
              "\n",
              "      <script>\n",
              "        const buttonEl =\n",
              "          document.querySelector('#df-fcd54525-8911-4ef7-9674-2961c6c1e940 button.colab-df-convert');\n",
              "        buttonEl.style.display =\n",
              "          google.colab.kernel.accessAllowed ? 'block' : 'none';\n",
              "\n",
              "        async function convertToInteractive(key) {\n",
              "          const element = document.querySelector('#df-fcd54525-8911-4ef7-9674-2961c6c1e940');\n",
              "          const dataTable =\n",
              "            await google.colab.kernel.invokeFunction('convertToInteractive',\n",
              "                                                     [key], {});\n",
              "          if (!dataTable) return;\n",
              "\n",
              "          const docLinkHtml = 'Like what you see? Visit the ' +\n",
              "            '<a target=\"_blank\" href=https://colab.research.google.com/notebooks/data_table.ipynb>data table notebook</a>'\n",
              "            + ' to learn more about interactive tables.';\n",
              "          element.innerHTML = '';\n",
              "          dataTable['output_type'] = 'display_data';\n",
              "          await google.colab.output.renderOutput(dataTable, element);\n",
              "          const docLink = document.createElement('div');\n",
              "          docLink.innerHTML = docLinkHtml;\n",
              "          element.appendChild(docLink);\n",
              "        }\n",
              "      </script>\n",
              "    </div>\n",
              "  </div>\n",
              "  "
            ],
            "text/plain": [
              "       product_id          review_id                      title  \\\n",
              "53492  ECMB000082  ECMB0000820000286                  Excellent   \n",
              "53493  ECMB000082  ECMB0000820000287                  Wonderful   \n",
              "53494  ECMB000082  ECMB0000820000288                   Terrific   \n",
              "53495  ECMB000082  ECMB0000820000289  Expected a better product   \n",
              "53496  ECMB000082  ECMB0000820000290            Waste of money!   \n",
              "\n",
              "                                                  review  likes  dislikes  \\\n",
              "53492                                    Very nice phone    0.0       0.0   \n",
              "53493             Amazing phone with great Performance..    0.0       0.0   \n",
              "53494  There is some problems , sometimes keep restar...    0.0       0.0   \n",
              "53495  Worthless photo not work properly.Don't buy th...    0.0       0.0   \n",
              "53496  I gifted this phone to my mother but there are...    0.0       0.0   \n",
              "\n",
              "       ratings              reviewer  \n",
              "53492      5.0     Flipkart Customer  \n",
              "53493      5.0        Yusufi  Master  \n",
              "53494      5.0        Thajudheen E c  \n",
              "53495      NaN  Jayhind Kumar  Yadav  \n",
              "53496      NaN         Bhavya  Gupta  "
            ]
          },
          "execution_count": 6,
          "metadata": {},
          "output_type": "execute_result"
        }
      ],
      "source": [
        "df.tail()"
      ]
    },
    {
      "cell_type": "code",
      "execution_count": null,
      "metadata": {
        "colab": {
          "base_uri": "https://localhost:8080/"
        },
        "id": "h7yvdTb3j1Xf",
        "outputId": "bcac0630-8eda-41b8-bf2c-7c2c30608d84"
      },
      "outputs": [
        {
          "name": "stdout",
          "output_type": "stream",
          "text": [
            "<class 'pandas.core.frame.DataFrame'>\n",
            "RangeIndex: 53497 entries, 0 to 53496\n",
            "Data columns (total 8 columns):\n",
            " #   Column      Non-Null Count  Dtype  \n",
            "---  ------      --------------  -----  \n",
            " 0   product_id  53497 non-null  object \n",
            " 1   review_id   53497 non-null  object \n",
            " 2   title       53497 non-null  object \n",
            " 3   review      53497 non-null  object \n",
            " 4   likes       53488 non-null  float64\n",
            " 5   dislikes    53488 non-null  float64\n",
            " 6   ratings     48483 non-null  float64\n",
            " 7   reviewer    53488 non-null  object \n",
            "dtypes: float64(3), object(5)\n",
            "memory usage: 3.3+ MB\n"
          ]
        }
      ],
      "source": [
        "df.info()"
      ]
    },
    {
      "cell_type": "code",
      "execution_count": null,
      "metadata": {
        "colab": {
          "base_uri": "https://localhost:8080/",
          "height": 315
        },
        "id": "KanF3KCMj1Zn",
        "outputId": "93a9be3e-879b-4901-fb52-6251b9b7bff3"
      },
      "outputs": [
        {
          "data": {
            "text/plain": [
              "<Figure size 1800x1440 with 0 Axes>"
            ]
          },
          "metadata": {},
          "output_type": "display_data"
        },
        {
          "data": {
            "image/png": "[encoded data removed]",
            "text/plain": [
              "<Figure size 1800x720 with 2 Axes>"
            ]
          },
          "metadata": {},
          "output_type": "display_data"
        }
      ],
      "source": [
        "import missingno as msno\n",
        "plt.figure(figsize=(25, 20))\n",
        "msno.matrix(df, color=[0.2, 0.4, 1])\n",
        "plt.show()"
      ]
    },
    {
      "cell_type": "code",
      "execution_count": null,
      "metadata": {
        "colab": {
          "base_uri": "https://localhost:8080/"
        },
        "id": "rAWjO7-kj1cG",
        "outputId": "823fd8e5-d435-48f5-f359-a64587ed931a"
      },
      "outputs": [
        {
          "name": "stdout",
          "output_type": "stream",
          "text": [
            "<class 'pandas.core.frame.DataFrame'>\n",
            "Int64Index: 48483 entries, 0 to 53494\n",
            "Data columns (total 8 columns):\n",
            " #   Column      Non-Null Count  Dtype  \n",
            "---  ------      --------------  -----  \n",
            " 0   product_id  48483 non-null  object \n",
            " 1   review_id   48483 non-null  object \n",
            " 2   title       48483 non-null  object \n",
            " 3   review      48483 non-null  object \n",
            " 4   likes       48483 non-null  float64\n",
            " 5   dislikes    48483 non-null  float64\n",
            " 6   ratings     48483 non-null  float64\n",
            " 7   reviewer    48483 non-null  object \n",
            "dtypes: float64(3), object(5)\n",
            "memory usage: 3.3+ MB\n"
          ]
        }
      ],
      "source": [
        "df.dropna(inplace=True, axis=0)\n",
        "df.info()"
      ]
    },
    {
      "cell_type": "code",
      "execution_count": null,
      "metadata": {
        "colab": {
          "base_uri": "https://localhost:8080/",
          "height": 315
        },
        "id": "PjoNVNGfj1fF",
        "outputId": "fa14c2ea-e752-4324-826d-0926981dd84a"
      },
      "outputs": [
        {
          "data": {
            "text/plain": [
              "<Figure size 1800x1440 with 0 Axes>"
            ]
          },
          "metadata": {},
          "output_type": "display_data"
        },
        {
          "data": {
            "image/png": "[encoded data removed]",
            "text/plain": [
              "<Figure size 1800x720 with 2 Axes>"
            ]
          },
          "metadata": {},
          "output_type": "display_data"
        }
      ],
      "source": [
        "import missingno as msno\n",
        "plt.figure(figsize=(25, 20))\n",
        "msno.matrix(df, color=[0.2, 0.4, 1])\n",
        "plt.show()"
      ]
    },
    {
      "cell_type": "code",
      "execution_count": null,
      "metadata": {
        "id": "Zf9tYZNSj1pa"
      },
      "outputs": [],
      "source": [
        "import re\n",
        "\n",
        "def remove_url(text):\n",
        "    text = re.sub(r\"http\\S+\", \"\", text)\n",
        "    return text"
      ]
    },
    {
      "cell_type": "code",
      "execution_count": null,
      "metadata": {
        "colab": {
          "base_uri": "https://localhost:8080/"
        },
        "id": "gU7dHE9KqQXq",
        "outputId": "c5a1fe69-6b31-4eff-a1aa-4aa0b21fd705"
      },
      "outputs": [
        {
          "name": "stdout",
          "output_type": "stream",
          "text": [
            "Text before removing url:- \n",
            " ℍ𝕚 𝔼𝕧𝕖𝕣𝕪𝕠𝕟𝕖 𝕀 𝕒𝕞 𝔸𝕟𝕜𝕚𝕥 𝔾𝕦𝕡𝕥𝕒 𝕙𝕒𝕧𝕚𝕟𝕘 𝕥𝕙𝕖 𝕗𝕠𝕝𝕝𝕠𝕨𝕚𝕟𝕘 𝕂𝕒𝕘𝕘𝕝𝕖 𝕡𝕣𝕠𝕗𝕚𝕝𝕖 \n",
            " https://www.kaggle.com/nkitgupta 𝕒𝕟𝕕 𝕀 𝕒𝕞 😊 𝕥𝕠 𝕔𝕣𝕖𝕒𝕥𝕖 𝕥𝕙𝕚𝕤 𝕟𝕠𝕥𝕖𝕓𝕠𝕠𝕜\n",
            "Text after removing url:- \n",
            " ℍ𝕚 𝔼𝕧𝕖𝕣𝕪𝕠𝕟𝕖 𝕀 𝕒𝕞 𝔸𝕟𝕜𝕚𝕥 𝔾𝕦𝕡𝕥𝕒 𝕙𝕒𝕧𝕚𝕟𝕘 𝕥𝕙𝕖 𝕗𝕠𝕝𝕝𝕠𝕨𝕚𝕟𝕘 𝕂𝕒𝕘𝕘𝕝𝕖 𝕡𝕣𝕠𝕗𝕚𝕝𝕖 \n",
            "  𝕒𝕟𝕕 𝕀 𝕒𝕞 😊 𝕥𝕠 𝕔𝕣𝕖𝕒𝕥𝕖 𝕥𝕙𝕚𝕤 𝕟𝕠𝕥𝕖𝕓𝕠𝕠𝕜\n"
          ]
        }
      ],
      "source": [
        "sample = \"ℍ𝕚 𝔼𝕧𝕖𝕣𝕪𝕠𝕟𝕖 𝕀 𝕒𝕞 𝔸𝕟𝕜𝕚𝕥 𝔾𝕦𝕡𝕥𝕒 𝕙𝕒𝕧𝕚𝕟𝕘 𝕥𝕙𝕖 𝕗𝕠𝕝𝕝𝕠𝕨𝕚𝕟𝕘 𝕂𝕒𝕘𝕘𝕝𝕖 𝕡𝕣𝕠𝕗𝕚𝕝𝕖 \\n https://www.kaggle.com/nkitgupta 𝕒𝕟𝕕 𝕀 𝕒𝕞 😊 𝕥𝕠 𝕔𝕣𝕖𝕒𝕥𝕖 𝕥𝕙𝕚𝕤 𝕟𝕠𝕥𝕖𝕓𝕠𝕠𝕜\"\n",
        "print(f\"Text before removing url:- \\n {sample}\")\n",
        "\n",
        "sample = remove_url(sample)\n",
        "print(f\"Text after removing url:- \\n {sample}\")"
      ]
    },
    {
      "cell_type": "code",
      "execution_count": null,
      "metadata": {
        "colab": {
          "base_uri": "https://localhost:8080/"
        },
        "id": "iCvp6cAaj1sS",
        "outputId": "0e05190f-5865-4387-c459-14d56c7b6911"
      },
      "outputs": [
        {
          "name": "stdout",
          "output_type": "stream",
          "text": [
            "Text before Unicode Normalization:- \n",
            " ℍ𝕚 𝔼𝕧𝕖𝕣𝕪𝕠𝕟𝕖 𝕀 𝕒𝕞 𝔸𝕟𝕜𝕚𝕥 𝔾𝕦𝕡𝕥𝕒 𝕙𝕒𝕧𝕚𝕟𝕘 𝕥𝕙𝕖 𝕗𝕠𝕝𝕝𝕠𝕨𝕚𝕟𝕘 𝕂𝕒𝕘𝕘𝕝𝕖 𝕡𝕣𝕠𝕗𝕚𝕝𝕖 \n",
            "  𝕒𝕟𝕕 𝕀 𝕒𝕞 😊 𝕥𝕠 𝕔𝕣𝕖𝕒𝕥𝕖 𝕥𝕙𝕚𝕤 𝕟𝕠𝕥𝕖𝕓𝕠𝕠𝕜\n",
            "Text after Unicode Normalization:- \n",
            " Hi Everyone I am Ankit Gupta having the following Kaggle profile \n",
            "  and I am 😊 to create this notebook\n"
          ]
        }
      ],
      "source": [
        "import unicodedata as uni\n",
        "\n",
        "print(f\"Text before Unicode Normalization:- \\n {sample}\")\n",
        "\n",
        "sample = uni.normalize('NFKD', sample)\n",
        "print(f\"Text after Unicode Normalization:- \\n {sample}\")"
      ]
    },
    {
      "cell_type": "code",
      "execution_count": null,
      "metadata": {
        "colab": {
          "base_uri": "https://localhost:8080/"
        },
        "id": "czJ1X0KWj1vg",
        "outputId": "12265dce-3fe7-4ab3-afe8-134536c3c222"
      },
      "outputs": [
        {
          "name": "stdout",
          "output_type": "stream",
          "text": [
            "Looking in indexes: https://pypi.org/simple, https://us-python.pkg.dev/colab-wheels/public/simple/\n",
            "Collecting demoji\n",
            "  Downloading demoji-1.1.0-py3-none-any.whl (42 kB)\n",
            "\u001b[K     |████████████████████████████████| 42 kB 1.4 MB/s \n",
            "\u001b[?25hInstalling collected packages: demoji\n",
            "Successfully installed demoji-1.1.0\n"
          ]
        }
      ],
      "source": [
        "!pip install demoji"
      ]
    },
    {
      "cell_type": "code",
      "execution_count": null,
      "metadata": {
        "colab": {
          "base_uri": "https://localhost:8080/"
        },
        "id": "A1MtORYbrHVr",
        "outputId": "a286c041-3b13-4191-fb9c-e2174bf740d7"
      },
      "outputs": [
        {
          "name": "stdout",
          "output_type": "stream",
          "text": [
            "Before Handling emoji:- \n",
            " Hi Everyone I am Ankit Gupta having the following Kaggle profile \n",
            "  and I am 😊 to create this notebook\n",
            "After Handling emoji:- \n",
            " Hi Everyone I am Ankit Gupta having the following Kaggle profile \n",
            "  and I am  smiling face with smiling eyes to create this notebook\n"
          ]
        }
      ],
      "source": [
        "import demoji\n",
        "\n",
        "def handle_emoji(string):\n",
        "    emojis = demoji.findall(string)\n",
        "\n",
        "    for emoji in emojis:\n",
        "        string = string.replace(emoji, \" \" + emojis[emoji].split(\":\")[0])\n",
        "\n",
        "    return string\n",
        "\n",
        "print(f\"Before Handling emoji:- \\n {sample}\")\n",
        "print(f\"After Handling emoji:- \\n {handle_emoji(sample)}\")   "
      ]
    },
    {
      "cell_type": "code",
      "execution_count": null,
      "metadata": {
        "colab": {
          "base_uri": "https://localhost:8080/"
        },
        "id": "y1H9BUV6syiO",
        "outputId": "ec68837b-8f8a-44c2-b92c-8e650bf4f702"
      },
      "outputs": [
        {
          "name": "stdout",
          "output_type": "stream",
          "text": [
            "Looking in indexes: https://pypi.org/simple, https://us-python.pkg.dev/colab-wheels/public/simple/\n",
            "Collecting pyspellchecker\n",
            "  Downloading pyspellchecker-0.7.1-py3-none-any.whl (2.5 MB)\n",
            "\u001b[K     |████████████████████████████████| 2.5 MB 27.4 MB/s \n",
            "\u001b[?25hInstalling collected packages: pyspellchecker\n",
            "Successfully installed pyspellchecker-0.7.1\n"
          ]
        }
      ],
      "source": [
        "!pip install pyspellchecker"
      ]
    },
    {
      "cell_type": "code",
      "execution_count": null,
      "metadata": {
        "colab": {
          "base_uri": "https://localhost:8080/"
        },
        "id": "R2re75_OrHX5",
        "outputId": "1137917f-e8b1-4206-85fc-767d921419a8"
      },
      "outputs": [
        {
          "name": "stdout",
          "output_type": "stream",
          "text": [
            " Misspelled words before correction:- \n",
            " ['nsme', 'mobiile', 'phoone']\n",
            " Misspelled words after correction\n",
            "name\n",
            "mobile\n",
            "phone\n"
          ]
        }
      ],
      "source": [
        "from spellchecker import SpellChecker\n",
        "\n",
        "spell = SpellChecker()\n",
        "\n",
        "# # Add misspelled words to the list\n",
        "misspelled_words = [\"nsme\", \"mobiile\", \"phoone\"]\n",
        "print(f\" Misspelled words before correction:- \\n {misspelled_words}\")\n",
        "print(f\" Misspelled words after correction\")\n",
        "for word in misspelled_words:\n",
        "#     # Get the one `most likely` answer\n",
        "    print(spell.correction(word))"
      ]
    },
    {
      "cell_type": "code",
      "execution_count": null,
      "metadata": {
        "colab": {
          "base_uri": "https://localhost:8080/"
        },
        "id": "bkUg13BgrHaZ",
        "outputId": "6fc5e7da-528a-4b35-e076-28062d641601"
      },
      "outputs": [
        {
          "name": "stdout",
          "output_type": "stream",
          "text": [
            "Hi Everyone I am Ankit Gupta.\n",
            "['hi', 'everyone', 'i', 'am', 'ankit', 'gupta.']\n"
          ]
        }
      ],
      "source": [
        "def word_tokenizer(text):\n",
        "    text = text.lower()\n",
        "    text = text.split()\n",
        "\n",
        "    return text\n",
        "\n",
        "sample = \"Hi Everyone I am Ankit Gupta.\"\n",
        "print(sample)\n",
        "print(word_tokenizer(sample))"
      ]
    },
    {
      "cell_type": "code",
      "execution_count": null,
      "metadata": {
        "id": "skuE54GurHdP"
      },
      "outputs": [],
      "source": [
        "stop_words = {\"isn't\", 'there', 'should', \"that'll\", \"don't\", 'am', 'its', 'been', 't', 'out', 'under', 'same', 'any', 'for', 'ain', 'won', 'between', 'have', \n",
        "          \"you'd\", 'only', 'your', 'who', 'shan', \"you're\", 'by', 'it', 'yourself', 'o', 'isn', \"should've\", 'to', 'were', 'can', 'his', 'an', 'we', 'her', \n",
        "          \"you'll\", 'into', 'such', 'very', 'shouldn', 'when', 'themselves', 'off', 'll', 'myself', \"you've\", 'nor', 'what', 'down', 'himself', 'does', \n",
        "          'mightn', 'yours', 'hers', 'while', 'wouldn', 'than', \"wasn't\", 'until', 've', 'do', 'didn', 'whom', 'needn', 'you', \"aren't\", 'm', 'him', 'each', \n",
        "          'are', 'will', 'again', 'them', 'doing', \"needn't\", 'had', 'she', 'the', \"wouldn't\", 'just', 'at', 'from', 'how', 'they', 'some', 'those', 'where', \n",
        "          'through', 'this', 'then', 'over', 'why', 'couldn', 'ourselves', 'hadn', 'which', 'further', 'now', 'ours', 'aren', 'be', 'hasn', 'other', 'above',\n",
        "          'about', 'up', 'own', 'a', 'don', 'was', 'that', 'wasn', 's', \"couldn't\", \"hasn't\", 'their', 'all', 'because', 'being', 'has', 'theirs', 'and', \n",
        "          'too', 're', 'did', 'y', \"hadn't\", 'most', \"haven't\", 'below', 'before', \"doesn't\", 'in', 'once', 'weren', 'during', 'on', 'these', 'haven', \n",
        "          \"weren't\", 'against', 'of', \"shan't\", 'here', \"mustn't\", 'mustn', 'yourselves', 'our', 'if', 'my', \"didn't\", 'or', 'having', 'as', 'but', 'both', \n",
        "          \"mightn't\", \"it's\", 'herself', 'd', 'no', 'so', 'he', 'few', 'doesn', 'itself', 'me', 'ma', 'not', 'i', \"she's\", 'after', 'is', \"shouldn't\", \n",
        "          \"won't\", 'with', 'more'}"
      ]
    },
    {
      "cell_type": "code",
      "execution_count": null,
      "metadata": {
        "colab": {
          "base_uri": "https://localhost:8080/"
        },
        "id": "yO0pkDkdtdah",
        "outputId": "8dc02fc0-fc8f-41b6-9070-11b9496b2b2c"
      },
      "outputs": [
        {
          "name": "stdout",
          "output_type": "stream",
          "text": [
            "Before removing stopwords : ['hi', 'everyone', 'i', 'am', 'ankit', 'gupta.']\n",
            "After removing stopwords : ['hi', 'everyone', 'ankit', 'gupta.']\n"
          ]
        }
      ],
      "source": [
        "def remove_stopwords(text):\n",
        "    text = [word for word in text if word not in stop_words]\n",
        "    return text\n",
        "\n",
        "print(f\"Before removing stopwords : {word_tokenizer(sample)}\")\n",
        "print(f\"After removing stopwords : {remove_stopwords(word_tokenizer(sample))}\") "
      ]
    },
    {
      "cell_type": "code",
      "execution_count": null,
      "metadata": {
        "colab": {
          "base_uri": "https://localhost:8080/"
        },
        "id": "UHLQqSXEtar8",
        "outputId": "309a16c6-0d1a-4279-b780-7963718f0a66"
      },
      "outputs": [
        {
          "name": "stdout",
          "output_type": "stream",
          "text": [
            "Before Stemming : I am creating a Notebook\n",
            "After Stemming : ['i', 'am', 'creat', 'a', 'notebook']\n"
          ]
        }
      ],
      "source": [
        "from nltk.stem.porter import PorterStemmer\n",
        "from nltk.stem.lancaster import LancasterStemmer\n",
        "\n",
        "stemmer = PorterStemmer()\n",
        "# stemmer = LancasterStemmer()\n",
        "\n",
        "def stemming(text):\n",
        "\n",
        "    text = [stemmer.stem(word) for word in text]\n",
        "    return text\n",
        "\n",
        "sample = \"I am creating a Notebook\"\n",
        "print(f\"Before Stemming : {(sample)}\")\n",
        "print(f\"After Stemming : {stemming(word_tokenizer(sample))}\")"
      ]
    },
    {
      "cell_type": "code",
      "execution_count": null,
      "metadata": {
        "id": "1dr1NHJarHfh"
      },
      "outputs": [],
      "source": [
        "import spacy\n",
        "\n",
        "sp = spacy.load(\"en_core_web_sm\")"
      ]
    },
    {
      "cell_type": "code",
      "execution_count": null,
      "metadata": {
        "colab": {
          "base_uri": "https://localhost:8080/"
        },
        "id": "khph9AWQrHiB",
        "outputId": "48b5740f-22ea-4de6-ea5a-ac212def9950"
      },
      "outputs": [
        {
          "name": "stdout",
          "output_type": "stream",
          "text": [
            "Before Lemmatization : ['i', 'am', 'creating', 'a', 'notebook']\n",
            "After Lemmatization : ['I', 'be', 'create', 'a', 'notebook']\n"
          ]
        }
      ],
      "source": [
        "def lemmatization(text):\n",
        "\n",
        "    # text = [sp(word).lemma_ for word in text]\n",
        "\n",
        "    text = \" \".join(text)\n",
        "    token = sp(text)\n",
        "\n",
        "    text = [word.lemma_ for word in token]\n",
        "    return text\n",
        "\n",
        "print(f\"Before Lemmatization : {word_tokenizer(sample)}\")\n",
        "print(f\"After Lemmatization : {lemmatization(word_tokenizer(sample))}\")"
      ]
    },
    {
      "cell_type": "code",
      "execution_count": null,
      "metadata": {
        "colab": {
          "base_uri": "https://localhost:8080/"
        },
        "id": "PcFTsX-qrHlG",
        "outputId": "490b2203-7d4c-47e7-807c-7fb9a87aafc1"
      },
      "outputs": [
        {
          "name": "stdout",
          "output_type": "stream",
          "text": [
            "Looking in indexes: https://pypi.org/simple, https://us-python.pkg.dev/colab-wheels/public/simple/\n",
            "Collecting langdetect\n",
            "  Downloading langdetect-1.0.9.tar.gz (981 kB)\n",
            "\u001b[K     |████████████████████████████████| 981 kB 27.3 MB/s \n",
            "\u001b[?25hRequirement already satisfied: six in /usr/local/lib/python3.8/dist-packages (from langdetect) (1.15.0)\n",
            "Building wheels for collected packages: langdetect\n",
            "  Building wheel for langdetect (setup.py) ... \u001b[?25l\u001b[?25hdone\n",
            "  Created wheel for langdetect: filename=langdetect-1.0.9-py3-none-any.whl size=993242 sha256=2cba7cb33b8438b21d889f8858cf2d8e5d94978686e351e9b61b0f44c13cbe42\n",
            "  Stored in directory: /root/.cache/pip/wheels/13/c7/b0/79f66658626032e78fc1a83103690ef6797d551cb22e56e734\n",
            "Successfully built langdetect\n",
            "Installing collected packages: langdetect\n",
            "Successfully installed langdetect-1.0.9\n"
          ]
        }
      ],
      "source": [
        "!pip install langdetect"
      ]
    },
    {
      "cell_type": "code",
      "execution_count": null,
      "metadata": {
        "colab": {
          "base_uri": "https://localhost:8080/"
        },
        "id": "mwreQCqnrHnv",
        "outputId": "efa5fa63-abcd-4bc9-e715-97cb50805090"
      },
      "outputs": [
        {
          "name": "stdout",
          "output_type": "stream",
          "text": [
            " \"Hi Everyone I am Ankit Gupta. : tl\n",
            "मेरा नाम अंकित गुप्ता है और मैं एक छात्र हूँ : hi\n"
          ]
        }
      ],
      "source": [
        "from langdetect import detect\n",
        "\n",
        "en_text = u\"\"\"\"Hi Everyone I am Ankit Gupta.\"\"\"\n",
        "print(f\" {en_text} : {detect(en_text)}\")\n",
        "\n",
        "hindi_text = u\"\"\"मेरा नाम अंकित गुप्ता है और मैं एक छात्र हूँ\"\"\"\n",
        "print(f\"{hindi_text} : {detect(hindi_text)}\")"
      ]
    },
    {
      "cell_type": "code",
      "execution_count": null,
      "metadata": {
        "colab": {
          "base_uri": "https://localhost:8080/",
          "height": 223
        },
        "id": "UWEAC_-OrH89",
        "outputId": "ceaa5835-61c2-4cdd-a3be-fe3970fe9da6"
      },
      "outputs": [
        {
          "name": "stderr",
          "output_type": "stream",
          "text": [
            "100%|██████████| 48483/48483 [00:00<00:00, 864365.86it/s]\n"
          ]
        },
        {
          "data": {
            "text/html": [
              "\n",
              "  <div id=\"df-f366cd6d-a6f2-427b-b180-998c43f5fc7b\">\n",
              "    <div class=\"colab-df-container\">\n",
              "      <div>\n",
              "<style scoped>\n",
              "    .dataframe tbody tr th:only-of-type {\n",
              "        vertical-align: middle;\n",
              "    }\n",
              "\n",
              "    .dataframe tbody tr th {\n",
              "        vertical-align: top;\n",
              "    }\n",
              "\n",
              "    .dataframe thead th {\n",
              "        text-align: right;\n",
              "    }\n",
              "</style>\n",
              "<table border=\"1\" class=\"dataframe\">\n",
              "  <thead>\n",
              "    <tr style=\"text-align: right;\">\n",
              "      <th></th>\n",
              "      <th>review</th>\n",
              "      <th>y</th>\n",
              "      <th>ratings</th>\n",
              "    </tr>\n",
              "  </thead>\n",
              "  <tbody>\n",
              "    <tr>\n",
              "      <th>53487</th>\n",
              "      <td>Product is fine and durable.</td>\n",
              "      <td>1</td>\n",
              "      <td>4.0</td>\n",
              "    </tr>\n",
              "    <tr>\n",
              "      <th>53491</th>\n",
              "      <td>Nice</td>\n",
              "      <td>1</td>\n",
              "      <td>4.0</td>\n",
              "    </tr>\n",
              "    <tr>\n",
              "      <th>53492</th>\n",
              "      <td>Very nice phone</td>\n",
              "      <td>1</td>\n",
              "      <td>5.0</td>\n",
              "    </tr>\n",
              "    <tr>\n",
              "      <th>53493</th>\n",
              "      <td>Amazing phone with great Performance..</td>\n",
              "      <td>1</td>\n",
              "      <td>5.0</td>\n",
              "    </tr>\n",
              "    <tr>\n",
              "      <th>53494</th>\n",
              "      <td>There is some problems , sometimes keep restar...</td>\n",
              "      <td>1</td>\n",
              "      <td>5.0</td>\n",
              "    </tr>\n",
              "  </tbody>\n",
              "</table>\n",
              "</div>\n",
              "      <button class=\"colab-df-convert\" onclick=\"convertToInteractive('df-f366cd6d-a6f2-427b-b180-998c43f5fc7b')\"\n",
              "              title=\"Convert this dataframe to an interactive table.\"\n",
              "              style=\"display:none;\">\n",
              "        \n",
              "  <svg xmlns=\"http://www.w3.org/2000/svg\" height=\"24px\"viewBox=\"0 0 24 24\"\n",
              "       width=\"24px\">\n",
              "    <path d=\"M0 0h24v24H0V0z\" fill=\"none\"/>\n",
              "    <path d=\"M18.56 5.44l.94 2.06.94-2.06 2.06-.94-2.06-.94-.94-2.06-.94 2.06-2.06.94zm-11 1L8.5 8.5l.94-2.06 2.06-.94-2.06-.94L8.5 2.5l-.94 2.06-2.06.94zm10 10l.94 2.06.94-2.06 2.06-.94-2.06-.94-.94-2.06-.94 2.06-2.06.94z\"/><path d=\"M17.41 7.96l-1.37-1.37c-.4-.4-.92-.59-1.43-.59-.52 0-1.04.2-1.43.59L10.3 9.45l-7.72 7.72c-.78.78-.78 2.05 0 2.83L4 21.41c.39.39.9.59 1.41.59.51 0 1.02-.2 1.41-.59l7.78-7.78 2.81-2.81c.8-.78.8-2.07 0-2.86zM5.41 20L4 18.59l7.72-7.72 1.47 1.35L5.41 20z\"/>\n",
              "  </svg>\n",
              "      </button>\n",
              "      \n",
              "  <style>\n",
              "    .colab-df-container {\n",
              "      display:flex;\n",
              "      flex-wrap:wrap;\n",
              "      gap: 12px;\n",
              "    }\n",
              "\n",
              "    .colab-df-convert {\n",
              "      background-color: #E8F0FE;\n",
              "      border: none;\n",
              "      border-radius: 50%;\n",
              "      cursor: pointer;\n",
              "      display: none;\n",
              "      fill: #1967D2;\n",
              "      height: 32px;\n",
              "      padding: 0 0 0 0;\n",
              "      width: 32px;\n",
              "    }\n",
              "\n",
              "    .colab-df-convert:hover {\n",
              "      background-color: #E2EBFA;\n",
              "      box-shadow: 0px 1px 2px rgba(60, 64, 67, 0.3), 0px 1px 3px 1px rgba(60, 64, 67, 0.15);\n",
              "      fill: #174EA6;\n",
              "    }\n",
              "\n",
              "    [theme=dark] .colab-df-convert {\n",
              "      background-color: #3B4455;\n",
              "      fill: #D2E3FC;\n",
              "    }\n",
              "\n",
              "    [theme=dark] .colab-df-convert:hover {\n",
              "      background-color: #434B5C;\n",
              "      box-shadow: 0px 1px 3px 1px rgba(0, 0, 0, 0.15);\n",
              "      filter: drop-shadow(0px 1px 2px rgba(0, 0, 0, 0.3));\n",
              "      fill: #FFFFFF;\n",
              "    }\n",
              "  </style>\n",
              "\n",
              "      <script>\n",
              "        const buttonEl =\n",
              "          document.querySelector('#df-f366cd6d-a6f2-427b-b180-998c43f5fc7b button.colab-df-convert');\n",
              "        buttonEl.style.display =\n",
              "          google.colab.kernel.accessAllowed ? 'block' : 'none';\n",
              "\n",
              "        async function convertToInteractive(key) {\n",
              "          const element = document.querySelector('#df-f366cd6d-a6f2-427b-b180-998c43f5fc7b');\n",
              "          const dataTable =\n",
              "            await google.colab.kernel.invokeFunction('convertToInteractive',\n",
              "                                                     [key], {});\n",
              "          if (!dataTable) return;\n",
              "\n",
              "          const docLinkHtml = 'Like what you see? Visit the ' +\n",
              "            '<a target=\"_blank\" href=https://colab.research.google.com/notebooks/data_table.ipynb>data table notebook</a>'\n",
              "            + ' to learn more about interactive tables.';\n",
              "          element.innerHTML = '';\n",
              "          dataTable['output_type'] = 'display_data';\n",
              "          await google.colab.output.renderOutput(dataTable, element);\n",
              "          const docLink = document.createElement('div');\n",
              "          docLink.innerHTML = docLinkHtml;\n",
              "          element.appendChild(docLink);\n",
              "        }\n",
              "      </script>\n",
              "    </div>\n",
              "  </div>\n",
              "  "
            ],
            "text/plain": [
              "                                                  review  y  ratings\n",
              "53487                       Product is fine and durable.  1      4.0\n",
              "53491                                               Nice  1      4.0\n",
              "53492                                    Very nice phone  1      5.0\n",
              "53493             Amazing phone with great Performance..  1      5.0\n",
              "53494  There is some problems , sometimes keep restar...  1      5.0"
            ]
          },
          "execution_count": 26,
          "metadata": {},
          "output_type": "execute_result"
        }
      ],
      "source": [
        "df_temp = df.copy()\n",
        "# Assigning labels to each review\n",
        "\n",
        "def label(y):\n",
        "    if y == 5:\n",
        "        return 1\n",
        "    elif y == 4:\n",
        "        return 1\n",
        "    else:\n",
        "        return 0\n",
        "    \n",
        "from tqdm import tqdm\n",
        "\n",
        "tqdm.pandas()\n",
        "\n",
        "df_temp['y'] = df_temp.ratings.progress_map(label)\n",
        "\n",
        "df_temp = df_temp[['review', 'y', 'ratings']]\n",
        "\n",
        "df_temp.tail()"
      ]
    },
    {
      "cell_type": "code",
      "execution_count": null,
      "metadata": {
        "colab": {
          "base_uri": "https://localhost:8080/"
        },
        "id": "VGjIbsZFrH-p",
        "outputId": "b9224f4c-408c-43d7-f322-4e3e6f6dffa4"
      },
      "outputs": [
        {
          "data": {
            "text/plain": [
              "1    44746\n",
              "0     3737\n",
              "Name: y, dtype: int64"
            ]
          },
          "execution_count": 27,
          "metadata": {},
          "output_type": "execute_result"
        }
      ],
      "source": [
        "df_temp.y.value_counts()"
      ]
    },
    {
      "cell_type": "code",
      "execution_count": null,
      "metadata": {
        "colab": {
          "base_uri": "https://localhost:8080/",
          "height": 279
        },
        "id": "x4KTQYkErIAt",
        "outputId": "5f8e8569-66b4-4b65-c03c-3b111c79bd54"
      },
      "outputs": [
        {
          "data": {
            "image/png": "[encoded data removed]",
            "text/plain": [
              "<Figure size 432x288 with 1 Axes>"
            ]
          },
          "metadata": {},
          "output_type": "display_data"
        }
      ],
      "source": [
        "import seaborn as sns\n",
        "\n",
        "sns.countplot(x = \"y\", data = df_temp)\n",
        "plt.show()"
      ]
    },
    {
      "cell_type": "code",
      "execution_count": null,
      "metadata": {
        "colab": {
          "base_uri": "https://localhost:8080/"
        },
        "id": "eaQty63grICT",
        "outputId": "72e974c4-cba8-4dd1-c2a9-d39790fda1af"
      },
      "outputs": [
        {
          "data": {
            "text/plain": [
              "4803"
            ]
          },
          "execution_count": 29,
          "metadata": {},
          "output_type": "execute_result"
        }
      ],
      "source": [
        "df_temp2 = df_temp[(df_temp['ratings'] == 5)]\n",
        "positive = list(df_temp2[(df_temp2['review'].str.len() > 100) & (df_temp2['review'].str.len() < 350)]['review'])\n",
        "len(positive)"
      ]
    },
    {
      "cell_type": "code",
      "execution_count": null,
      "metadata": {
        "colab": {
          "base_uri": "https://localhost:8080/"
        },
        "id": "wryxrTFQrID2",
        "outputId": "764dfac7-55b1-40b0-fad1-124a34323ef6"
      },
      "outputs": [
        {
          "name": "stdout",
          "output_type": "stream",
          "text": [
            "Looking in indexes: https://pypi.org/simple, https://us-python.pkg.dev/colab-wheels/public/simple/\n",
            "Collecting nlpaug\n",
            "  Downloading nlpaug-1.1.11-py3-none-any.whl (410 kB)\n",
            "\u001b[K     |████████████████████████████████| 410 kB 35.1 MB/s \n",
            "\u001b[?25hRequirement already satisfied: gdown>=4.0.0 in /usr/local/lib/python3.8/dist-packages (from nlpaug) (4.4.0)\n",
            "Requirement already satisfied: pandas>=1.2.0 in /usr/local/lib/python3.8/dist-packages (from nlpaug) (1.3.5)\n",
            "Requirement already satisfied: requests>=2.22.0 in /usr/local/lib/python3.8/dist-packages (from nlpaug) (2.23.0)\n",
            "Requirement already satisfied: numpy>=1.16.2 in /usr/local/lib/python3.8/dist-packages (from nlpaug) (1.21.6)\n",
            "Requirement already satisfied: beautifulsoup4 in /usr/local/lib/python3.8/dist-packages (from gdown>=4.0.0->nlpaug) (4.6.3)\n",
            "Requirement already satisfied: six in /usr/local/lib/python3.8/dist-packages (from gdown>=4.0.0->nlpaug) (1.15.0)\n",
            "Requirement already satisfied: tqdm in /usr/local/lib/python3.8/dist-packages (from gdown>=4.0.0->nlpaug) (4.64.1)\n",
            "Requirement already satisfied: filelock in /usr/local/lib/python3.8/dist-packages (from gdown>=4.0.0->nlpaug) (3.8.2)\n",
            "Requirement already satisfied: pytz>=2017.3 in /usr/local/lib/python3.8/dist-packages (from pandas>=1.2.0->nlpaug) (2022.6)\n",
            "Requirement already satisfied: python-dateutil>=2.7.3 in /usr/local/lib/python3.8/dist-packages (from pandas>=1.2.0->nlpaug) (2.8.2)\n",
            "Requirement already satisfied: certifi>=2017.4.17 in /usr/local/lib/python3.8/dist-packages (from requests>=2.22.0->nlpaug) (2022.12.7)\n",
            "Requirement already satisfied: chardet<4,>=3.0.2 in /usr/local/lib/python3.8/dist-packages (from requests>=2.22.0->nlpaug) (3.0.4)\n",
            "Requirement already satisfied: idna<3,>=2.5 in /usr/local/lib/python3.8/dist-packages (from requests>=2.22.0->nlpaug) (2.10)\n",
            "Requirement already satisfied: urllib3!=1.25.0,!=1.25.1,<1.26,>=1.21.1 in /usr/local/lib/python3.8/dist-packages (from requests>=2.22.0->nlpaug) (1.24.3)\n",
            "Requirement already satisfied: PySocks!=1.5.7,>=1.5.6 in /usr/local/lib/python3.8/dist-packages (from requests>=2.22.0->nlpaug) (1.7.1)\n",
            "Installing collected packages: nlpaug\n",
            "Successfully installed nlpaug-1.1.11\n"
          ]
        }
      ],
      "source": [
        "!pip install nlpaug "
      ]
    },
    {
      "cell_type": "code",
      "execution_count": null,
      "metadata": {
        "id": "XeIhRrPBrIFc"
      },
      "outputs": [],
      "source": [
        "import nlpaug.augmenter.word as naw"
      ]
    },
    {
      "cell_type": "code",
      "execution_count": null,
      "metadata": {
        "colab": {
          "base_uri": "https://localhost:8080/"
        },
        "id": "o4Q6RrmUrIHw",
        "outputId": "7b666cd9-421c-46b4-e980-7423025d291c"
      },
      "outputs": [
        {
          "data": {
            "text/plain": [
              "[\"An amazing smartphone for the price though i didn't like the colors compared to a realme phone in the same price range. It's a reall good second smartphone if you already have a primary device.\",\n",
              " \"Nice product according to its budget. But it's hard to play high Graphics games like pubg on 3GB RAM. It lags even when you play at Smooth Graphics settings. If this is for gaming (High graphics game) purpose, then don't go for 3GB or 2 GB RAM and the rest it works very well.\",\n",
              " 'I gave this phone to my wife as a gift and she loved it so much that she gets great performance and photos of games',\n",
              " 'Every thing is great about the phone but a micro USB connector with a 5000 mah battery kind of suck a type c connector would have been better',\n",
              " 'Very good handset at this price. Nice and great performance. Battery backup is also trustworthy. There is no issue till date after using for a period of 5days. Overall u can buy this phone without hesitation',\n",
              " 'I am happy with your productus policy of discount  and best service flipcart.we wish day by day growth. And give more and more service from your sight.           ThanksHasmukh patel.Ahmedabad. Gujarat',\n",
              " \"Mobile phone is Good..  good camera clarity.. I have one problem with the phone, when I do video calling there is lot of noise, so I can't hear properly, lot of sound disturbance, but when I do voice call.. the sound is clear..\",\n",
              " \"An amazing smartphone for the price though i didn't like the colors compared to a realme phone in the same price range. It's a reall good second smartphone if you already have a primary device.\"]"
            ]
          },
          "execution_count": 32,
          "metadata": {},
          "output_type": "execute_result"
        }
      ],
      "source": [
        "positive[41:49]"
      ]
    },
    {
      "cell_type": "code",
      "execution_count": null,
      "metadata": {
        "colab": {
          "base_uri": "https://localhost:8080/"
        },
        "id": "RzNMhEdPrIKr",
        "outputId": "826dec69-1c03-44a2-9bc7-238b922f2d4c"
      },
      "outputs": [
        {
          "name": "stderr",
          "output_type": "stream",
          "text": [
            "[nltk_data] Downloading package wordnet to /root/nltk_data...\n",
            "[nltk_data] Downloading package omw-1.4 to /root/nltk_data...\n",
            "[nltk_data] Downloading package averaged_perceptron_tagger to\n",
            "[nltk_data]     /root/nltk_data...\n",
            "[nltk_data]   Unzipping taggers/averaged_perceptron_tagger.zip.\n"
          ]
        }
      ],
      "source": [
        "aug = naw.AntonymAug(name='Antonym_Aug', aug_min=1, aug_max=10, aug_p=0.3, lang='eng', stopwords=stop_words, tokenizer=None, \n",
        "                     reverse_tokenizer=None, stopwords_regex=None, verbose=0)\n",
        " \n",
        "aug_negative = aug.augment(positive)"
      ]
    },
    {
      "cell_type": "code",
      "execution_count": null,
      "metadata": {
        "colab": {
          "base_uri": "https://localhost:8080/"
        },
        "id": "FgTlSLWmrIMN",
        "outputId": "e96aa724-15e2-4e3e-d223-b53e63f8f20e"
      },
      "outputs": [
        {
          "data": {
            "text/plain": [
              "4803"
            ]
          },
          "execution_count": 34,
          "metadata": {},
          "output_type": "execute_result"
        }
      ],
      "source": [
        "len(aug_negative)"
      ]
    },
    {
      "cell_type": "code",
      "execution_count": null,
      "metadata": {
        "id": "yLOOZun_rINs"
      },
      "outputs": [],
      "source": [
        "df_negative = pd.DataFrame({\"review\" : aug_negative, 'y' : [0]*len(aug_negative)})\n",
        "\n",
        "df_positive = pd.DataFrame({\"review\" : positive, 'y' : [1]*len(positive)})"
      ]
    },
    {
      "cell_type": "code",
      "execution_count": null,
      "metadata": {
        "colab": {
          "base_uri": "https://localhost:8080/"
        },
        "id": "vvGPCfe7rIPe",
        "outputId": "473efa92-16dc-43cf-8491-4bb6b6f9b3b8"
      },
      "outputs": [
        {
          "name": "stdout",
          "output_type": "stream",
          "text": [
            "<class 'pandas.core.frame.DataFrame'>\n",
            "RangeIndex: 9606 entries, 0 to 9605\n",
            "Data columns (total 2 columns):\n",
            " #   Column  Non-Null Count  Dtype \n",
            "---  ------  --------------  ----- \n",
            " 0   review  9606 non-null   object\n",
            " 1   y       9606 non-null   int64 \n",
            "dtypes: int64(1), object(1)\n",
            "memory usage: 150.2+ KB\n"
          ]
        }
      ],
      "source": [
        "df_temp = pd.concat([df_negative, df_positive]).sample(frac = 1, random_state = 11).reset_index(drop=True)\n",
        "df_temp.info()"
      ]
    },
    {
      "cell_type": "code",
      "execution_count": null,
      "metadata": {
        "colab": {
          "base_uri": "https://localhost:8080/",
          "height": 206
        },
        "id": "OdQhrpIG3ENl",
        "outputId": "59c17fc6-ddc1-4e9b-d14a-36743903b9da"
      },
      "outputs": [
        {
          "data": {
            "text/html": [
              "\n",
              "  <div id=\"df-aabe7858-aef4-484c-bc07-0d24c3e82dae\">\n",
              "    <div class=\"colab-df-container\">\n",
              "      <div>\n",
              "<style scoped>\n",
              "    .dataframe tbody tr th:only-of-type {\n",
              "        vertical-align: middle;\n",
              "    }\n",
              "\n",
              "    .dataframe tbody tr th {\n",
              "        vertical-align: top;\n",
              "    }\n",
              "\n",
              "    .dataframe thead th {\n",
              "        text-align: right;\n",
              "    }\n",
              "</style>\n",
              "<table border=\"1\" class=\"dataframe\">\n",
              "  <thead>\n",
              "    <tr style=\"text-align: right;\">\n",
              "      <th></th>\n",
              "      <th>review</th>\n",
              "      <th>y</th>\n",
              "    </tr>\n",
              "  </thead>\n",
              "  <tbody>\n",
              "    <tr>\n",
              "      <th>0</th>\n",
              "      <td>great phone in budget. .. pubg performance was...</td>\n",
              "      <td>0</td>\n",
              "    </tr>\n",
              "    <tr>\n",
              "      <th>1</th>\n",
              "      <td>Best Smartphone by Mi in this Range. . stay in...</td>\n",
              "      <td>0</td>\n",
              "    </tr>\n",
              "    <tr>\n",
              "      <th>2</th>\n",
              "      <td>Bad smooth phone. . and back camera quality is...</td>\n",
              "      <td>0</td>\n",
              "    </tr>\n",
              "    <tr>\n",
              "      <th>3</th>\n",
              "      <td>Thise is very nice mobile ...I like it very mu...</td>\n",
              "      <td>1</td>\n",
              "    </tr>\n",
              "    <tr>\n",
              "      <th>4</th>\n",
              "      <td>I m meagerly fall short of ð    All section...</td>\n",
              "      <td>0</td>\n",
              "    </tr>\n",
              "  </tbody>\n",
              "</table>\n",
              "</div>\n",
              "      <button class=\"colab-df-convert\" onclick=\"convertToInteractive('df-aabe7858-aef4-484c-bc07-0d24c3e82dae')\"\n",
              "              title=\"Convert this dataframe to an interactive table.\"\n",
              "              style=\"display:none;\">\n",
              "        \n",
              "  <svg xmlns=\"http://www.w3.org/2000/svg\" height=\"24px\"viewBox=\"0 0 24 24\"\n",
              "       width=\"24px\">\n",
              "    <path d=\"M0 0h24v24H0V0z\" fill=\"none\"/>\n",
              "    <path d=\"M18.56 5.44l.94 2.06.94-2.06 2.06-.94-2.06-.94-.94-2.06-.94 2.06-2.06.94zm-11 1L8.5 8.5l.94-2.06 2.06-.94-2.06-.94L8.5 2.5l-.94 2.06-2.06.94zm10 10l.94 2.06.94-2.06 2.06-.94-2.06-.94-.94-2.06-.94 2.06-2.06.94z\"/><path d=\"M17.41 7.96l-1.37-1.37c-.4-.4-.92-.59-1.43-.59-.52 0-1.04.2-1.43.59L10.3 9.45l-7.72 7.72c-.78.78-.78 2.05 0 2.83L4 21.41c.39.39.9.59 1.41.59.51 0 1.02-.2 1.41-.59l7.78-7.78 2.81-2.81c.8-.78.8-2.07 0-2.86zM5.41 20L4 18.59l7.72-7.72 1.47 1.35L5.41 20z\"/>\n",
              "  </svg>\n",
              "      </button>\n",
              "      \n",
              "  <style>\n",
              "    .colab-df-container {\n",
              "      display:flex;\n",
              "      flex-wrap:wrap;\n",
              "      gap: 12px;\n",
              "    }\n",
              "\n",
              "    .colab-df-convert {\n",
              "      background-color: #E8F0FE;\n",
              "      border: none;\n",
              "      border-radius: 50%;\n",
              "      cursor: pointer;\n",
              "      display: none;\n",
              "      fill: #1967D2;\n",
              "      height: 32px;\n",
              "      padding: 0 0 0 0;\n",
              "      width: 32px;\n",
              "    }\n",
              "\n",
              "    .colab-df-convert:hover {\n",
              "      background-color: #E2EBFA;\n",
              "      box-shadow: 0px 1px 2px rgba(60, 64, 67, 0.3), 0px 1px 3px 1px rgba(60, 64, 67, 0.15);\n",
              "      fill: #174EA6;\n",
              "    }\n",
              "\n",
              "    [theme=dark] .colab-df-convert {\n",
              "      background-color: #3B4455;\n",
              "      fill: #D2E3FC;\n",
              "    }\n",
              "\n",
              "    [theme=dark] .colab-df-convert:hover {\n",
              "      background-color: #434B5C;\n",
              "      box-shadow: 0px 1px 3px 1px rgba(0, 0, 0, 0.15);\n",
              "      filter: drop-shadow(0px 1px 2px rgba(0, 0, 0, 0.3));\n",
              "      fill: #FFFFFF;\n",
              "    }\n",
              "  </style>\n",
              "\n",
              "      <script>\n",
              "        const buttonEl =\n",
              "          document.querySelector('#df-aabe7858-aef4-484c-bc07-0d24c3e82dae button.colab-df-convert');\n",
              "        buttonEl.style.display =\n",
              "          google.colab.kernel.accessAllowed ? 'block' : 'none';\n",
              "\n",
              "        async function convertToInteractive(key) {\n",
              "          const element = document.querySelector('#df-aabe7858-aef4-484c-bc07-0d24c3e82dae');\n",
              "          const dataTable =\n",
              "            await google.colab.kernel.invokeFunction('convertToInteractive',\n",
              "                                                     [key], {});\n",
              "          if (!dataTable) return;\n",
              "\n",
              "          const docLinkHtml = 'Like what you see? Visit the ' +\n",
              "            '<a target=\"_blank\" href=https://colab.research.google.com/notebooks/data_table.ipynb>data table notebook</a>'\n",
              "            + ' to learn more about interactive tables.';\n",
              "          element.innerHTML = '';\n",
              "          dataTable['output_type'] = 'display_data';\n",
              "          await google.colab.output.renderOutput(dataTable, element);\n",
              "          const docLink = document.createElement('div');\n",
              "          docLink.innerHTML = docLinkHtml;\n",
              "          element.appendChild(docLink);\n",
              "        }\n",
              "      </script>\n",
              "    </div>\n",
              "  </div>\n",
              "  "
            ],
            "text/plain": [
              "                                              review  y\n",
              "0  great phone in budget. .. pubg performance was...  0\n",
              "1  Best Smartphone by Mi in this Range. . stay in...  0\n",
              "2  Bad smooth phone. . and back camera quality is...  0\n",
              "3  Thise is very nice mobile ...I like it very mu...  1\n",
              "4  I m meagerly fall short of ð    All section...  0"
            ]
          },
          "execution_count": 37,
          "metadata": {},
          "output_type": "execute_result"
        }
      ],
      "source": [
        "df_temp.head()"
      ]
    },
    {
      "cell_type": "code",
      "execution_count": null,
      "metadata": {
        "id": "78ncbOgi3EP9"
      },
      "outputs": [],
      "source": [
        "df = df_temp"
      ]
    },
    {
      "cell_type": "code",
      "execution_count": null,
      "metadata": {
        "id": "z5kW2jSg3ESO"
      },
      "outputs": [],
      "source": [
        "def preprocessing(text):\n",
        "    \n",
        "    text = remove_url(text) \n",
        "    text = uni.normalize('NFKD', text)\n",
        "    text = handle_emoji(text)\n",
        "    text = text.lower() \n",
        "    text = re.sub(r'[^\\w\\s]', '', text)\n",
        "    text = word_tokenizer(text)\n",
        "    # text = stemming(text)\n",
        "    text = lemmatization(text)\n",
        "    text = remove_stopwords(text)\n",
        "    text = \" \".join(text)\n",
        "\n",
        "    return text"
      ]
    },
    {
      "cell_type": "code",
      "execution_count": null,
      "metadata": {
        "colab": {
          "base_uri": "https://localhost:8080/"
        },
        "id": "uZpvlWXJ3EUg",
        "outputId": "dcfd91d8-089a-4617-ec33-f20bcbab2074"
      },
      "outputs": [
        {
          "name": "stderr",
          "output_type": "stream",
          "text": [
            "100%|██████████| 9606/9606 [01:54<00:00, 83.95it/s] \n"
          ]
        }
      ],
      "source": [
        "from tqdm import tqdm\n",
        "\n",
        "tqdm.pandas()\n",
        "df['clean_review'] = df['review'].progress_map(preprocessing)"
      ]
    },
    {
      "cell_type": "code",
      "execution_count": null,
      "metadata": {
        "colab": {
          "base_uri": "https://localhost:8080/",
          "height": 320
        },
        "id": "JoELz9jR3EW5",
        "outputId": "124dad76-8677-4089-e670-9b575f4f4b64"
      },
      "outputs": [
        {
          "data": {
            "text/html": [
              "\n",
              "  <div id=\"df-ff47d03b-0a29-457c-ba34-60e8b9e81b15\">\n",
              "    <div class=\"colab-df-container\">\n",
              "      <div>\n",
              "<style scoped>\n",
              "    .dataframe tbody tr th:only-of-type {\n",
              "        vertical-align: middle;\n",
              "    }\n",
              "\n",
              "    .dataframe tbody tr th {\n",
              "        vertical-align: top;\n",
              "    }\n",
              "\n",
              "    .dataframe thead th {\n",
              "        text-align: right;\n",
              "    }\n",
              "</style>\n",
              "<table border=\"1\" class=\"dataframe\">\n",
              "  <thead>\n",
              "    <tr style=\"text-align: right;\">\n",
              "      <th></th>\n",
              "      <th>review</th>\n",
              "      <th>y</th>\n",
              "      <th>clean_review</th>\n",
              "    </tr>\n",
              "  </thead>\n",
              "  <tbody>\n",
              "    <tr>\n",
              "      <th>0</th>\n",
              "      <td>great phone in budget. .. pubg performance was...</td>\n",
              "      <td>0</td>\n",
              "      <td>great phone budget pubg performance rough came...</td>\n",
              "    </tr>\n",
              "    <tr>\n",
              "      <th>1</th>\n",
              "      <td>Best Smartphone by Mi in this Range. . stay in...</td>\n",
              "      <td>0</td>\n",
              "      <td>good smartphone mi range stay place r confused...</td>\n",
              "    </tr>\n",
              "    <tr>\n",
              "      <th>2</th>\n",
              "      <td>Bad smooth phone. . and back camera quality is...</td>\n",
              "      <td>0</td>\n",
              "      <td>bad smooth phone back camera quality bad rear ...</td>\n",
              "    </tr>\n",
              "    <tr>\n",
              "      <th>3</th>\n",
              "      <td>Thise is very nice mobile ...I like it very mu...</td>\n",
              "      <td>1</td>\n",
              "      <td>thise nice mobile I like much delivery also fa...</td>\n",
              "    </tr>\n",
              "    <tr>\n",
              "      <th>4</th>\n",
              "      <td>I m meagerly fall short of ð    All section...</td>\n",
              "      <td>0</td>\n",
              "      <td>I meagerly fall short ð section r superb deliv...</td>\n",
              "    </tr>\n",
              "  </tbody>\n",
              "</table>\n",
              "</div>\n",
              "      <button class=\"colab-df-convert\" onclick=\"convertToInteractive('df-ff47d03b-0a29-457c-ba34-60e8b9e81b15')\"\n",
              "              title=\"Convert this dataframe to an interactive table.\"\n",
              "              style=\"display:none;\">\n",
              "        \n",
              "  <svg xmlns=\"http://www.w3.org/2000/svg\" height=\"24px\"viewBox=\"0 0 24 24\"\n",
              "       width=\"24px\">\n",
              "    <path d=\"M0 0h24v24H0V0z\" fill=\"none\"/>\n",
              "    <path d=\"M18.56 5.44l.94 2.06.94-2.06 2.06-.94-2.06-.94-.94-2.06-.94 2.06-2.06.94zm-11 1L8.5 8.5l.94-2.06 2.06-.94-2.06-.94L8.5 2.5l-.94 2.06-2.06.94zm10 10l.94 2.06.94-2.06 2.06-.94-2.06-.94-.94-2.06-.94 2.06-2.06.94z\"/><path d=\"M17.41 7.96l-1.37-1.37c-.4-.4-.92-.59-1.43-.59-.52 0-1.04.2-1.43.59L10.3 9.45l-7.72 7.72c-.78.78-.78 2.05 0 2.83L4 21.41c.39.39.9.59 1.41.59.51 0 1.02-.2 1.41-.59l7.78-7.78 2.81-2.81c.8-.78.8-2.07 0-2.86zM5.41 20L4 18.59l7.72-7.72 1.47 1.35L5.41 20z\"/>\n",
              "  </svg>\n",
              "      </button>\n",
              "      \n",
              "  <style>\n",
              "    .colab-df-container {\n",
              "      display:flex;\n",
              "      flex-wrap:wrap;\n",
              "      gap: 12px;\n",
              "    }\n",
              "\n",
              "    .colab-df-convert {\n",
              "      background-color: #E8F0FE;\n",
              "      border: none;\n",
              "      border-radius: 50%;\n",
              "      cursor: pointer;\n",
              "      display: none;\n",
              "      fill: #1967D2;\n",
              "      height: 32px;\n",
              "      padding: 0 0 0 0;\n",
              "      width: 32px;\n",
              "    }\n",
              "\n",
              "    .colab-df-convert:hover {\n",
              "      background-color: #E2EBFA;\n",
              "      box-shadow: 0px 1px 2px rgba(60, 64, 67, 0.3), 0px 1px 3px 1px rgba(60, 64, 67, 0.15);\n",
              "      fill: #174EA6;\n",
              "    }\n",
              "\n",
              "    [theme=dark] .colab-df-convert {\n",
              "      background-color: #3B4455;\n",
              "      fill: #D2E3FC;\n",
              "    }\n",
              "\n",
              "    [theme=dark] .colab-df-convert:hover {\n",
              "      background-color: #434B5C;\n",
              "      box-shadow: 0px 1px 3px 1px rgba(0, 0, 0, 0.15);\n",
              "      filter: drop-shadow(0px 1px 2px rgba(0, 0, 0, 0.3));\n",
              "      fill: #FFFFFF;\n",
              "    }\n",
              "  </style>\n",
              "\n",
              "      <script>\n",
              "        const buttonEl =\n",
              "          document.querySelector('#df-ff47d03b-0a29-457c-ba34-60e8b9e81b15 button.colab-df-convert');\n",
              "        buttonEl.style.display =\n",
              "          google.colab.kernel.accessAllowed ? 'block' : 'none';\n",
              "\n",
              "        async function convertToInteractive(key) {\n",
              "          const element = document.querySelector('#df-ff47d03b-0a29-457c-ba34-60e8b9e81b15');\n",
              "          const dataTable =\n",
              "            await google.colab.kernel.invokeFunction('convertToInteractive',\n",
              "                                                     [key], {});\n",
              "          if (!dataTable) return;\n",
              "\n",
              "          const docLinkHtml = 'Like what you see? Visit the ' +\n",
              "            '<a target=\"_blank\" href=https://colab.research.google.com/notebooks/data_table.ipynb>data table notebook</a>'\n",
              "            + ' to learn more about interactive tables.';\n",
              "          element.innerHTML = '';\n",
              "          dataTable['output_type'] = 'display_data';\n",
              "          await google.colab.output.renderOutput(dataTable, element);\n",
              "          const docLink = document.createElement('div');\n",
              "          docLink.innerHTML = docLinkHtml;\n",
              "          element.appendChild(docLink);\n",
              "        }\n",
              "      </script>\n",
              "    </div>\n",
              "  </div>\n",
              "  "
            ],
            "text/plain": [
              "                                              review  y  \\\n",
              "0  great phone in budget. .. pubg performance was...  0   \n",
              "1  Best Smartphone by Mi in this Range. . stay in...  0   \n",
              "2  Bad smooth phone. . and back camera quality is...  0   \n",
              "3  Thise is very nice mobile ...I like it very mu...  1   \n",
              "4  I m meagerly fall short of ð    All section...  0   \n",
              "\n",
              "                                        clean_review  \n",
              "0  great phone budget pubg performance rough came...  \n",
              "1  good smartphone mi range stay place r confused...  \n",
              "2  bad smooth phone back camera quality bad rear ...  \n",
              "3  thise nice mobile I like much delivery also fa...  \n",
              "4  I meagerly fall short ð section r superb deliv...  "
            ]
          },
          "execution_count": 41,
          "metadata": {},
          "output_type": "execute_result"
        }
      ],
      "source": [
        "df.head()"
      ]
    },
    {
      "cell_type": "code",
      "execution_count": null,
      "metadata": {
        "id": "SO00Zimz3EZQ"
      },
      "outputs": [],
      "source": [
        "reviews = df.clean_review.values.tolist()"
      ]
    },
    {
      "cell_type": "code",
      "execution_count": null,
      "metadata": {
        "colab": {
          "base_uri": "https://localhost:8080/"
        },
        "id": "5iTMh-3T3Ebf",
        "outputId": "9473bc28-2440-4331-f2a0-1b0a23aeaa6c"
      },
      "outputs": [
        {
          "name": "stderr",
          "output_type": "stream",
          "text": [
            "100%|██████████| 9606/9606 [00:00<00:00, 189418.65it/s]\n"
          ]
        }
      ],
      "source": [
        "from tqdm import tqdm\n",
        "\n",
        "tqdm.pandas()\n",
        "df['clean_review2'] = df['clean_review'].progress_map(word_tokenizer)"
      ]
    },
    {
      "cell_type": "code",
      "execution_count": null,
      "metadata": {
        "colab": {
          "base_uri": "https://localhost:8080/",
          "height": 337
        },
        "id": "1xO9Dt573EeD",
        "outputId": "5be2e673-d877-49b7-822e-e6ee71195779"
      },
      "outputs": [
        {
          "data": {
            "text/html": [
              "\n",
              "  <div id=\"df-826a0812-1304-41df-bbc7-ea8b4335253d\">\n",
              "    <div class=\"colab-df-container\">\n",
              "      <div>\n",
              "<style scoped>\n",
              "    .dataframe tbody tr th:only-of-type {\n",
              "        vertical-align: middle;\n",
              "    }\n",
              "\n",
              "    .dataframe tbody tr th {\n",
              "        vertical-align: top;\n",
              "    }\n",
              "\n",
              "    .dataframe thead th {\n",
              "        text-align: right;\n",
              "    }\n",
              "</style>\n",
              "<table border=\"1\" class=\"dataframe\">\n",
              "  <thead>\n",
              "    <tr style=\"text-align: right;\">\n",
              "      <th></th>\n",
              "      <th>review</th>\n",
              "      <th>y</th>\n",
              "      <th>clean_review</th>\n",
              "      <th>clean_review2</th>\n",
              "    </tr>\n",
              "  </thead>\n",
              "  <tbody>\n",
              "    <tr>\n",
              "      <th>0</th>\n",
              "      <td>great phone in budget. .. pubg performance was...</td>\n",
              "      <td>0</td>\n",
              "      <td>great phone budget pubg performance rough came...</td>\n",
              "      <td>[great, phone, budget, pubg, performance, roug...</td>\n",
              "    </tr>\n",
              "    <tr>\n",
              "      <th>1</th>\n",
              "      <td>Best Smartphone by Mi in this Range. . stay in...</td>\n",
              "      <td>0</td>\n",
              "      <td>good smartphone mi range stay place r confused...</td>\n",
              "      <td>[good, smartphone, mi, range, stay, place, r, ...</td>\n",
              "    </tr>\n",
              "    <tr>\n",
              "      <th>2</th>\n",
              "      <td>Bad smooth phone. . and back camera quality is...</td>\n",
              "      <td>0</td>\n",
              "      <td>bad smooth phone back camera quality bad rear ...</td>\n",
              "      <td>[bad, smooth, phone, back, camera, quality, ba...</td>\n",
              "    </tr>\n",
              "    <tr>\n",
              "      <th>3</th>\n",
              "      <td>Thise is very nice mobile ...I like it very mu...</td>\n",
              "      <td>1</td>\n",
              "      <td>thise nice mobile I like much delivery also fa...</td>\n",
              "      <td>[thise, nice, mobile, i, like, much, delivery,...</td>\n",
              "    </tr>\n",
              "    <tr>\n",
              "      <th>4</th>\n",
              "      <td>I m meagerly fall short of ð    All section...</td>\n",
              "      <td>0</td>\n",
              "      <td>I meagerly fall short ð section r superb deliv...</td>\n",
              "      <td>[i, meagerly, fall, short, ð, section, r, supe...</td>\n",
              "    </tr>\n",
              "  </tbody>\n",
              "</table>\n",
              "</div>\n",
              "      <button class=\"colab-df-convert\" onclick=\"convertToInteractive('df-826a0812-1304-41df-bbc7-ea8b4335253d')\"\n",
              "              title=\"Convert this dataframe to an interactive table.\"\n",
              "              style=\"display:none;\">\n",
              "        \n",
              "  <svg xmlns=\"http://www.w3.org/2000/svg\" height=\"24px\"viewBox=\"0 0 24 24\"\n",
              "       width=\"24px\">\n",
              "    <path d=\"M0 0h24v24H0V0z\" fill=\"none\"/>\n",
              "    <path d=\"M18.56 5.44l.94 2.06.94-2.06 2.06-.94-2.06-.94-.94-2.06-.94 2.06-2.06.94zm-11 1L8.5 8.5l.94-2.06 2.06-.94-2.06-.94L8.5 2.5l-.94 2.06-2.06.94zm10 10l.94 2.06.94-2.06 2.06-.94-2.06-.94-.94-2.06-.94 2.06-2.06.94z\"/><path d=\"M17.41 7.96l-1.37-1.37c-.4-.4-.92-.59-1.43-.59-.52 0-1.04.2-1.43.59L10.3 9.45l-7.72 7.72c-.78.78-.78 2.05 0 2.83L4 21.41c.39.39.9.59 1.41.59.51 0 1.02-.2 1.41-.59l7.78-7.78 2.81-2.81c.8-.78.8-2.07 0-2.86zM5.41 20L4 18.59l7.72-7.72 1.47 1.35L5.41 20z\"/>\n",
              "  </svg>\n",
              "      </button>\n",
              "      \n",
              "  <style>\n",
              "    .colab-df-container {\n",
              "      display:flex;\n",
              "      flex-wrap:wrap;\n",
              "      gap: 12px;\n",
              "    }\n",
              "\n",
              "    .colab-df-convert {\n",
              "      background-color: #E8F0FE;\n",
              "      border: none;\n",
              "      border-radius: 50%;\n",
              "      cursor: pointer;\n",
              "      display: none;\n",
              "      fill: #1967D2;\n",
              "      height: 32px;\n",
              "      padding: 0 0 0 0;\n",
              "      width: 32px;\n",
              "    }\n",
              "\n",
              "    .colab-df-convert:hover {\n",
              "      background-color: #E2EBFA;\n",
              "      box-shadow: 0px 1px 2px rgba(60, 64, 67, 0.3), 0px 1px 3px 1px rgba(60, 64, 67, 0.15);\n",
              "      fill: #174EA6;\n",
              "    }\n",
              "\n",
              "    [theme=dark] .colab-df-convert {\n",
              "      background-color: #3B4455;\n",
              "      fill: #D2E3FC;\n",
              "    }\n",
              "\n",
              "    [theme=dark] .colab-df-convert:hover {\n",
              "      background-color: #434B5C;\n",
              "      box-shadow: 0px 1px 3px 1px rgba(0, 0, 0, 0.15);\n",
              "      filter: drop-shadow(0px 1px 2px rgba(0, 0, 0, 0.3));\n",
              "      fill: #FFFFFF;\n",
              "    }\n",
              "  </style>\n",
              "\n",
              "      <script>\n",
              "        const buttonEl =\n",
              "          document.querySelector('#df-826a0812-1304-41df-bbc7-ea8b4335253d button.colab-df-convert');\n",
              "        buttonEl.style.display =\n",
              "          google.colab.kernel.accessAllowed ? 'block' : 'none';\n",
              "\n",
              "        async function convertToInteractive(key) {\n",
              "          const element = document.querySelector('#df-826a0812-1304-41df-bbc7-ea8b4335253d');\n",
              "          const dataTable =\n",
              "            await google.colab.kernel.invokeFunction('convertToInteractive',\n",
              "                                                     [key], {});\n",
              "          if (!dataTable) return;\n",
              "\n",
              "          const docLinkHtml = 'Like what you see? Visit the ' +\n",
              "            '<a target=\"_blank\" href=https://colab.research.google.com/notebooks/data_table.ipynb>data table notebook</a>'\n",
              "            + ' to learn more about interactive tables.';\n",
              "          element.innerHTML = '';\n",
              "          dataTable['output_type'] = 'display_data';\n",
              "          await google.colab.output.renderOutput(dataTable, element);\n",
              "          const docLink = document.createElement('div');\n",
              "          docLink.innerHTML = docLinkHtml;\n",
              "          element.appendChild(docLink);\n",
              "        }\n",
              "      </script>\n",
              "    </div>\n",
              "  </div>\n",
              "  "
            ],
            "text/plain": [
              "                                              review  y  \\\n",
              "0  great phone in budget. .. pubg performance was...  0   \n",
              "1  Best Smartphone by Mi in this Range. . stay in...  0   \n",
              "2  Bad smooth phone. . and back camera quality is...  0   \n",
              "3  Thise is very nice mobile ...I like it very mu...  1   \n",
              "4  I m meagerly fall short of ð    All section...  0   \n",
              "\n",
              "                                        clean_review  \\\n",
              "0  great phone budget pubg performance rough came...   \n",
              "1  good smartphone mi range stay place r confused...   \n",
              "2  bad smooth phone back camera quality bad rear ...   \n",
              "3  thise nice mobile I like much delivery also fa...   \n",
              "4  I meagerly fall short ð section r superb deliv...   \n",
              "\n",
              "                                       clean_review2  \n",
              "0  [great, phone, budget, pubg, performance, roug...  \n",
              "1  [good, smartphone, mi, range, stay, place, r, ...  \n",
              "2  [bad, smooth, phone, back, camera, quality, ba...  \n",
              "3  [thise, nice, mobile, i, like, much, delivery,...  \n",
              "4  [i, meagerly, fall, short, ð, section, r, supe...  "
            ]
          },
          "execution_count": 44,
          "metadata": {},
          "output_type": "execute_result"
        }
      ],
      "source": [
        "df.head()"
      ]
    },
    {
      "cell_type": "code",
      "execution_count": null,
      "metadata": {
        "colab": {
          "base_uri": "https://localhost:8080/"
        },
        "id": "DabEIs-l3EgM",
        "outputId": "28deb5b8-be40-48a9-eb8b-75f7d99ad960"
      },
      "outputs": [
        {
          "data": {
            "text/plain": [
              "9606"
            ]
          },
          "execution_count": 45,
          "metadata": {},
          "output_type": "execute_result"
        }
      ],
      "source": [
        "data_words = df['clean_review2'].values.tolist()\n",
        "len(data_words)"
      ]
    },
    {
      "cell_type": "code",
      "execution_count": null,
      "metadata": {
        "colab": {
          "base_uri": "https://localhost:8080/"
        },
        "id": "_OSFU22Y-Sxk",
        "outputId": "cb6ae88c-20c3-4fb7-fe6f-c5f8f3e9c0f8"
      },
      "outputs": [
        {
          "name": "stdout",
          "output_type": "stream",
          "text": [
            "[['great', 'phone', 'budget', 'pubg', 'performance', 'rough', 'camera', 'worsen', 'worn', 'update', 'ni', 'mode', 'cam', 'aadde', 'phone', 'also', 'bad', 'stupid', 'phone']]\n"
          ]
        }
      ],
      "source": [
        "import gensim\n",
        "data = list(df['clean_review'])\n",
        "\n",
        "def sent_to_words(sentences):\n",
        "    for sentence in sentences:\n",
        "        yield(gensim.utils.simple_preprocess(str(sentence), deacc=True))  # deacc=True removes punctuations\n",
        "\n",
        "data_words = list(sent_to_words(data))\n",
        "\n",
        "print(data_words[:1])"
      ]
    },
    {
      "cell_type": "code",
      "execution_count": null,
      "metadata": {
        "colab": {
          "base_uri": "https://localhost:8080/"
        },
        "id": "yZcVli7g-S3l",
        "outputId": "c7490d5d-a855-4137-d6fe-8af2f906ab57"
      },
      "outputs": [
        {
          "name": "stderr",
          "output_type": "stream",
          "text": [
            "/usr/local/lib/python3.8/dist-packages/gensim/models/phrases.py:598: UserWarning: For a faster implementation, use the gensim.models.phrases.Phraser class\n",
            "  warnings.warn(\"For a faster implementation, use the gensim.models.phrases.Phraser class\")\n"
          ]
        },
        {
          "name": "stdout",
          "output_type": "stream",
          "text": [
            "['great', 'phone', 'budget', 'pubg', 'performance', 'rough', 'camera', 'worsen', 'worn', 'update', 'ni', 'mode', 'cam', 'aadde', 'phone', 'also', 'bad', 'stupid', 'phone']\n"
          ]
        }
      ],
      "source": [
        "# Build the bigram and trigram models\n",
        "bigram = gensim.models.Phrases(data_words, min_count=5, threshold=100) # higher threshold fewer phrases.\n",
        "trigram = gensim.models.Phrases(bigram[data_words], threshold=100)  \n",
        "\n",
        "# Faster way to get a sentence clubbed as a trigram/bigram\n",
        "bigram_mod = gensim.models.phrases.Phraser(bigram)\n",
        "trigram_mod = gensim.models.phrases.Phraser(trigram)\n",
        "\n",
        "# See trigram example\n",
        "print(trigram_mod[bigram_mod[data_words[0]]])"
      ]
    },
    {
      "cell_type": "code",
      "execution_count": null,
      "metadata": {
        "colab": {
          "base_uri": "https://localhost:8080/"
        },
        "id": "NISo0KtA-S6x",
        "outputId": "27a96270-6010-4561-9566-d596a0759062"
      },
      "outputs": [
        {
          "name": "stderr",
          "output_type": "stream",
          "text": [
            "[nltk_data] Downloading package stopwords to /root/nltk_data...\n",
            "[nltk_data]   Unzipping corpora/stopwords.zip.\n"
          ]
        }
      ],
      "source": [
        "import nltk\n",
        "nltk.download('stopwords')\n",
        "\n",
        "# Define functions for stopwords, bigrams, trigrams and lemmatization\n",
        "def remove_stopwords(texts):\n",
        "    return [[word for word in simple_preprocess(str(doc)) if word not in stop_words] for doc in texts]\n",
        "\n",
        "def make_bigrams(texts):\n",
        "    return [bigram_mod[doc] for doc in texts]\n",
        "\n",
        "def make_trigrams(texts):\n",
        "    return [trigram_mod[bigram_mod[doc]] for doc in texts]\n",
        "\n",
        "def lemmatization(texts, allowed_postags=['NOUN', 'ADJ', 'VERB', 'ADV']):\n",
        "    \"\"\"https://spacy.io/api/annotation\"\"\"\n",
        "    texts_out = []\n",
        "    for sent in texts:\n",
        "        doc = nlp(\" \".join(sent)) \n",
        "        texts_out.append([token.lemma_ for token in doc if token.pos_ in allowed_postags])\n",
        "    return texts_out"
      ]
    },
    {
      "cell_type": "code",
      "execution_count": null,
      "metadata": {
        "colab": {
          "base_uri": "https://localhost:8080/"
        },
        "id": "w0qtsy6o-S94",
        "outputId": "9a0c5d6a-404d-4bcc-fef3-41b0bc74e89d"
      },
      "outputs": [
        {
          "name": "stdout",
          "output_type": "stream",
          "text": [
            "\u001b[38;5;3m⚠ As of spaCy v3.0, shortcuts like 'en' are deprecated. Please use the\n",
            "full pipeline package name 'en_core_web_sm' instead.\u001b[0m\n",
            "Looking in indexes: https://pypi.org/simple, https://us-python.pkg.dev/colab-wheels/public/simple/\n",
            "Collecting en-core-web-sm==3.4.1\n",
            "  Downloading https://github.com/explosion/spacy-models/releases/download/en_core_web_sm-3.4.1/en_core_web_sm-3.4.1-py3-none-any.whl (12.8 MB)\n",
            "\u001b[K     |████████████████████████████████| 12.8 MB 572 kB/s \n",
            "\u001b[?25hRequirement already satisfied: spacy<3.5.0,>=3.4.0 in /usr/local/lib/python3.8/dist-packages (from en-core-web-sm==3.4.1) (3.4.4)\n",
            "Requirement already satisfied: cymem<2.1.0,>=2.0.2 in /usr/local/lib/python3.8/dist-packages (from spacy<3.5.0,>=3.4.0->en-core-web-sm==3.4.1) (2.0.7)\n",
            "Requirement already satisfied: spacy-loggers<2.0.0,>=1.0.0 in /usr/local/lib/python3.8/dist-packages (from spacy<3.5.0,>=3.4.0->en-core-web-sm==3.4.1) (1.0.4)\n",
            "Requirement already satisfied: langcodes<4.0.0,>=3.2.0 in /usr/local/lib/python3.8/dist-packages (from spacy<3.5.0,>=3.4.0->en-core-web-sm==3.4.1) (3.3.0)\n",
            "Requirement already satisfied: jinja2 in /usr/local/lib/python3.8/dist-packages (from spacy<3.5.0,>=3.4.0->en-core-web-sm==3.4.1) (2.11.3)\n",
            "Requirement already satisfied: murmurhash<1.1.0,>=0.28.0 in /usr/local/lib/python3.8/dist-packages (from spacy<3.5.0,>=3.4.0->en-core-web-sm==3.4.1) (1.0.9)\n",
            "Requirement already satisfied: setuptools in /usr/local/lib/python3.8/dist-packages (from spacy<3.5.0,>=3.4.0->en-core-web-sm==3.4.1) (57.4.0)\n",
            "Requirement already satisfied: pathy>=0.3.5 in /usr/local/lib/python3.8/dist-packages (from spacy<3.5.0,>=3.4.0->en-core-web-sm==3.4.1) (0.10.1)\n",
            "Requirement already satisfied: packaging>=20.0 in /usr/local/lib/python3.8/dist-packages (from spacy<3.5.0,>=3.4.0->en-core-web-sm==3.4.1) (21.3)\n",
            "Requirement already satisfied: typer<0.8.0,>=0.3.0 in /usr/local/lib/python3.8/dist-packages (from spacy<3.5.0,>=3.4.0->en-core-web-sm==3.4.1) (0.7.0)\n",
            "Requirement already satisfied: wasabi<1.1.0,>=0.9.1 in /usr/local/lib/python3.8/dist-packages (from spacy<3.5.0,>=3.4.0->en-core-web-sm==3.4.1) (0.10.1)\n",
            "Requirement already satisfied: tqdm<5.0.0,>=4.38.0 in /usr/local/lib/python3.8/dist-packages (from spacy<3.5.0,>=3.4.0->en-core-web-sm==3.4.1) (4.64.1)\n",
            "Requirement already satisfied: spacy-legacy<3.1.0,>=3.0.10 in /usr/local/lib/python3.8/dist-packages (from spacy<3.5.0,>=3.4.0->en-core-web-sm==3.4.1) (3.0.10)\n",
            "Requirement already satisfied: smart-open<7.0.0,>=5.2.1 in /usr/local/lib/python3.8/dist-packages (from spacy<3.5.0,>=3.4.0->en-core-web-sm==3.4.1) (6.3.0)\n",
            "Requirement already satisfied: preshed<3.1.0,>=3.0.2 in /usr/local/lib/python3.8/dist-packages (from spacy<3.5.0,>=3.4.0->en-core-web-sm==3.4.1) (3.0.8)\n",
            "Requirement already satisfied: catalogue<2.1.0,>=2.0.6 in /usr/local/lib/python3.8/dist-packages (from spacy<3.5.0,>=3.4.0->en-core-web-sm==3.4.1) (2.0.8)\n",
            "Requirement already satisfied: requests<3.0.0,>=2.13.0 in /usr/local/lib/python3.8/dist-packages (from spacy<3.5.0,>=3.4.0->en-core-web-sm==3.4.1) (2.23.0)\n",
            "Requirement already satisfied: pydantic!=1.8,!=1.8.1,<1.11.0,>=1.7.4 in /usr/local/lib/python3.8/dist-packages (from spacy<3.5.0,>=3.4.0->en-core-web-sm==3.4.1) (1.10.2)\n",
            "Requirement already satisfied: srsly<3.0.0,>=2.4.3 in /usr/local/lib/python3.8/dist-packages (from spacy<3.5.0,>=3.4.0->en-core-web-sm==3.4.1) (2.4.5)\n",
            "Requirement already satisfied: numpy>=1.15.0 in /usr/local/lib/python3.8/dist-packages (from spacy<3.5.0,>=3.4.0->en-core-web-sm==3.4.1) (1.21.6)\n",
            "Requirement already satisfied: thinc<8.2.0,>=8.1.0 in /usr/local/lib/python3.8/dist-packages (from spacy<3.5.0,>=3.4.0->en-core-web-sm==3.4.1) (8.1.5)\n",
            "Requirement already satisfied: pyparsing!=3.0.5,>=2.0.2 in /usr/local/lib/python3.8/dist-packages (from packaging>=20.0->spacy<3.5.0,>=3.4.0->en-core-web-sm==3.4.1) (3.0.9)\n",
            "Requirement already satisfied: typing-extensions>=4.1.0 in /usr/local/lib/python3.8/dist-packages (from pydantic!=1.8,!=1.8.1,<1.11.0,>=1.7.4->spacy<3.5.0,>=3.4.0->en-core-web-sm==3.4.1) (4.4.0)\n",
            "Requirement already satisfied: idna<3,>=2.5 in /usr/local/lib/python3.8/dist-packages (from requests<3.0.0,>=2.13.0->spacy<3.5.0,>=3.4.0->en-core-web-sm==3.4.1) (2.10)\n",
            "Requirement already satisfied: urllib3!=1.25.0,!=1.25.1,<1.26,>=1.21.1 in /usr/local/lib/python3.8/dist-packages (from requests<3.0.0,>=2.13.0->spacy<3.5.0,>=3.4.0->en-core-web-sm==3.4.1) (1.24.3)\n",
            "Requirement already satisfied: chardet<4,>=3.0.2 in /usr/local/lib/python3.8/dist-packages (from requests<3.0.0,>=2.13.0->spacy<3.5.0,>=3.4.0->en-core-web-sm==3.4.1) (3.0.4)\n",
            "Requirement already satisfied: certifi>=2017.4.17 in /usr/local/lib/python3.8/dist-packages (from requests<3.0.0,>=2.13.0->spacy<3.5.0,>=3.4.0->en-core-web-sm==3.4.1) (2022.12.7)\n",
            "Requirement already satisfied: blis<0.8.0,>=0.7.8 in /usr/local/lib/python3.8/dist-packages (from thinc<8.2.0,>=8.1.0->spacy<3.5.0,>=3.4.0->en-core-web-sm==3.4.1) (0.7.9)\n",
            "Requirement already satisfied: confection<1.0.0,>=0.0.1 in /usr/local/lib/python3.8/dist-packages (from thinc<8.2.0,>=8.1.0->spacy<3.5.0,>=3.4.0->en-core-web-sm==3.4.1) (0.0.3)\n",
            "Requirement already satisfied: click<9.0.0,>=7.1.1 in /usr/local/lib/python3.8/dist-packages (from typer<0.8.0,>=0.3.0->spacy<3.5.0,>=3.4.0->en-core-web-sm==3.4.1) (7.1.2)\n",
            "Requirement already satisfied: MarkupSafe>=0.23 in /usr/local/lib/python3.8/dist-packages (from jinja2->spacy<3.5.0,>=3.4.0->en-core-web-sm==3.4.1) (2.0.1)\n",
            "\u001b[38;5;2m✔ Download and installation successful\u001b[0m\n",
            "You can now load the package via spacy.load('en_core_web_sm')\n",
            "[['great', 'phone', 'budget', 'performance', 'rough', 'camera', 'worsen', 'wear', 'update', 'aadde', 'phone', 'also', 'bad', 'stupid', 'phone']]\n"
          ]
        }
      ],
      "source": [
        "from gensim.utils import simple_preprocess\n",
        "import spacy\n",
        "\n",
        "# NLTK Stop words\n",
        "from nltk.corpus import stopwords\n",
        "stop_words = stopwords.words('english')\n",
        "\n",
        "# Remove Stop Words\n",
        "data_words_nostops = remove_stopwords(data_words)\n",
        "\n",
        "# Form Bigrams\n",
        "data_words_bigrams = make_bigrams(data_words_nostops)\n",
        "\n",
        "# Initialize spacy 'en' model, keeping only tagger component (for efficiency)\n",
        "#from spacy_download import load_spacy\n",
        "#nlp = load_spacy(\"en_core_web_sm\", exclude=[\"parser\", \"tagger\"])  # Will download the model if it isn't installed yet\n",
        "!python3 -m spacy download en\n",
        "nlp = spacy.load('en_core_web_sm', disable=['parser', 'ner'])\n",
        "\n",
        "# Do lemmatization keeping only noun, adj, vb, adv\n",
        "data_lemmatized = lemmatization(data_words_bigrams, allowed_postags=['NOUN', 'ADJ', 'VERB', 'ADV'])\n",
        "\n",
        "print(data_lemmatized[:1])"
      ]
    },
    {
      "cell_type": "code",
      "execution_count": null,
      "metadata": {
        "colab": {
          "base_uri": "https://localhost:8080/"
        },
        "id": "26vCzFsG-TBL",
        "outputId": "8e6cf45e-d2c2-40a0-f69d-0697071c71a7"
      },
      "outputs": [
        {
          "name": "stdout",
          "output_type": "stream",
          "text": [
            "[[(0, 1), (1, 1), (2, 1), (3, 1), (4, 1), (5, 1), (6, 1), (7, 3), (8, 1), (9, 1), (10, 1), (11, 1), (12, 1)]]\n"
          ]
        }
      ],
      "source": [
        "import gensim.corpora as corpora\n",
        "\n",
        "# Create Dictionary\n",
        "id2word = corpora.Dictionary(data_lemmatized)\n",
        "\n",
        "# Create Corpus\n",
        "texts = data_lemmatized\n",
        "\n",
        "# Term Document Frequency\n",
        "corpus = [id2word.doc2bow(text) for text in texts]\n",
        "\n",
        "# View\n",
        "print(corpus[:1])"
      ]
    },
    {
      "cell_type": "code",
      "execution_count": null,
      "metadata": {
        "colab": {
          "base_uri": "https://localhost:8080/"
        },
        "id": "fjCNxv-6-TD1",
        "outputId": "94e273db-7703-4303-94ef-8f9c52ca90f0"
      },
      "outputs": [
        {
          "data": {
            "text/plain": [
              "[[('aadde', 1),\n",
              "  ('also', 1),\n",
              "  ('bad', 1),\n",
              "  ('budget', 1),\n",
              "  ('camera', 1),\n",
              "  ('great', 1),\n",
              "  ('performance', 1),\n",
              "  ('phone', 3),\n",
              "  ('rough', 1),\n",
              "  ('stupid', 1),\n",
              "  ('update', 1),\n",
              "  ('wear', 1),\n",
              "  ('worsen', 1)]]"
            ]
          },
          "execution_count": 51,
          "metadata": {},
          "output_type": "execute_result"
        }
      ],
      "source": [
        "# Human readable format of corpus (term-frequency)\n",
        "[[(id2word[id], freq) for id, freq in cp] for cp in corpus[:1]]"
      ]
    },
    {
      "cell_type": "code",
      "execution_count": null,
      "metadata": {
        "id": "mE4XWxfS-TGU"
      },
      "outputs": [],
      "source": [
        "# Build LDA model\n",
        "lda_model = gensim.models.ldamodel.LdaModel(corpus=corpus,\n",
        "                                           id2word=id2word,\n",
        "                                           num_topics=5, \n",
        "                                           random_state=100,\n",
        "                                           update_every=1,\n",
        "                                           chunksize=100,\n",
        "                                           passes=5,\n",
        "                                           alpha='auto',\n",
        "                                           per_word_topics=True)"
      ]
    },
    {
      "cell_type": "code",
      "execution_count": null,
      "metadata": {
        "id": "3kLrcEQX-TIc"
      },
      "outputs": [],
      "source": [
        "lda_model.save(\"/content/drive/MyDrive/flipcart/model_lda_105.model\")"
      ]
    },
    {
      "cell_type": "code",
      "execution_count": null,
      "metadata": {
        "id": "42wxr-N2-TLg"
      },
      "outputs": [],
      "source": [
        "# Load model\n",
        "from gensim.models.ldamodel import LdaModel\n",
        "lda = LdaModel.load(\"/content/drive/MyDrive/flipcart/model_lda_105.model\")"
      ]
    },
    {
      "cell_type": "code",
      "execution_count": null,
      "metadata": {
        "colab": {
          "base_uri": "https://localhost:8080/"
        },
        "id": "o6pidFct-TO5",
        "outputId": "83d7f31f-a721-4f0a-bcb3-406f294d0c0b"
      },
      "outputs": [
        {
          "name": "stdout",
          "output_type": "stream",
          "text": [
            "[(0,\n",
            "  '0.217*\"good\" + 0.041*\"nice\" + 0.038*\"mobile\" + 0.033*\"look\" + 0.029*\"buy\" + '\n",
            "  '0.025*\"love\" + 0.024*\"well\" + 0.020*\"work\" + 0.016*\"go\" + 0.016*\"charge\"'),\n",
            " (1,\n",
            "  '0.085*\"camera\" + 0.077*\"phone\" + 0.058*\"battery\" + 0.049*\"bad\" + '\n",
            "  '0.044*\"price\" + 0.038*\"evil\" + 0.035*\"performance\" + 0.033*\"quality\" + '\n",
            "  '0.033*\"awesome\" + 0.029*\"also\"'),\n",
            " (2,\n",
            "  '0.092*\"product\" + 0.072*\"flipkart\" + 0.072*\"thank\" + 0.049*\"delivery\" + '\n",
            "  '0.038*\"mobile\" + 0.036*\"time\" + 0.028*\"super\" + 0.025*\"redmi\" + 0.022*\"mi\" '\n",
            "  '+ 0.021*\"fast\"'),\n",
            " (3,\n",
            "  '0.040*\"light\" + 0.038*\"ram\" + 0.026*\"result\" + 0.024*\"review\" + '\n",
            "  '0.018*\"compare\" + 0.018*\"weight\" + 0.017*\"night\" + 0.016*\"variant\" + '\n",
            "  '0.016*\"gb\" + 0.015*\"facility\"'),\n",
            " (4,\n",
            "  '0.096*\"phone\" + 0.046*\"great\" + 0.044*\"use\" + 0.039*\"amazing\" + '\n",
            "  '0.027*\"sell\" + 0.026*\"note\" + 0.022*\"really\" + 0.021*\"redmi\" + '\n",
            "  '0.019*\"superb\" + 0.019*\"pro\"')]\n"
          ]
        }
      ],
      "source": [
        "from pprint import pprint\n",
        "\n",
        "# Print the Keyword in the 5 topics\n",
        "pprint(lda_model.print_topics())\n",
        "doc_lda = lda_model[corpus]"
      ]
    },
    {
      "cell_type": "code",
      "execution_count": null,
      "metadata": {
        "colab": {
          "base_uri": "https://localhost:8080/"
        },
        "id": "SGQDNhmTKjpx",
        "outputId": "d07bd73d-7323-4979-ca86-c6f7dbbab53a"
      },
      "outputs": [
        {
          "name": "stdout",
          "output_type": "stream",
          "text": [
            "Looking in indexes: https://pypi.org/simple, https://us-python.pkg.dev/colab-wheels/public/simple/\n",
            "Requirement already satisfied: enstop in /usr/local/lib/python3.8/dist-packages (0.2.6)\n",
            "Requirement already satisfied: dask[delayed]>=1.2 in /usr/local/lib/python3.8/dist-packages (from enstop) (2022.2.1)\n",
            "Requirement already satisfied: numba>=0.48 in /usr/local/lib/python3.8/dist-packages (from enstop) (0.56.4)\n",
            "Requirement already satisfied: scipy>=1.0 in /usr/local/lib/python3.8/dist-packages (from enstop) (1.7.3)\n",
            "Requirement already satisfied: umap-learn>=0.3.8 in /usr/local/lib/python3.8/dist-packages (from enstop) (0.5.3)\n",
            "Requirement already satisfied: hdbscan>=0.8 in /usr/local/lib/python3.8/dist-packages (from enstop) (0.8.29)\n",
            "Requirement already satisfied: scikit-learn>=0.23 in /usr/local/lib/python3.8/dist-packages (from enstop) (1.0.2)\n",
            "Requirement already satisfied: packaging>=20.0 in /usr/local/lib/python3.8/dist-packages (from dask[delayed]>=1.2->enstop) (21.3)\n",
            "Requirement already satisfied: toolz>=0.8.2 in /usr/local/lib/python3.8/dist-packages (from dask[delayed]>=1.2->enstop) (0.12.0)\n",
            "Requirement already satisfied: fsspec>=0.6.0 in /usr/local/lib/python3.8/dist-packages (from dask[delayed]>=1.2->enstop) (2022.11.0)\n",
            "Requirement already satisfied: partd>=0.3.10 in /usr/local/lib/python3.8/dist-packages (from dask[delayed]>=1.2->enstop) (1.3.0)\n",
            "Requirement already satisfied: pyyaml>=5.3.1 in /usr/local/lib/python3.8/dist-packages (from dask[delayed]>=1.2->enstop) (6.0)\n",
            "Requirement already satisfied: cloudpickle>=1.1.1 in /usr/local/lib/python3.8/dist-packages (from dask[delayed]>=1.2->enstop) (1.5.0)\n",
            "Requirement already satisfied: cython>=0.27 in /usr/local/lib/python3.8/dist-packages (from hdbscan>=0.8->enstop) (0.29.32)\n",
            "Requirement already satisfied: numpy>=1.20 in /usr/local/lib/python3.8/dist-packages (from hdbscan>=0.8->enstop) (1.21.6)\n",
            "Requirement already satisfied: joblib>=1.0 in /usr/local/lib/python3.8/dist-packages (from hdbscan>=0.8->enstop) (1.2.0)\n",
            "Requirement already satisfied: importlib-metadata in /usr/local/lib/python3.8/dist-packages (from numba>=0.48->enstop) (5.1.0)\n",
            "Requirement already satisfied: setuptools in /usr/local/lib/python3.8/dist-packages (from numba>=0.48->enstop) (57.4.0)\n",
            "Requirement already satisfied: llvmlite<0.40,>=0.39.0dev0 in /usr/local/lib/python3.8/dist-packages (from numba>=0.48->enstop) (0.39.1)\n",
            "Requirement already satisfied: pyparsing!=3.0.5,>=2.0.2 in /usr/local/lib/python3.8/dist-packages (from packaging>=20.0->dask[delayed]>=1.2->enstop) (3.0.9)\n",
            "Requirement already satisfied: locket in /usr/local/lib/python3.8/dist-packages (from partd>=0.3.10->dask[delayed]>=1.2->enstop) (1.0.0)\n",
            "Requirement already satisfied: threadpoolctl>=2.0.0 in /usr/local/lib/python3.8/dist-packages (from scikit-learn>=0.23->enstop) (3.1.0)\n",
            "Requirement already satisfied: tqdm in /usr/local/lib/python3.8/dist-packages (from umap-learn>=0.3.8->enstop) (4.64.1)\n",
            "Requirement already satisfied: pynndescent>=0.5 in /usr/local/lib/python3.8/dist-packages (from umap-learn>=0.3.8->enstop) (0.5.8)\n",
            "Requirement already satisfied: zipp>=0.5 in /usr/local/lib/python3.8/dist-packages (from importlib-metadata->numba>=0.48->enstop) (3.11.0)\n"
          ]
        }
      ],
      "source": [
        "!pip install enstop\n",
        "from enstop import EnsembleTopics, PLSA\n"
      ]
    },
    {
      "cell_type": "code",
      "execution_count": null,
      "metadata": {
        "colab": {
          "base_uri": "https://localhost:8080/"
        },
        "id": "o7qwpl1X-TR-",
        "outputId": "3e607c36-941d-455c-a6e7-2d1ae0645226"
      },
      "outputs": [
        {
          "name": "stdout",
          "output_type": "stream",
          "text": [
            "\n",
            "Perplexity:  -6.258182730851082\n",
            "\n",
            "Coherence Score:  0.3569201673712129\n"
          ]
        }
      ],
      "source": [
        "from gensim.models.coherencemodel import CoherenceModel\n",
        "\n",
        "# Compute Perplexity\n",
        "print('\\nPerplexity: ', lda_model.log_perplexity(corpus))  # a measure of how good the model is. lower the better.\n",
        "\n",
        "# Compute Coherence Score\n",
        "coherence_model_lda = CoherenceModel(model=lda_model, texts=data_lemmatized, dictionary=id2word, coherence='c_v')\n",
        "coherence_lda = coherence_model_lda.get_coherence()\n",
        "print('\\nCoherence Score: ', coherence_lda)"
      ]
    },
    {
      "cell_type": "code",
      "execution_count": null,
      "metadata": {
        "colab": {
          "base_uri": "https://localhost:8080/"
        },
        "id": "jOmssqVv-TUf",
        "outputId": "b742b336-9613-481a-d12a-33c2724f8d9f"
      },
      "outputs": [
        {
          "name": "stdout",
          "output_type": "stream",
          "text": [
            "Looking in indexes: https://pypi.org/simple, https://us-python.pkg.dev/colab-wheels/public/simple/\n",
            "Collecting pyLDAvis\n",
            "  Downloading pyLDAvis-3.3.1.tar.gz (1.7 MB)\n",
            "\u001b[K     |████████████████████████████████| 1.7 MB 19.6 MB/s \n",
            "\u001b[?25h  Installing build dependencies ... \u001b[?25l\u001b[?25hdone\n",
            "  Getting requirements to build wheel ... \u001b[?25l\u001b[?25hdone\n",
            "  Installing backend dependencies ... \u001b[?25l\u001b[?25hdone\n",
            "    Preparing wheel metadata ... \u001b[?25l\u001b[?25hdone\n",
            "Requirement already satisfied: scipy in /usr/local/lib/python3.8/dist-packages (from pyLDAvis) (1.7.3)\n",
            "Requirement already satisfied: pandas>=1.2.0 in /usr/local/lib/python3.8/dist-packages (from pyLDAvis) (1.3.5)\n",
            "Requirement already satisfied: numexpr in /usr/local/lib/python3.8/dist-packages (from pyLDAvis) (2.8.4)\n",
            "Requirement already satisfied: jinja2 in /usr/local/lib/python3.8/dist-packages (from pyLDAvis) (2.11.3)\n",
            "Requirement already satisfied: scikit-learn in /usr/local/lib/python3.8/dist-packages (from pyLDAvis) (1.0.2)\n",
            "Requirement already satisfied: gensim in /usr/local/lib/python3.8/dist-packages (from pyLDAvis) (3.6.0)\n",
            "Requirement already satisfied: setuptools in /usr/local/lib/python3.8/dist-packages (from pyLDAvis) (57.4.0)\n",
            "Requirement already satisfied: joblib in /usr/local/lib/python3.8/dist-packages (from pyLDAvis) (1.2.0)\n",
            "Requirement already satisfied: future in /usr/local/lib/python3.8/dist-packages (from pyLDAvis) (0.16.0)\n",
            "Collecting funcy\n",
            "  Downloading funcy-1.17-py2.py3-none-any.whl (33 kB)\n",
            "Collecting sklearn\n",
            "  Downloading sklearn-0.0.post1.tar.gz (3.6 kB)\n",
            "Requirement already satisfied: numpy>=1.20.0 in /usr/local/lib/python3.8/dist-packages (from pyLDAvis) (1.21.6)\n",
            "Requirement already satisfied: pytz>=2017.3 in /usr/local/lib/python3.8/dist-packages (from pandas>=1.2.0->pyLDAvis) (2022.6)\n",
            "Requirement already satisfied: python-dateutil>=2.7.3 in /usr/local/lib/python3.8/dist-packages (from pandas>=1.2.0->pyLDAvis) (2.8.2)\n",
            "Requirement already satisfied: six>=1.5 in /usr/local/lib/python3.8/dist-packages (from python-dateutil>=2.7.3->pandas>=1.2.0->pyLDAvis) (1.15.0)\n",
            "Requirement already satisfied: smart-open>=1.2.1 in /usr/local/lib/python3.8/dist-packages (from gensim->pyLDAvis) (6.3.0)\n",
            "Requirement already satisfied: MarkupSafe>=0.23 in /usr/local/lib/python3.8/dist-packages (from jinja2->pyLDAvis) (2.0.1)\n",
            "Requirement already satisfied: threadpoolctl>=2.0.0 in /usr/local/lib/python3.8/dist-packages (from scikit-learn->pyLDAvis) (3.1.0)\n",
            "Building wheels for collected packages: pyLDAvis, sklearn\n",
            "  Building wheel for pyLDAvis (PEP 517) ... \u001b[?25l\u001b[?25hdone\n",
            "  Created wheel for pyLDAvis: filename=pyLDAvis-3.3.1-py2.py3-none-any.whl size=136898 sha256=450a66717766d3aa703ee5b8b5b9a2a353cacaef4ccb504560aad780cf6595bd\n",
            "  Stored in directory: /root/.cache/pip/wheels/90/61/ec/9dbe9efc3acf9c4e37ba70fbbcc3f3a0ebd121060aa593181a\n",
            "  Building wheel for sklearn (setup.py) ... \u001b[?25l\u001b[?25hdone\n",
            "  Created wheel for sklearn: filename=sklearn-0.0.post1-py3-none-any.whl size=2344 sha256=d66abddf50da9b63774eecfbb3f634e3e56ef6c65bd76d04565ad9fdd7b46f66\n",
            "  Stored in directory: /root/.cache/pip/wheels/14/25/f7/1cc0956978ae479e75140219088deb7a36f60459df242b1a72\n",
            "Successfully built pyLDAvis sklearn\n",
            "Installing collected packages: sklearn, funcy, pyLDAvis\n",
            "Successfully installed funcy-1.17 pyLDAvis-3.3.1 sklearn-0.0.post1\n"
          ]
        }
      ],
      "source": [
        "!pip install pyLDAvis"
      ]
    },
    {
      "cell_type": "code",
      "execution_count": null,
      "metadata": {
        "colab": {
          "base_uri": "https://localhost:8080/",
          "height": 951
        },
        "id": "Sh5FJH9U-TW6",
        "outputId": "de71f3bc-8cf2-4a62-ec4a-dd114ce7b610"
      },
      "outputs": [
        {
          "name": "stderr",
          "output_type": "stream",
          "text": [
            "/usr/local/lib/python3.8/dist-packages/past/types/oldstr.py:5: DeprecationWarning: Using or importing the ABCs from 'collections' instead of from 'collections.abc' is deprecated since Python 3.3, and in 3.10 it will stop working\n",
            "  from collections import Iterable\n",
            "/usr/local/lib/python3.8/dist-packages/pyLDAvis/_prepare.py:246: FutureWarning: In a future version of pandas all arguments of DataFrame.drop except for the argument 'labels' will be keyword-only\n",
            "  default_term_info = default_term_info.sort_values(\n"
          ]
        },
        {
          "data": {
            "text/html": [
              "\n",
              "<link rel=\"stylesheet\" type=\"text/css\" href=\"https://cdn.jsdelivr.net/gh/bmabey/pyLDAvis@3.3.1/pyLDAvis/js/ldavis.v1.0.0.css\">\n",
              "\n",
              "\n",
              "<div id=\"ldavis_el2281398358642470888807895252\"></div>\n",
              "<script type=\"text/javascript\">\n",
              "\n",
              "var ldavis_el2281398358642470888807895252_data = {\"mdsDat\": {\"x\": [-0.2845780913569631, -0.2094461389500637, 0.10454485479097472, 0.179258574719059, 0.21022080079699332], \"y\": [-0.03708005630833949, 0.12611269026896443, -0.3288821603709948, 0.005709454326418155, 0.23414007208395174], \"topics\": [1, 2, 3, 4, 5], \"cluster\": [1, 1, 1, 1, 1], \"Freq\": [38.24997661983541, 21.56954084746502, 18.030755885994925, 14.986313830780807, 7.163412815923836]}, \"tinfo\": {\"Term\": [\"good\", \"camera\", \"product\", \"phone\", \"flipkart\", \"thank\", \"battery\", \"bad\", \"great\", \"use\", \"evil\", \"delivery\", \"price\", \"amazing\", \"nice\", \"mobile\", \"performance\", \"quality\", \"time\", \"also\", \"display\", \"look\", \"awesome\", \"buy\", \"note\", \"money\", \"redmi\", \"sell\", \"super\", \"light\", \"bad\", \"evil\", \"value\", \"money\", \"back\", \"overall\", \"backup\", \"display\", \"life\", \"much\", \"play\", \"processor\", \"front\", \"issue\", \"cheap\", \"sound\", \"average\", \"order\", \"also\", \"badly\", \"high\", \"lag\", \"selfie\", \"end\", \"class\", \"give\", \"especially\", \"bit\", \"enough\", \"mah\", \"battery\", \"camera\", \"performance\", \"quality\", \"price\", \"excellent\", \"nasty\", \"awesome\", \"budget\", \"range\", \"day\", \"phone\", \"clarity\", \"fast\", \"use\", \"amazing\", \"note\", \"superb\", \"worth\", \"get\", \"thing\", \"month\", \"device\", \"usage\", \"purchase\", \"feel\", \"year\", \"experience\", \"long\", \"pro\", \"never\", \"want\", \"dissatisfy\", \"face_unlock\", \"last\", \"far\", \"portrait\", \"receive\", \"imperfect\", \"see\", \"problem\", \"xiaomi\", \"change\", \"come\", \"great\", \"sell\", \"really\", \"even\", \"feature\", \"phone\", \"redmi\", \"first\", \"design\", \"good\", \"nice\", \"buy\", \"well\", \"work\", \"charge\", \"game\", \"speed\", \"low\", \"think\", \"build\", \"smooth\", \"color\", \"recommend\", \"mp\", \"fall\", \"package\", \"perfect\", \"ever\", \"smartphone\", \"big\", \"green\", \"charger\", \"run\", \"properly\", \"smoothly\", \"phn\", \"blaze\", \"decent\", \"fingerprint\", \"go\", \"look\", \"love\", \"brand\", \"premium\", \"screen\", \"mobile\", \"design\", \"flipkart\", \"thank\", \"delivery\", \"time\", \"super\", \"mi\", \"deliver\", \"product\", \"take\", \"red\", \"wonderful\", \"unhappy\", \"immobile\", \"heart\", \"service\", \"colour\", \"ill\", \"malfunction\", \"app\", \"satisfied\", \"say_farewell\", \"hour\", \"close\", \"user\", \"lot\", \"promise\", \"dislike\", \"picture\", \"totally\", \"new\", \"hate\", \"gift\", \"mobile\", \"slow\", \"redmi\", \"fast\", \"happy\", \"light\", \"ram\", \"review\", \"result\", \"weight\", \"compare\", \"night\", \"gb\", \"variant\", \"heavy\", \"facility\", \"touch\", \"killer\", \"forget\", \"huge\", \"hand\", \"piece\", \"operation\", \"support\", \"slim\", \"image\", \"beast\", \"cover\", \"call\", \"boy\", \"black\", \"actually\", \"sim\", \"increase\", \"online\", \"multi\", \"saver\", \"option\", \"screen\", \"fast\"], \"Freq\": [6285.0, 5318.0, 2218.0, 8167.0, 1741.0, 1721.0, 3595.0, 3012.0, 1625.0, 1531.0, 2350.0, 1172.0, 2741.0, 1359.0, 1187.0, 2372.0, 2197.0, 2066.0, 876.0, 1799.0, 1750.0, 989.0, 2163.0, 836.0, 886.0, 1422.0, 1364.0, 1018.0, 673.0, 460.0, 3012.084236157604, 2349.4294265588665, 1140.0968030835209, 1421.9991864859041, 899.1791476152722, 672.7344944654135, 1238.967081043355, 1748.5532642780279, 622.7714691670053, 515.2596893153991, 436.2038115239899, 424.5402962173848, 423.9365851883926, 411.93727473528236, 361.0077916209688, 278.6195707100068, 234.28950970874183, 233.29274201515585, 1793.283041256946, 222.53660812920333, 381.3407607857501, 210.74340770239505, 216.68765915913997, 200.69433281119885, 168.59742990017966, 267.38588119353636, 193.93141455928034, 152.29124445178584, 141.94708768212396, 134.3521554281702, 3561.89221297959, 5205.835042924977, 2169.525083279305, 2037.9644947372185, 2692.0370789046365, 1023.5635117846115, 946.0365322455768, 2030.373449464278, 1039.6135423261578, 1175.302561996202, 1073.4632021570978, 4703.37872609832, 331.8794704262218, 639.9534114442049, 1531.0471168522345, 1359.0762738577303, 886.096564984436, 673.8208051019234, 541.0058039265504, 494.56873679089233, 438.2934557583161, 358.79063177500717, 345.2470311413103, 340.9298444492102, 293.5342692275966, 285.4332384177245, 277.0066449340513, 271.9816656487506, 256.8035792229314, 649.6858448412722, 254.0508662311223, 244.26519363700567, 222.47180261525924, 216.04216544518297, 202.26201613013063, 227.46638530636244, 206.08300985003686, 213.36458973977298, 193.63550782438665, 191.31408479054386, 187.77531522810955, 184.21064570444756, 192.37100305898608, 175.57404817920852, 1591.0843551654032, 943.0729339531682, 774.2751343728858, 459.65674947743594, 613.3125001635138, 3320.38650466273, 741.6101097193632, 283.2213785054907, 338.64088098096323, 6284.476826361902, 1186.2797860731569, 835.6780738553701, 695.9752427286207, 571.15150180084, 455.11404212255025, 385.3405260031465, 377.7696754763116, 345.00591303795414, 332.07533286730535, 269.03768008353194, 402.40597416953295, 253.44712087086225, 219.3713280880446, 195.33782720218213, 188.47727355974592, 199.63415264111381, 210.84625652719237, 156.42263587648503, 288.50321793285934, 150.69307922869277, 164.59018105465697, 147.53111897205505, 145.61369057937006, 178.0265552283425, 138.6755877844785, 141.29540455695985, 185.53520206565582, 126.66007683460248, 124.8228517262411, 468.7474956920171, 940.741385368684, 711.4357090614939, 299.11279346659103, 205.33067410443414, 371.47652672540727, 1090.285252443921, 175.76212267119598, 1741.230426286045, 1720.3843880459362, 1171.451763693152, 875.551164415011, 672.5338196608943, 528.7361995475624, 417.91415422221866, 2214.1536652161703, 364.4072249965624, 336.56150457368994, 330.61930867543566, 318.72703354688963, 302.7867122087393, 280.3409846482455, 261.7089085442178, 261.3345174599249, 255.7511027526961, 221.4754052617482, 200.21206552773327, 195.8120688551474, 181.92219770078862, 167.2710587028129, 181.80375735567387, 163.6666626807005, 161.42401148683527, 165.37702099331113, 144.405252565536, 141.76447070794663, 110.58406723946118, 103.18299579975891, 427.83416300828844, 177.06453105134867, 921.3274339738911, 247.96026549164475, 599.5328212437333, 511.4714336354503, 252.2289106233215, 459.8100007281591, 439.50641993514853, 277.95912768766163, 293.2940894806705, 205.353962967173, 206.1365300407727, 193.49802148798415, 183.15660025864605, 183.64126472323187, 174.42822937881965, 174.77024786578903, 153.30184089458388, 166.44540720181635, 148.93014044706942, 145.24162056237108, 130.78552927370393, 155.4407276734028, 141.73298983398544, 105.74861773150084, 100.26556327526224, 92.80182258483629, 88.2997549541764, 83.26109222948098, 80.91577290211676, 74.51928104759847, 71.68917414654955, 69.84891257362926, 61.64336462647224, 63.16223116277046, 60.9897195422485, 132.29055406523233, 102.90830883295335, 122.28639824113291, 141.5811588470786, 125.36817225571163], \"Total\": [6285.0, 5318.0, 2218.0, 8167.0, 1741.0, 1721.0, 3595.0, 3012.0, 1625.0, 1531.0, 2350.0, 1172.0, 2741.0, 1359.0, 1187.0, 2372.0, 2197.0, 2066.0, 876.0, 1799.0, 1750.0, 989.0, 2163.0, 836.0, 886.0, 1422.0, 1364.0, 1018.0, 673.0, 460.0, 3012.843993427421, 2350.1887390385605, 1140.8538405588095, 1422.9914617698983, 899.9451411655003, 673.4923958417437, 1240.416271935847, 1750.6503378676703, 623.532923158025, 516.0245135413415, 436.9639751584472, 425.299551215455, 424.7003190958357, 412.71860065476716, 361.85611417757445, 279.3760744159075, 235.0441714603717, 234.06453692443827, 1799.316749699359, 223.28993046387825, 382.70048883895396, 211.49909036670817, 217.46556078620665, 201.45399852221632, 169.36164407388662, 268.61045688595016, 194.8388076289809, 153.07810240137317, 142.70202466140574, 135.108051636155, 3595.2101040931434, 5318.294702986225, 2197.107847914191, 2066.152894679342, 2741.1680351464133, 1036.3965832266128, 962.413803950171, 2163.255632579407, 1089.0031054140666, 1273.0953062139658, 1201.8961627387614, 8167.839916543117, 374.3764355527164, 1277.1951357758178, 1531.7988046130424, 1359.8307418405595, 886.850338342881, 674.5738334823232, 541.7571699004203, 495.3219056117433, 439.04555367037807, 359.54062971678854, 345.99924898457164, 341.68817949209654, 294.28288292845457, 286.18441759485097, 277.7576213698498, 272.7303585563583, 257.55574374433763, 651.6030702332224, 254.80216416955557, 245.01536298355393, 223.25985445351023, 216.82150355096465, 203.0107863280664, 228.31367188351962, 206.87142244510204, 214.19721519656665, 194.39121337112982, 192.06543526946086, 188.52874759588806, 184.96614425783093, 193.18407360136257, 176.3255341849279, 1625.0222260287405, 1018.699425945278, 880.8451132957485, 504.4837794749943, 731.5444272961893, 8167.839916543117, 1364.0242360392106, 337.26195218212746, 514.9608350602566, 6285.2355641746035, 1187.0363028844906, 836.4359237595222, 696.7368332902179, 571.9120460769749, 455.88095681687463, 386.09665850328304, 378.54437995726545, 345.76297384088826, 332.84959775190265, 269.8002155100714, 403.5631473025027, 254.2155024122822, 220.12910754127475, 196.0957395060299, 189.26916310858402, 200.4734681324302, 211.84571737525826, 157.18852234184396, 289.95551604720407, 151.45730322253127, 165.4337589660467, 148.2962917869796, 146.36970000195132, 178.95438485938212, 139.4336954784996, 142.07172418847733, 186.55772418274228, 127.41310654490037, 125.58534878438562, 478.4201193840996, 989.1315920698919, 770.1246444263835, 312.1126173448809, 215.30521269738432, 528.133524416762, 2372.9617437859406, 514.9608350602566, 1741.990636469721, 1721.1482503251245, 1172.2110229105676, 876.3207088851776, 673.3083769211222, 529.5108049524354, 418.6777657164934, 2218.769445131836, 365.18150473596063, 337.3172890407588, 331.39163851784497, 319.4901258382394, 303.5508290168112, 281.09524277384, 262.4662060395924, 262.11042117707814, 256.5227298987737, 222.24601011877917, 200.98618739879836, 196.57707939746058, 182.72200076926083, 168.0380378472301, 182.6450381793875, 164.43962195445224, 162.19240655160542, 166.22763117070934, 145.16959100812824, 142.5335263095044, 111.36647069120214, 103.9610441159873, 484.72161906108727, 203.72665384898886, 2372.9617437859406, 339.48829282101633, 1364.0242360392106, 1277.1951357758178, 361.0467147950219, 460.59131995006607, 440.2941258360617, 278.74983578101535, 294.1870421301179, 206.12849652438652, 206.9196255769868, 194.30758912297023, 183.95020553933054, 184.4467035276657, 175.20630957988234, 175.63460066569434, 154.0855293506145, 167.31471528171897, 149.71716298505694, 146.10530115538427, 131.5666074707199, 156.46758064393444, 142.69774754835032, 106.53101477671372, 101.04412550488767, 93.58249163036963, 89.07559652754469, 84.03554036341608, 81.69369804398434, 75.32325128088077, 72.46874328476868, 70.62571812680706, 62.41628489340424, 63.9645699848299, 61.77697678304049, 136.1671693230233, 139.27387001900337, 241.56403486543456, 528.133524416762, 1277.1951357758178], \"Category\": [\"Default\", \"Default\", \"Default\", \"Default\", \"Default\", \"Default\", \"Default\", \"Default\", \"Default\", \"Default\", \"Default\", \"Default\", \"Default\", \"Default\", \"Default\", \"Default\", \"Default\", \"Default\", \"Default\", \"Default\", \"Default\", \"Default\", \"Default\", \"Default\", \"Default\", \"Default\", \"Default\", \"Default\", \"Default\", \"Default\", \"Topic1\", \"Topic1\", \"Topic1\", \"Topic1\", \"Topic1\", \"Topic1\", \"Topic1\", \"Topic1\", \"Topic1\", \"Topic1\", \"Topic1\", \"Topic1\", \"Topic1\", \"Topic1\", \"Topic1\", \"Topic1\", \"Topic1\", \"Topic1\", \"Topic1\", \"Topic1\", \"Topic1\", \"Topic1\", \"Topic1\", \"Topic1\", \"Topic1\", \"Topic1\", \"Topic1\", \"Topic1\", \"Topic1\", \"Topic1\", \"Topic1\", \"Topic1\", \"Topic1\", \"Topic1\", \"Topic1\", \"Topic1\", \"Topic1\", \"Topic1\", \"Topic1\", \"Topic1\", \"Topic1\", \"Topic1\", \"Topic1\", \"Topic1\", \"Topic2\", \"Topic2\", \"Topic2\", \"Topic2\", \"Topic2\", \"Topic2\", \"Topic2\", \"Topic2\", \"Topic2\", \"Topic2\", \"Topic2\", \"Topic2\", \"Topic2\", \"Topic2\", \"Topic2\", \"Topic2\", \"Topic2\", \"Topic2\", \"Topic2\", \"Topic2\", \"Topic2\", \"Topic2\", \"Topic2\", \"Topic2\", \"Topic2\", \"Topic2\", \"Topic2\", \"Topic2\", \"Topic2\", \"Topic2\", \"Topic2\", \"Topic2\", \"Topic2\", \"Topic2\", \"Topic2\", \"Topic2\", \"Topic2\", \"Topic2\", \"Topic2\", \"Topic3\", \"Topic3\", \"Topic3\", \"Topic3\", \"Topic3\", \"Topic3\", \"Topic3\", \"Topic3\", \"Topic3\", \"Topic3\", \"Topic3\", \"Topic3\", \"Topic3\", \"Topic3\", \"Topic3\", \"Topic3\", \"Topic3\", \"Topic3\", \"Topic3\", \"Topic3\", \"Topic3\", \"Topic3\", \"Topic3\", \"Topic3\", \"Topic3\", \"Topic3\", \"Topic3\", \"Topic3\", \"Topic3\", \"Topic3\", \"Topic3\", \"Topic3\", \"Topic3\", \"Topic3\", \"Topic3\", \"Topic3\", \"Topic3\", \"Topic3\", \"Topic4\", \"Topic4\", \"Topic4\", \"Topic4\", \"Topic4\", \"Topic4\", \"Topic4\", \"Topic4\", \"Topic4\", \"Topic4\", \"Topic4\", \"Topic4\", \"Topic4\", \"Topic4\", \"Topic4\", \"Topic4\", \"Topic4\", \"Topic4\", \"Topic4\", \"Topic4\", \"Topic4\", \"Topic4\", \"Topic4\", \"Topic4\", \"Topic4\", \"Topic4\", \"Topic4\", \"Topic4\", \"Topic4\", \"Topic4\", \"Topic4\", \"Topic4\", \"Topic4\", \"Topic4\", \"Topic4\", \"Topic4\", \"Topic4\", \"Topic5\", \"Topic5\", \"Topic5\", \"Topic5\", \"Topic5\", \"Topic5\", \"Topic5\", \"Topic5\", \"Topic5\", \"Topic5\", \"Topic5\", \"Topic5\", \"Topic5\", \"Topic5\", \"Topic5\", \"Topic5\", \"Topic5\", \"Topic5\", \"Topic5\", \"Topic5\", \"Topic5\", \"Topic5\", \"Topic5\", \"Topic5\", \"Topic5\", \"Topic5\", \"Topic5\", \"Topic5\", \"Topic5\", \"Topic5\", \"Topic5\", \"Topic5\", \"Topic5\", \"Topic5\", \"Topic5\"], \"logprob\": [30.0, 29.0, 28.0, 27.0, 26.0, 25.0, 24.0, 23.0, 22.0, 21.0, 20.0, 19.0, 18.0, 17.0, 16.0, 15.0, 14.0, 13.0, 12.0, 11.0, 10.0, 9.0, 8.0, 7.0, 6.0, 5.0, 4.0, 3.0, 2.0, 1.0, -3.0144, -3.2629, -3.9859, -3.765, -4.2233, -4.5134, -3.9028, -3.5582, -4.5906, -4.7801, -4.9467, -4.9738, -4.9752, -5.0039, -5.1359, -5.3949, -5.5682, -5.5725, -3.533, -5.6197, -5.0811, -5.6741, -5.6463, -5.723, -5.8973, -5.4361, -5.7573, -5.999, -6.0693, -6.1243, -2.8467, -2.4672, -3.3425, -3.4051, -3.1267, -4.0937, -4.1725, -3.4088, -4.0782, -3.9555, -4.0461, -2.5687, -5.22, -4.5634, -3.1182, -3.2374, -3.6651, -3.939, -4.1585, -4.2482, -4.369, -4.5692, -4.6077, -4.6202, -4.7699, -4.7979, -4.8279, -4.8462, -4.9036, -3.9754, -4.9144, -4.9537, -5.0471, -5.0765, -5.1424, -5.0249, -5.1236, -5.0889, -5.1859, -5.198, -5.2167, -5.2358, -5.1925, -5.2839, -3.0798, -3.6028, -3.8, -4.3214, -4.033, -2.3441, -3.8431, -4.8057, -4.627, -1.5269, -3.1941, -3.5445, -3.7274, -3.9251, -4.1522, -4.3186, -4.3384, -4.4292, -4.4674, -4.6779, -4.2753, -4.7376, -4.882, -4.998, -5.0337, -4.9762, -4.9216, -5.2202, -4.608, -5.2575, -5.1693, -5.2787, -5.2918, -5.0908, -5.3406, -5.3219, -5.0495, -5.4312, -5.4458, -4.1227, -3.4261, -3.7054, -4.5719, -4.9481, -4.3552, -3.2785, -5.1036, -2.6254, -2.6375, -3.0218, -3.3129, -3.5767, -3.8173, -4.0525, -2.3852, -4.1895, -4.269, -4.2868, -4.3234, -4.3748, -4.4518, -4.5205, -4.522, -4.5436, -4.6875, -4.7884, -4.8106, -4.8842, -4.9682, -4.8849, -4.9899, -5.0037, -4.9796, -5.1152, -5.1336, -5.382, -5.4513, -4.029, -4.9113, -3.262, -4.5745, -3.6916, -3.8505, -4.5574, -3.2188, -3.264, -3.7222, -3.6685, -4.0249, -4.0211, -4.0844, -4.1393, -4.1366, -4.1881, -4.1862, -4.3172, -4.235, -4.3462, -4.3712, -4.4761, -4.3034, -4.3957, -4.6886, -4.7418, -4.8192, -4.8689, -4.9276, -4.9562, -5.0386, -5.0773, -5.1033, -5.2283, -5.2039, -5.2389, -4.4646, -4.7158, -4.5433, -4.3968, -4.5184], \"loglift\": [30.0, 29.0, 28.0, 27.0, 26.0, 25.0, 24.0, 23.0, 22.0, 21.0, 20.0, 19.0, 18.0, 17.0, 16.0, 15.0, 14.0, 13.0, 12.0, 11.0, 10.0, 9.0, 8.0, 7.0, 6.0, 5.0, 4.0, 3.0, 2.0, 1.0, 0.9608, 0.9607, 0.9604, 0.9603, 0.9602, 0.9599, 0.9599, 0.9598, 0.9598, 0.9595, 0.9593, 0.9592, 0.9592, 0.9591, 0.9587, 0.9583, 0.9578, 0.9577, 0.9577, 0.9576, 0.9575, 0.9574, 0.9574, 0.9572, 0.9565, 0.9565, 0.9564, 0.9559, 0.9557, 0.9554, 0.9517, 0.9397, 0.9484, 0.9473, 0.9429, 0.9486, 0.9439, 0.8976, 0.9146, 0.8811, 0.848, 0.4091, 0.8405, 0.27, 1.5334, 1.5333, 1.533, 1.5328, 1.5325, 1.5324, 1.5322, 1.5318, 1.5317, 1.5317, 1.5313, 1.5313, 1.5312, 1.5311, 1.531, 1.5309, 1.5309, 1.5308, 1.5304, 1.5303, 1.5302, 1.5302, 1.5301, 1.53, 1.53, 1.53, 1.5299, 1.5298, 1.5297, 1.5296, 1.5128, 1.4567, 1.4049, 1.4408, 1.3576, 0.6338, 0.9245, 1.3593, 1.1147, 1.713, 1.7125, 1.7122, 1.712, 1.7118, 1.7114, 1.7111, 1.711, 1.7109, 1.7108, 1.7103, 1.7102, 1.7101, 1.7096, 1.7092, 1.7089, 1.7089, 1.7084, 1.7082, 1.7081, 1.708, 1.708, 1.7079, 1.7079, 1.7079, 1.7076, 1.7076, 1.7076, 1.7072, 1.707, 1.6927, 1.6629, 1.6338, 1.6705, 1.6657, 1.3612, 0.9354, 0.6381, 1.8976, 1.8976, 1.8974, 1.8972, 1.8969, 1.8966, 1.8962, 1.896, 1.8959, 1.8958, 1.8957, 1.8956, 1.8955, 1.8953, 1.8951, 1.8951, 1.895, 1.8946, 1.8942, 1.8941, 1.8936, 1.8935, 1.8934, 1.8933, 1.8933, 1.8929, 1.8928, 1.8926, 1.891, 1.8905, 1.7732, 1.7578, 0.952, 1.5839, 1.076, 0.9829, 1.5394, 2.6345, 2.6344, 2.6333, 2.6331, 2.6324, 2.6324, 2.632, 2.6319, 2.6318, 2.6317, 2.6313, 2.6311, 2.631, 2.6309, 2.6303, 2.6302, 2.6296, 2.6294, 2.6288, 2.6284, 2.6278, 2.6274, 2.6269, 2.6266, 2.6255, 2.6254, 2.6251, 2.6237, 2.6236, 2.6234, 2.6073, 2.3336, 1.9554, 1.3197, 0.315]}, \"token.table\": {\"Topic\": [5, 1, 3, 2, 4, 1, 1, 2, 4, 1, 1, 3, 1, 1, 1, 3, 5, 3, 1, 5, 3, 5, 2, 3, 1, 3, 3, 3, 5, 1, 2, 3, 2, 3, 3, 1, 1, 5, 1, 4, 3, 4, 2, 5, 5, 1, 2, 3, 3, 4, 4, 2, 3, 2, 4, 1, 3, 2, 1, 1, 1, 1, 2, 3, 1, 1, 4, 2, 2, 5, 3, 2, 1, 4, 5, 1, 2, 3, 2, 3, 2, 4, 4, 5, 1, 3, 5, 2, 2, 4, 1, 5, 2, 3, 3, 1, 2, 3, 5, 3, 4, 1, 2, 4, 4, 5, 1, 3, 4, 5, 4, 5, 4, 2, 5, 1, 5, 1, 2, 1, 5, 2, 1, 3, 4, 2, 3, 3, 1, 4, 4, 1, 3, 4, 1, 2, 3, 1, 1, 2, 3, 4, 5, 1, 4, 2, 4, 3, 5, 2, 5, 5, 2, 3, 5, 1, 1, 3, 3, 1, 2, 3, 3, 1, 2, 3, 4, 5, 1, 2, 2, 3, 1, 2, 3, 2, 3, 2, 1, 1, 4, 4, 3, 2, 1, 3, 5, 1, 2, 3, 1, 2, 4, 2, 3, 4, 1, 2, 3, 4, 5, 5, 3, 4, 1, 2, 3, 4, 5, 4, 1, 3, 5, 2, 1, 1, 2, 4, 4, 5, 5, 1, 4, 3, 4, 1, 3, 3, 1, 3, 4, 2, 5, 4, 4, 2, 3, 4, 4, 5, 4, 2, 2, 4, 1, 5, 2, 5, 3, 4, 3, 2, 2, 2], \"Freq\": [0.9911403643969525, 0.9964893620312185, 0.0027788325767741733, 0.9993890843801375, 0.9950932578424329, 0.995557552208659, 0.9384004226904442, 0.060556874567708474, 0.0009245324361482209, 0.9989497791340077, 0.9988582285093401, 0.0008061809753909121, 0.9997198681945489, 0.9987015515510443, 0.9907626805856676, 0.009178879410254642, 0.9879249023360502, 0.9969806459457464, 0.9929571742498716, 0.9935317867604418, 0.9970104471139669, 0.9957084794484592, 0.03844766066198514, 0.9579875448277966, 0.9550018680659002, 0.044995280322335685, 0.9970340442146848, 0.9994788318541331, 0.9915085488771624, 0.9788852048903623, 0.0016922717718043144, 0.01955514047418319, 0.993870749387934, 0.9980675726772493, 0.998002028348725, 0.9976341033244105, 0.8868079517607638, 0.11218654811431349, 0.9978646636559052, 0.9964683509291176, 0.9952186141256212, 0.9957635367106294, 0.998153788749697, 0.9955556386958344, 0.9876773522376625, 0.8927559911290126, 0.10566636614481324, 0.0008320186310615215, 0.9967577390105091, 0.9983811757585609, 0.9989668900164744, 0.6583024900531181, 0.3417735641573711, 0.9971119908858063, 0.9919432782030587, 0.9990573001175778, 0.0011424325901859093, 0.994357004054338, 0.997746391108905, 0.9950804856268055, 0.9956948636712138, 0.08721786862164305, 0.911823171953541, 0.9924388732450882, 0.9994941942241428, 0.9880387648635249, 0.011578579275744433, 0.9973220489269171, 0.9962111527800029, 0.9963868129440949, 0.9932944010120872, 0.9942461970293666, 0.5010980562584426, 0.40009547929385025, 0.09787071411297707, 0.13122921372638838, 0.8379532084820424, 0.030073361478964, 0.9958613484102138, 0.9953390360416119, 0.839110365604404, 0.15714787765736188, 0.9994313192912858, 0.9952098812804212, 0.9983510276203073, 0.997159627054183, 0.9948344415460445, 0.999350108266773, 0.12762198518841006, 0.8688112068595608, 0.9940044892346319, 0.003722863255560419, 0.01881191788419406, 0.9803099430763348, 0.9998034180004889, 0.020307414551889554, 0.9790635318804933, 0.9973780504731461, 0.9956933793337645, 0.29913026645683555, 0.6979706217326163, 0.018567358347731898, 0.0969628713714888, 0.8829810414254725, 0.9961036595175635, 0.9931149193041342, 0.9955566065668927, 0.0026130094660548366, 0.9938226019505547, 0.9924349003996181, 0.9979622472481093, 0.9937756345207142, 0.998185381279981, 0.9979874945768104, 0.9849202459258515, 0.9982588605077961, 0.9921422614890429, 0.9976402245236949, 0.9950210215607315, 0.9991453167295066, 0.9987161721802961, 0.997842238979965, 0.048527415750166766, 0.9513395462688943, 0.9926481974282438, 0.0753124840501637, 0.923227175166662, 0.9977933616418994, 0.9917987742200666, 0.9943935546104371, 0.9990353266682042, 0.1521305604463908, 0.4593415814032299, 0.388122565570986, 0.999303255292435, 0.99849633206346, 0.9944122217607068, 0.9980146029607962, 0.007343914138567018, 0.007343914138567018, 0.007343914138567018, 0.014687828277134036, 0.9693966662908464, 0.9829451698606135, 0.016624865452187967, 0.9968518157129083, 0.9907557285119695, 0.9991269829895072, 0.9932705195464975, 0.9990411704138605, 0.9874228746128316, 0.9951103114075861, 0.3601529509492758, 0.13247005092387154, 0.5050420691472602, 0.9954519512505992, 0.9992688917576741, 0.997638250403702, 0.9960078618263489, 0.9876620312744657, 0.0004551437932140395, 0.011833738623565028, 0.9924564568030754, 0.5757948304636282, 0.40647221712507886, 0.017630120260846795, 0.9962568363856664, 0.9906205449212246, 0.9977939253273735, 0.9957876132198332, 0.041801124493208046, 0.9521367245675166, 0.9820631079466869, 0.00620173582284312, 0.011673855666528225, 0.9975398055864767, 0.001534676623979195, 0.997195400687531, 0.999295670041036, 0.0018028011016540412, 0.9978504097655119, 0.9926147586772225, 0.9946668819535657, 0.9990387380820809, 0.9863742442527657, 0.013551756054503159, 0.9993319787414761, 0.9229473977830539, 0.047129228822964456, 0.02984851158787749, 0.005676366848755194, 0.878701588187304, 0.11466261034485492, 0.9944106873870047, 0.994870703134691, 0.9990593751015221, 0.013929371266284319, 0.5439786041885771, 0.0029324992139545935, 0.43987488209318903, 0.9959650087865091, 0.9973100045820138, 0.9974742040057034, 0.9970643607116891, 0.03590048872281477, 0.03590048872281477, 0.06462087970106659, 0.11488156391300725, 0.7395500676899842, 0.9960486380062543, 0.028401908431329125, 0.7024738685348737, 0.26887139981658237, 0.9944527485230953, 0.9978591516536066, 0.05497205414446575, 0.9256901260398429, 0.018651232656158024, 0.9982237483193471, 0.9933305083102082, 0.9896666382170117, 0.2680504804564105, 0.7305111994856022, 0.9967046115892877, 0.0034488048843919986, 0.002477926953152688, 0.9961266351673805, 0.9968895934586596, 0.9986538775136927, 0.9985619124570627, 0.999541997498186, 0.9991493392511819, 0.9950153973673609, 0.9967646095964939, 0.999332857977279, 0.9976185758820757, 0.9974475025427674, 0.9996340279512673, 0.9967093265241538, 0.9929550207914435, 0.9984659124066715, 0.9979859429345215, 0.9994785185817897, 0.9973265448483334, 0.9992515776092832, 0.9975781430672265, 0.9958559211504542, 0.9945252764978422, 0.9989424510733295, 0.9988182003637853, 0.998405268636618, 0.9986023813943072, 0.9947766427109808, 0.9972723651429857], \"Term\": [\"actually\", \"also\", \"also\", \"amazing\", \"app\", \"average\", \"awesome\", \"awesome\", \"awesome\", \"back\", \"backup\", \"backup\", \"bad\", \"badly\", \"battery\", \"battery\", \"beast\", \"big\", \"bit\", \"black\", \"blaze\", \"boy\", \"brand\", \"brand\", \"budget\", \"budget\", \"build\", \"buy\", \"call\", \"camera\", \"camera\", \"camera\", \"change\", \"charge\", \"charger\", \"cheap\", \"clarity\", \"clarity\", \"class\", \"close\", \"color\", \"colour\", \"come\", \"compare\", \"cover\", \"day\", \"day\", \"day\", \"decent\", \"deliver\", \"delivery\", \"design\", \"design\", \"device\", \"dislike\", \"display\", \"display\", \"dissatisfy\", \"end\", \"enough\", \"especially\", \"even\", \"even\", \"ever\", \"evil\", \"excellent\", \"excellent\", \"experience\", \"face_unlock\", \"facility\", \"fall\", \"far\", \"fast\", \"fast\", \"fast\", \"feature\", \"feature\", \"feature\", \"feel\", \"fingerprint\", \"first\", \"first\", \"flipkart\", \"forget\", \"front\", \"game\", \"gb\", \"get\", \"gift\", \"gift\", \"give\", \"give\", \"go\", \"go\", \"good\", \"great\", \"great\", \"green\", \"hand\", \"happy\", \"happy\", \"hate\", \"hate\", \"hate\", \"heart\", \"heavy\", \"high\", \"high\", \"hour\", \"huge\", \"ill\", \"image\", \"immobile\", \"imperfect\", \"increase\", \"issue\", \"killer\", \"lag\", \"last\", \"life\", \"light\", \"long\", \"look\", \"look\", \"lot\", \"love\", \"love\", \"low\", \"mah\", \"malfunction\", \"mi\", \"mobile\", \"mobile\", \"mobile\", \"money\", \"month\", \"mp\", \"much\", \"multi\", \"multi\", \"multi\", \"multi\", \"multi\", \"nasty\", \"nasty\", \"never\", \"new\", \"nice\", \"night\", \"note\", \"online\", \"operation\", \"option\", \"option\", \"option\", \"order\", \"overall\", \"package\", \"perfect\", \"performance\", \"performance\", \"performance\", \"phn\", \"phone\", \"phone\", \"phone\", \"picture\", \"piece\", \"play\", \"portrait\", \"premium\", \"premium\", \"price\", \"price\", \"price\", \"pro\", \"pro\", \"problem\", \"processor\", \"product\", \"product\", \"promise\", \"properly\", \"purchase\", \"quality\", \"quality\", \"ram\", \"range\", \"range\", \"range\", \"really\", \"really\", \"really\", \"receive\", \"recommend\", \"red\", \"redmi\", \"redmi\", \"redmi\", \"redmi\", \"result\", \"review\", \"run\", \"satisfied\", \"saver\", \"saver\", \"saver\", \"saver\", \"saver\", \"say_farewell\", \"screen\", \"screen\", \"screen\", \"see\", \"selfie\", \"sell\", \"sell\", \"sell\", \"service\", \"sim\", \"slim\", \"slow\", \"slow\", \"smartphone\", \"smartphone\", \"smooth\", \"smooth\", \"smoothly\", \"sound\", \"speed\", \"super\", \"superb\", \"support\", \"take\", \"thank\", \"thing\", \"think\", \"time\", \"totally\", \"touch\", \"unhappy\", \"usage\", \"use\", \"user\", \"value\", \"variant\", \"want\", \"weight\", \"well\", \"wonderful\", \"work\", \"worth\", \"xiaomi\", \"year\"]}, \"R\": 30, \"lambda.step\": 0.01, \"plot.opts\": {\"xlab\": \"PC1\", \"ylab\": \"PC2\"}, \"topic.order\": [2, 5, 1, 3, 4]};\n",
              "\n",
              "function LDAvis_load_lib(url, callback){\n",
              "  var s = document.createElement('script');\n",
              "  s.src = url;\n",
              "  s.async = true;\n",
              "  s.onreadystatechange = s.onload = callback;\n",
              "  s.onerror = function(){console.warn(\"failed to load library \" + url);};\n",
              "  document.getElementsByTagName(\"head\")[0].appendChild(s);\n",
              "}\n",
              "\n",
              "if(typeof(LDAvis) !== \"undefined\"){\n",
              "   // already loaded: just create the visualization\n",
              "   !function(LDAvis){\n",
              "       new LDAvis(\"#\" + \"ldavis_el2281398358642470888807895252\", ldavis_el2281398358642470888807895252_data);\n",
              "   }(LDAvis);\n",
              "}else if(typeof define === \"function\" && define.amd){\n",
              "   // require.js is available: use it to load d3/LDAvis\n",
              "   require.config({paths: {d3: \"https://d3js.org/d3.v5\"}});\n",
              "   require([\"d3\"], function(d3){\n",
              "      window.d3 = d3;\n",
              "      LDAvis_load_lib(\"https://cdn.jsdelivr.net/gh/bmabey/pyLDAvis@3.3.1/pyLDAvis/js/ldavis.v3.0.0.js\", function(){\n",
              "        new LDAvis(\"#\" + \"ldavis_el2281398358642470888807895252\", ldavis_el2281398358642470888807895252_data);\n",
              "      });\n",
              "    });\n",
              "}else{\n",
              "    // require.js not available: dynamically load d3 & LDAvis\n",
              "    LDAvis_load_lib(\"https://d3js.org/d3.v5.js\", function(){\n",
              "         LDAvis_load_lib(\"https://cdn.jsdelivr.net/gh/bmabey/pyLDAvis@3.3.1/pyLDAvis/js/ldavis.v3.0.0.js\", function(){\n",
              "                 new LDAvis(\"#\" + \"ldavis_el2281398358642470888807895252\", ldavis_el2281398358642470888807895252_data);\n",
              "            })\n",
              "         });\n",
              "}\n",
              "</script>"
            ],
            "text/plain": [
              "PreparedData(topic_coordinates=              x         y  topics  cluster       Freq\n",
              "topic                                                \n",
              "1     -0.284578 -0.037080       1        1  38.249977\n",
              "4     -0.209446  0.126113       2        1  21.569541\n",
              "0      0.104545 -0.328882       3        1  18.030756\n",
              "2      0.179259  0.005709       4        1  14.986314\n",
              "3      0.210221  0.234140       5        1   7.163413, topic_info=              Term         Freq        Total Category  logprob  loglift\n",
              "67            good  6285.000000  6285.000000  Default  30.0000  30.0000\n",
              "4           camera  5318.000000  5318.000000  Default  29.0000  29.0000\n",
              "62         product  2218.000000  2218.000000  Default  28.0000  28.0000\n",
              "7            phone  8167.000000  8167.000000  Default  27.0000  27.0000\n",
              "51        flipkart  1741.000000  1741.000000  Default  26.0000  26.0000\n",
              "44           thank  1721.000000  1721.000000  Default  25.0000  25.0000\n",
              "48         battery  3595.000000  3595.000000  Default  24.0000  24.0000\n",
              "2              bad  3012.000000  3012.000000  Default  23.0000  23.0000\n",
              "5            great  1625.000000  1625.000000  Default  22.0000  22.0000\n",
              "112            use  1531.000000  1531.000000  Default  21.0000  21.0000\n",
              "187           evil  2350.000000  2350.000000  Default  20.0000  20.0000\n",
              "36        delivery  1172.000000  1172.000000  Default  19.0000  19.0000\n",
              "23           price  2741.000000  2741.000000  Default  18.0000  18.0000\n",
              "105        amazing  1359.000000  1359.000000  Default  17.0000  17.0000\n",
              "42            nice  1187.000000  1187.000000  Default  16.0000  16.0000\n",
              "40          mobile  2372.000000  2372.000000  Default  15.0000  15.0000\n",
              "6      performance  2197.000000  2197.000000  Default  14.0000  14.0000\n",
              "31         quality  2066.000000  2066.000000  Default  13.0000  13.0000\n",
              "244           time   876.000000   876.000000  Default  12.0000  12.0000\n",
              "1             also  1799.000000  1799.000000  Default  11.0000  11.0000\n",
              "16         display  1750.000000  1750.000000  Default  10.0000  10.0000\n",
              "18            look   989.000000   989.000000  Default   9.0000   9.0000\n",
              "46         awesome  2163.000000  2163.000000  Default   8.0000   8.0000\n",
              "72             buy   836.000000   836.000000  Default   7.0000   7.0000\n",
              "21            note   886.000000   886.000000  Default   6.0000   6.0000\n",
              "30           money  1422.000000  1422.000000  Default   5.0000   5.0000\n",
              "43           redmi  1364.000000  1364.000000  Default   4.0000   4.0000\n",
              "384           sell  1018.000000  1018.000000  Default   3.0000   3.0000\n",
              "403          super   673.000000   673.000000  Default   2.0000   2.0000\n",
              "82           light   460.000000   460.000000  Default   1.0000   1.0000\n",
              "2              bad  3012.084236  3012.843993   Topic1  -3.0144   0.9608\n",
              "187           evil  2349.429427  2350.188739   Topic1  -3.2629   0.9607\n",
              "35           value  1140.096803  1140.853841   Topic1  -3.9859   0.9604\n",
              "30           money  1421.999186  1422.991462   Topic1  -3.7650   0.9603\n",
              "145           back   899.179148   899.945141   Topic1  -4.2233   0.9602\n",
              "22         overall   672.734494   673.492396   Topic1  -4.5134   0.9599\n",
              "47          backup  1238.967081  1240.416272   Topic1  -3.9028   0.9599\n",
              "16         display  1748.553264  1750.650338   Topic1  -3.5582   0.9598\n",
              "81            life   622.771469   623.532923   Topic1  -4.5906   0.9598\n",
              "41            much   515.259689   516.024514   Topic1  -4.7801   0.9595\n",
              "176           play   436.203812   436.963975   Topic1  -4.9467   0.9593\n",
              "237      processor   424.540296   425.299551   Topic1  -4.9738   0.9592\n",
              "66           front   423.936585   424.700319   Topic1  -4.9752   0.9592\n",
              "173          issue   411.937275   412.718601   Topic1  -5.0039   0.9591\n",
              "249          cheap   361.007792   361.856114   Topic1  -5.1359   0.9587\n",
              "297          sound   278.619571   279.376074   Topic1  -5.3949   0.9583\n",
              "144        average   234.289510   235.044171   Topic1  -5.5682   0.9578\n",
              "373          order   233.292742   234.064537   Topic1  -5.5725   0.9577\n",
              "1             also  1793.283041  1799.316750   Topic1  -3.5330   0.9577\n",
              "128          badly   222.536608   223.289930   Topic1  -5.6197   0.9576\n",
              "29            high   381.340761   382.700489   Topic1  -5.0811   0.9575\n",
              "97             lag   210.743408   211.499090   Topic1  -5.6741   0.9574\n",
              "323         selfie   216.687659   217.465561   Topic1  -5.6463   0.9574\n",
              "503            end   200.694333   201.453999   Topic1  -5.7230   0.9572\n",
              "153          class   168.597430   169.361644   Topic1  -5.8973   0.9565\n",
              "256           give   267.385881   268.610457   Topic1  -5.4361   0.9565\n",
              "652     especially   193.931415   194.838808   Topic1  -5.7573   0.9564\n",
              "28             bit   152.291244   153.078102   Topic1  -5.9990   0.9559\n",
              "65          enough   141.947088   142.702025   Topic1  -6.0693   0.9557\n",
              "242            mah   134.352155   135.108052   Topic1  -6.1243   0.9554\n",
              "48         battery  3561.892213  3595.210104   Topic1  -2.8467   0.9517\n",
              "4           camera  5205.835043  5318.294703   Topic1  -2.4672   0.9397\n",
              "6      performance  2169.525083  2197.107848   Topic1  -3.3425   0.9484\n",
              "31         quality  2037.964495  2066.152895   Topic1  -3.4051   0.9473\n",
              "23           price  2692.037079  2741.168035   Topic1  -3.1267   0.9429\n",
              "80       excellent  1023.563512  1036.396583   Topic1  -4.0937   0.9486\n",
              "99           nasty   946.036532   962.413804   Topic1  -4.1725   0.9439\n",
              "46         awesome  2030.373449  2163.255633   Topic1  -3.4088   0.8976\n",
              "3           budget  1039.613542  1089.003105   Topic1  -4.0782   0.9146\n",
              "25           range  1175.302562  1273.095306   Topic1  -3.9555   0.8811\n",
              "93             day  1073.463202  1201.896163   Topic1  -4.0461   0.8480\n",
              "7            phone  4703.378726  8167.839917   Topic1  -2.5687   0.4091\n",
              "543        clarity   331.879470   374.376436   Topic1  -5.2200   0.8405\n",
              "37            fast   639.953411  1277.195136   Topic1  -4.5634   0.2700\n",
              "112            use  1531.047117  1531.798805   Topic2  -3.1182   1.5334\n",
              "105        amazing  1359.076274  1359.830742   Topic2  -3.2374   1.5333\n",
              "21            note   886.096565   886.850338   Topic2  -3.6651   1.5330\n",
              "58          superb   673.820805   674.573833   Topic2  -3.9390   1.5328\n",
              "113          worth   541.005804   541.757170   Topic2  -4.1585   1.5325\n",
              "172            get   494.568737   495.321906   Topic2  -4.2482   1.5324\n",
              "299          thing   438.293456   439.045554   Topic2  -4.3690   1.5322\n",
              "284          month   358.790632   359.540630   Topic2  -4.5692   1.5318\n",
              "360         device   345.247031   345.999249   Topic2  -4.6077   1.5317\n",
              "289          usage   340.929844   341.688179   Topic2  -4.6202   1.5317\n",
              "306       purchase   293.534269   294.282883   Topic2  -4.7699   1.5313\n",
              "276           feel   285.433238   286.184418   Topic2  -4.7979   1.5313\n",
              "114           year   277.006645   277.757621   Topic2  -4.8279   1.5312\n",
              "154     experience   271.981666   272.730359   Topic2  -4.8462   1.5311\n",
              "391           long   256.803579   257.555744   Topic2  -4.9036   1.5310\n",
              "24             pro   649.685845   651.603070   Topic2  -3.9754   1.5309\n",
              "265          never   254.050866   254.802164   Topic2  -4.9144   1.5309\n",
              "290           want   244.265194   245.015363   Topic2  -4.9537   1.5308\n",
              "626     dissatisfy   222.471803   223.259854   Topic2  -5.0471   1.5304\n",
              "522    face_unlock   216.042165   216.821504   Topic2  -5.0765   1.5303\n",
              "109           last   202.262016   203.010786   Topic2  -5.1424   1.5302\n",
              "263            far   227.466385   228.313672   Topic2  -5.0249   1.5302\n",
              "85        portrait   206.083010   206.871422   Topic2  -5.1236   1.5301\n",
              "318        receive   213.364590   214.197215   Topic2  -5.0889   1.5300\n",
              "188      imperfect   193.635508   194.391213   Topic2  -5.1859   1.5300\n",
              "228            see   191.314085   192.065435   Topic2  -5.1980   1.5300\n",
              "429        problem   187.775315   188.528748   Topic2  -5.2167   1.5299\n",
              "518         xiaomi   184.210646   184.966144   Topic2  -5.2358   1.5298\n",
              "107         change   192.371003   193.184074   Topic2  -5.1925   1.5297\n",
              "49            come   175.574048   176.325534   Topic2  -5.2839   1.5296\n",
              "5            great  1591.084355  1625.022226   Topic2  -3.0798   1.5128\n",
              "384           sell   943.072934  1018.699426   Topic2  -3.6028   1.4567\n",
              "56          really   774.275134   880.845113   Topic2  -3.8000   1.4049\n",
              "444           even   459.656749   504.483779   Topic2  -4.3214   1.4408\n",
              "73         feature   613.312500   731.544427   Topic2  -4.0330   1.3576\n",
              "7            phone  3320.386505  8167.839917   Topic2  -2.3441   0.6338\n",
              "43           redmi   741.610110  1364.024236   Topic2  -3.8431   0.9245\n",
              "95           first   283.221379   337.261952   Topic2  -4.8057   1.3593\n",
              "77          design   338.640881   514.960835   Topic2  -4.6270   1.1147\n",
              "67            good  6284.476826  6285.235564   Topic3  -1.5269   1.7130\n",
              "42            nice  1186.279786  1187.036303   Topic3  -3.1941   1.7125\n",
              "72             buy   835.678074   836.435924   Topic3  -3.5445   1.7122\n",
              "64            well   695.975243   696.736833   Topic3  -3.7274   1.7120\n",
              "219           work   571.151502   571.912046   Topic3  -3.9251   1.7118\n",
              "366         charge   455.114042   455.880957   Topic3  -4.1522   1.7114\n",
              "155           game   385.340526   386.096659   Topic3  -4.3186   1.7111\n",
              "280          speed   377.769675   378.544380   Topic3  -4.3384   1.7110\n",
              "83             low   345.005913   345.762974   Topic3  -4.4292   1.7109\n",
              "170          think   332.075333   332.849598   Topic3  -4.4674   1.7108\n",
              "146          build   269.037680   269.800216   Topic3  -4.6779   1.7103\n",
              "33          smooth   402.405974   403.563147   Topic3  -4.2753   1.7102\n",
              "882          color   253.447121   254.215502   Topic3  -4.7376   1.7101\n",
              "456      recommend   219.371328   220.129108   Topic3  -4.8820   1.7096\n",
              "572             mp   195.337827   196.095740   Topic3  -4.9980   1.7092\n",
              "2259          fall   188.477274   189.269163   Topic3  -5.0337   1.7089\n",
              "208        package   199.634153   200.473468   Topic3  -4.9762   1.7089\n",
              "175        perfect   210.846257   211.845717   Topic3  -4.9216   1.7084\n",
              "591           ever   156.422636   157.188522   Topic3  -5.2202   1.7082\n",
              "165     smartphone   288.503218   289.955516   Topic3  -4.6080   1.7081\n",
              "92             big   150.693079   151.457303   Topic3  -5.2575   1.7080\n",
              "4193         green   164.590181   165.433759   Topic3  -5.1693   1.7080\n",
              "637        charger   147.531119   148.296292   Topic3  -5.2787   1.7079\n",
              "70             run   145.613691   146.369700   Topic3  -5.2918   1.7079\n",
              "1244      properly   178.026555   178.954385   Topic3  -5.0908   1.7079\n",
              "71        smoothly   138.675588   139.433695   Topic3  -5.3406   1.7076\n",
              "468            phn   141.295405   142.071724   Topic3  -5.3219   1.7076\n",
              "3178         blaze   185.535202   186.557724   Topic3  -5.0495   1.7076\n",
              "945         decent   126.660077   127.413107   Topic3  -5.4312   1.7072\n",
              "1238   fingerprint   124.822852   125.585349   Topic3  -5.4458   1.7070\n",
              "268             go   468.747496   478.420119   Topic3  -4.1227   1.6927\n",
              "18            look   940.741385   989.131592   Topic3  -3.4261   1.6629\n",
              "74            love   711.435709   770.124644   Topic3  -3.7054   1.6338\n",
              "790          brand   299.112793   312.112617   Topic3  -4.5719   1.6705\n",
              "241        premium   205.330674   215.305213   Topic3  -4.9481   1.6657\n",
              "86          screen   371.476527   528.133524   Topic3  -4.3552   1.3612\n",
              "40          mobile  1090.285252  2372.961744   Topic3  -3.2785   0.9354\n",
              "77          design   175.762123   514.960835   Topic3  -5.1036   0.6381\n",
              "51        flipkart  1741.230426  1741.990636   Topic4  -2.6254   1.8976\n",
              "44           thank  1720.384388  1721.148250   Topic4  -2.6375   1.8976\n",
              "36        delivery  1171.451764  1172.211023   Topic4  -3.0218   1.8974\n",
              "244           time   875.551164   876.320709   Topic4  -3.3129   1.8972\n",
              "403          super   672.533820   673.308377   Topic4  -3.5767   1.8969\n",
              "20              mi   528.736200   529.510805   Topic4  -3.8173   1.8966\n",
              "60         deliver   417.914154   418.677766   Topic4  -4.0525   1.8962\n",
              "62         product  2214.153665  2218.769445   Topic4  -2.3852   1.8960\n",
              "347           take   364.407225   365.181505   Topic4  -4.1895   1.8959\n",
              "383            red   336.561505   337.317289   Topic4  -4.2690   1.8958\n",
              "904      wonderful   330.619309   331.391639   Topic4  -4.2868   1.8957\n",
              "307        unhappy   318.727034   319.490126   Topic4  -4.3234   1.8956\n",
              "196       immobile   302.786712   303.550829   Topic4  -4.3748   1.8955\n",
              "379          heart   280.340985   281.095243   Topic4  -4.4518   1.8953\n",
              "326        service   261.708909   262.466206   Topic4  -4.5205   1.8951\n",
              "376         colour   261.334517   262.110421   Topic4  -4.5220   1.8951\n",
              "17             ill   255.751103   256.522730   Topic4  -4.5436   1.8950\n",
              "19     malfunction   221.475405   222.246010   Topic4  -4.6875   1.8946\n",
              "245            app   200.212066   200.986187   Topic4  -4.7884   1.8942\n",
              "536      satisfied   195.812069   196.577079   Topic4  -4.8106   1.8941\n",
              "1041  say_farewell   181.922198   182.722001   Topic4  -4.8842   1.8936\n",
              "353           hour   167.271059   168.038038   Topic4  -4.9682   1.8935\n",
              "805          close   181.803757   182.645038   Topic4  -4.8849   1.8934\n",
              "490           user   163.666663   164.439622   Topic4  -4.9899   1.8933\n",
              "607            lot   161.424011   162.192407   Topic4  -5.0037   1.8933\n",
              "1028       promise   165.377021   166.227631   Topic4  -4.9796   1.8929\n",
              "224        dislike   144.405253   145.169591   Topic4  -5.1152   1.8928\n",
              "61         picture   141.764471   142.533526   Topic4  -5.1336   1.8926\n",
              "511        totally   110.584067   111.366471   Topic4  -5.3820   1.8910\n",
              "84             new   103.182996   103.961044   Topic4  -5.4513   1.8905\n",
              "130           hate   427.834163   484.721619   Topic4  -4.0290   1.7732\n",
              "179           gift   177.064531   203.726654   Topic4  -4.9113   1.7578\n",
              "40          mobile   921.327434  2372.961744   Topic4  -3.2620   0.9520\n",
              "222           slow   247.960265   339.488293   Topic4  -4.5745   1.5839\n",
              "43           redmi   599.532821  1364.024236   Topic4  -3.6916   1.0760\n",
              "37            fast   511.471434  1277.195136   Topic4  -3.8505   0.9829\n",
              "38           happy   252.228911   361.046715   Topic4  -4.5574   1.5394\n",
              "82           light   459.810001   460.591320   Topic5  -3.2188   2.6345\n",
              "157            ram   439.506420   440.294126   Topic5  -3.2640   2.6344\n",
              "247         review   277.959128   278.749836   Topic5  -3.7222   2.6333\n",
              "1335        result   293.294089   294.187042   Topic5  -3.6685   2.6331\n",
              "198         weight   205.353963   206.128497   Topic5  -4.0249   2.6324\n",
              "232        compare   206.136530   206.919626   Topic5  -4.0211   2.6324\n",
              "940          night   193.498021   194.307589   Topic5  -4.0844   2.6320\n",
              "939             gb   183.156600   183.950206   Topic5  -4.1393   2.6319\n",
              "1560       variant   183.641265   184.446704   Topic5  -4.1366   2.6318\n",
              "195          heavy   174.428229   175.206310   Topic5  -4.1881   2.6317\n",
              "1743      facility   174.770248   175.634601   Topic5  -4.1862   2.6313\n",
              "217          touch   153.301841   154.085529   Topic5  -4.3172   2.6311\n",
              "622         killer   166.445407   167.314715   Topic5  -4.2350   2.6310\n",
              "211         forget   148.930140   149.717163   Topic5  -4.3462   2.6309\n",
              "530           huge   145.241621   146.105301   Topic5  -4.3712   2.6303\n",
              "601           hand   130.785529   131.566607   Topic5  -4.4761   2.6302\n",
              "694          piece   155.440728   156.467581   Topic5  -4.3034   2.6296\n",
              "1897     operation   141.732990   142.697748   Topic5  -4.3957   2.6294\n",
              "409        support   105.748618   106.531015   Topic5  -4.6886   2.6288\n",
              "89            slim   100.265563   101.044126   Topic5  -4.7418   2.6284\n",
              "1533         image    92.801823    93.582492   Topic5  -4.8192   2.6278\n",
              "311          beast    88.299755    89.075597   Topic5  -4.8689   2.6274\n",
              "147          cover    83.261092    84.035540   Topic5  -4.9276   2.6269\n",
              "775           call    80.915773    81.693698   Topic5  -4.9562   2.6266\n",
              "463            boy    74.519281    75.323251   Topic5  -5.0386   2.6255\n",
              "881          black    71.689174    72.468743   Topic5  -5.0773   2.6254\n",
              "936       actually    69.848913    70.625718   Topic5  -5.1033   2.6251\n",
              "819            sim    61.643365    62.416285   Topic5  -5.2283   2.6237\n",
              "754       increase    63.162231    63.964570   Topic5  -5.2039   2.6236\n",
              "544         online    60.989720    61.776977   Topic5  -5.2389   2.6234\n",
              "2039         multi   132.290554   136.167169   Topic5  -4.4646   2.6073\n",
              "2040         saver   102.908309   139.273870   Topic5  -4.7158   2.3336\n",
              "122         option   122.286398   241.564035   Topic5  -4.5433   1.9554\n",
              "86          screen   141.581159   528.133524   Topic5  -4.3968   1.3197\n",
              "37            fast   125.368172  1277.195136   Topic5  -4.5184   0.3150, token_table=      Topic      Freq          Term\n",
              "term                               \n",
              "936       5  0.991140      actually\n",
              "1         1  0.996489          also\n",
              "1         3  0.002779          also\n",
              "105       2  0.999389       amazing\n",
              "245       4  0.995093           app\n",
              "144       1  0.995558       average\n",
              "46        1  0.938400       awesome\n",
              "46        2  0.060557       awesome\n",
              "46        4  0.000925       awesome\n",
              "145       1  0.998950          back\n",
              "47        1  0.998858        backup\n",
              "47        3  0.000806        backup\n",
              "2         1  0.999720           bad\n",
              "128       1  0.998702         badly\n",
              "48        1  0.990763       battery\n",
              "48        3  0.009179       battery\n",
              "311       5  0.987925         beast\n",
              "92        3  0.996981           big\n",
              "28        1  0.992957           bit\n",
              "881       5  0.993532         black\n",
              "3178      3  0.997010         blaze\n",
              "463       5  0.995708           boy\n",
              "790       2  0.038448         brand\n",
              "790       3  0.957988         brand\n",
              "3         1  0.955002        budget\n",
              "3         3  0.044995        budget\n",
              "146       3  0.997034         build\n",
              "72        3  0.999479           buy\n",
              "775       5  0.991509          call\n",
              "4         1  0.978885        camera\n",
              "4         2  0.001692        camera\n",
              "4         3  0.019555        camera\n",
              "107       2  0.993871        change\n",
              "366       3  0.998068        charge\n",
              "637       3  0.998002       charger\n",
              "249       1  0.997634         cheap\n",
              "543       1  0.886808       clarity\n",
              "543       5  0.112187       clarity\n",
              "153       1  0.997865         class\n",
              "805       4  0.996468         close\n",
              "882       3  0.995219         color\n",
              "376       4  0.995764        colour\n",
              "49        2  0.998154          come\n",
              "232       5  0.995556       compare\n",
              "147       5  0.987677         cover\n",
              "93        1  0.892756           day\n",
              "93        2  0.105666           day\n",
              "93        3  0.000832           day\n",
              "945       3  0.996758        decent\n",
              "60        4  0.998381       deliver\n",
              "36        4  0.998967      delivery\n",
              "77        2  0.658302        design\n",
              "77        3  0.341774        design\n",
              "360       2  0.997112        device\n",
              "224       4  0.991943       dislike\n",
              "16        1  0.999057       display\n",
              "16        3  0.001142       display\n",
              "626       2  0.994357    dissatisfy\n",
              "503       1  0.997746           end\n",
              "65        1  0.995080        enough\n",
              "652       1  0.995695    especially\n",
              "444       1  0.087218          even\n",
              "444       2  0.911823          even\n",
              "591       3  0.992439          ever\n",
              "187       1  0.999494          evil\n",
              "80        1  0.988039     excellent\n",
              "80        4  0.011579     excellent\n",
              "154       2  0.997322    experience\n",
              "522       2  0.996211   face_unlock\n",
              "1743      5  0.996387      facility\n",
              "2259      3  0.993294          fall\n",
              "263       2  0.994246           far\n",
              "37        1  0.501098          fast\n",
              "37        4  0.400095          fast\n",
              "37        5  0.097871          fast\n",
              "73        1  0.131229       feature\n",
              "73        2  0.837953       feature\n",
              "73        3  0.030073       feature\n",
              "276       2  0.995861          feel\n",
              "1238      3  0.995339   fingerprint\n",
              "95        2  0.839110         first\n",
              "95        4  0.157148         first\n",
              "51        4  0.999431      flipkart\n",
              "211       5  0.995210        forget\n",
              "66        1  0.998351         front\n",
              "155       3  0.997160          game\n",
              "939       5  0.994834            gb\n",
              "172       2  0.999350           get\n",
              "179       2  0.127622          gift\n",
              "179       4  0.868811          gift\n",
              "256       1  0.994004          give\n",
              "256       5  0.003723          give\n",
              "268       2  0.018812            go\n",
              "268       3  0.980310            go\n",
              "67        3  0.999803          good\n",
              "5         1  0.020307         great\n",
              "5         2  0.979064         great\n",
              "4193      3  0.997378         green\n",
              "601       5  0.995693          hand\n",
              "38        3  0.299130         happy\n",
              "38        4  0.697971         happy\n",
              "130       1  0.018567          hate\n",
              "130       2  0.096963          hate\n",
              "130       4  0.882981          hate\n",
              "379       4  0.996104         heart\n",
              "195       5  0.993115         heavy\n",
              "29        1  0.995557          high\n",
              "29        3  0.002613          high\n",
              "353       4  0.993823          hour\n",
              "530       5  0.992435          huge\n",
              "17        4  0.997962           ill\n",
              "1533      5  0.993776         image\n",
              "196       4  0.998185      immobile\n",
              "188       2  0.997987     imperfect\n",
              "754       5  0.984920      increase\n",
              "173       1  0.998259         issue\n",
              "622       5  0.992142        killer\n",
              "97        1  0.997640           lag\n",
              "109       2  0.995021          last\n",
              "81        1  0.999145          life\n",
              "82        5  0.998716         light\n",
              "391       2  0.997842          long\n",
              "18        1  0.048527          look\n",
              "18        3  0.951340          look\n",
              "607       4  0.992648           lot\n",
              "74        2  0.075312          love\n",
              "74        3  0.923227          love\n",
              "83        3  0.997793           low\n",
              "242       1  0.991799           mah\n",
              "19        4  0.994394   malfunction\n",
              "20        4  0.999035            mi\n",
              "40        1  0.152131        mobile\n",
              "40        3  0.459342        mobile\n",
              "40        4  0.388123        mobile\n",
              "30        1  0.999303         money\n",
              "284       2  0.998496         month\n",
              "572       3  0.994412            mp\n",
              "41        1  0.998015          much\n",
              "2039      1  0.007344         multi\n",
              "2039      2  0.007344         multi\n",
              "2039      3  0.007344         multi\n",
              "2039      4  0.014688         multi\n",
              "2039      5  0.969397         multi\n",
              "99        1  0.982945         nasty\n",
              "99        4  0.016625         nasty\n",
              "265       2  0.996852         never\n",
              "84        4  0.990756           new\n",
              "42        3  0.999127          nice\n",
              "940       5  0.993271         night\n",
              "21        2  0.999041          note\n",
              "544       5  0.987423        online\n",
              "1897      5  0.995110     operation\n",
              "122       2  0.360153        option\n",
              "122       3  0.132470        option\n",
              "122       5  0.505042        option\n",
              "373       1  0.995452         order\n",
              "22        1  0.999269       overall\n",
              "208       3  0.997638       package\n",
              "175       3  0.996008       perfect\n",
              "6         1  0.987662   performance\n",
              "6         2  0.000455   performance\n",
              "6         3  0.011834   performance\n",
              "468       3  0.992456           phn\n",
              "7         1  0.575795         phone\n",
              "7         2  0.406472         phone\n",
              "7         3  0.017630         phone\n",
              "61        4  0.996257       picture\n",
              "694       5  0.990621         piece\n",
              "176       1  0.997794          play\n",
              "85        2  0.995788      portrait\n",
              "241       2  0.041801       premium\n",
              "241       3  0.952137       premium\n",
              "23        1  0.982063         price\n",
              "23        2  0.006202         price\n",
              "23        3  0.011674         price\n",
              "24        2  0.997540           pro\n",
              "24        3  0.001535           pro\n",
              "429       2  0.997195       problem\n",
              "237       1  0.999296     processor\n",
              "62        1  0.001803       product\n",
              "62        4  0.997850       product\n",
              "1028      4  0.992615       promise\n",
              "1244      3  0.994667      properly\n",
              "306       2  0.999039      purchase\n",
              "31        1  0.986374       quality\n",
              "31        3  0.013552       quality\n",
              "157       5  0.999332           ram\n",
              "25        1  0.922947         range\n",
              "25        2  0.047129         range\n",
              "25        3  0.029849         range\n",
              "56        1  0.005676        really\n",
              "56        2  0.878702        really\n",
              "56        4  0.114663        really\n",
              "318       2  0.994411       receive\n",
              "456       3  0.994871     recommend\n",
              "383       4  0.999059           red\n",
              "43        1  0.013929         redmi\n",
              "43        2  0.543979         redmi\n",
              "43        3  0.002932         redmi\n",
              "43        4  0.439875         redmi\n",
              "1335      5  0.995965        result\n",
              "247       5  0.997310        review\n",
              "70        3  0.997474           run\n",
              "536       4  0.997064     satisfied\n",
              "2040      1  0.035900         saver\n",
              "2040      2  0.035900         saver\n",
              "2040      3  0.064621         saver\n",
              "2040      4  0.114882         saver\n",
              "2040      5  0.739550         saver\n",
              "1041      4  0.996049  say_farewell\n",
              "86        1  0.028402        screen\n",
              "86        3  0.702474        screen\n",
              "86        5  0.268871        screen\n",
              "228       2  0.994453           see\n",
              "323       1  0.997859        selfie\n",
              "384       1  0.054972          sell\n",
              "384       2  0.925690          sell\n",
              "384       4  0.018651          sell\n",
              "326       4  0.998224       service\n",
              "819       5  0.993331           sim\n",
              "89        5  0.989667          slim\n",
              "222       1  0.268050          slow\n",
              "222       4  0.730511          slow\n",
              "165       3  0.996705    smartphone\n",
              "165       4  0.003449    smartphone\n",
              "33        1  0.002478        smooth\n",
              "33        3  0.996127        smooth\n",
              "71        3  0.996890      smoothly\n",
              "297       1  0.998654         sound\n",
              "280       3  0.998562         speed\n",
              "403       4  0.999542         super\n",
              "58        2  0.999149        superb\n",
              "409       5  0.995015       support\n",
              "347       4  0.996765          take\n",
              "44        4  0.999333         thank\n",
              "299       2  0.997619         thing\n",
              "170       3  0.997448         think\n",
              "244       4  0.999634          time\n",
              "511       4  0.996709       totally\n",
              "217       5  0.992955         touch\n",
              "307       4  0.998466       unhappy\n",
              "289       2  0.997986         usage\n",
              "112       2  0.999479           use\n",
              "490       4  0.997327          user\n",
              "35        1  0.999252         value\n",
              "1560      5  0.997578       variant\n",
              "290       2  0.995856          want\n",
              "198       5  0.994525        weight\n",
              "64        3  0.998942          well\n",
              "904       4  0.998818     wonderful\n",
              "219       3  0.998405          work\n",
              "113       2  0.998602         worth\n",
              "518       2  0.994777        xiaomi\n",
              "114       2  0.997272          year, R=30, lambda_step=0.01, plot_opts={'xlab': 'PC1', 'ylab': 'PC2'}, topic_order=[2, 5, 1, 3, 4])"
            ]
          },
          "execution_count": 60,
          "metadata": {},
          "output_type": "execute_result"
        }
      ],
      "source": [
        "# Plotting tools\n",
        "import pyLDAvis\n",
        "import pyLDAvis.gensim_models  # don't skip this\n",
        "import matplotlib.pyplot as plt\n",
        "%matplotlib inline\n",
        "\n",
        "# Visualize the topics\n",
        "pyLDAvis.enable_notebook()\n",
        "vis = pyLDAvis.gensim_models.prepare(lda_model, corpus, id2word)\n",
        "vis"
      ]
    },
    {
      "cell_type": "code",
      "execution_count": null,
      "metadata": {
        "colab": {
          "base_uri": "https://localhost:8080/"
        },
        "id": "BSgwNb_t3Eig",
        "outputId": "fbccc743-a9b5-4e90-c969-4d06ac007910"
      },
      "outputs": [
        {
          "name": "stdout",
          "output_type": "stream",
          "text": [
            "[(0, 1), (1, 1), (2, 1), (3, 1), (4, 1), (5, 1), (6, 1), (7, 1), (8, 1), (9, 1), (10, 3), (11, 1), (12, 1), (13, 1), (14, 1), (15, 1), (16, 1)]\n"
          ]
        }
      ],
      "source": [
        "import gensim.corpora as corpora\n",
        "\n",
        "# Create Dictionary\n",
        "id2word = corpora.Dictionary(data_words)\n",
        "# Create Corpus\n",
        "texts = data_words\n",
        "# Term Document Frequency\n",
        "corpus = [id2word.doc2bow(text) for text in texts]\n",
        "# View\n",
        "print(corpus[:1][0][:30])"
      ]
    },
    {
      "cell_type": "code",
      "execution_count": null,
      "metadata": {
        "id": "ki4otQ6a3Eky"
      },
      "outputs": [],
      "source": [
        "from gensim.models import LdaMulticore\n",
        "from gensim.models import LdaModel\n",
        "from pprint import pprint\n",
        "\n",
        "# number of topics\n",
        "num_topics = 10\n",
        "# Build LDA model\n",
        "lda_model = LdaMulticore(corpus=corpus, id2word=id2word, num_topics=num_topics, iterations=400)\n"
      ]
    },
    {
      "cell_type": "code",
      "execution_count": null,
      "metadata": {
        "colab": {
          "base_uri": "https://localhost:8080/"
        },
        "id": "FG_qJOOd8K5M",
        "outputId": "970a8b63-16a6-4cee-891b-f11955602c99"
      },
      "outputs": [
        {
          "name": "stdout",
          "output_type": "stream",
          "text": [
            "[(0,\n",
            "  '0.049*\"good\" + 0.038*\"product\" + 0.030*\"camera\" + 0.020*\"redmi\" + '\n",
            "  '0.017*\"mobile\" + 0.015*\"performance\" + 0.015*\"phone\" + 0.015*\"like\" + '\n",
            "  '0.014*\"flipkart\" + 0.013*\"price\"'),\n",
            " (1,\n",
            "  '0.041*\"camera\" + 0.033*\"phone\" + 0.029*\"good\" + 0.016*\"awesome\" + '\n",
            "  '0.014*\"evil\" + 0.013*\"quality\" + 0.012*\"display\" + 0.011*\"design\" + '\n",
            "  '0.010*\"product\" + 0.010*\"performance\"'),\n",
            " (2,\n",
            "  '0.040*\"phone\" + 0.037*\"good\" + 0.032*\"camera\" + 0.025*\"battery\" + '\n",
            "  '0.022*\"price\" + 0.021*\"mobile\" + 0.018*\"awesome\" + 0.015*\"great\" + '\n",
            "  '0.014*\"quality\" + 0.012*\"value\"'),\n",
            " (3,\n",
            "  '0.030*\"phone\" + 0.029*\"flipkart\" + 0.028*\"bad\" + 0.020*\"delivery\" + '\n",
            "  '0.019*\"camera\" + 0.018*\"evil\" + 0.018*\"mobile\" + 0.018*\"thank\" + '\n",
            "  '0.017*\"battery\" + 0.016*\"good\"'),\n",
            " (4,\n",
            "  '0.072*\"good\" + 0.070*\"phone\" + 0.036*\"camera\" + 0.026*\"battery\" + '\n",
            "  '0.018*\"performance\" + 0.017*\"price\" + 0.015*\"display\" + 0.014*\"great\" + '\n",
            "  '0.013*\"quality\" + 0.012*\"nice\"'),\n",
            " (5,\n",
            "  '0.037*\"phone\" + 0.030*\"bad\" + 0.026*\"camera\" + 0.024*\"battery\" + '\n",
            "  '0.016*\"good\" + 0.016*\"evil\" + 0.016*\"price\" + 0.014*\"performance\" + '\n",
            "  '0.011*\"display\" + 0.011*\"like\"'),\n",
            " (6,\n",
            "  '0.079*\"phone\" + 0.031*\"bad\" + 0.030*\"camera\" + 0.027*\"evil\" + '\n",
            "  '0.016*\"battery\" + 0.015*\"awesome\" + 0.015*\"good\" + 0.014*\"performance\" + '\n",
            "  '0.014*\"quality\" + 0.012*\"also\"'),\n",
            " (7,\n",
            "  '0.031*\"bad\" + 0.027*\"phone\" + 0.017*\"money\" + 0.016*\"value\" + '\n",
            "  '0.015*\"camera\" + 0.015*\"use\" + 0.015*\"mobile\" + 0.014*\"evil\" + '\n",
            "  '0.014*\"really\" + 0.013*\"awesome\"'),\n",
            " (8,\n",
            "  '0.031*\"product\" + 0.023*\"thank\" + 0.023*\"flipkart\" + 0.021*\"phone\" + '\n",
            "  '0.019*\"camera\" + 0.019*\"use\" + 0.017*\"delivery\" + 0.016*\"good\" + '\n",
            "  '0.014*\"mobile\" + 0.014*\"battery\"'),\n",
            " (9,\n",
            "  '0.044*\"mobile\" + 0.022*\"quality\" + 0.022*\"phone\" + 0.021*\"good\" + '\n",
            "  '0.021*\"camera\" + 0.021*\"battery\" + 0.015*\"bad\" + 0.014*\"evil\" + '\n",
            "  '0.012*\"thank\" + 0.011*\"nasty\"')]\n"
          ]
        }
      ],
      "source": [
        "# Print the Keyword in the 10 topics\n",
        "pprint(lda_model.print_topics())\n",
        "doc_lda = lda_model[corpus]"
      ]
    },
    {
      "cell_type": "code",
      "execution_count": null,
      "metadata": {
        "colab": {
          "base_uri": "https://localhost:8080/"
        },
        "id": "LhQBVwKy3EnB",
        "outputId": "9cabe73e-2b0b-4bff-c061-d56a31c1d6b0"
      },
      "outputs": [
        {
          "name": "stderr",
          "output_type": "stream",
          "text": [
            "/usr/local/lib/python3.8/dist-packages/gensim/models/fasttext.py:383: DeprecationWarning: Call to deprecated `bucket` (Attribute will be removed in 4.0.0, use trainables.bucket instead).\n",
            "  self.wv.bucket = self.bucket\n",
            "/usr/local/lib/python3.8/dist-packages/gensim/models/fasttext.py:522: DeprecationWarning: Call to deprecated `layer1_size` (Attribute will be removed in 4.0.0, use self.trainables.layer1_size instead).\n",
            "  l1_size = self.layer1_size * np.dtype(np.float32).itemsize\n",
            "/usr/local/lib/python3.8/dist-packages/gensim/models/fasttext.py:526: DeprecationWarning: Call to deprecated `bucket` (Attribute will be removed in 4.0.0, use trainables.bucket instead).\n",
            "  num_buckets = self.bucket\n"
          ]
        },
        {
          "name": "stdout",
          "output_type": "stream",
          "text": [
            "CPU times: user 9.59 s, sys: 240 ms, total: 9.83 s\n",
            "Wall time: 8.56 s\n"
          ]
        }
      ],
      "source": [
        "%%time\n",
        "from gensim.models import FastText\n",
        "fasttext_model = FastText(data_words, size=100, window=5, min_count=5, workers=4,sg=1)"
      ]
    },
    {
      "cell_type": "code",
      "execution_count": null,
      "metadata": {
        "colab": {
          "base_uri": "https://localhost:8080/"
        },
        "id": "_3XSoVnO3Eqc",
        "outputId": "f823f2c4-7d2d-4d7e-9b55-041551c59a92"
      },
      "outputs": [
        {
          "name": "stderr",
          "output_type": "stream",
          "text": [
            "/usr/local/lib/python3.8/dist-packages/smart_open/smart_open_lib.py:496: DeprecationWarning: This function is deprecated.  See https://github.com/RaRe-Technologies/smart_open/blob/develop/MIGRATING_FROM_OLDER_VERSIONS.rst for more information\n",
            "  warnings.warn(message, category=DeprecationWarning)\n"
          ]
        }
      ],
      "source": [
        "fasttext_model.save(\"FastText-Model-For-ABSA.bin\")"
      ]
    },
    {
      "cell_type": "code",
      "execution_count": null,
      "metadata": {
        "colab": {
          "base_uri": "https://localhost:8080/"
        },
        "id": "wd8-dgMg8Nb3",
        "outputId": "f565e396-c5e2-47f9-b308-73fb2c7b9e54"
      },
      "outputs": [
        {
          "name": "stderr",
          "output_type": "stream",
          "text": [
            "/usr/local/lib/python3.8/dist-packages/gensim/matutils.py:737: DeprecationWarning: `np.int` is a deprecated alias for the builtin `int`. To silence this warning, use `int` by itself. Doing this will not modify any behavior and is safe. When replacing `np.int`, you may wish to use e.g. `np.int64` or `np.int32` to specify the precision. If you wish to review your current use, check the release note link for additional information.\n",
            "Deprecated in NumPy 1.20; for more details and guidance: https://numpy.org/devdocs/release/1.20.0-notes.html#deprecations\n",
            "  if np.issubdtype(vec.dtype, np.int):\n",
            "/usr/local/lib/python3.8/dist-packages/gensim/matutils.py:737: DeprecationWarning: `np.int` is a deprecated alias for the builtin `int`. To silence this warning, use `int` by itself. Doing this will not modify any behavior and is safe. When replacing `np.int`, you may wish to use e.g. `np.int64` or `np.int32` to specify the precision. If you wish to review your current use, check the release note link for additional information.\n",
            "Deprecated in NumPy 1.20; for more details and guidance: https://numpy.org/devdocs/release/1.20.0-notes.html#deprecations\n",
            "  if np.issubdtype(vec.dtype, np.int):\n"
          ]
        },
        {
          "data": {
            "text/plain": [
              "0.9737432"
            ]
          },
          "execution_count": 66,
          "metadata": {},
          "output_type": "execute_result"
        }
      ],
      "source": [
        "fasttext_model.wv.n_similarity(['i like battery'],['battery'])"
      ]
    },
    {
      "cell_type": "code",
      "execution_count": null,
      "metadata": {
        "id": "FLvAAgOx3Ey0"
      },
      "outputs": [],
      "source": [
        "aspects = [\"phone\", \"camera\", \"battery\", \"delivery\", \"processor\"]\n",
        "\n",
        "def get_similarity(text, aspect):\n",
        "    try:\n",
        "        text = \" \".join(text)\n",
        "        return fasttext_model.wv.n_similarity([text], aspect)\n",
        "    except:\n",
        "        return 0"
      ]
    },
    {
      "cell_type": "code",
      "execution_count": null,
      "metadata": {
        "colab": {
          "base_uri": "https://localhost:8080/"
        },
        "id": "VtpiC50n3E1g",
        "outputId": "487e3838-9060-4bab-f4b3-ed95904ade8c"
      },
      "outputs": [
        {
          "name": "stderr",
          "output_type": "stream",
          "text": [
            "100%|██████████| 9606/9606 [00:10<00:00, 876.76it/s]\n",
            "100%|██████████| 9606/9606 [00:11<00:00, 827.72it/s] \n",
            "100%|██████████| 9606/9606 [00:04<00:00, 2191.90it/s]\n",
            "100%|██████████| 9606/9606 [00:04<00:00, 2147.42it/s]\n",
            "100%|██████████| 9606/9606 [00:04<00:00, 2267.65it/s]\n"
          ]
        }
      ],
      "source": [
        "from tqdm import tqdm\n",
        "tqdm.pandas()\n",
        "for aspect in aspects:\n",
        "    df[aspect] = df['clean_review2'].progress_map(lambda text: get_similarity(text, aspect))"
      ]
    },
    {
      "cell_type": "code",
      "execution_count": null,
      "metadata": {
        "colab": {
          "background_save": true
        },
        "id": "nIcUNyG33FNk"
      },
      "outputs": [],
      "source": [
        "list_phone=[]\n",
        "list_camera=[]\n",
        "list_battery=[]\n",
        "list_delivery=[]\n",
        "list_processor=[]\n",
        "for i in range(len(df['clean_review2'])):\n",
        "    list_phone.append(fasttext_model.wv.n_similarity([aspects[0]], [\" \".join(df['clean_review2'][i])]))\n",
        "for i in range(len(df['clean_review2'])):\n",
        "    list_camera.append(fasttext_model.wv.n_similarity([aspects[1]], [\" \".join(df['clean_review2'][i])]))\n",
        "for i in range(len(df['clean_review2'])):\n",
        "    list_battery.append(fasttext_model.wv.n_similarity([aspects[2]], [\" \".join(df['clean_review2'][i])]))\n",
        "for i in range(len(df['clean_review2'])):\n",
        "    list_delivery.append(fasttext_model.wv.n_similarity([aspects[3]], [\" \".join(df['clean_review2'][i])]))\n",
        "for i in range(len(df['clean_review2'])):\n",
        "    list_processor.append(fasttext_model.wv.n_similarity([aspects[4]], [\" \".join(df['clean_review2'][i])]))\n"
      ]
    },
    {
      "cell_type": "code",
      "execution_count": null,
      "metadata": {
        "colab": {
          "background_save": true
        },
        "id": "NFuLgcR_3FSH",
        "outputId": "068b606d-b654-42a8-ed4f-640a77405a48"
      },
      "outputs": [
        {
          "data": {
            "text/html": [
              "\n",
              "  <div id=\"df-eedbb550-eafb-4aac-a712-f9bd111a270a\">\n",
              "    <div class=\"colab-df-container\">\n",
              "      <div>\n",
              "<style scoped>\n",
              "    .dataframe tbody tr th:only-of-type {\n",
              "        vertical-align: middle;\n",
              "    }\n",
              "\n",
              "    .dataframe tbody tr th {\n",
              "        vertical-align: top;\n",
              "    }\n",
              "\n",
              "    .dataframe thead th {\n",
              "        text-align: right;\n",
              "    }\n",
              "</style>\n",
              "<table border=\"1\" class=\"dataframe\">\n",
              "  <thead>\n",
              "    <tr style=\"text-align: right;\">\n",
              "      <th></th>\n",
              "      <th>review</th>\n",
              "      <th>y</th>\n",
              "      <th>clean_review</th>\n",
              "      <th>clean_review2</th>\n",
              "      <th>phone</th>\n",
              "      <th>camera</th>\n",
              "      <th>battery</th>\n",
              "      <th>delivery</th>\n",
              "      <th>processor</th>\n",
              "    </tr>\n",
              "  </thead>\n",
              "  <tbody>\n",
              "    <tr>\n",
              "      <th>0</th>\n",
              "      <td>great phone in budget. .. pubg performance was...</td>\n",
              "      <td>0</td>\n",
              "      <td>great phone budget pubg performance rough came...</td>\n",
              "      <td>[great, phone, budget, pubg, performance, roug...</td>\n",
              "      <td>0.819298</td>\n",
              "      <td>0.786063</td>\n",
              "      <td>0.697469</td>\n",
              "      <td>0.549153</td>\n",
              "      <td>0.716295</td>\n",
              "    </tr>\n",
              "    <tr>\n",
              "      <th>1</th>\n",
              "      <td>Best Smartphone by Mi in this Range. . be born...</td>\n",
              "      <td>0</td>\n",
              "      <td>good smartphone mi range bear r confused samsu...</td>\n",
              "      <td>[good, smartphone, mi, range, bear, r, confuse...</td>\n",
              "      <td>0.785190</td>\n",
              "      <td>0.765837</td>\n",
              "      <td>0.675267</td>\n",
              "      <td>0.511048</td>\n",
              "      <td>0.735276</td>\n",
              "    </tr>\n",
              "    <tr>\n",
              "      <th>2</th>\n",
              "      <td>Bad smooth phone. . and back camera quality is...</td>\n",
              "      <td>0</td>\n",
              "      <td>bad smooth phone back camera quality bad rear ...</td>\n",
              "      <td>[bad, smooth, phone, back, camera, quality, ba...</td>\n",
              "      <td>0.745465</td>\n",
              "      <td>0.873688</td>\n",
              "      <td>0.746824</td>\n",
              "      <td>0.524248</td>\n",
              "      <td>0.759978</td>\n",
              "    </tr>\n",
              "    <tr>\n",
              "      <th>3</th>\n",
              "      <td>Thise is very nice mobile ...I like it very mu...</td>\n",
              "      <td>1</td>\n",
              "      <td>thise nice mobile I like much delivery also fa...</td>\n",
              "      <td>[thise, nice, mobile, i, like, much, delivery,...</td>\n",
              "      <td>0.601381</td>\n",
              "      <td>0.526910</td>\n",
              "      <td>0.559432</td>\n",
              "      <td>0.869267</td>\n",
              "      <td>0.541614</td>\n",
              "    </tr>\n",
              "    <tr>\n",
              "      <th>4</th>\n",
              "      <td>I m meagerly fall short of ð    All section...</td>\n",
              "      <td>0</td>\n",
              "      <td>I meagerly fall short ð section r superb deliv...</td>\n",
              "      <td>[i, meagerly, fall, short, ð, section, r, supe...</td>\n",
              "      <td>0.657974</td>\n",
              "      <td>0.680476</td>\n",
              "      <td>0.721474</td>\n",
              "      <td>0.820168</td>\n",
              "      <td>0.618131</td>\n",
              "    </tr>\n",
              "  </tbody>\n",
              "</table>\n",
              "</div>\n",
              "      <button class=\"colab-df-convert\" onclick=\"convertToInteractive('df-eedbb550-eafb-4aac-a712-f9bd111a270a')\"\n",
              "              title=\"Convert this dataframe to an interactive table.\"\n",
              "              style=\"display:none;\">\n",
              "        \n",
              "  <svg xmlns=\"http://www.w3.org/2000/svg\" height=\"24px\"viewBox=\"0 0 24 24\"\n",
              "       width=\"24px\">\n",
              "    <path d=\"M0 0h24v24H0V0z\" fill=\"none\"/>\n",
              "    <path d=\"M18.56 5.44l.94 2.06.94-2.06 2.06-.94-2.06-.94-.94-2.06-.94 2.06-2.06.94zm-11 1L8.5 8.5l.94-2.06 2.06-.94-2.06-.94L8.5 2.5l-.94 2.06-2.06.94zm10 10l.94 2.06.94-2.06 2.06-.94-2.06-.94-.94-2.06-.94 2.06-2.06.94z\"/><path d=\"M17.41 7.96l-1.37-1.37c-.4-.4-.92-.59-1.43-.59-.52 0-1.04.2-1.43.59L10.3 9.45l-7.72 7.72c-.78.78-.78 2.05 0 2.83L4 21.41c.39.39.9.59 1.41.59.51 0 1.02-.2 1.41-.59l7.78-7.78 2.81-2.81c.8-.78.8-2.07 0-2.86zM5.41 20L4 18.59l7.72-7.72 1.47 1.35L5.41 20z\"/>\n",
              "  </svg>\n",
              "      </button>\n",
              "      \n",
              "  <style>\n",
              "    .colab-df-container {\n",
              "      display:flex;\n",
              "      flex-wrap:wrap;\n",
              "      gap: 12px;\n",
              "    }\n",
              "\n",
              "    .colab-df-convert {\n",
              "      background-color: #E8F0FE;\n",
              "      border: none;\n",
              "      border-radius: 50%;\n",
              "      cursor: pointer;\n",
              "      display: none;\n",
              "      fill: #1967D2;\n",
              "      height: 32px;\n",
              "      padding: 0 0 0 0;\n",
              "      width: 32px;\n",
              "    }\n",
              "\n",
              "    .colab-df-convert:hover {\n",
              "      background-color: #E2EBFA;\n",
              "      box-shadow: 0px 1px 2px rgba(60, 64, 67, 0.3), 0px 1px 3px 1px rgba(60, 64, 67, 0.15);\n",
              "      fill: #174EA6;\n",
              "    }\n",
              "\n",
              "    [theme=dark] .colab-df-convert {\n",
              "      background-color: #3B4455;\n",
              "      fill: #D2E3FC;\n",
              "    }\n",
              "\n",
              "    [theme=dark] .colab-df-convert:hover {\n",
              "      background-color: #434B5C;\n",
              "      box-shadow: 0px 1px 3px 1px rgba(0, 0, 0, 0.15);\n",
              "      filter: drop-shadow(0px 1px 2px rgba(0, 0, 0, 0.3));\n",
              "      fill: #FFFFFF;\n",
              "    }\n",
              "  </style>\n",
              "\n",
              "      <script>\n",
              "        const buttonEl =\n",
              "          document.querySelector('#df-eedbb550-eafb-4aac-a712-f9bd111a270a button.colab-df-convert');\n",
              "        buttonEl.style.display =\n",
              "          google.colab.kernel.accessAllowed ? 'block' : 'none';\n",
              "\n",
              "        async function convertToInteractive(key) {\n",
              "          const element = document.querySelector('#df-eedbb550-eafb-4aac-a712-f9bd111a270a');\n",
              "          const dataTable =\n",
              "            await google.colab.kernel.invokeFunction('convertToInteractive',\n",
              "                                                     [key], {});\n",
              "          if (!dataTable) return;\n",
              "\n",
              "          const docLinkHtml = 'Like what you see? Visit the ' +\n",
              "            '<a target=\"_blank\" href=https://colab.research.google.com/notebooks/data_table.ipynb>data table notebook</a>'\n",
              "            + ' to learn more about interactive tables.';\n",
              "          element.innerHTML = '';\n",
              "          dataTable['output_type'] = 'display_data';\n",
              "          await google.colab.output.renderOutput(dataTable, element);\n",
              "          const docLink = document.createElement('div');\n",
              "          docLink.innerHTML = docLinkHtml;\n",
              "          element.appendChild(docLink);\n",
              "        }\n",
              "      </script>\n",
              "    </div>\n",
              "  </div>\n",
              "  "
            ],
            "text/plain": [
              "                                              review  y  \\\n",
              "0  great phone in budget. .. pubg performance was...  0   \n",
              "1  Best Smartphone by Mi in this Range. . be born...  0   \n",
              "2  Bad smooth phone. . and back camera quality is...  0   \n",
              "3  Thise is very nice mobile ...I like it very mu...  1   \n",
              "4  I m meagerly fall short of ð    All section...  0   \n",
              "\n",
              "                                        clean_review  \\\n",
              "0  great phone budget pubg performance rough came...   \n",
              "1  good smartphone mi range bear r confused samsu...   \n",
              "2  bad smooth phone back camera quality bad rear ...   \n",
              "3  thise nice mobile I like much delivery also fa...   \n",
              "4  I meagerly fall short ð section r superb deliv...   \n",
              "\n",
              "                                       clean_review2     phone    camera  \\\n",
              "0  [great, phone, budget, pubg, performance, roug...  0.819298  0.786063   \n",
              "1  [good, smartphone, mi, range, bear, r, confuse...  0.785190  0.765837   \n",
              "2  [bad, smooth, phone, back, camera, quality, ba...  0.745465  0.873688   \n",
              "3  [thise, nice, mobile, i, like, much, delivery,...  0.601381  0.526910   \n",
              "4  [i, meagerly, fall, short, ð, section, r, supe...  0.657974  0.680476   \n",
              "\n",
              "    battery  delivery  processor  \n",
              "0  0.697469  0.549153   0.716295  \n",
              "1  0.675267  0.511048   0.735276  \n",
              "2  0.746824  0.524248   0.759978  \n",
              "3  0.559432  0.869267   0.541614  \n",
              "4  0.721474  0.820168   0.618131  "
            ]
          },
          "execution_count": 72,
          "metadata": {},
          "output_type": "execute_result"
        }
      ],
      "source": [
        "df['phone']=list_phone\n",
        "df['camera']=list_camera\n",
        "df['battery']=list_battery\n",
        "df['delivery']=list_delivery\n",
        "df['processor']=list_processor\n",
        "df.head()"
      ]
    },
    {
      "cell_type": "code",
      "execution_count": null,
      "metadata": {
        "colab": {
          "background_save": true
        },
        "id": "wzkc_wnf3FVY"
      },
      "outputs": [],
      "source": [
        "##Model"
      ]
    },
    {
      "cell_type": "code",
      "execution_count": null,
      "metadata": {
        "colab": {
          "background_save": true
        },
        "id": "1U38nQDq3FXq"
      },
      "outputs": [],
      "source": [
        "import torch\n",
        "from torch import nn\n",
        "from torch.utils.data import Dataset\n",
        "from torch.utils.data import DataLoader\n",
        "from torch.utils.data import RandomSampler\n",
        "import warnings"
      ]
    },
    {
      "cell_type": "code",
      "execution_count": null,
      "metadata": {
        "colab": {
          "background_save": true
        },
        "id": "nUHLZyWI3FZy"
      },
      "outputs": [],
      "source": [
        "class config:\n",
        "    warnings.filterwarnings(\"ignore\", category = UserWarning)\n",
        "    IMG_SIZE = (224,224)\n",
        "    DEVICE = (\"cuda\" if torch.cuda.is_available() else \"cpu\")\n",
        "    FOLDS = 5\n",
        "    SHUFFLE = True\n",
        "    BATCH_SIZE = 32\n",
        "    LR = 0.01\n",
        "    EPOCHS = 30\n",
        "    EMB_DIM = 100\n",
        "    MAX_LEN = 20\n",
        "    MODEL_PATH = \"/content/drive/MyDrive/flipcart/MyModel.pt\""
      ]
    },
    {
      "cell_type": "code",
      "execution_count": null,
      "metadata": {
        "colab": {
          "background_save": true
        },
        "id": "gLw8K7BB3Fb4"
      },
      "outputs": [],
      "source": [
        "class Vocabulary:\n",
        "  \n",
        "    '''\n",
        "    __init__ method is called by default as soon as an object of this class is initiated\n",
        "    we use this method to initiate our vocab dictionaries\n",
        "    '''\n",
        "    def __init__(self, freq_threshold, max_size):\n",
        "        '''\n",
        "        freq_threshold : the minimum times a word must occur in corpus to be treated in vocab\n",
        "        max_size : max source vocab size. Eg. if set to 10,000, we pick the top 10,000 most frequent words and discard others\n",
        "        '''\n",
        "        #initiate the index to token dict\n",
        "        ## <PAD> -> padding, used for padding the shorter sentences in a batch to match the length of longest sentence in the batch\n",
        "        ## <SOS> -> start token, added in front of each sentence to signify the start of sentence\n",
        "        ## <EOS> -> End of sentence token, added to the end of each sentence to signify the end of sentence\n",
        "        ## <UNK> -> words which are not found in the vocab are replace by this token\n",
        "        self.itos = {0: '<PAD>', 1:'<SOS>', 2:'<EOS>', 3: '<UNK>'}\n",
        "        #initiate the token to index dict\n",
        "        self.stoi = {k:j for j,k in self.itos.items()} \n",
        "        self.freq_threshold = freq_threshold\n",
        "        self.max_size = max_size\n",
        "    \n",
        "    '''\n",
        "    __len__ is used by dataloader later to create batches\n",
        "    '''\n",
        "    def __len__(self):\n",
        "        return len(self.itos)\n",
        "    \n",
        "    '''\n",
        "    a simple tokenizer to split on space and converts the sentence to list of words\n",
        "    '''\n",
        "    @staticmethod\n",
        "    def tokenizer(text):\n",
        "        return [tok.lower().strip() for tok in text.split(' ')]\n",
        "    def build_vocabulary(self, sentence_list):\n",
        "            #calculate the frequencies of each word first to remove the words with freq < freq_threshold\n",
        "              frequencies = {}  #init the freq dict\n",
        "              idx = 4 #index from which we want our dict to start. We already used 4 indexes for pad, start, end, unk\n",
        "              \n",
        "              #calculate freq of words\n",
        "              for sentence in sentence_list:\n",
        "                  for word in self.tokenizer(sentence):\n",
        "                      if word not in frequencies.keys():\n",
        "                          frequencies[word]=1\n",
        "                      else:\n",
        "                          frequencies[word]+=1\n",
        "                          \n",
        "                          \n",
        "              #limit vocab by removing low freq words\n",
        "              frequencies = {k:v for k,v in frequencies.items() if v>self.freq_threshold} \n",
        "              \n",
        "              #limit vocab to the max_size specified\n",
        "              frequencies = dict(sorted(frequencies.items(), key = lambda x: -x[1])[:self.max_size-idx]) # idx =4 for pad, start, end , unk\n",
        "                \n",
        "            #create vocab\n",
        "              for word in frequencies.keys():\n",
        "                  self.stoi[word] = idx\n",
        "                  self.itos[idx] = word\n",
        "                  idx+=1\n",
        "              \n",
        "     \n",
        "    '''\n",
        "    convert the list of words to a list of corresponding indexes\n",
        "    '''    \n",
        "    def numericalize(self, text):\n",
        "      #tokenize text\n",
        "        tokenized_text = self.tokenizer(text)\n",
        "        numericalized_text = []\n",
        "        for token in tokenized_text:\n",
        "            if token in self.stoi.keys():\n",
        "                numericalized_text.append(self.stoi[token])\n",
        "            else: #out-of-vocab words are represented by UNK token index\n",
        "                numericalized_text.append(self.stoi['<UNK>'])\n",
        "                \n",
        "        return numericalized_text\n"
      ]
    },
    {
      "cell_type": "code",
      "execution_count": null,
      "metadata": {
        "colab": {
          "background_save": true
        },
        "id": "cbKdSzUs3FfJ"
      },
      "outputs": [],
      "source": [
        "from torch.utils.data import Dataset\n",
        "\n",
        "class CustomDataset(Dataset):\n",
        "    '''\n",
        "    Initiating Variables\n",
        "    df: the training dataframe\n",
        "    source_column : the name of source text column in the dataframe\n",
        "    transform : If we want to add any augmentation\n",
        "    freq_threshold : the minimum times a word must occur in corpus to be treated in vocab\n",
        "    source_vocab_max_size : max source vocab size\n",
        "    '''\n",
        "    \n",
        "    def __init__(self, df, source_column,freq_threshold = 3,\n",
        "                source_vocab_max_size = 10000 , transform=None):\n",
        "    \n",
        "        self.df = df\n",
        "        self.transform = transform\n",
        "        \n",
        "        #get source and target texts\n",
        "        self.source_texts = self.df[source_column]\n",
        "        \n",
        "        \n",
        "        ##VOCAB class has been created above\n",
        "        #Initialize source vocab object and build vocabulary\n",
        "        self.source_vocab = Vocabulary(freq_threshold, source_vocab_max_size)\n",
        "        self.source_vocab.build_vocabulary(self.source_texts.tolist())\n",
        "\n",
        "        \n",
        "    def __len__(self):\n",
        "        return len(self.df)\n",
        "    \n",
        "    '''\n",
        "    __getitem__ runs on 1 example at a time. Here, we get an example at index and return its numericalize source and\n",
        "    target values using the vocabulary objects we created in __init__\n",
        "    '''\n",
        "    def __getitem__(self, index):\n",
        "        source_text = self.source_texts[index]\n",
        "        \n",
        "        if self.transform is not None:\n",
        "            source_text = self.transform(source_text)\n",
        "            \n",
        "        #numericalize texts ['<SOS>','cat', 'in', 'a', 'bag','<EOS>'] -> [1,12,2,9,24,2]\n",
        "        numerialized_source = [self.source_vocab.stoi[\"<SOS>\"]]\n",
        "        numerialized_source += self.source_vocab.numericalize(source_text)\n",
        "        numerialized_source.append(self.source_vocab.stoi[\"<EOS>\"])\n",
        "        \n",
        "        #convert the list to tensor and return\n",
        "        return torch.tensor(numerialized_source), torch.tensor(self.df.y[index])"
      ]
    },
    {
      "cell_type": "code",
      "execution_count": null,
      "metadata": {
        "colab": {
          "background_save": true
        },
        "id": "EOrOR28geqe_"
      },
      "outputs": [],
      "source": [
        "!pip install Vocabulary"
      ]
    },
    {
      "cell_type": "code",
      "execution_count": null,
      "metadata": {
        "colab": {
          "background_save": true
        },
        "id": "VlcBxyDF3FhX"
      },
      "outputs": [],
      "source": [
        "dataset = CustomDataset(df, \"clean_review\")"
      ]
    },
    {
      "cell_type": "code",
      "execution_count": null,
      "metadata": {
        "colab": {
          "background_save": true
        },
        "id": "I8OCboNU3Fjy"
      },
      "outputs": [],
      "source": [
        "import pickle\n",
        "\n",
        "with open('dataset-new', 'wb') as dataset_file:\n",
        " \n",
        "  # Step 3\n",
        "    pickle.dump(dataset, dataset_file, pickle.HIGHEST_PROTOCOL)\n",
        "\n",
        "# import pickle\n",
        " \n",
        "# # Step 2\n",
        "# with open('./dataset', 'rb') as config_dictionary_file:\n",
        " \n",
        "#     # Step 3\n",
        "#     config_dictionary = pickle.load(config_dictionary_file)\n",
        " \n",
        "#     # After config_dictionary is read from file\n",
        "#     print(config_dictionary)"
      ]
    },
    {
      "cell_type": "code",
      "execution_count": null,
      "metadata": {
        "colab": {
          "background_save": true
        },
        "id": "7lj_bVXNkhZl",
        "outputId": "c1d95d22-2015-49b7-843d-1bb3ad432bb2"
      },
      "outputs": [
        {
          "name": "stdout",
          "output_type": "stream",
          "text": [
            "['<PAD>', '<SOS>', '<EOS>', '<UNK>', 'phone', 'i', 'good', 'camera', 'battery', 'bad', 'price', 'evil', 'product', 'mobile', 'performance', 'awesome', 'flipkart', 'quality', 'thank', 'great', 'also', 'display', 'redmi', 'use', 'money', 'nice', 'delivery', 'range', 'like', 'value', 'fast', 'one', 'excellent', 'day', 'mi', 'really', 'amazing', 'backup', 'look', 'ð', 'buy', 'budget', 'nasty', 'back', 'sell', 'note', 'gb', 'well', 'time', 'feature', 'overall', 'superb', 'love', 'super', '5', '2', 'pro', 'worth', 'hate', 'u', 'work', '4', 'life', 'design', 'get', 'pubg', 'go', 'game', '3', 'ram', 'play', '1', 'processor', 'much', 'take', 'happy', '7', 'high', 'light', 'screen', 'low', 'unhappy', 'red', 'thing', '10', 'charge', 'smartphone', 'recommend', 'device', 'xiaomi', 'say', 'little', 'immobile', 'service', 'everything', 'heart', 'slow', 'purchase', 'month', 'give', 'feel', 'colour', 'sound', 'front', 'first', '6', 'want', 'badly', 'experience', 'build', 'deliver', '8', 'lag', 'smooth', 'issue', 'perfect', 'long', 'ill', 'usage', 'n', 'speed', 'never', 'malfunction', 'compare', 'last', 'must', 'year', 'premium', 'average', 'review', 'face', 'leave', 'see', 'weight', 'problem', 'would', 'every', 'user', 'ok', 'even', 'heavy', 'end', 'without', 'gift', 'satisfied', 'mode', 'gaming', 'expect', 'segment', 'fantastic', 'update', 'app', 'charger', 'order', 'idle', 'come', 'cool', 'bit', 'picture', 'think', 'away', 'storage', 'android', '64', 'brand', 'wonderful', 'hour', 'decent', 'provide', 'need', 'glass', 'hand', 'forget', 'miui', 'ever', 'lot', 'offer', 'forward', 'imperfect', 'sale', 'class', 'sensor', 'enough', 'samsung', 'make', 'fingerprint', 'beast', 'smoothly', 'quick', 'smart', 'within', 'big', 'heating', 'short', 'touch', 'snapdragon', 'highly', 'call', 'run', 'dual', 'sim', 'photo', 'option', 'type', 'support', 'color', 'rear', 'exchange', 'hang', 'dislike', 'wow', 'could', 'indecent', '9', 'two', 'full', 'g', 'cover', 'guy', 'otherwise', 'market', 'till', 'unlock', 'handy', 'point', 'deal', 'slim', 'selfie', 'side', 'starve', 'wise', 'size', 'awsome', 'since', 'week', 'choice', 'people', 'flagship', 'gud', 'model', 'card', 'quite', 'date', 'affordable', 'unmake', 'nd', 'mind', 'hd', 'memory', 'cost', 'night', 'clarity', 'portrait', 'graphic', 'phn', 'video', 'speaker', 'finger', 'c', 'write', 'normal', 'obviate', 'setting', 'brilliant', 'slot', 'notch', 'spec', 'beautiful', 'body', 'break', 'rough', 'easily', 'stop', 'india', 'rate', 'cam', 'new', 'flipcart', 'image', 'today', 'part', 'pay', 'fine', 'box', 'second', 'mp', 'small', 'stunning', 'blue', 'mah', 'sometimes', 'ignore', 'mom', 'actually', 'r', 'specially', 'pretty', 'stay', 'rs', 'always', 'less', 'black', 'disadvantageously', 'handset', 'version', 'power', 'partly', 'con', '8k', 'outstanding', 'way', 'everyone', 'still', 'totally', 'anti', 'differ', 'fall', 'unavailable', 'star', 'ugly', 'old', 'heat', '48mp', '32', 'simply', 'available', 'wait', 'gamer', 'next', 'etc', 'job', 'flash', 'may', 'warm', 'person', 'try', 'fabulous', 'far', 'condition', 'father', 'almost', 'handle', 'rom', 'place', 'large', 'flip', 'sd', 'future', 'stupid', 'realme', '5000', 'customer', 'charging', 'company', '48', 'hrs', 'please', 'print', 'prefer', 'google', 'pic', 'blow', 'absolutely', 'mark', 'perform', '10k', 'click', 'word', 'k20', 'free', 'easy', 'fire', 'except', 'white', '11', 'lover', 'ahead', 'stock', '12', 'gorilla', 'ui', 'boy', 'beat', 'y2', 'though', 'top', 'doubt', 'online', 'shopping', 'package', 'classy', '100', 'set', 'stylish', 'team', 'thin', 'keep', 'many', 'calm', 'capture', 'capacity', 'lose', 'photography', 'abnormal', 'extra', 'find', 'accord', '6a', 'let', 'function', 'medium', 'bear', 'receive', 'friend', 'smile', '8000', 'discharge', 'suit', '15k', 'suggest', 'iphone', 'mid', 'lock', 'nothing', 'around', 'kart', 'specification', 'mother', 'definitely', 'farewell', 'coarse', 'sleek', 'cheap', 'early', 'total', 'software', 'lovely', 'change', 'interface', 'cash', 'impressed', 'gcam', 'dissatisfy', 'ultra', 'killer', 'max', 'amole', 'show', 'processing', 'late', 'camara', 'plus', 'level', 'trust', 'friendly', 'contraindicate', 'earphone', 'view', 'wife', 'xiomi', 'finish', 'rest', '7999', 'dad', 'family', 'brightness', 'daily', 'fully', 'series', 'looking', 'prize', 'nyc', 'worsen', 'empty', 'finally', 'amount', 'increase', 'os', 'improve', '1st', 'music', 'ekart', 'packing', 'headphone', 'especially', 'lite', 'know', 'slightly', 'expectation', 'rock', 'powerful', 'vivo', 'another', 'miss', '30', 'middle', 'single', 'variant', 'half', 'man', 'powerless', '15', 'rupee', 'gold', 'spend', 'fan', 'right', 'madenguthu', 'plz', 'unfree', 'resolution', 'upgrade', 'seem', 'upto', 'unreasonable', 'reasonable', 'seller', 'process', 'brother', 'negate', 'dslr', 'unsound', 'tell', 'watch', 'victory', 'penny', 'real', '18', 'pack', 'expensive', 'port', 'blindly', 'attractive', 'rating', 'internal', 'enjoy', 'bye', '2019', 'rich', 'open', 'dark', 'youtube', 'poor', 'discount', 'satisfaction', 'clear', 'system', 'kind', 'drop', 'close', 'hope', 'osm', 'management', '675', 'prise', 'else', 'lack', '720', '45', 'rise', 'paisa', 'extremely', 'packaging', 'copyright', 'volte', 'rounder', 'voice', 'piece', '16', 'soo', 'working', 'speak', 'purpose', 'aspect', 'suffer', '7000', '_', 'response', 'paranormal', 'strong', 'include', 'moderate', 'gorgeous', 'become', 'anything', 'category', '4a', '5a', 'cod', 'disorder', 'bug', 'ur', 'ai', 'hybrid', 'along', 'space', 'courier', 'plan', 'mean', 'bright', 'yet', 'impressive', 'although', 'march', '5000mah', '1010', 'daylight', 'world', 'audio', 'usb', 'immoderately', 'lucky', 'unimpressive', 'start', 'consider', 'launch', '24', 'external', 'improvement', '855', 'bottom', 'regret', 'difference', 'diwali', 'already', 'case', 'uneasy', 'worthy', 'send', 'oneplus', 'abstain', 'glossy', 'facility', 'meagerly', 'minute', 'win', 'thankyou', 'result', 'disappointing', '20', 'scanner', 'eye', 'item', 'carry', 'help', 'yes', 'staccato', 'safe', 'unregretful', 'hit', 'metal', 'refuse', 'durable', 'ðð', '8a', 'dis', '0', '6999', 'book', 'drain', 'young', 'volume', 'immoderate', 'apart', 'unworthy', 'however', 'unfashionable', 'disappoint', 'master', 'unreasonably', 'copyrightð', 'butter', 'appreciate', 'bettery', 'soft', 'freefire', 'verry', 'difficult', 'mirror', 'reason', 'abolish', '55', 'descent', 'read', 'configuration', '7k', '7pro', 'unretentive', 'properly', 'disagree', 'iam', 'exclude', 'mobil', 'tall', 'pixel', 'believe', 'credible', 'recording', 'filpkart', 'hdr', '40', 'improperly', 'ratio', 'due', 'thought', 'might', 'present', 'whole', '636', 'advanced', 'bcz', 'worry', 'midrange', '10000', 'beauty', 'add', '2020', 'opinion', 'something', 'conserve', '128', 'promise', 'lense', 'protection', 'policy', 'wish', 'watt', 'hesitation', 'disappointed', 'post', 'regular', 'hardware', 'terrific', 'unlucky', 'rare', 'hai', 'loud', 'frame', 'got', 'form', 'similar', 'hot', 'term', 'sony', 'important', 'processer', 'save', 'multitaske', 'wrong', 'moreover', 'detail', 'effect', 'unattractive', 'asphalt', 'net', 'battry', 'competitor', 'comparison', 'pocket', 'install', 'base', 'per', 'cable', 'angle', 'choose', 'asus', 'true', 'bank', 'k', 'satisfy', 'name', 'imperfectly', 'sample', 'ad', 'continue', 'styleless', 'main', 'seriously', 'hold', 'stand', 'complain', 'thanku', 'feeling', 'compact', 'network', 'perfectly', '4000', 'motion', 'behaviour', 'hard', 'fit', '14k', 'parent', 'genuine', 'solid', 'ago', 'deregulate', 'meet', 'anyone', 'remote', 'pre', 'okk', 'inbuilt', 'shoot', '660', 'crisp', 'suitable', 'panel', 'search', 'menu', 'indian', 'grip', 'lil', '13', 'avoid', 'goodoverall', 'waste', 'son', 'weak', 'despair', 'least', 'department', 'okay', 'charm', 'simple', 'undue', 'lead', '4000mah', 'unbeatable', 'site', 'multi', 'gadget', 'ordinary', 'phonei', 'soon', 'internet', 'attention', 'notification', 'marvelous', 'bring', 'pricei', 'truly', 'safely', 'fastly', 'whatsapp', '7s', 'five', 'counterfeit', 'batter', 'ir', 'compete', 'discontinue', 'valuable', 'thnx', 'hide', 'timely', '2nd', 'thanx', 'mob', 'surely', 'mention', 'area', 'secondary', 'h', 'loose', 'anyway', 'natural', 'extraordinary', 'jio', 'usual', 'dedicated', 'disclaim', 'oppo', 'decrease', 'wear', 'sunlight', 'line', 'member', 'near', 'application', 'lockdown', 'producti', 'follow', 'produce', 'listen', 'comment', 'moonlight', 'papa', 'repulsive', 'huge', 'fm', 'pho', 'bt', 'glad', 'unfriendly', 'store', 'surprisingly', 'replacement', 'beyond', 'billion', 'favorite', 'backcover', 'edge', 'potrait', '25k', 'untill', 'jack', 'china', 'unbelievable', 'default', '2018', 'goodbattery', 'shipping', 'cemera', 'length', 'yesterday', '15000', 'movie', 'request', 'nicely', 'fone', 'irregular', 'incoming', 'fix', 'shop', 'massive', 'pure', 'plzz', 'cell', 'tq', 'standard', 'dangerous', 'unusual', 'photograph', 'worthless', 'cold', 'shot', '10999', 'extreme', 'proximate', 'primary', 'balanced', 'lighting', 'pick', 'multiple', 'student', 'inch', 'switch', '12000', 'pop', 'unburden', 'care', 'return', 'minor', 'serve', 'prompt', 'qualcomm', 'god', 'grab', 'awsm', 'major', 'sufficient', 'goodcamera', 'surprise', 'beautifull', 'guard', 'l', 'lasting', 'apply', 'protector', 'vibrant', 'insert', 'drawback', 'contain', 'ni', 'recharge', 'technology', 'talk', '25', 'mostly', 'jst', '2years', 'depreciate', 'sharp', 'check', 'detailed', 'complete', 'home', 'thumb', 'cart', 'mine', 'describe', '910', 'tv', 'share', 'mobail', '1000', 'girl', 'unreal', 'canera', '21', 'gifted', 'continuously', 'hi', 'apple', 'timing', 'unpack', 'disprove', 'past', 'e', 'ððð', 'bind', 'minimum', 'perhaps', '10display', 'blaze', 'note5', '9pro', 'solve', 'plastic', 'preinstalle', 'honest', 'quickly', 'mahh', 'min', '20000', 'blur', 'sister', 'player', 'poco', 'slowly', 'factor', 'speedy', 'ulow', 'thhis', 'doubtful', 'pls', '5k', 'alright', 'a1', 'packet', 'require', 'lightning', 'shinee', 'mod', 'hesistate', 'suck', 'impress', 'blaster', 'lagging', 'gradually', 'y83', 'realy', 'setup', 'comfortable', 'gooddisplay', 'ke', 'boyz', 'supeb', 'scratch', 'cute', 'displayawesome', 'processorsuperb', 'cameratotally', 'voltage', 'shin', '10battery', 'damage', '3000', 'aurora', 'reference', 'sila', 'neram', 'ahuthu', 'sikkirama', 'vara', 'hetpon', 'mattitu', 'kalatuna', 'lam', 'ketka', 'antha', 'hetpone', 'apdiye', 'irukku', 'poha', 'nowadays', 'speechless', 'traveller', 'cherry', 'various', 'a3', 'fist', 'ultimate', 'suggestion', 'narzo', 'note7', 'previous', '12mp', 'competition', 'purchasesuper', 'displaymassive', 'batterysuper', 'camerasuper', 'stylingsuper', 'ideal', 'mb', 'connector', 'fk', 'datum', 'worn', 'flipkarti', 'auto', 'proud', 'modern', 'cloudy', 'dull', 'insane', 'astro', 'noncrucial', '19', 'logistic', 'wide', 'king', 'twice', 'gets', 'download', 'goodperformance', 'untruthful', 'unique', 'superfast', 'operation', 'boycott', 'operate', 'platform', 'website', '20k', 'anyways', 'camerabattery', '810', 'lightweight', 'buying', 'vary', 'bokeh', 'distrust', '4k', 'cancel', 'style', 'water', 'batterry', 'happiness', 'combination', 'goodand', 'boost', 'sight', 'sure', 'sometime', 'satisfying', 'together', 'reboot', 'limitation', 'batery', 'uncomfortable', 'unoriginal', 'imagine', 'covid', 'control', 'gr8', 'indeed', 'suppose', 'f1', 'period', '720p', 'goodi', 'lcd', '6k', '2021', 'avg', 'wonder', 'tasking', 'nokia', 'impotent', 'mast', 'pie', 'degine', 'm1', 'economical', 'atleast', 'wanna', 'functionality', 'rather', 'personally', 'load', 'rangecamera', 'fps', '14', '13mp', 'oreo', 'chipset', 'instal', 'someone', 'm30', 'attend', 'law', 'iti', 'narrow', 'thinking', 'goodyou', 'extinguish', 'impersonally', 'strongly', 'standby', 'moto', 'phoneð', 'desecrate', 'updation', 'unable', '23', '9999', 'metallic', 'temper', 'disappointment', 'fractional', 'able', '256', 'awesomedisplay', 'ear', 'dependent', 'weakly', 'compromise', 'disbelieve', 'double', 'vasool', 'dedicate', 'displease', 'uncertain', '10camera', 'catch', 'green', '3080', 'bezel', 'mam', 'wa', 'recognition', 'th', 'professional', '3d', 'bettry', 'economically', 'thi', 'negative', 'nominal', 'omg', 'ka', 'partner', 'worthe', 'marvellous', 'incomplete', 'manner', '9k', 'decision', 'obviously', 'carmera', 'elegant', 'everyday', 'buyer', 'costly', 'third', 'express', 'aswm', 'automatic', 'xaiomi', 'duty', 'bundle', 'afford', 'stellar', '27w', 'enhance', 'corn', 'tag', 'birthday', 'maximum', 'complex', 'mr', 'promotion', 'prior', 'import', '7990', '5star', '12k', 'fkrt', 'sling', 'damn', 'renge', 'flawless', 'different', 'grt', 'browse', 'immediately', 'phonenice', 'mainly', 'report', 'worst', 'delevery', 'chargingð', 'yu', 'memoryoverall', 'pwoli', 'awesomeperformance', 'nonstandard', 'common', 'resnable', 'emi', 'gameplay', 'zenfone', 'nahi', 'sparkle', 'complaint', 'cake', 'buck', 'august', 'test', 'sad', '30k', 'chable', 'neptune', 'inhand', 'disadvantage', 'situation', 'bloatware', 'begin', 'number', 'x', 'communication', 'record', 'producin', 'reputation', 'extension', 'unalike', 'redmi8', 'duper', 'bracket', 'deserve', 'changer', '3rd', 'unexpected', 'comfort', 'refresh', 'rangeit', 'baby', 'upload', '50', 'recently', '13k', '48hrs', 'among', 'define', 'rly', 'attempt', 'sturdy', 'nfc', 'remarkably', 'thnk', 'efficient', '11k', 'unlike', 'averageperformance', 'noise', 'married', 'goood', 'ripe', '5pro', 'tender', 'satisfactory', 'advice', 'dilivery', 'correct', 'itthe', 'phoneand', 'goodit', 'tough', 'sexy', 'compound', 'displaygood', 'channel', 'dynamic', 'roughen', 'cemara', 'ease', 'advance', 'hassle', 'outdoor', 'remain', 'flipkartthank', 'b', 'ruby', 'secure', 'thick', 'tip', 'useless', 'unsatisfactory', '6000', '5display', 'put', 'phoneit', 'prblm', 'magic', 'song', 'itð', 'irritate', 'fhd', 'aura', 'basic', 'inr', 'tha', 'carbon', 'understand', 'bulky', 'phon', 'remove', 'launcher', 'performer', 'create', 'hardcore', 'lo', 'trend', 'combat', 'facebook', 'hear', 'soothe', 'grey', 'defy', 'yr', 'neither', 'unclear', 'varient', 'dnt', 'imx', 'currently', 'gaseous', 'popup', 'mi4i', 'helio', 'downgrade', 'infinix', 'battrey', 'remember', 'rangegood', 'incidental', 'camerabest', 'respect', 'custom', 'okayish', '455', 'hv', 'btw', 'handð', 'ohone', 'dim', 'undoubtedly', 'p', 'running', 'font', 'heartð', 'pin', 'hat', 'goodscreen', 'nebula', 'dream', 'lens', 'gross', 'april', 'course', 'crazy', 'fill', 'shine', 'manufacturer', 'exceptional', 'replace', 'prob', 'forever', 'pricethank', 'tone', 'inelegant', 'visit', 'nearly', 'unhitch', 'festive', 'gor', 'bump', 'core', 'recommendation', 'commendable', 'w', 'basically', 'yeah', '90', 'flipkar', '35', 'tremendous', 'approx', 'camerað', 'crystal', 'three', 'investment', 'delay', 'useful', 'special', '5days', 'instead', 'coin', 'pricing', 'fon', 'moment', 'insincerely', 'allrounder', 'nm', 'output', 'hence', 'connection', 'matte', 'piano', 'micro', 'chinese', 'act', 'nic', 'gd', 'selling', 'megapixel', 'allover', 'feedback', '189', '3performance', 'pricecamera', 'performancei', 'mobilei', 'awesomebattery', 'notice', 'untempered', 'inefficient', '18w', 'stabilization', 'thankful', 'highlight', 'redme', 'glitch', 'nonmodern', 'cpu', '28', 'unbox', 'mibattery', 'transparent', 'assure', 'liquid', 'ask', 'release', 'amazed', 'playing', 'helpful', 'rangei', 'unfasten', 'raise', '5camera', 'goodð', 'detection', 'displaycamera', 'nonmetallic', 'hesitate', 'quiet', 'mount', 'wasool', 'travel', 'awesomelook', 'galaxy', 'pricevery', 'glassy', 'original', 'contact', 'pricebattery', 'subtract', 'divest', 'section', 'seal', 'ertra', 'particular', 'humble', 'dear', 'budget1display', 'awesome2camera', '4i', 'smoothultra', 'prove', 'futuristic', 'mega', 'tray', 'coz', '5000mh', 'constipate', 'background', 'sounddisplay', '253', 'mobileð', 'bhi', 'mistrust', 'filiptcat', 'operating', 'ist', 'aur', 'research', '11999', 'vfm', 'demote', 'nail', 'wattare', 'winner', 'andtotally', '632', 'note7pro', 'laggs', 'typing', 'erratic', 'security', 'featuresð', 'outstationð', 'flame', 'coveroverall', 'simultaneously', '4th', 'begrudge', '30000', 'goodphone', 'girlfriend', 'overheat', '56', 'performancenice', '439', 'ota', 'display2', 'phoneon', 'thousand', '20mp', 'sd855', 'neet', 'study', 'myk', 'arrive', 'bang', 'hey', 'favourite', '17th', 'regard', 'qualcom', 'uncover', 'thickness', 'filpcart', 'oh', 'additional', 'par', 'prospective', 'bestbattery', 'logo', 'hav', 'div', 'skill', 'durability', 'finaly', 'bro', '5999', 'adopter', 'daysmy', '28621', '4721', 'flipkartdelivere', '306', 'reproduction', '1month', '5battery', 'copyrightnice', 'cammera', 'tooo', 'sapphire', 'behavior', 'list', 'none', '7th', 'thiz', 'importantly', 'amazingvalue', 'horribleyou', '12hr', 'duration', 'mess', 'ott', 'strictly', 'turn', 'occasion', 'business', 'hdfc', '6500', 'clock', 'fond', 'awasome', 'dot', 'season', 'purchse', 'cameragood', '910camera', '910display', 'furious', 'typec', 'budget1', 'awesome2', 'grand', 'hz', 'scan', 'carefully', 'nougat', 'figure', 'qualitycamera', 'detect', 'whatever', 'abe', 'mm', 'outclass', 'purchasecamera', '55display', 'enable', 'shockproof', 'mh', 'k20pro', 'greatperformance', 'ie', 'artificial', 'amazingly', 'polite', 'dash', 'parsal', 'phenomenal', 'incredible', 'upcoming', 'greatcamera', 'm0bile', '0wsum', 'ph', 'good3', 'mobileb', 'usagecamera', 'snatch', '10a', 'trick', 'proper', 'unimportant', 'chore', 'unit', 'disengage', 'juz', 'itthank', 'budjet', 'triple', 'july', 'betry', 'chip', 'deluxe', 'sdm439', 'firstly', 'exempt', 'hr', 'mbl', '10value', 'occur', 'lastly', 'fluid', 'heavyweight', 'becoz', 'm42', 'disable', 'chance', 'ram64', 'feather', 'insufficient', 'hole', 'mirroring', 'camera2', 'z1', 'downside', 'okbattery', 'fail', 'itz', 'himachal', 'pardesh', 'kangra', 'arla', 'productbefore', 'fastersaferoriginal', 'aside', 'woow', 'impression', '36', 'position', 'moneynice', 'optionsbuy', 'staff', 'c3', 'owesome', 'rust', 'outstation', 'mykd', 'non', 'confused', 'amoled', 'focus', 'phonebattery', 'unhelpful', 'ðbattery', 'ar', 'backward', 'amaze', '1010display', 'performence', 'indias', '6300', 'opaque', '9000', 'stable', '625', 'happen', 'nonprofessional', 'backupi', 'hell', 'completely', 'bought', 'relative', 'web', 'mobileit', 'sd660', 'spot', 'disallow', 'general', 'improper', 'fantabulous', 'direct', 'pickup', '80', 'finishing', '300', 'hype', '1010performance', '1010battery', 'ascend', 'indoor', 'theme', 'manual', 'consume', 'gain', 'address', 'advantage', 'incredibly', '999', 'separately', '10performance', 'ecart', '59', '53', 'sec', 'live', 'undedicated', 'reassure', 'impermanent', '464', 'false', 'awesomebut', 'accept', 'later', 'insubstantial', 'infact', 'sup', 'pleasure', 'honestly', '18k', 'task', 'sit', 'booking', 'batterynice', 'effortlessly', 'evolution', 'spectacular', 'outpit', 'alsoi', 'valuemiui10', '30800mah', 'ek', '6s', 'dishonest', 'preety', '8and', 'ty', 'gf', 'carelessly', 'server', 'thn', 'hehehehe', 'ki', 'koi', 'fentastic', 'guarantee', 'familybecause', 'peoplesthat', 'itthnxxx', 'pair', 'babyð', 'infinity', 'supper', 'portion', 'goodif', 'awe', 'advertisement', 'saport4', 'percent', 'thus', 'ye', 'avail', 'maybe', 'laggingthank', 'deliveryfabulous', 'productprocessor', 'performancesmooth', 'cheer', 'classic', 'easiness', 'lie', 'beefed', 'engineering', 'marvel', 'balance', 'usability', '7200', 'powerhouse', 'pros', 'feelcall', 'usbgo', 'register', 'perfere', 'city', '19th', 'behind', 'flipkartlove', 'mobilecamera', 'sort', 'uh', 'noncurrent', 'phonecamera', 'rat', 'versionover', 'bra', 'clash', 'clan', 'messenger', 'twitter', 'instagram', 'normally', 'disturbance', 'phose', 'node', 'angular', 'goodbut', 'camar', 'temperature', 'prefomansð', '120hz', 'no1', 'improvedall', 'dust', 'stereo', 'ððthis', 'flipkartbest', 'flipkartmust', 'productvery', 'costkeep', 'experienceðð', 'facethan', 'wordsto', '7days', 'edition', 'qc', 'aslo', 'phoneselfie', 'effective', 'automatically', 'bless', '3s', 'awsum', 'productus', 'growth', 'thankshasmukh', 'gujarat', 'std', 'pranab', 'capability', 'issu', 'daughter', 'eis', 'avarage', 'proof', 'thoda', 'sapparine', 'pakka', 'reall', 'taughte', 'din', 'plot', 'summer', 'assurance', 'vasul', '2hours', '16k', 'lame', 'ips', 'nonclassical', 'processorb', 'screengood', 'lookingb', 'managementbest', '1080p', 'productso', 'current', 'rangeperformance', 'elder', 'six', '7329', 'wid', '3days', 'gammer', 'matter', 'flipk', 'watermark', 'vote', 'everywhere', 'ring', '11000', 'mið', 'manage', 'decide', 'dispatch', 'tech', 'da', 'productnice', 'pasafic', 'sunrice', 'stuff', 'familyand', 'ossammmmmmbattery', 'productbattery', 'bi', 'imp', '4display', 'bougjt', 'emerald', 'worker', 'masterpiece', 'dat', 'immersive', 'understanding', 'tweak', 'exactly', 'executive', 'dealer', 'comfy', 'afterall', 'appreciable', 'nano', 'averagebattery', 'impossible', 'bettary', 'savingit', 'describedno', 'goodface', 'availableawesome', 'safety', 'defect', '8th', 'payment', 'neighbour', 'repel', 'fir', 'curve', 'wowi', 'okthe', 'phonegood', '99', 'pro100', '13999', 'displaybattery', 'saver', 'sch', 'vaibhavkasera', 'flipkark', 'information', 'prosser', 'mood', 'priority', 'p22', '7510battery', '810power', 'feb', 'manu', 'rage', 'speede', 'noteworthy', 'specse', 'ergonomical5', 'tuch', 'sd732', 'recorder', 'handsome', 'festival', '12th', 'october', 'midnight', 'alongwith', 'nature', 'saving', '10build', 'hellsound', 'ineffective', 'surface', 'alpha', 'fact', 'config', 'co', 'radio', 'battery2', 'wireless', 'owsm', 'modebattery', 'macro', 'electronic', 'adorable', '7500', 'snd', 'attract', 'choise', 'j', 'realmi', 'sustainablity', 'unintelligibly', 'battary', 'collection', 'gallery', 'excellant', 'mony', 'struggle', 'label', 'userin', 'district', 'wane', 'ra', 'champion', 'clean', 'tool', 'instrument', 'unbend', 'purely', 'move', 'awssom', 'silicone', 'mia1', 'ekdm', 'bdhiya', 'moneycamara', 'dslrbattery', 'esasly', 'dayprocesser', 'bezzle', 'indicator', 'glow', 'rounded', '5year', 'j7', 'sunset', 'radmi', 'reception', 'in48hour', '9799', 'pricetracker', 'autobuy', 'tracker', 'pc', 'decelerate', 'sooo', 'xaomi', '30th', 'vey', 'expectationquality', 'amazingbattery', 'outstandingback', 'superbmiiui', 'several', 'resemble', 'modelit', 'awesomefor', 'usefulit', 'thursday', 'four', 'loss', 'smoothness', 'flat', 'selfi', 'self', 'opt', 'liability', 'ver', 'creation', 'unofficial', 'glar', 'zoom', 'redmii', 'featuresmind', 'shotsmassive', 'battery20', 'moneycamera', 'hyper', 'chep', 'jast', 'imagination', 'problm', 'steal', 'fabulousit', 'pain', 'discolor', 'asome', 'quickcharge', 'possible', 'jan', '15kgood', 'effort', 'cm6', 'inchhddisplay', '13mp2mp', 'miui10', 'pub', 'mindblowe', 'tnqq', 'thnxxx', 'photographyi', 'eagerly', 'atlast', 'incorrectly', 'v5', 'bestface', 'poorawesome', '5performance', 'breaker', 'ttpe', 'signal', 'recive', '24hour', 'bet', 'offðððð', '5th', 'discent', 'purchage', 'xiome', 'couple', 'unsteady', 'awesomeand', 'myselfi', 'snappy', 'february', 'banking', 'prb', 'iike', 'gesture', 'clearity', 'gorrila', 'se', 'faste', 'despite', 'excellence', 'official', 'ungrateful', 'moon', 'september', 'vry', 'evry', 'steady', 'x2', 'million', 'authentic', 'moneyawesome', 'everytime', 'refer', '000', 'access', 'mindblowing', 'outside', 'mistake', 'inside', 'recuperate', 'newly', 'pricewith', 'fp', 'bbd', 'som', 'peoduct', 'req', 'monthsthe', 'finebattery', 'sd439', 'phonebut', 'rn7', 'delive', 'segmentit', 'insignificant', 'forbid', 'nova', '5ð', 'everybody', 'snap', 'retentive', 'pass', 'handling', 'texture', 'comfortably', 'tym', 'goodover', '120', 'luck', 'xiaomið', 'performanceand', 'camerathis', 'usually', 'tight', 'momshe', 'combine', 'hostile', 'specific', 'mobilewith', 'priceall', 'incapable', '1day', 'resist', 'edit', 'designi', 'coloured', 'uncomfortably', 'shiny', 'sharpen', 'bike', 'awesomeð', 'expectedperformance', '5overall', 'flipkartphone', 'champ', 'issuevery', 'moneyð', '55battery', 'cause', 'rush', 'unstable', 'inexactly', 'timegood', 'datethank', 'patience', 'performancethe', 'discontinuous', 'fold', 'longlaste', 'issuecamera', 'devoice', 'anybody', 'laggy', 'camra', '12999', 'goodin', 'ctype', 'grateful', 'purchasing', 'cut', 'adjust', 'accelerate', 'honor', '100value', 'phonethank', '650', 'swift', '10overall', 'clearly', '910battery', '10processor', 'moneyand', 'boss', 'maximal', 'bday', 'prevent', 'data', 'bettercamera', 'awesomethank', '10fingerprint', 'bestðð', 'productthank', '11500', 'erase', 'sleeky', 'rangeonly', 'absolute', '22', '4battery', 'bestð', 'ityou', 'mobileand', 'noncompetitive', 'continuous', 'wifi', 'awesome3', '125', 'competitive', 'dishonestly', 'adjective', 'debit', 'moneyi', 'boring', 'mobilebattery', 'whis', 'thise', 'politeness', 'weightactually', 'politely', 'nowmobile', 'standbythank', 'mamðð', 'reqst', 'grippy', 'step', 'superbly', 'deliveryover', 'performancecamera', 'performance2', 'kya', 'dum', 'bett', 'mastand', 'ceble', 'mastosm', 'maza', 'aa', 'gyasach', '27', 'consist', 'budgetcamera', 'muchð', 'lagg', 'dekhne', 'ko', 'nhi', 'severy', 'baleshwar', 'yadav', 'khutauna', 'pathrahi', 'dist', 'madhubani', 'bihar', 'project', 'prois', 'detach', 'deliverydeliver', 'character', 'fst', 'glade', 'niece', 'stunningly', 'instant', 'itsuper', 'y1', 'gamesre', 'ossaammm', 'jhakkkaaasssss', 'centric', 'lowbudget', 'hundred', 'chargeok', 'announce', 'deference', 'gentle', '6299', 'impure', 'mobilethe', 'har', 'kharidna', 'jayega', 'mithis', 'dnd', 'graphical', 'presume', 'certain', 'buttery', '332', 'location', 'clip', 'exhange', 'customize', 'disapprove', 'excess', 'tube', '1024', 'backupprocessor', '10quality', '10looking', 'expose', 'imagen', 'gps', 'siper', 'loaded', 'consumption', '1hr', 'greatdisplay', 'nonfunctional', '00', 'manier', 'blurry', 'reaily', '6pro', '55front', '25rare', 'glass5best', 'bothlook', 'log', 'battey', 'divice', 'match', 'superbbbbbb', 'moneycolor', 'delhivery', 'thicken', 'inform', 'satisfie', 'unsexy', 'head', 'frist', 'dumdar', 'pphone', 'backup3', 'timend', 'phone_and', 'chargeroverall', 'leader', 'camery', 'plasticy', 'prossesor', 'either', 'lessoverall', '2days', 'disrespect', 'lifeit', 'bluetooth', 'evening', 'storage3', 'thatmobile', 'packup', 'exchg', 'unexperience', 'account', 'smartphoneand', 'waooo', 'silver', '8999', 'android2', 'chat', 'content', 'indirectly', 'bomb', 'bestperformance', 'appropriate', 'itbut', 'felkart', 'exception', 'exclamation', 'icon', 'left', 'stability', 'beautifullong', 'performanceplaying', 'economic', 'rhe', 'liye', '3i', 'olny', 'tampering', 'delievery', 'werk', 'thanxxxxx', '3310', 'bugdet', 'thrilled', 'isthat', 'spellbound', 'qui', 'resmi', 'maney', 'devise', 'benefit', 'killeri', 'felling', 'chalra', 'fplkrt', 'lov', 'appspecifically', 'entertainment', 'sumone', 'shocked', 'sooooooo', 'setupi', 'looksplus', 'freak', 'vishal', 'machane', 'ath', 'pore', 'aliya', 'wonderfulfirst', 'defective', 'mobele', 'maintain', 'comparatively', 'packagingnice', 'vision', 'slo', 'sreve', 'y2low', 'phonedisplayok', 'speakerokcameranicebattery', 'nicedesignsuper', 'nicephone', 'overallnice5sta', 'protective', 'lagee', 'useit', 'worthy4', 'compramise', 'verymuch', 'accessory', '450', 'bulkier', 'elite', 'greatly', 'pu', 'whitesh', 'recall', 'uptill', 'sum', 'vga', 'crash', 'suddenly', 'fluent', 'sach', 'idea', 'phonewith', 'gbbigger', 'volumecamera', '7must', 'handelbattery', 'chrome', 'unless', 's7', 'xiamoi', 'alwya', 'flickr', 'ample', 'fingerfrint', '355', 'customization', 'locality', 'importance', 'neat', 'seep', '90fps', 'primium', 'extrrem', 'lavish', 'interesting', 'extended', 'thanxx', '14th', 'initially', 'weste', 'moulded', 'camerait', 'mhs', 'navigation', 'accurately', 'flawlessly', 'fistð', 'guyz', 'productthe', 'displaybatteryaudiobetter', 'uicamera', 'hotredmi', 'perchase', 'realize', 'hlo', 'applock', 'listening', 'gu', 'fuss', 'mi10', 'fm4', 'displayvalue', 'programme', 'thnkqww', 'bajaj', 'tear', 'priceand', 'freeze', 'unsatisfie', '7200no', 'towards', 'bumper', '24hours', '10w', 'phonemy', '6gbmemory', 'cord', 'sceptical', 'afternoon', 'designdisplay', 'fineperfomance', 'bugscamera', 'okgood', 'backupand', 'usehand', 'cameragreat', 'cellphone', 'heated', 'exprience', 'pricehi', 'buyersthis', 'glamorous', 'repeat', 'un', 'coular', 'dising', 'kard', '54performance', 'daly', 'uu', 'm2', 'buyback', 'totaly', 'profermance', 'bay', 'confertable', '5camara', '4valu', '4performance', '17', 'grate', 'whenever', '16000', 'time5000mah', 'chargeand', 'captureunder', 'retirement', 'awerage', '4month', 'resistance', 'supervalue', 'moneyback', 'pannel', 'awesomelooke', 'goodfingerprint', 'suppo', 'apen', 'sistem', 'fool', '0100', 'bhai', 'ganesh', 'faith', 'ejector', 'headset', 'installation', 'button', 'fair', 'outlook', 'availability', 'instance', 'incontext', 'unacceptable', 'sport', 'inadequate', 'lenovo', 'bonus', 'pe', 'lookflipkart', 'deliverythey', 'locator', 'supplier', 'infrared', '60', 'zooming', 'seven', 'awesomecamera', 'camer', '2021very', 'amazingit', 'enoughit', 'fast4', 'momð', 'selection', 'experiance', 'starter', 'combo', 'nabila', 'excited', 'seagmentif', 'mo', 'awesomely', 'flagshipmobile', 'broadercamera', 'goodlight', 'weightno', 'ledon', 'quit', 'mobileworth', 'bue', 'state', '5000am', 'techinical', '2k', 'valve', 'exellent', 'realme3', 'thish', 'unclip', '88', 'tu', 'handydecent', '7499', 'focous', 'gameboth', 'goodcameras', 'makkhanbattery', 'pahadbody', 'shall', 'bahta', 'paani', 'unbelievablelove', 'performancego', 'covkd', 'expirence', '13000', 'tracking', 'punchy', 'manufacture', 'orange', 'zone', 'features1', 'unlimited', 'hidden', 'servisess', 's9', 'mobilenice', 'nicefront', 'protect', 'dematerialise', 'ha', 'rangeso', 'blossom', 'miui11', 'cornsall', 'exist', 'sized', 'dint', '2hr', 'fingure', 'unlok', 'senser', 'capacityeven', 'pm', '20th', 'hello', 'wordsbut', 'rn', 'designawesome', 'hdawesome', 'screenpowerful', 'adequate', 'mahabubnagar', 'batry', 'alway', 'industry', 'rain', 'commitment', 'develop', 'randomly', 'gimmick', 'opportunity', 'represent', 'chainie', 'byecott', 'tuscany', 'coral', '90hz', 'owner', 'lifenice', 'muchhhh', 'delevirey', 'trendy', 'wao', 'cross', 'badð', 'su', 'caducous', 'usable', 'error', 'resolve', '8kthanks', 'preform', 'ohho', 'diffrent', 'concern', 'buybattery', 'respond', 'subscribe', 'looonnnggg', 'capable', 'query', 'era', 'anytime', 'intact', 'limited', 'styling', '710', 'excellentdisplay', 'preference', '10looks', '10specially', 'vlogger', 'happycustomer', 'disatisfied', 'megapixcel', 'consult', 'raja', 'optimum', 'flikart', 'jun', 'ghz', 'house', 'stylile', 'optionbatteryfast', '2min', 'chargerin', 'designred', 'unlocknet', 'unaggressive', 'pricecon', 'boxget', '4100', 'depend', 'superve', 'andcamera', 'ac', 'compactness', 'formality', 'oneplus6', 'outperform', 'api', 'thik', 'encounter', 'perfection', 'thisthis', 'feed', 'appearance', 'vdi', 'alarm', 'caution', 'gsm', 'arena', 'tech4mob', '5000and', 'fringer', 'gudand', 'panaroma', 'interfacecolor', 'challenge', 'tatkal', 'ticket', 'migrate', 'advise', 'seek', 'smoothi', 'productalso', 'imx586', 'miui9', 'wasul', 'supperbb', 'disk', 'ensure', 'silky', '18watts', 'priceoverall', '10sound', 'farra', 'cluture', 'educate', 'bukeh', 'sllek', 's10', '355performance', 'bestfast', 'chargingtype', 'displayno', 'firesuperb', '18wdisplay', 'timeglossy', 'lookthose', 'morr', 'positive', '2000', 'swiftness', 'befor', 'realise', 'palm', 'taste', 'prpofonence', 'advertise', 'dolby', 'accurate', 'itit', '1very', 'crispy', 'diverge', 'phoneif', 'coverage', 'cakecamera', 'creat', 'vibe', 'sharpness', 'installing', 'ðððð', 'college', 'rumour', 'censor', 'initial', 'stunner', 'praiseworthy', 'superamole', 'punch', 'straight', 'morning', 'reach', 'praise', 'originally', 'stupendous', 'addictor', 'xamoi', 'paly', '3hours', 'defeat', 'alotsuggestion', 'looksgood', 'cemra', 'quad', 'delightful', 'across', 'article', '13hrs', 'amaje', 'coustumer', 'giant', 'lookingnice', 'provider', 'roughly', 'rangec', 'chargerbattery', 'netit', 'experiencei', 'sloti', 'zero', 'maner', 'coc', 'af', 'minimal', 'dusshera', 'car', 'upkar', 'reng', 'regardsvirat', 'absent', 'expand', 'whose', 'excellentbattery', 'rangetotally', 'blast', '5android', 'uninteresting', 'rework', 'redmi_8', 'hassel', 'transaction', 'pros1', 'blindlyy', 'flashlight', 'upon', 'mota', 'onyx', 'lovethe', 'awesomeway', '18wthe', 'unbeatabledieheart', 'lufe', 'deliveryworth', 'fosho', 'bujet', 'amze', 'amin', 'monenyð', 'pubgi', 'maxand', 'allround', 'cuz', 'usefull', 'fulfil', 'successor', 'reject', 'pearl', 'aggressive', 'tak', 'chane', 'vali', 'filip', 'calculation', 'laptop', 'rangethank', 'ppl', 'alludhu', 'clane', '8kback', 'activity', 'issueno', 'consuminggood', 'gamesvery', 'cameramore', 'featureslow', 'phoneexcellent', 'limit', 'dilevery', 'dilever', 'halfmnth', 'center', 'phonepro', 'good2', 'degein', 'setting4', 'average3', 'mobile5', '425', 'width', 'tat', 'note4', 'itur', 'scheme', 'explain', 'uncivil', 'mask', 'sof', 'superbbut', '5front', '5rare', 'phoneðgood', 'goodapp', 'acceptable', 'flashter', 'ecommerce', 'costumer', 'mere', 'mamu', 'khet', 'bhindi', 'sabji', 'flower', 'silicon', '21500', 'varientreally', '10bit', 'proparly', 'tik', 'rangemust', 'tamil', 'description', 'belive', 'surround', 'select', 'productit', 'processinggood', 'realley', '94', 'gradient', 'woofer', 'cha', 'bloor', 'awm', 'worost', 'f3', 'negotiable', 'dissapointe', 'phone11jun2021', 'visibility', 'wishmaster', 'look5', 'redmis', 'moneyit', 'farst', 'thugofmiredminote7pro', 'quali', 'synthesize', '16mp', '18mp', 'trustworthy', 'configure', 'ncamera', 'ball', 'swipe', 'batty', 'ua', 'warranty', 'mon', '5very', 'phonevalue', 'degree', 'dirty', 'untrustworthy', 'transfer', 'blockbuster', '60fps', 'allow', 'alot', 'amd', 'kahdoosð', 'flashsale', 'veri', 'pranay', 'moses', '95', 'ia', 'war', 'exalent', '7a', 'phonethankyou', 'skip', 'emereld', 'immense', 'usageexcellent', 'certainly', 'magnet', 'a2', '6499', 'nic3', 'proudly', '5of5', 'ððððdisplay', 'goodbuy', 'thoughtflipkart', 'ameze', 'score', 'flag', 'goodno', '435', '675processor', 'convict', 'inaccurately', 'frankly', 'sparklesðcamera1010display1010performance1010looks1010value', 'money1010specially', 'vloggersð', 'sparkleshappycustomer', 'degin', 'asap', 'flippi', '865', 'goodmobile', 'ance', 'mia3', 'gyroscope', 'incing', 'sunil', 'performancelow', 'hpy', 'disi', 'himone', 'pricesi', '0f', 'goodsound', 'attemptð', 'disappointedand', 'chargingin', 'chargerstill', 'ita']\n"
          ]
        }
      ],
      "source": [
        "print(list(dataset.source_vocab.stoi))"
      ]
    },
    {
      "cell_type": "code",
      "execution_count": null,
      "metadata": {
        "colab": {
          "background_save": true
        },
        "id": "d95N3XHm3Fl9"
      },
      "outputs": [],
      "source": [
        "def get_emb_layer_with_weights(target_vocab, emb_model, trainable = False):\n",
        "\n",
        "    weights_matrix = np.zeros((len(target_vocab), config.EMB_DIM))\n",
        "    words_found = 0\n",
        "    \n",
        "    for i, word in enumerate(target_vocab):\n",
        "        weights_matrix[i] = np.concatenate([emb_model.wv[word]])\n",
        "        words_found += 1\n",
        "                \n",
        "    print(f\"Words found are : {words_found}\")\n",
        "    \n",
        "    weights_matrix = torch.tensor(weights_matrix, dtype = torch.float32).reshape(len(target_vocab), config.EMB_DIM)\n",
        "    emb_layer = nn.Embedding.from_pretrained(weights_matrix)\n",
        "    print(emb_layer)\n",
        "    if trainable:\n",
        "        emb_layer.weight.requires_grad = True\n",
        "    else:\n",
        "        emb_layer.weight.requires_grad = False\n",
        "\n",
        "    return emb_layer\n"
      ]
    },
    {
      "cell_type": "code",
      "execution_count": null,
      "metadata": {
        "colab": {
          "background_save": true
        },
        "id": "LSg84wlS3FoK"
      },
      "outputs": [],
      "source": [
        "class MyCollate:\n",
        "    def __init__(self, pad_idx, maxlen):\n",
        "        self.pad_idx = pad_idx\n",
        "        self.maxlen = maxlen\n",
        "        \n",
        "    \n",
        "    #__call__: a default method\n",
        "    ##   First the obj is created using MyCollate(pad_idx) in data loader\n",
        "    ##   Then if obj(batch) is called -> __call__ runs by default\n",
        "    def __call__(self, batch):\n",
        "        #get all source indexed sentences of the batch\n",
        "        source = [item[0] for item in batch] \n",
        "        #pad them using pad_sequence method from pytorch. \n",
        "#         source = pad_sequence(source, batch_first=False, padding_value = self.pad_idx)\n",
        "        \n",
        "        padded_sequence = torch.zeros((self.maxlen, len(batch)), dtype = torch.int)\n",
        "        \n",
        "        for idx, text in enumerate(source):\n",
        "            \n",
        "            if len(text) > self.maxlen:\n",
        "                padded_sequence[:, idx] = source[idx][: self.maxlen]\n",
        "            else:\n",
        "                padded_sequence[:len(source[idx]), idx] = padded_sequence[:len(source[idx]), idx] + source[idx]\n",
        "                \n",
        "        \n",
        "        #get all target indexed sentences of the batch\n",
        "        target = [item[1] for item in batch] \n",
        "        \n",
        "        target = torch.tensor(target, dtype = torch.float32).reshape(-1)\n",
        "        return padded_sequence, target\n"
      ]
    },
    {
      "cell_type": "code",
      "execution_count": null,
      "metadata": {
        "colab": {
          "background_save": true
        },
        "id": "nY-c_ql93Fqz"
      },
      "outputs": [],
      "source": [
        "class Model(nn.Module):\n",
        "    def __init__(self, input_dim, embedding_dim, hidden_dim, output_dim, embedding_layer):\n",
        "        super().__init__()\n",
        "#         self.embedding = nn.Embedding(input_dim, embedding_dim)\n",
        "        self.hidden_dim = hidden_dim\n",
        "        self.embedding = embedding_layer\n",
        "        self.lstm = nn.LSTM(embedding_dim, hidden_dim, bidirectional = True)\n",
        "        self.fc1 = nn.Linear(2*hidden_dim, 128)\n",
        "        self.fc2 = nn.Linear(128, output_dim)\n",
        "        self.dropout = nn.Dropout(0.3)\n",
        "        self.sigmoid = nn.Sigmoid()\n",
        "        \n",
        "    def forward(self, text):\n",
        "        \n",
        "        max_len, N = text.shape\n",
        "        hidden = torch.zeros((2, N , self.hidden_dim),\n",
        "                          dtype=torch.float)\n",
        "        memory = torch.zeros((2, N , self.hidden_dim),\n",
        "                          dtype=torch.float)\n",
        "        hidden = hidden.to(config.DEVICE)\n",
        "        memory = memory.to(config.DEVICE)\n",
        "        embedded = self.embedding(text)\n",
        "        output, hidden = self.lstm(embedded, (hidden, memory))\n",
        "#         assert torch.equal(output[-1,:,:], hidden.squeeze(0))\n",
        "        y_pred = output[-1,:,:]\n",
        "        y_pred = self.fc1(y_pred)\n",
        "        y_pred = self.fc2(y_pred)\n",
        "        y_pred = self.sigmoid(y_pred)\n",
        "                         \n",
        "        return y_pred  \n",
        "  "
      ]
    },
    {
      "cell_type": "code",
      "execution_count": null,
      "metadata": {
        "colab": {
          "background_save": true
        },
        "id": "VC-sqzSK3Fs3"
      },
      "outputs": [],
      "source": [
        "def train_epochs(dataloader,model, loss_fn, optimizer):\n",
        "    train_correct = 0\n",
        "    train_loss = 0\n",
        "    \n",
        "    model.train()\n",
        "\n",
        "    for review, label in tqdm(dataloader):\n",
        "        \n",
        "        review, label = review.to(config.DEVICE), label.to(config.DEVICE)\n",
        "        optimizer.zero_grad()\n",
        "        output = model(review)\n",
        "        output = output.reshape(-1)\n",
        "        loss = loss_fn(output, label)\n",
        "        loss.backward()\n",
        "        optimizer.step()\n",
        "        \n",
        "        train_loss += loss.item()*review.size(1)\n",
        "        prediction = (output > 0.5).float()\n",
        "        train_correct += (prediction == label).float().sum()\n",
        "        \n",
        "    return train_loss, train_correct\n",
        "\n",
        "        "
      ]
    },
    {
      "cell_type": "code",
      "execution_count": null,
      "metadata": {
        "colab": {
          "background_save": true
        },
        "id": "n6iNgVrB3Fvn"
      },
      "outputs": [],
      "source": [
        "def val_epochs(dataloader, model, loss_fn):\n",
        "    val_correct = 0\n",
        "    val_loss = 0\n",
        "    \n",
        "    model.eval()\n",
        "#     hidden = model.init_hidden(config.BATCH_SIZE)\n",
        "\n",
        "    for review, label in dataloader:\n",
        "        \n",
        "        review, label = review.to(config.DEVICE), label.to(config.DEVICE)\n",
        "        \n",
        "        output = model(review)\n",
        "        output = output.reshape(-1)\n",
        "\n",
        "        loss = loss_fn(output, label)\n",
        "        \n",
        "        val_loss += loss.item()*review.size(1)\n",
        "        prediction = (output > 0.5).float()\n",
        "        val_correct += (prediction == label).float().sum()\n",
        "#         prediction = \n",
        "    return val_loss, val_correct\n"
      ]
    },
    {
      "cell_type": "code",
      "execution_count": null,
      "metadata": {
        "colab": {
          "background_save": true
        },
        "id": "Y2R7hBbqoH0B"
      },
      "outputs": [],
      "source": [
        "#fasttext_model.train((dataset),total_examples=10,epochs=10)"
      ]
    },
    {
      "cell_type": "code",
      "execution_count": null,
      "metadata": {
        "colab": {
          "background_save": true
        },
        "id": "snQhmdye3FyB"
      },
      "outputs": [],
      "source": [
        "\n",
        "from sklearn.model_selection import StratifiedKFold\n",
        "from sklearn.model_selection import KFold\n",
        "from torch.utils.data import SubsetRandomSampler\n",
        "from torch.optim import Adam\n",
        "from tqdm import tqdm\n",
        "from torch.utils.data import DataLoader \n",
        "import matplotlib.pyplot as plt\n",
        "\n",
        "\n",
        "# sfk = StratifiedKFold(n_splits = config.FOLDS)\n",
        "kfold = KFold(n_splits = config.FOLDS)\n",
        "model_state_dicts = {}\n",
        "\n",
        "for fold, (train_idx, val_idx) in enumerate(kfold.split(np.arange(len(dataset)))):\n",
        "    \n",
        "    train_sampler = SubsetRandomSampler(train_idx)\n",
        "    val_sampler = SubsetRandomSampler(val_idx)\n",
        "    \n",
        "    train_loader = DataLoader(dataset, batch_size = config.BATCH_SIZE, sampler = train_sampler, collate_fn = MyCollate(0, config.MAX_LEN))\n",
        "    val_loader = DataLoader(dataset, batch_size = config.BATCH_SIZE, sampler = val_sampler, collate_fn = MyCollate(0, config.MAX_LEN))  \n",
        "    \n",
        "    VOCAB_SIZE = len(dataset.source_vocab)\n",
        "    HIDDEN_DIM = 128\n",
        "    OUTPUT_DIM = 1\n",
        "    VOCAB = list(dataset.source_vocab.stoi)\n",
        "    \n",
        "    embedding_layer = get_emb_layer_with_weights(target_vocab = VOCAB, emb_model = fasttext_model, trainable = False)\n",
        "\n",
        "    model = Model(VOCAB_SIZE, config.EMB_DIM, HIDDEN_DIM, OUTPUT_DIM, embedding_layer)\n",
        "    model = model.to(config.DEVICE)\n",
        "    \n",
        "#     model\n",
        "#     model = Model(2, len(dataset.source_vocab), 128, 100, 1 ).to(config.DEVICE)\n",
        "#     hidden = model.init_hidden(config.BATCH_SIZE)\n",
        "#     model.hidden = hidden\n",
        "\n",
        "    loss_fn = nn.BCELoss()\n",
        "    optimizer = torch.optim.SGD(model.parameters(), lr = 0.1)\n",
        "    \n",
        "    train_losses = []\n",
        "    val_losses = []\n",
        "    train_accs = []\n",
        "    val_accs = []\n",
        "\n",
        "    print(f\"-----------------------------------------------------------{fold}-fold of the model-----------------------------------------------------------\")\n",
        "    for epoch in range(config.EPOCHS):\n",
        "        train_loss, train_correct = train_epochs(train_loader, model, loss_fn, optimizer)\n",
        "        val_loss, val_correct = val_epochs(val_loader, model, loss_fn)  \n",
        "        \n",
        "        train_loss = train_loss/len(train_loader.sampler)\n",
        "        val_loss = val_loss/len(val_loader.sampler)\n",
        "        train_acc = (train_correct/len(train_loader.sampler))*100\n",
        "        val_acc = (val_correct/len(val_loader.sampler))*100\n",
        "        \n",
        "        train_losses.append(train_loss)\n",
        "        val_losses.append(val_loss)\n",
        "        train_accs.append(train_acc.cpu().numpy().tolist())\n",
        "        val_accs.append(val_acc.cpu().numpy().tolist())\n",
        "        \n",
        "        print(f\"| Train Loss : {train_loss} |\", end = \" \")\n",
        "        print(f\" Val Loss : {val_loss} |\", end = \" \")\n",
        "        print(f\"Train Acc : {train_acc} |\", end = \" \")\n",
        "        print(f\"Val Acc : {val_acc} |\")\n",
        "\n",
        "        \n",
        "    # Saving the state dicts for the model\n",
        "    model_state_dicts.update({f\"LSTM-Model-for-{fold}\" : model.state_dict(),\n",
        "                             f\"Model-Optimizer-for-{fold}\" : optimizer.state_dict()})\n",
        "    # Saving the state dicts for the model\n",
        "    model_state_dicts.update({f\"LSTM-Model-for-{fold}\" : model.state_dict(),\n",
        "                             f\"Model-Optimizer-for-{fold}\" : optimizer.state_dict()})\n",
        "    \n",
        "#     # summarize history for accuracy\n",
        "#     plt.plot(train_accs)\n",
        "#     plt.plot(val_accs)\n",
        "#     plt.title('Model Accuracy')\n",
        "#     plt.ylabel('Accuracy')\n",
        "#     plt.xlabel('Epoch')\n",
        "#     plt.legend(['Train', 'Test'], loc='upper left')\n",
        "#     plt.show()\n",
        "#     # summarize history for loss\n",
        "#     plt.plot(train_losses)\n",
        "#     plt.plot(val_losses)\n",
        "#     plt.title('Model Loss')\n",
        "#     plt.ylabel('Loss')\n",
        "#     plt.xlabel('Epoch')\n",
        "#     plt.legend(['Train', 'Test'], loc='upper left')\n",
        "#     plt.show()\n"
      ]
    },
    {
      "cell_type": "code",
      "execution_count": null,
      "metadata": {
        "colab": {
          "background_save": true
        },
        "id": "SDACTw6fbYnn"
      },
      "outputs": [],
      "source": [
        "torch.save(model_state_dicts, \"My-Model.pt\")"
      ]
    },
    {
      "cell_type": "code",
      "execution_count": null,
      "metadata": {
        "colab": {
          "background_save": true
        },
        "id": "TMNNM2hQ3F0h"
      },
      "outputs": [],
      "source": [
        "def numericalize(text):\n",
        "    \n",
        "    numerialized_source = [] \n",
        "    numerialized_source = [dataset.source_vocab.stoi[\"<SOS>\"]]\n",
        "    numerialized_source += dataset.source_vocab.numericalize(text)\n",
        "    numerialized_source.append(dataset.source_vocab.stoi[\"<EOS>\"])\n",
        "    \n",
        "    return numerialized_source\n",
        "\n",
        "def padding(source):\n",
        "    padded_sequence = torch.zeros(config.MAX_LEN, 1, dtype = torch.int)\n",
        "    source = torch.tensor(source)\n",
        "    \n",
        "    if len(source) > config.MAX_LEN:\n",
        "        padded_sequence[:, 0] = source[: config.MAX_LEN]\n",
        "    else:\n",
        "        padded_sequence[:len(source), 0] = padded_sequence[:len(source), 0] + source\n",
        "    \n",
        "    return padded_sequence\n"
      ]
    },
    {
      "cell_type": "code",
      "execution_count": null,
      "metadata": {
        "colab": {
          "background_save": true
        },
        "id": "PXvL0_0P3F2n"
      },
      "outputs": [],
      "source": [
        "def infer_processing(text):\n",
        "    \n",
        "    text = preprocessing(text)\n",
        "    text = numericalize(text)\n",
        "    text = padding(text)\n",
        "    return text"
      ]
    },
    {
      "cell_type": "code",
      "execution_count": null,
      "metadata": {
        "colab": {
          "background_save": true
        },
        "id": "sTZCotHT3F4y"
      },
      "outputs": [],
      "source": [
        "aspects = [\"phone\", \"camera\", \"battery\", \"neutral\", \"processor\"]\n",
        "\n",
        "def get_similarity(text, aspect):\n",
        "    try:\n",
        "#         text = \" \".join(text)\n",
        "        return fasttext_model.wv.n_similarity(text, aspect)\n",
        "    except:\n",
        "        return 0\n",
        "    \n",
        "def best_aspect(text, aspects):\n",
        "    a = []\n",
        "    \n",
        "    for aspect in aspects:\n",
        "        a.append(get_similarity(text, aspect))\n",
        "    \n",
        "    return aspects[np.argmax(a)]"
      ]
    },
    {
      "cell_type": "code",
      "execution_count": null,
      "metadata": {
        "colab": {
          "background_save": true
        },
        "id": "Kf-b_RSA3F69"
      },
      "outputs": [],
      "source": [
        "sample = \"I am really impressed with the phone's great battery backup.\"\n",
        "\n",
        "ba = best_aspect(preprocessing(sample), aspects)\n",
        "\n",
        "a = infer_processing(sample).to(config.DEVICE)"
      ]
    },
    {
      "cell_type": "code",
      "execution_count": null,
      "metadata": {
        "colab": {
          "background_save": true
        },
        "id": "3cca5O8s3F9j"
      },
      "outputs": [],
      "source": [
        "model.eval()\n",
        "sentiment = model(a)\n",
        "sentiment = sentiment.cpu().detach().numpy()[0]\n",
        "\n",
        "if sentiment > 0.5:\n",
        "    sentiment = 'Positively'\n",
        "else :\n",
        "    sentiment = 'Negatively'"
      ]
    },
    {
      "cell_type": "code",
      "execution_count": null,
      "metadata": {
        "colab": {
          "background_save": true
        },
        "id": "zJ5JQhco3F_5"
      },
      "outputs": [],
      "source": [
        "print(f\"The reviewer is talking {sentiment} about the {ba} of the phone in his/her comment\")"
      ]
    },
    {
      "cell_type": "code",
      "execution_count": null,
      "metadata": {
        "colab": {
          "background_save": true
        },
        "id": "D6ILaW_-3GCE"
      },
      "outputs": [],
      "source": []
    },
    {
      "cell_type": "code",
      "execution_count": null,
      "metadata": {
        "colab": {
          "background_save": true
        },
        "id": "aeXdNh1w3GEa"
      },
      "outputs": [],
      "source": []
    },
    {
      "cell_type": "code",
      "execution_count": null,
      "metadata": {
        "colab": {
          "background_save": true
        },
        "id": "mK48TJRB3GGd"
      },
      "outputs": [],
      "source": []
    },
    {
      "cell_type": "code",
      "execution_count": null,
      "metadata": {
        "colab": {
          "background_save": true
        },
        "id": "efBj5nPz3GJr"
      },
      "outputs": [],
      "source": []
    }
  ],
  "metadata": {
    "accelerator": "GPU",
    "colab": {
      "provenance": []
    },
    "gpuClass": "standard",
    "kernelspec": {
      "display_name": "Python 3",
      "name": "python3"
    },
    "language_info": {
      "name": "python"
    }
  },
  "nbformat": 4,
  "nbformat_minor": 0
}